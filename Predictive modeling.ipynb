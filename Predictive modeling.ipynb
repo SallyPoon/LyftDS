{
 "cells": [
  {
   "cell_type": "markdown",
   "metadata": {},
   "source": [
    "## Define different types of users\n",
    "Active versus inactive \n",
    "\n",
    "0 versus 1\n",
    "\n",
    "First hypothesis:\n",
    "- you are inactive if you have less than 5 trips in two months\n",
    "\n",
    "Second hypothesis:\n",
    "- you are inactive if you have less than 50 miles in two months\n",
    "\n",
    "### We have comb through everyone and determine whether they are active or inactive "
   ]
  },
  {
   "cell_type": "code",
   "execution_count": 117,
   "metadata": {
    "scrolled": true
   },
   "outputs": [],
   "source": [
    "from __future__ import division\n",
    "from datetime import datetime, timedelta,date\n",
    "import pandas as pd\n",
    "%matplotlib inline\n",
    "from sklearn.metrics import classification_report,confusion_matrix\n",
    "import matplotlib.pyplot as plt\n",
    "import numpy as np\n",
    "import seaborn as sns\n",
    "from sklearn.cluster import KMeans\n",
    "\n",
    "\n",
    "import chart_studio\n",
    "import plotly.offline as pyoff\n",
    "import plotly.graph_objs as go\n",
    "\n",
    "import xgboost as xgb\n",
    "from sklearn.model_selection import KFold, cross_val_score, train_test_split\n",
    "\n",
    "import xgboost as xgb\n",
    "import pandas as pd\n",
    "import matplotlib.pyplot as plt  # To visualize\n",
    "import pandas as pd  # To read data\n",
    "from sklearn.linear_model import LinearRegression\n",
    "import pandas as pd\n",
    "import numpy as np\n",
    "from sklearn.preprocessing import LabelEncoder\n",
    "import random\n",
    "from sklearn.ensemble import RandomForestClassifier\n",
    "from sklearn.ensemble import GradientBoostingClassifier\n",
    "from pandas.plotting import autocorrelation_plot\n",
    "from sklearn.model_selection import train_test_split\n",
    "from sklearn.datasets import load_boston\n",
    "from sklearn.metrics import mean_squared_error\n",
    "from sklearn.metrics import r2_score\n",
    "from sklearn.feature_extraction.text import CountVectorizer\n",
    "from sklearn.linear_model import LogisticRegression\n",
    "from sklearn.model_selection import train_test_split\n",
    "import seaborn as sns\n",
    "sns.set(style=\"white\")\n",
    "sns.set(style=\"whitegrid\", color_codes=True)\n",
    "from sklearn.feature_selection import RFE\n",
    "from sklearn.linear_model import LogisticRegression\n",
    "from sklearn.preprocessing import PolynomialFeatures\n",
    "from sklearn.linear_model import LinearRegression\n",
    "import datetime"
   ]
  },
  {
   "cell_type": "code",
   "execution_count": 118,
   "metadata": {},
   "outputs": [],
   "source": [
    "# create dataframes\n",
    "driver = pd.read_csv(\"driver_ids.csv\")\n",
    "rider = pd.read_csv(\"ride_ids.csv\")\n",
    "timestamps = pd.read_csv(\"ride_timestamps.csv\")"
   ]
  },
  {
   "cell_type": "code",
   "execution_count": 119,
   "metadata": {},
   "outputs": [
    {
     "data": {
      "text/html": [
       "<div>\n",
       "<style scoped>\n",
       "    .dataframe tbody tr th:only-of-type {\n",
       "        vertical-align: middle;\n",
       "    }\n",
       "\n",
       "    .dataframe tbody tr th {\n",
       "        vertical-align: top;\n",
       "    }\n",
       "\n",
       "    .dataframe thead th {\n",
       "        text-align: right;\n",
       "    }\n",
       "</style>\n",
       "<table border=\"1\" class=\"dataframe\">\n",
       "  <thead>\n",
       "    <tr style=\"text-align: right;\">\n",
       "      <th></th>\n",
       "      <th>driver_id</th>\n",
       "      <th>driver_onboard_date</th>\n",
       "    </tr>\n",
       "  </thead>\n",
       "  <tbody>\n",
       "  </tbody>\n",
       "</table>\n",
       "</div>"
      ],
      "text/plain": [
       "Empty DataFrame\n",
       "Columns: [driver_id, driver_onboard_date]\n",
       "Index: []"
      ]
     },
     "execution_count": 119,
     "metadata": {},
     "output_type": "execute_result"
    }
   ],
   "source": [
    "driver[driver['driver_id']== '056175954c78be4c4de7e80167b7e1f9']"
   ]
  },
  {
   "cell_type": "code",
   "execution_count": 120,
   "metadata": {},
   "outputs": [
    {
     "data": {
      "text/html": [
       "<div>\n",
       "<style scoped>\n",
       "    .dataframe tbody tr th:only-of-type {\n",
       "        vertical-align: middle;\n",
       "    }\n",
       "\n",
       "    .dataframe tbody tr th {\n",
       "        vertical-align: top;\n",
       "    }\n",
       "\n",
       "    .dataframe thead th {\n",
       "        text-align: right;\n",
       "    }\n",
       "</style>\n",
       "<table border=\"1\" class=\"dataframe\">\n",
       "  <thead>\n",
       "    <tr style=\"text-align: right;\">\n",
       "      <th></th>\n",
       "      <th>driver_id</th>\n",
       "      <th>ride_id</th>\n",
       "      <th>ride_distance</th>\n",
       "      <th>ride_duration</th>\n",
       "      <th>ride_prime_time</th>\n",
       "    </tr>\n",
       "  </thead>\n",
       "  <tbody>\n",
       "    <tr>\n",
       "      <td>0</td>\n",
       "      <td>002be0ffdc997bd5c50703158b7c2491</td>\n",
       "      <td>006d61cf7446e682f7bc50b0f8a5bea5</td>\n",
       "      <td>1811</td>\n",
       "      <td>327</td>\n",
       "      <td>50</td>\n",
       "    </tr>\n",
       "    <tr>\n",
       "      <td>1</td>\n",
       "      <td>002be0ffdc997bd5c50703158b7c2491</td>\n",
       "      <td>01b522c5c3a756fbdb12e95e87507eda</td>\n",
       "      <td>3362</td>\n",
       "      <td>809</td>\n",
       "      <td>0</td>\n",
       "    </tr>\n",
       "    <tr>\n",
       "      <td>2</td>\n",
       "      <td>002be0ffdc997bd5c50703158b7c2491</td>\n",
       "      <td>029227c4c2971ce69ff2274dc798ef43</td>\n",
       "      <td>3282</td>\n",
       "      <td>572</td>\n",
       "      <td>0</td>\n",
       "    </tr>\n",
       "    <tr>\n",
       "      <td>3</td>\n",
       "      <td>002be0ffdc997bd5c50703158b7c2491</td>\n",
       "      <td>034e861343a63ac3c18a9ceb1ce0ac69</td>\n",
       "      <td>65283</td>\n",
       "      <td>3338</td>\n",
       "      <td>25</td>\n",
       "    </tr>\n",
       "    <tr>\n",
       "      <td>4</td>\n",
       "      <td>002be0ffdc997bd5c50703158b7c2491</td>\n",
       "      <td>034f2e614a2f9fc7f1c2f77647d1b981</td>\n",
       "      <td>4115</td>\n",
       "      <td>823</td>\n",
       "      <td>100</td>\n",
       "    </tr>\n",
       "  </tbody>\n",
       "</table>\n",
       "</div>"
      ],
      "text/plain": [
       "                          driver_id                           ride_id  \\\n",
       "0  002be0ffdc997bd5c50703158b7c2491  006d61cf7446e682f7bc50b0f8a5bea5   \n",
       "1  002be0ffdc997bd5c50703158b7c2491  01b522c5c3a756fbdb12e95e87507eda   \n",
       "2  002be0ffdc997bd5c50703158b7c2491  029227c4c2971ce69ff2274dc798ef43   \n",
       "3  002be0ffdc997bd5c50703158b7c2491  034e861343a63ac3c18a9ceb1ce0ac69   \n",
       "4  002be0ffdc997bd5c50703158b7c2491  034f2e614a2f9fc7f1c2f77647d1b981   \n",
       "\n",
       "   ride_distance  ride_duration  ride_prime_time  \n",
       "0           1811            327               50  \n",
       "1           3362            809                0  \n",
       "2           3282            572                0  \n",
       "3          65283           3338               25  \n",
       "4           4115            823              100  "
      ]
     },
     "execution_count": 120,
     "metadata": {},
     "output_type": "execute_result"
    }
   ],
   "source": [
    "rider.head()"
   ]
  },
  {
   "cell_type": "code",
   "execution_count": 121,
   "metadata": {},
   "outputs": [
    {
     "data": {
      "text/html": [
       "<div>\n",
       "<style scoped>\n",
       "    .dataframe tbody tr th:only-of-type {\n",
       "        vertical-align: middle;\n",
       "    }\n",
       "\n",
       "    .dataframe tbody tr th {\n",
       "        vertical-align: top;\n",
       "    }\n",
       "\n",
       "    .dataframe thead th {\n",
       "        text-align: right;\n",
       "    }\n",
       "</style>\n",
       "<table border=\"1\" class=\"dataframe\">\n",
       "  <thead>\n",
       "    <tr style=\"text-align: right;\">\n",
       "      <th></th>\n",
       "      <th>ride_id</th>\n",
       "      <th>event</th>\n",
       "      <th>timestamp</th>\n",
       "    </tr>\n",
       "  </thead>\n",
       "  <tbody>\n",
       "    <tr>\n",
       "      <td>0</td>\n",
       "      <td>00003037a262d9ee40e61b5c0718f7f0</td>\n",
       "      <td>requested_at</td>\n",
       "      <td>2016-06-13 09:39:19</td>\n",
       "    </tr>\n",
       "    <tr>\n",
       "      <td>1</td>\n",
       "      <td>00003037a262d9ee40e61b5c0718f7f0</td>\n",
       "      <td>accepted_at</td>\n",
       "      <td>2016-06-13 09:39:51</td>\n",
       "    </tr>\n",
       "    <tr>\n",
       "      <td>2</td>\n",
       "      <td>00003037a262d9ee40e61b5c0718f7f0</td>\n",
       "      <td>arrived_at</td>\n",
       "      <td>2016-06-13 09:44:31</td>\n",
       "    </tr>\n",
       "    <tr>\n",
       "      <td>3</td>\n",
       "      <td>00003037a262d9ee40e61b5c0718f7f0</td>\n",
       "      <td>picked_up_at</td>\n",
       "      <td>2016-06-13 09:44:33</td>\n",
       "    </tr>\n",
       "    <tr>\n",
       "      <td>4</td>\n",
       "      <td>00003037a262d9ee40e61b5c0718f7f0</td>\n",
       "      <td>dropped_off_at</td>\n",
       "      <td>2016-06-13 10:03:05</td>\n",
       "    </tr>\n",
       "  </tbody>\n",
       "</table>\n",
       "</div>"
      ],
      "text/plain": [
       "                            ride_id           event            timestamp\n",
       "0  00003037a262d9ee40e61b5c0718f7f0    requested_at  2016-06-13 09:39:19\n",
       "1  00003037a262d9ee40e61b5c0718f7f0     accepted_at  2016-06-13 09:39:51\n",
       "2  00003037a262d9ee40e61b5c0718f7f0      arrived_at  2016-06-13 09:44:31\n",
       "3  00003037a262d9ee40e61b5c0718f7f0    picked_up_at  2016-06-13 09:44:33\n",
       "4  00003037a262d9ee40e61b5c0718f7f0  dropped_off_at  2016-06-13 10:03:05"
      ]
     },
     "execution_count": 121,
     "metadata": {},
     "output_type": "execute_result"
    }
   ],
   "source": [
    "timestamps.head()"
   ]
  },
  {
   "cell_type": "markdown",
   "metadata": {},
   "source": [
    "## Cleaning the rider df\n",
    "- durations into minutes \n",
    "- distance into miles \n",
    "- fare based on minutes\n",
    "- fare based on distance\n",
    "- Actual total fare"
   ]
  },
  {
   "cell_type": "code",
   "execution_count": 122,
   "metadata": {},
   "outputs": [],
   "source": [
    "# Convert the seconds into mintues \n",
    "rider['duration_min'] = rider['ride_duration'].apply(lambda x: x / 60)"
   ]
  },
  {
   "cell_type": "code",
   "execution_count": 123,
   "metadata": {},
   "outputs": [],
   "source": [
    "# Convert meters into miles \n",
    "rider['distance_mi'] = rider['ride_distance'].apply(lambda x: x *  0.00062137)"
   ]
  },
  {
   "cell_type": "code",
   "execution_count": 124,
   "metadata": {},
   "outputs": [],
   "source": [
    "# The fare purely based on the length in minutes \n",
    "rider['fare_duration'] = rider['duration_min'].apply(lambda x: x * .22)"
   ]
  },
  {
   "cell_type": "code",
   "execution_count": 125,
   "metadata": {},
   "outputs": [],
   "source": [
    "# The fare purely based on the distance \n",
    "rider['fare_distance'] = rider['distance_mi'].apply(lambda x: x * 1.15)"
   ]
  },
  {
   "cell_type": "code",
   "execution_count": 126,
   "metadata": {},
   "outputs": [],
   "source": [
    "# Fare based on the formula presented online\n",
    "rider['total_fare'] = ((rider['fare_distance'] + rider['fare_duration']) * (1 + (0.01 * rider['ride_prime_time']))) + 2 + 1.75\n"
   ]
  },
  {
   "cell_type": "code",
   "execution_count": 127,
   "metadata": {},
   "outputs": [],
   "source": [
    "# Set minimum and maximum on the fares \n",
    "rider['total_fare'] = rider['total_fare'].apply(lambda x: x if x >= 5 else 5)\n",
    "rider['total_fare'] = rider['total_fare'].apply(lambda x: x if x <= 400 else 400)"
   ]
  },
  {
   "cell_type": "code",
   "execution_count": 128,
   "metadata": {},
   "outputs": [
    {
     "data": {
      "text/html": [
       "<div>\n",
       "<style scoped>\n",
       "    .dataframe tbody tr th:only-of-type {\n",
       "        vertical-align: middle;\n",
       "    }\n",
       "\n",
       "    .dataframe tbody tr th {\n",
       "        vertical-align: top;\n",
       "    }\n",
       "\n",
       "    .dataframe thead th {\n",
       "        text-align: right;\n",
       "    }\n",
       "</style>\n",
       "<table border=\"1\" class=\"dataframe\">\n",
       "  <thead>\n",
       "    <tr style=\"text-align: right;\">\n",
       "      <th></th>\n",
       "      <th>driver_id</th>\n",
       "      <th>ride_id</th>\n",
       "      <th>ride_distance</th>\n",
       "      <th>ride_duration</th>\n",
       "      <th>ride_prime_time</th>\n",
       "      <th>duration_min</th>\n",
       "      <th>distance_mi</th>\n",
       "      <th>fare_duration</th>\n",
       "      <th>fare_distance</th>\n",
       "      <th>total_fare</th>\n",
       "    </tr>\n",
       "  </thead>\n",
       "  <tbody>\n",
       "    <tr>\n",
       "      <td>0</td>\n",
       "      <td>002be0ffdc997bd5c50703158b7c2491</td>\n",
       "      <td>006d61cf7446e682f7bc50b0f8a5bea5</td>\n",
       "      <td>1811</td>\n",
       "      <td>327</td>\n",
       "      <td>50</td>\n",
       "      <td>5.450000</td>\n",
       "      <td>1.125301</td>\n",
       "      <td>1.199000</td>\n",
       "      <td>1.294096</td>\n",
       "      <td>7.489644</td>\n",
       "    </tr>\n",
       "    <tr>\n",
       "      <td>1</td>\n",
       "      <td>002be0ffdc997bd5c50703158b7c2491</td>\n",
       "      <td>01b522c5c3a756fbdb12e95e87507eda</td>\n",
       "      <td>3362</td>\n",
       "      <td>809</td>\n",
       "      <td>0</td>\n",
       "      <td>13.483333</td>\n",
       "      <td>2.089046</td>\n",
       "      <td>2.966333</td>\n",
       "      <td>2.402403</td>\n",
       "      <td>9.118736</td>\n",
       "    </tr>\n",
       "    <tr>\n",
       "      <td>2</td>\n",
       "      <td>002be0ffdc997bd5c50703158b7c2491</td>\n",
       "      <td>029227c4c2971ce69ff2274dc798ef43</td>\n",
       "      <td>3282</td>\n",
       "      <td>572</td>\n",
       "      <td>0</td>\n",
       "      <td>9.533333</td>\n",
       "      <td>2.039336</td>\n",
       "      <td>2.097333</td>\n",
       "      <td>2.345237</td>\n",
       "      <td>8.192570</td>\n",
       "    </tr>\n",
       "    <tr>\n",
       "      <td>3</td>\n",
       "      <td>002be0ffdc997bd5c50703158b7c2491</td>\n",
       "      <td>034e861343a63ac3c18a9ceb1ce0ac69</td>\n",
       "      <td>65283</td>\n",
       "      <td>3338</td>\n",
       "      <td>25</td>\n",
       "      <td>55.633333</td>\n",
       "      <td>40.564898</td>\n",
       "      <td>12.239333</td>\n",
       "      <td>46.649632</td>\n",
       "      <td>77.361207</td>\n",
       "    </tr>\n",
       "    <tr>\n",
       "      <td>4</td>\n",
       "      <td>002be0ffdc997bd5c50703158b7c2491</td>\n",
       "      <td>034f2e614a2f9fc7f1c2f77647d1b981</td>\n",
       "      <td>4115</td>\n",
       "      <td>823</td>\n",
       "      <td>100</td>\n",
       "      <td>13.716667</td>\n",
       "      <td>2.556938</td>\n",
       "      <td>3.017667</td>\n",
       "      <td>2.940478</td>\n",
       "      <td>15.666290</td>\n",
       "    </tr>\n",
       "  </tbody>\n",
       "</table>\n",
       "</div>"
      ],
      "text/plain": [
       "                          driver_id                           ride_id  \\\n",
       "0  002be0ffdc997bd5c50703158b7c2491  006d61cf7446e682f7bc50b0f8a5bea5   \n",
       "1  002be0ffdc997bd5c50703158b7c2491  01b522c5c3a756fbdb12e95e87507eda   \n",
       "2  002be0ffdc997bd5c50703158b7c2491  029227c4c2971ce69ff2274dc798ef43   \n",
       "3  002be0ffdc997bd5c50703158b7c2491  034e861343a63ac3c18a9ceb1ce0ac69   \n",
       "4  002be0ffdc997bd5c50703158b7c2491  034f2e614a2f9fc7f1c2f77647d1b981   \n",
       "\n",
       "   ride_distance  ride_duration  ride_prime_time  duration_min  distance_mi  \\\n",
       "0           1811            327               50      5.450000     1.125301   \n",
       "1           3362            809                0     13.483333     2.089046   \n",
       "2           3282            572                0      9.533333     2.039336   \n",
       "3          65283           3338               25     55.633333    40.564898   \n",
       "4           4115            823              100     13.716667     2.556938   \n",
       "\n",
       "   fare_duration  fare_distance  total_fare  \n",
       "0       1.199000       1.294096    7.489644  \n",
       "1       2.966333       2.402403    9.118736  \n",
       "2       2.097333       2.345237    8.192570  \n",
       "3      12.239333      46.649632   77.361207  \n",
       "4       3.017667       2.940478   15.666290  "
      ]
     },
     "execution_count": 128,
     "metadata": {},
     "output_type": "execute_result"
    }
   ],
   "source": [
    "rider.head()"
   ]
  },
  {
   "cell_type": "markdown",
   "metadata": {},
   "source": [
    "## Combining timestamp and onboarding dates \n"
   ]
  },
  {
   "cell_type": "code",
   "execution_count": 129,
   "metadata": {},
   "outputs": [
    {
     "data": {
      "text/html": [
       "<div>\n",
       "<style scoped>\n",
       "    .dataframe tbody tr th:only-of-type {\n",
       "        vertical-align: middle;\n",
       "    }\n",
       "\n",
       "    .dataframe tbody tr th {\n",
       "        vertical-align: top;\n",
       "    }\n",
       "\n",
       "    .dataframe thead th {\n",
       "        text-align: right;\n",
       "    }\n",
       "</style>\n",
       "<table border=\"1\" class=\"dataframe\">\n",
       "  <thead>\n",
       "    <tr style=\"text-align: right;\">\n",
       "      <th></th>\n",
       "      <th>ride_id</th>\n",
       "      <th>event</th>\n",
       "      <th>timestamp</th>\n",
       "    </tr>\n",
       "  </thead>\n",
       "  <tbody>\n",
       "    <tr>\n",
       "      <td>0</td>\n",
       "      <td>00003037a262d9ee40e61b5c0718f7f0</td>\n",
       "      <td>requested_at</td>\n",
       "      <td>2016-06-13 09:39:19</td>\n",
       "    </tr>\n",
       "    <tr>\n",
       "      <td>1</td>\n",
       "      <td>00003037a262d9ee40e61b5c0718f7f0</td>\n",
       "      <td>accepted_at</td>\n",
       "      <td>2016-06-13 09:39:51</td>\n",
       "    </tr>\n",
       "    <tr>\n",
       "      <td>2</td>\n",
       "      <td>00003037a262d9ee40e61b5c0718f7f0</td>\n",
       "      <td>arrived_at</td>\n",
       "      <td>2016-06-13 09:44:31</td>\n",
       "    </tr>\n",
       "    <tr>\n",
       "      <td>3</td>\n",
       "      <td>00003037a262d9ee40e61b5c0718f7f0</td>\n",
       "      <td>picked_up_at</td>\n",
       "      <td>2016-06-13 09:44:33</td>\n",
       "    </tr>\n",
       "    <tr>\n",
       "      <td>4</td>\n",
       "      <td>00003037a262d9ee40e61b5c0718f7f0</td>\n",
       "      <td>dropped_off_at</td>\n",
       "      <td>2016-06-13 10:03:05</td>\n",
       "    </tr>\n",
       "  </tbody>\n",
       "</table>\n",
       "</div>"
      ],
      "text/plain": [
       "                            ride_id           event            timestamp\n",
       "0  00003037a262d9ee40e61b5c0718f7f0    requested_at  2016-06-13 09:39:19\n",
       "1  00003037a262d9ee40e61b5c0718f7f0     accepted_at  2016-06-13 09:39:51\n",
       "2  00003037a262d9ee40e61b5c0718f7f0      arrived_at  2016-06-13 09:44:31\n",
       "3  00003037a262d9ee40e61b5c0718f7f0    picked_up_at  2016-06-13 09:44:33\n",
       "4  00003037a262d9ee40e61b5c0718f7f0  dropped_off_at  2016-06-13 10:03:05"
      ]
     },
     "execution_count": 129,
     "metadata": {},
     "output_type": "execute_result"
    }
   ],
   "source": [
    "timestamps.head()"
   ]
  },
  {
   "cell_type": "code",
   "execution_count": 130,
   "metadata": {},
   "outputs": [
    {
     "data": {
      "text/plain": [
       "event\n",
       "accepted_at       194081\n",
       "arrived_at        194080\n",
       "dropped_off_at    194081\n",
       "picked_up_at      194081\n",
       "requested_at      194081\n",
       "dtype: int64"
      ]
     },
     "execution_count": 130,
     "metadata": {},
     "output_type": "execute_result"
    }
   ],
   "source": [
    "# pivot the timestamps\n",
    "pivot_timestamps = timestamps.pivot(index='ride_id', columns='event', values='timestamp')\n",
    "pivot_timestamps.count()"
   ]
  },
  {
   "cell_type": "code",
   "execution_count": 131,
   "metadata": {},
   "outputs": [],
   "source": [
    "# Preview the rides and the time stamp of each action \n",
    "pivot_timestamps.head()\n",
    "pivot_timestamps.reset_index(level=0, inplace=True)\n",
    "merged_driver = pd.merge(rider,pivot_timestamps,on = 'ride_id', how = 'inner')"
   ]
  },
  {
   "cell_type": "markdown",
   "metadata": {},
   "source": [
    "## This contains three crucial elements \n",
    "- driver_id\n",
    "- ride_id\n",
    "- driver_onboarding_date"
   ]
  },
  {
   "cell_type": "code",
   "execution_count": 99,
   "metadata": {},
   "outputs": [
    {
     "data": {
      "text/html": [
       "<div>\n",
       "<style scoped>\n",
       "    .dataframe tbody tr th:only-of-type {\n",
       "        vertical-align: middle;\n",
       "    }\n",
       "\n",
       "    .dataframe tbody tr th {\n",
       "        vertical-align: top;\n",
       "    }\n",
       "\n",
       "    .dataframe thead th {\n",
       "        text-align: right;\n",
       "    }\n",
       "</style>\n",
       "<table border=\"1\" class=\"dataframe\">\n",
       "  <thead>\n",
       "    <tr style=\"text-align: right;\">\n",
       "      <th></th>\n",
       "      <th>driver_id</th>\n",
       "      <th>ride_id</th>\n",
       "      <th>driver_onboard_date</th>\n",
       "    </tr>\n",
       "  </thead>\n",
       "  <tbody>\n",
       "    <tr>\n",
       "      <td>0</td>\n",
       "      <td>002be0ffdc997bd5c50703158b7c2491</td>\n",
       "      <td>006d61cf7446e682f7bc50b0f8a5bea5</td>\n",
       "      <td>2016-03-29 00:00:00</td>\n",
       "    </tr>\n",
       "    <tr>\n",
       "      <td>1</td>\n",
       "      <td>002be0ffdc997bd5c50703158b7c2491</td>\n",
       "      <td>01b522c5c3a756fbdb12e95e87507eda</td>\n",
       "      <td>2016-03-29 00:00:00</td>\n",
       "    </tr>\n",
       "    <tr>\n",
       "      <td>2</td>\n",
       "      <td>002be0ffdc997bd5c50703158b7c2491</td>\n",
       "      <td>029227c4c2971ce69ff2274dc798ef43</td>\n",
       "      <td>2016-03-29 00:00:00</td>\n",
       "    </tr>\n",
       "    <tr>\n",
       "      <td>3</td>\n",
       "      <td>002be0ffdc997bd5c50703158b7c2491</td>\n",
       "      <td>034e861343a63ac3c18a9ceb1ce0ac69</td>\n",
       "      <td>2016-03-29 00:00:00</td>\n",
       "    </tr>\n",
       "    <tr>\n",
       "      <td>4</td>\n",
       "      <td>002be0ffdc997bd5c50703158b7c2491</td>\n",
       "      <td>034f2e614a2f9fc7f1c2f77647d1b981</td>\n",
       "      <td>2016-03-29 00:00:00</td>\n",
       "    </tr>\n",
       "  </tbody>\n",
       "</table>\n",
       "</div>"
      ],
      "text/plain": [
       "                          driver_id                           ride_id  \\\n",
       "0  002be0ffdc997bd5c50703158b7c2491  006d61cf7446e682f7bc50b0f8a5bea5   \n",
       "1  002be0ffdc997bd5c50703158b7c2491  01b522c5c3a756fbdb12e95e87507eda   \n",
       "2  002be0ffdc997bd5c50703158b7c2491  029227c4c2971ce69ff2274dc798ef43   \n",
       "3  002be0ffdc997bd5c50703158b7c2491  034e861343a63ac3c18a9ceb1ce0ac69   \n",
       "4  002be0ffdc997bd5c50703158b7c2491  034f2e614a2f9fc7f1c2f77647d1b981   \n",
       "\n",
       "   driver_onboard_date  \n",
       "0  2016-03-29 00:00:00  \n",
       "1  2016-03-29 00:00:00  \n",
       "2  2016-03-29 00:00:00  \n",
       "3  2016-03-29 00:00:00  \n",
       "4  2016-03-29 00:00:00  "
      ]
     },
     "execution_count": 99,
     "metadata": {},
     "output_type": "execute_result"
    }
   ],
   "source": [
    "# Merge driver_id, ride_id, and onboarding_date\n",
    "driver_rider = pd.merge(rider[['driver_id','ride_id']], driver, on = 'driver_id', how = 'inner')\n",
    "driver_rider.head()"
   ]
  },
  {
   "cell_type": "code",
   "execution_count": 100,
   "metadata": {},
   "outputs": [
    {
     "data": {
      "text/html": [
       "<div>\n",
       "<style scoped>\n",
       "    .dataframe tbody tr th:only-of-type {\n",
       "        vertical-align: middle;\n",
       "    }\n",
       "\n",
       "    .dataframe tbody tr th {\n",
       "        vertical-align: top;\n",
       "    }\n",
       "\n",
       "    .dataframe thead th {\n",
       "        text-align: right;\n",
       "    }\n",
       "</style>\n",
       "<table border=\"1\" class=\"dataframe\">\n",
       "  <thead>\n",
       "    <tr style=\"text-align: right;\">\n",
       "      <th></th>\n",
       "      <th>ride_id</th>\n",
       "      <th>accepted_at</th>\n",
       "      <th>arrived_at</th>\n",
       "      <th>dropped_off_at</th>\n",
       "      <th>picked_up_at</th>\n",
       "      <th>requested_at</th>\n",
       "      <th>driver_id</th>\n",
       "      <th>driver_onboard_date</th>\n",
       "    </tr>\n",
       "  </thead>\n",
       "  <tbody>\n",
       "    <tr>\n",
       "      <td>0</td>\n",
       "      <td>00003037a262d9ee40e61b5c0718f7f0</td>\n",
       "      <td>2016-06-13 09:39:51</td>\n",
       "      <td>2016-06-13 09:44:31</td>\n",
       "      <td>2016-06-13 10:03:05</td>\n",
       "      <td>2016-06-13 09:44:33</td>\n",
       "      <td>2016-06-13 09:39:19</td>\n",
       "      <td>d967f5296732fa55266b5f1314e7447b</td>\n",
       "      <td>2016-04-09 00:00:00</td>\n",
       "    </tr>\n",
       "    <tr>\n",
       "      <td>1</td>\n",
       "      <td>00005eae40882760d675da5effb89ae3</td>\n",
       "      <td>2016-05-14 05:23:25</td>\n",
       "      <td>2016-05-14 05:26:17</td>\n",
       "      <td>2016-05-14 05:34:17</td>\n",
       "      <td>2016-05-14 05:26:18</td>\n",
       "      <td>2016-05-14 05:23:21</td>\n",
       "      <td>0656192a402808805282e60761bda088</td>\n",
       "      <td>2016-04-30 00:00:00</td>\n",
       "    </tr>\n",
       "    <tr>\n",
       "      <td>2</td>\n",
       "      <td>000061d42cf29f73b591041d9a1b2973</td>\n",
       "      <td>2016-05-16 15:43:14</td>\n",
       "      <td>2016-05-16 15:47:29</td>\n",
       "      <td>2016-05-16 15:54:18</td>\n",
       "      <td>2016-05-16 15:47:32</td>\n",
       "      <td>2016-05-16 15:43:09</td>\n",
       "      <td>c468a648519cd42da75e6aa9dadf733e</td>\n",
       "      <td>2016-04-01 00:00:00</td>\n",
       "    </tr>\n",
       "    <tr>\n",
       "      <td>3</td>\n",
       "      <td>00006efeb0d5e3ccad7d921ddeee9900</td>\n",
       "      <td>2016-05-11 19:29:43</td>\n",
       "      <td>2016-05-11 19:35:11</td>\n",
       "      <td>2016-05-11 19:40:47</td>\n",
       "      <td>2016-05-11 19:35:15</td>\n",
       "      <td>2016-05-11 19:29:36</td>\n",
       "      <td>689bdf87fb2de49f98bf4946cfaa5068</td>\n",
       "      <td>2016-04-04 00:00:00</td>\n",
       "    </tr>\n",
       "    <tr>\n",
       "      <td>4</td>\n",
       "      <td>00012759befd5d34a0609800f6a1ee59</td>\n",
       "      <td>2016-05-31 15:45:05</td>\n",
       "      <td>2016-05-31 15:46:22</td>\n",
       "      <td>2016-05-31 15:59:26</td>\n",
       "      <td>2016-05-31 15:46:23</td>\n",
       "      <td>2016-05-31 15:44:56</td>\n",
       "      <td>eece82fe623b4bb335a9b9e20eb0ca54</td>\n",
       "      <td>2016-04-28 00:00:00</td>\n",
       "    </tr>\n",
       "  </tbody>\n",
       "</table>\n",
       "</div>"
      ],
      "text/plain": [
       "                            ride_id          accepted_at           arrived_at  \\\n",
       "0  00003037a262d9ee40e61b5c0718f7f0  2016-06-13 09:39:51  2016-06-13 09:44:31   \n",
       "1  00005eae40882760d675da5effb89ae3  2016-05-14 05:23:25  2016-05-14 05:26:17   \n",
       "2  000061d42cf29f73b591041d9a1b2973  2016-05-16 15:43:14  2016-05-16 15:47:29   \n",
       "3  00006efeb0d5e3ccad7d921ddeee9900  2016-05-11 19:29:43  2016-05-11 19:35:11   \n",
       "4  00012759befd5d34a0609800f6a1ee59  2016-05-31 15:45:05  2016-05-31 15:46:22   \n",
       "\n",
       "        dropped_off_at         picked_up_at         requested_at  \\\n",
       "0  2016-06-13 10:03:05  2016-06-13 09:44:33  2016-06-13 09:39:19   \n",
       "1  2016-05-14 05:34:17  2016-05-14 05:26:18  2016-05-14 05:23:21   \n",
       "2  2016-05-16 15:54:18  2016-05-16 15:47:32  2016-05-16 15:43:09   \n",
       "3  2016-05-11 19:40:47  2016-05-11 19:35:15  2016-05-11 19:29:36   \n",
       "4  2016-05-31 15:59:26  2016-05-31 15:46:23  2016-05-31 15:44:56   \n",
       "\n",
       "                          driver_id  driver_onboard_date  \n",
       "0  d967f5296732fa55266b5f1314e7447b  2016-04-09 00:00:00  \n",
       "1  0656192a402808805282e60761bda088  2016-04-30 00:00:00  \n",
       "2  c468a648519cd42da75e6aa9dadf733e  2016-04-01 00:00:00  \n",
       "3  689bdf87fb2de49f98bf4946cfaa5068  2016-04-04 00:00:00  \n",
       "4  eece82fe623b4bb335a9b9e20eb0ca54  2016-04-28 00:00:00  "
      ]
     },
     "execution_count": 100,
     "metadata": {},
     "output_type": "execute_result"
    }
   ],
   "source": [
    "# merged the two data frames \n",
    "timestamps_driver = pd.merge(pivot_timestamps,driver_rider, on = 'ride_id', how = 'inner')\n",
    "timestamps_driver.head()"
   ]
  },
  {
   "cell_type": "code",
   "execution_count": 18,
   "metadata": {},
   "outputs": [],
   "source": [
    "# Reorder the columns\n",
    "timestamps_driver = timestamps_driver[['driver_id', 'driver_onboard_date', 'ride_id','requested_at', 'accepted_at', 'arrived_at', 'picked_up_at', 'dropped_off_at']]\n",
    "timestamps_driver.head()#['driver_onboard_date'][0]\n",
    "timestamps_driver.picked_up_at.dtype\n",
    "timestamps_driver['picked_up_at'] = pd.to_datetime(timestamps_driver['picked_up_at'].str.strip(), format='%Y-%m-%d %H:%M:%S')"
   ]
  },
  {
   "cell_type": "code",
   "execution_count": 19,
   "metadata": {},
   "outputs": [
    {
     "data": {
      "text/plain": [
       "driver_id              002be0ffdc997bd5c50703158b7c2491\n",
       "driver_onboard_date                 2016-03-29 00:00:00\n",
       "ride_id                ff72b2fbf16a0ab06fe8cec71e50eb50\n",
       "requested_at                        2016-06-23 10:06:26\n",
       "accepted_at                         2016-06-23 10:06:30\n",
       "arrived_at                          2016-06-23 10:08:03\n",
       "picked_up_at                        2016-06-23 10:08:13\n",
       "dropped_off_at                      2016-06-23 10:29:53\n",
       "dtype: object"
      ]
     },
     "execution_count": 19,
     "metadata": {},
     "output_type": "execute_result"
    }
   ],
   "source": [
    "# Create a new dataframe  \n",
    "timestamps_driver_datetime = pd.DataFrame()\n",
    "\n",
    "\n",
    "# Change them into timestamp dates \n",
    "timestamps_driver_datetime['driver_id'] = timestamps_driver['driver_id']\n",
    "\n",
    "timestamps_driver_datetime['driver_onboard_date'] = pd.to_datetime(timestamps_driver['driver_onboard_date'])\n",
    "\n",
    "timestamps_driver_datetime['ride_id'] = timestamps_driver['ride_id']\n",
    "\n",
    "timestamps_driver_datetime['requested_at'] = pd.to_datetime(timestamps_driver['requested_at'])\n",
    "\n",
    "timestamps_driver_datetime['accepted_at'] = pd.to_datetime(timestamps_driver['accepted_at'])\n",
    "\n",
    "timestamps_driver_datetime['arrived_at'] = pd.to_datetime(timestamps_driver['arrived_at'])\n",
    "\n",
    "timestamps_driver_datetime['picked_up_at'] = pd.to_datetime(timestamps_driver['picked_up_at'])\n",
    "\n",
    "timestamps_driver_datetime['dropped_off_at'] = pd.to_datetime(timestamps_driver['dropped_off_at'])\n",
    "\n",
    "\n",
    "timestamps_driver_datetime.head()\n",
    "timestamps_driver[timestamps_driver['driver_id'] == '002be0ffdc997bd5c50703158b7c2491'].max()"
   ]
  },
  {
   "cell_type": "code",
   "execution_count": null,
   "metadata": {},
   "outputs": [],
   "source": []
  },
  {
   "cell_type": "code",
   "execution_count": 20,
   "metadata": {},
   "outputs": [
    {
     "name": "stderr",
     "output_type": "stream",
     "text": [
      "/Library/Frameworks/Python.framework/Versions/3.6/lib/python3.6/site-packages/pandas/plotting/_matplotlib/converter.py:103: FutureWarning:\n",
      "\n",
      "Using an implicitly registered datetime converter for a matplotlib plotting method. The converter was registered by pandas on import. Future versions of pandas will require you to explicitly register matplotlib converters.\n",
      "\n",
      "To register the converters:\n",
      "\t>>> from pandas.plotting import register_matplotlib_converters\n",
      "\t>>> register_matplotlib_converters()\n",
      "\n"
     ]
    },
    {
     "data": {
      "text/html": [
       "<div>\n",
       "<style scoped>\n",
       "    .dataframe tbody tr th:only-of-type {\n",
       "        vertical-align: middle;\n",
       "    }\n",
       "\n",
       "    .dataframe tbody tr th {\n",
       "        vertical-align: top;\n",
       "    }\n",
       "\n",
       "    .dataframe thead th {\n",
       "        text-align: right;\n",
       "    }\n",
       "</style>\n",
       "<table border=\"1\" class=\"dataframe\">\n",
       "  <thead>\n",
       "    <tr style=\"text-align: right;\">\n",
       "      <th></th>\n",
       "      <th>driver_id</th>\n",
       "      <th>ride_id</th>\n",
       "      <th>requested_at</th>\n",
       "      <th>accepted_at</th>\n",
       "      <th>arrived_at</th>\n",
       "      <th>picked_up_at</th>\n",
       "      <th>dropped_off_at</th>\n",
       "    </tr>\n",
       "    <tr>\n",
       "      <th>driver_onboard_date</th>\n",
       "      <th></th>\n",
       "      <th></th>\n",
       "      <th></th>\n",
       "      <th></th>\n",
       "      <th></th>\n",
       "      <th></th>\n",
       "      <th></th>\n",
       "    </tr>\n",
       "  </thead>\n",
       "  <tbody>\n",
       "    <tr>\n",
       "      <td>2016-03-28</td>\n",
       "      <td>3849</td>\n",
       "      <td>3849</td>\n",
       "      <td>3849</td>\n",
       "      <td>3849</td>\n",
       "      <td>3849</td>\n",
       "      <td>3849</td>\n",
       "      <td>3849</td>\n",
       "    </tr>\n",
       "    <tr>\n",
       "      <td>2016-03-29</td>\n",
       "      <td>6937</td>\n",
       "      <td>6937</td>\n",
       "      <td>6937</td>\n",
       "      <td>6937</td>\n",
       "      <td>6936</td>\n",
       "      <td>6937</td>\n",
       "      <td>6937</td>\n",
       "    </tr>\n",
       "    <tr>\n",
       "      <td>2016-03-30</td>\n",
       "      <td>6001</td>\n",
       "      <td>6001</td>\n",
       "      <td>6001</td>\n",
       "      <td>6001</td>\n",
       "      <td>6001</td>\n",
       "      <td>6001</td>\n",
       "      <td>6001</td>\n",
       "    </tr>\n",
       "    <tr>\n",
       "      <td>2016-03-31</td>\n",
       "      <td>7199</td>\n",
       "      <td>7199</td>\n",
       "      <td>7199</td>\n",
       "      <td>7199</td>\n",
       "      <td>7199</td>\n",
       "      <td>7199</td>\n",
       "      <td>7199</td>\n",
       "    </tr>\n",
       "    <tr>\n",
       "      <td>2016-04-01</td>\n",
       "      <td>3294</td>\n",
       "      <td>3294</td>\n",
       "      <td>3294</td>\n",
       "      <td>3294</td>\n",
       "      <td>3294</td>\n",
       "      <td>3294</td>\n",
       "      <td>3294</td>\n",
       "    </tr>\n",
       "  </tbody>\n",
       "</table>\n",
       "</div>"
      ],
      "text/plain": [
       "                     driver_id  ride_id  requested_at  accepted_at  \\\n",
       "driver_onboard_date                                                  \n",
       "2016-03-28                3849     3849          3849         3849   \n",
       "2016-03-29                6937     6937          6937         6937   \n",
       "2016-03-30                6001     6001          6001         6001   \n",
       "2016-03-31                7199     7199          7199         7199   \n",
       "2016-04-01                3294     3294          3294         3294   \n",
       "\n",
       "                     arrived_at  picked_up_at  dropped_off_at  \n",
       "driver_onboard_date                                            \n",
       "2016-03-28                 3849          3849            3849  \n",
       "2016-03-29                 6936          6937            6937  \n",
       "2016-03-30                 6001          6001            6001  \n",
       "2016-03-31                 7199          7199            7199  \n",
       "2016-04-01                 3294          3294            3294  "
      ]
     },
     "execution_count": 20,
     "metadata": {},
     "output_type": "execute_result"
    },
    {
     "data": {
      "image/png": "[encoded data removed]",
      "text/plain": [
       "<Figure size 432x288 with 1 Axes>"
      ]
     },
     "metadata": {
      "needs_background": "light"
     },
     "output_type": "display_data"
    }
   ],
   "source": [
    "#timestamps_driver_datetime[timestamps_driver_datetime['driver_id'] == 'd967f5296732fa55266b5f1314e7447b'].count()\n",
    "\n",
    "hist = timestamps_driver_datetime['driver_onboard_date'].hist(bins=50)\n",
    "\n",
    "onboarding_amount = timestamps_driver_datetime.groupby(['driver_onboard_date']).count()\n",
    "onboarding_amount.head()"
   ]
  },
  {
   "cell_type": "code",
   "execution_count": 21,
   "metadata": {},
   "outputs": [
    {
     "data": {
      "text/html": [
       "<div>\n",
       "<style scoped>\n",
       "    .dataframe tbody tr th:only-of-type {\n",
       "        vertical-align: middle;\n",
       "    }\n",
       "\n",
       "    .dataframe tbody tr th {\n",
       "        vertical-align: top;\n",
       "    }\n",
       "\n",
       "    .dataframe thead th {\n",
       "        text-align: right;\n",
       "    }\n",
       "</style>\n",
       "<table border=\"1\" class=\"dataframe\">\n",
       "  <thead>\n",
       "    <tr style=\"text-align: right;\">\n",
       "      <th></th>\n",
       "      <th>driver_id</th>\n",
       "      <th>rides</th>\n",
       "    </tr>\n",
       "  </thead>\n",
       "  <tbody>\n",
       "    <tr>\n",
       "      <td>0</td>\n",
       "      <td>002be0ffdc997bd5c50703158b7c2491</td>\n",
       "      <td>277</td>\n",
       "    </tr>\n",
       "    <tr>\n",
       "      <td>1</td>\n",
       "      <td>007f0389f9c7b03ef97098422f902e62</td>\n",
       "      <td>31</td>\n",
       "    </tr>\n",
       "    <tr>\n",
       "      <td>2</td>\n",
       "      <td>011e5c5dfc5c2c92501b8b24d47509bc</td>\n",
       "      <td>34</td>\n",
       "    </tr>\n",
       "    <tr>\n",
       "      <td>3</td>\n",
       "      <td>0152a2f305e71d26cc964f8d4411add9</td>\n",
       "      <td>191</td>\n",
       "    </tr>\n",
       "    <tr>\n",
       "      <td>4</td>\n",
       "      <td>01674381af7edd264113d4e6ed55ecda</td>\n",
       "      <td>375</td>\n",
       "    </tr>\n",
       "  </tbody>\n",
       "</table>\n",
       "</div>"
      ],
      "text/plain": [
       "                          driver_id  rides\n",
       "0  002be0ffdc997bd5c50703158b7c2491    277\n",
       "1  007f0389f9c7b03ef97098422f902e62     31\n",
       "2  011e5c5dfc5c2c92501b8b24d47509bc     34\n",
       "3  0152a2f305e71d26cc964f8d4411add9    191\n",
       "4  01674381af7edd264113d4e6ed55ecda    375"
      ]
     },
     "execution_count": 21,
     "metadata": {},
     "output_type": "execute_result"
    }
   ],
   "source": [
    "# create a new data frame to contain frequency of riders \n",
    "df = pd.DataFrame()\n",
    "\n",
    "df = rider.groupby(['driver_id'], as_index=False).size()\n",
    "\n",
    "df = df.to_frame().reset_index()\n",
    "df = df.rename(columns= {0: 'rides'})\n",
    "df.head()"
   ]
  },
  {
   "cell_type": "code",
   "execution_count": 22,
   "metadata": {},
   "outputs": [],
   "source": [
    "# Create a dictionary of all the drivers as the key and the list of dates as a value\n",
    "driver_ridedates = {}\n",
    "for driver_id in df['driver_id']:\n",
    "    # This is the dataframe with all the rides of a particular rider \n",
    "    temp_ride = timestamps_driver_datetime[timestamps_driver_datetime['driver_id'] == driver_id]\n",
    "    \n",
    "    #print(temp_ride.head())\n",
    "    if temp_ride.shape[0] == 0:\n",
    "        driver_ridedates[driver_id] = ['empty']\n",
    "    elif temp_ride.shape[0] != 0:\n",
    "        driver_ridedates[driver_id] = [temp_ride['driver_onboard_date'].tolist()[0]]\n",
    "        driver_ridedates[driver_id].append(temp_ride['picked_up_at'].tolist())\n",
    "        driver_ridedates[driver_id][1].sort()\n"
   ]
  },
  {
   "cell_type": "code",
   "execution_count": 23,
   "metadata": {},
   "outputs": [
    {
     "data": {
      "text/plain": [
       "['empty']"
      ]
     },
     "execution_count": 23,
     "metadata": {},
     "output_type": "execute_result"
    }
   ],
   "source": [
    "driver_ridedates['056175954c78be4c4de7e80167b7e1f9']\n",
    "\n",
    "driver_ridedates['056175954c78be4c4de7e80167b7e1f9']"
   ]
  },
  {
   "cell_type": "code",
   "execution_count": 24,
   "metadata": {},
   "outputs": [
    {
     "data": {
      "text/plain": [
       "dict_values([90, 90, 83, 65, 59, 81, 51, 62, 52, 55, 88, 79, 76, 54, 78, 76, 83, 81, 44, 73, 0, 46, 80, 46, 58, 47, 68, 80, 44, 84, 50, 72, 68, 89, 55, 83, 45, 75, 90, 67, 47, 0, 84, 0, 0, 55, 90, 84, 74, 78, 62, 44, 47, 0, 88, 83, 83, 66, 63, 47, 64, 62, 60, 53, 0, 89, 72, 84, 90, 70, 70, 70, 68, 0, 53, 81, 90, 44, 44, 0, 0, 51, 84, 82, 0, 0, 69, 52, 89, 56, 0, 72, 67, 83, 88, 67, 83, 84, 83, 0, 84, 68, 0, 0, 45, 47, 57, 68, 0, 77, 0, 0, 79, 68, 83, 0, 62, 44, 84, 45, 75, 68, 0, 58, 0, 75, 47, 62, 60, 72, 63, 88, 87, 0, 88, 0, 68, 53, 82, 0, 56, 83, 79, 74, 49, 59, 68, 88, 90, 0, 81, 86, 45, 81, 67, 73, 51, 77, 75, 81, 83, 51, 80, 76, 55, 90, 62, 63, 0, 65, 0, 82, 0, 90, 74, 90, 66, 79, 43, 64, 87, 81, 84, 66, 80, 0, 82, 0, 53, 0, 59, 77, 61, 64, 74, 86, 88, 59, 73, 60, 45, 65, 47, 59, 84, 46, 84, 69, 0, 59, 0, 63, 69, 61, 71, 66, 84, 62, 86, 81, 0, 71, 65, 72, 61, 58, 0, 0, 56, 66, 56, 89, 63, 84, 67, 87, 74, 45, 81, 74, 59, 0, 83, 73, 74, 44, 51, 54, 46, 87, 83, 70, 89, 49, 73, 80, 59, 57, 57, 62, 0, 65, 87, 67, 49, 0, 75, 73, 78, 82, 50, 66, 82, 73, 73, 67, 55, 72, 76, 52, 76, 77, 62, 50, 59, 91, 76, 59, 59, 68, 67, 60, 71, 74, 46, 60, 0, 48, 71, 75, 88, 54, 46, 78, 44, 63, 79, 77, 82, 55, 90, 0, 75, 77, 75, 66, 52, 51, 52, 0, 50, 0, 83, 0, 47, 86, 81, 86, 53, 48, 58, 90, 74, 47, 0, 51, 69, 90, 68, 46, 71, 62, 60, 58, 84, 74, 66, 69, 53, 47, 0, 75, 91, 67, 83, 76, 65, 71, 83, 76, 63, 48, 56, 0, 81, 54, 79, 0, 89, 0, 51, 83, 76, 0, 48, 77, 52, 49, 47, 54, 90, 84, 87, 67, 76, 0, 52, 49, 52, 84, 46, 58, 48, 89, 81, 45, 60, 0, 0, 45, 53, 84, 82, 89, 54, 58, 68, 73, 54, 54, 48, 89, 50, 61, 78, 51, 84, 75, 72, 89, 48, 70, 73, 86, 62, 91, 90, 77, 88, 60, 70, 64, 46, 86, 69, 87, 61, 74, 82, 60, 91, 58, 72, 58, 59, 79, 77, 76, 53, 46, 50, 89, 56, 54, 91, 73, 69, 55, 65, 48, 45, 62, 47, 59, 61, 50, 68, 0, 49, 44, 56, 60, 53, 59, 63, 84, 83, 53, 90, 90, 88, 0, 87, 67, 82, 60, 45, 83, 67, 91, 79, 0, 63, 65, 69, 54, 46, 91, 71, 51, 70, 0, 0, 77, 91, 82, 74, 69, 70, 73, 63, 89, 81, 46, 70, 59, 55, 0, 74, 73, 60, 80, 91, 54, 58, 49, 76, 69, 82, 66, 86, 61, 75, 90, 65, 88, 90, 74, 66, 79, 54, 70, 46, 82, 82, 90, 65, 87, 91, 63, 84, 87, 0, 80, 52, 54, 52, 91, 73, 91, 0, 0, 58, 74, 68, 67, 71, 54, 79, 91, 52, 0, 59, 82, 0, 73, 63, 76, 88, 52, 83, 80, 71, 65, 61, 73, 82, 47, 0, 82, 54, 72, 53, 83, 88, 90, 83, 68, 68, 89, 83, 65, 48, 49, 81, 79, 83, 79, 59, 89, 87, 88, 54, 91, 88, 80, 0, 46, 47, 74, 61, 0, 89, 65, 57, 74, 66, 89, 65, 88, 62, 61, 48, 45, 77, 59, 72, 88, 0, 69, 48, 88, 82, 66, 79, 59, 54, 80, 45, 46, 56, 66, 75, 73, 70, 69, 47, 53, 46, 51, 71, 58, 0, 68, 66, 47, 80, 47, 51, 45, 46, 45, 45, 64, 68, 46, 59, 0, 63, 84, 62, 54, 72, 67, 67, 79, 73, 45, 55, 65, 0, 59, 90, 53, 75, 85, 78, 80, 50, 68, 77, 67, 67, 63, 76, 66, 64, 90, 82, 83, 87, 84, 58, 90, 47, 64, 58, 88, 87, 43, 73, 71, 87, 89, 55, 90, 46, 83, 0, 87, 78, 48, 0, 76, 75, 47, 76, 71, 71, 83, 74, 81, 52, 81, 69, 74, 74, 0, 70, 90, 74, 55, 54, 53, 80, 59, 74, 82, 77, 82, 79, 80, 57, 75, 82, 55, 89, 0, 90, 67, 0, 69, 80, 49, 84, 51, 0, 0, 77, 0, 0, 68, 89, 0, 0, 77, 88, 0, 80, 78, 54, 0, 44, 84, 75, 76, 62, 65, 79, 62, 57, 0, 84, 61, 83, 0, 64, 76, 48, 0, 81, 89, 87, 67, 71, 88, 46, 75, 88, 70, 82, 83, 90, 58, 43, 79, 70, 70, 51, 67, 83, 84, 87, 88, 0, 73, 0, 67, 54, 91, 62, 90, 47, 70, 0, 75, 89, 64, 66, 88, 65, 64, 0, 91, 48, 82, 46, 60, 51, 0, 52, 0, 69, 51, 86, 61, 46, 0, 74, 83, 0, 66, 61, 0, 50, 62, 60, 82, 73, 62, 83, 90, 60, 66, 79, 83, 52, 62, 67, 79, 91, 0, 76, 76, 72, 55, 55, 91, 65, 0, 74, 50, 53, 88, 78, 68, 90, 69, 91, 57, 43, 61, 58, 91, 60, 56, 87, 50, 64, 73, 80, 71, 51, 64, 43, 63, 88, 83, 72, 90, 0, 62, 0, 91, 80, 52, 54])"
      ]
     },
     "execution_count": 24,
     "metadata": {},
     "output_type": "execute_result"
    }
   ],
   "source": [
    "end = datetime.datetime(2016, 6, 27, 0, 0)\n",
    "\n",
    "t = {}\n",
    "for driver_id in df['driver_id']:\n",
    "    if driver_ridedates[driver_id] == ['empty']:\n",
    "        t[driver_id] = 0\n",
    "    else:     \n",
    "        t[driver_id] = ((abs(driver_ridedates[driver_id][0] \n",
    "                                         - end))).days \n",
    "t.values()"
   ]
  },
  {
   "cell_type": "code",
   "execution_count": 25,
   "metadata": {},
   "outputs": [],
   "source": [
    "# The boolean is based on whether they had at least 5 rides per week average\n",
    "# False means they didn't have enough \n",
    "# True means they reached the 5 rides a week quota \n",
    "\n",
    "driver_status = {}\n",
    "for driver_id in df['driver_id']:\n",
    "    if driver_ridedates[driver_id] == ['empty']:\n",
    "        driver_status[driver_id] = False\n",
    "    else:     \n",
    "        driver_status[driver_id] = ((abs(driver_ridedates[driver_id][0] \n",
    "                                         - driver_ridedates[driver_id][1][-1])/7)*5).days <= len(driver_ridedates[driver_id][1])"
   ]
  },
  {
   "cell_type": "code",
   "execution_count": 26,
   "metadata": {},
   "outputs": [],
   "source": [
    "# This just shows the amount of days between the initial onboarding and the last ride they accepted\n",
    "\n",
    "driver_status_distance = {}\n",
    "for driver_id in df['driver_id']:\n",
    "    if driver_ridedates[driver_id] == ['empty']:\n",
    "        driver_status_distance[driver_id] = 0\n",
    "    else:     \n",
    "        driver_status_distance[driver_id] = ((abs(driver_ridedates[driver_id][0] \n",
    "                                         - driver_ridedates[driver_id][1][-1]))).days "
   ]
  },
  {
   "cell_type": "code",
   "execution_count": 27,
   "metadata": {},
   "outputs": [],
   "source": [
    "#list(driver_status_distance.values())\n",
    "#list(driver_status_distance)\n",
    "\n"
   ]
  },
  {
   "cell_type": "code",
   "execution_count": 28,
   "metadata": {},
   "outputs": [
    {
     "data": {
      "text/html": [
       "<div>\n",
       "<style scoped>\n",
       "    .dataframe tbody tr th:only-of-type {\n",
       "        vertical-align: middle;\n",
       "    }\n",
       "\n",
       "    .dataframe tbody tr th {\n",
       "        vertical-align: top;\n",
       "    }\n",
       "\n",
       "    .dataframe thead th {\n",
       "        text-align: right;\n",
       "    }\n",
       "</style>\n",
       "<table border=\"1\" class=\"dataframe\">\n",
       "  <thead>\n",
       "    <tr style=\"text-align: right;\">\n",
       "      <th></th>\n",
       "      <th>driver_id</th>\n",
       "      <th>driver_status</th>\n",
       "    </tr>\n",
       "  </thead>\n",
       "  <tbody>\n",
       "    <tr>\n",
       "      <td>0</td>\n",
       "      <td>002be0ffdc997bd5c50703158b7c2491</td>\n",
       "      <td>True</td>\n",
       "    </tr>\n",
       "    <tr>\n",
       "      <td>1</td>\n",
       "      <td>007f0389f9c7b03ef97098422f902e62</td>\n",
       "      <td>False</td>\n",
       "    </tr>\n",
       "    <tr>\n",
       "      <td>2</td>\n",
       "      <td>011e5c5dfc5c2c92501b8b24d47509bc</td>\n",
       "      <td>False</td>\n",
       "    </tr>\n",
       "    <tr>\n",
       "      <td>3</td>\n",
       "      <td>0152a2f305e71d26cc964f8d4411add9</td>\n",
       "      <td>True</td>\n",
       "    </tr>\n",
       "    <tr>\n",
       "      <td>4</td>\n",
       "      <td>01674381af7edd264113d4e6ed55ecda</td>\n",
       "      <td>True</td>\n",
       "    </tr>\n",
       "  </tbody>\n",
       "</table>\n",
       "</div>"
      ],
      "text/plain": [
       "                          driver_id  driver_status\n",
       "0  002be0ffdc997bd5c50703158b7c2491           True\n",
       "1  007f0389f9c7b03ef97098422f902e62          False\n",
       "2  011e5c5dfc5c2c92501b8b24d47509bc          False\n",
       "3  0152a2f305e71d26cc964f8d4411add9           True\n",
       "4  01674381af7edd264113d4e6ed55ecda           True"
      ]
     },
     "execution_count": 28,
     "metadata": {},
     "output_type": "execute_result"
    }
   ],
   "source": [
    "driver_status_df = pd.DataFrame()\n",
    "\n",
    "driver_status_df['driver_id'] = list(driver_status)\n",
    "\n",
    "driver_status_df['driver_status'] = list(driver_status.values())\n",
    "\n",
    "driver_status_df.head()"
   ]
  },
  {
   "cell_type": "code",
   "execution_count": 29,
   "metadata": {},
   "outputs": [
    {
     "data": {
      "text/html": [
       "<div>\n",
       "<style scoped>\n",
       "    .dataframe tbody tr th:only-of-type {\n",
       "        vertical-align: middle;\n",
       "    }\n",
       "\n",
       "    .dataframe tbody tr th {\n",
       "        vertical-align: top;\n",
       "    }\n",
       "\n",
       "    .dataframe thead th {\n",
       "        text-align: right;\n",
       "    }\n",
       "</style>\n",
       "<table border=\"1\" class=\"dataframe\">\n",
       "  <thead>\n",
       "    <tr style=\"text-align: right;\">\n",
       "      <th></th>\n",
       "      <th>driver_id</th>\n",
       "      <th>driver_lifespan</th>\n",
       "      <th>t</th>\n",
       "    </tr>\n",
       "  </thead>\n",
       "  <tbody>\n",
       "    <tr>\n",
       "      <td>0</td>\n",
       "      <td>002be0ffdc997bd5c50703158b7c2491</td>\n",
       "      <td>86</td>\n",
       "      <td>90</td>\n",
       "    </tr>\n",
       "    <tr>\n",
       "      <td>1</td>\n",
       "      <td>007f0389f9c7b03ef97098422f902e62</td>\n",
       "      <td>85</td>\n",
       "      <td>90</td>\n",
       "    </tr>\n",
       "    <tr>\n",
       "      <td>2</td>\n",
       "      <td>011e5c5dfc5c2c92501b8b24d47509bc</td>\n",
       "      <td>68</td>\n",
       "      <td>83</td>\n",
       "    </tr>\n",
       "    <tr>\n",
       "      <td>3</td>\n",
       "      <td>0152a2f305e71d26cc964f8d4411add9</td>\n",
       "      <td>64</td>\n",
       "      <td>65</td>\n",
       "    </tr>\n",
       "    <tr>\n",
       "      <td>4</td>\n",
       "      <td>01674381af7edd264113d4e6ed55ecda</td>\n",
       "      <td>56</td>\n",
       "      <td>59</td>\n",
       "    </tr>\n",
       "  </tbody>\n",
       "</table>\n",
       "</div>"
      ],
      "text/plain": [
       "                          driver_id  driver_lifespan   t\n",
       "0  002be0ffdc997bd5c50703158b7c2491               86  90\n",
       "1  007f0389f9c7b03ef97098422f902e62               85  90\n",
       "2  011e5c5dfc5c2c92501b8b24d47509bc               68  83\n",
       "3  0152a2f305e71d26cc964f8d4411add9               64  65\n",
       "4  01674381af7edd264113d4e6ed55ecda               56  59"
      ]
     },
     "execution_count": 29,
     "metadata": {},
     "output_type": "execute_result"
    }
   ],
   "source": [
    "driver_status_distance_df = pd.DataFrame()\n",
    "\n",
    "driver_status_distance_df['driver_id'] = list(driver_status_distance)\n",
    "\n",
    "driver_status_distance_df['driver_lifespan'] = list(driver_status_distance.values())\n",
    "\n",
    "driver_status_distance_df['t'] = list(t.values())\n",
    "\n",
    "driver_status_distance_df.head()\n"
   ]
  },
  {
   "cell_type": "code",
   "execution_count": 30,
   "metadata": {},
   "outputs": [
    {
     "data": {
      "text/plain": [
       "49.2017075773746"
      ]
     },
     "execution_count": 30,
     "metadata": {},
     "output_type": "execute_result"
    }
   ],
   "source": [
    "np.mean(driver_status_distance_df['driver_lifespan'])"
   ]
  },
  {
   "cell_type": "markdown",
   "metadata": {},
   "source": [
    "timestamps_driver.count()"
   ]
  },
  {
   "cell_type": "code",
   "execution_count": 31,
   "metadata": {},
   "outputs": [
    {
     "data": {
      "text/plain": [
       "Timestamp('2016-03-28 06:02:39')"
      ]
     },
     "execution_count": 31,
     "metadata": {},
     "output_type": "execute_result"
    }
   ],
   "source": [
    "timestamps_driver.head()\n",
    "recent_date = timestamps_driver['picked_up_at'].min()\n",
    "recent_date"
   ]
  },
  {
   "cell_type": "markdown",
   "metadata": {},
   "source": [
    "## Use survival analytics to predict lifetime"
   ]
  },
  {
   "cell_type": "code",
   "execution_count": 32,
   "metadata": {},
   "outputs": [
    {
     "data": {
      "text/html": [
       "<div>\n",
       "<style scoped>\n",
       "    .dataframe tbody tr th:only-of-type {\n",
       "        vertical-align: middle;\n",
       "    }\n",
       "\n",
       "    .dataframe tbody tr th {\n",
       "        vertical-align: top;\n",
       "    }\n",
       "\n",
       "    .dataframe thead th {\n",
       "        text-align: right;\n",
       "    }\n",
       "</style>\n",
       "<table border=\"1\" class=\"dataframe\">\n",
       "  <thead>\n",
       "    <tr style=\"text-align: right;\">\n",
       "      <th></th>\n",
       "      <th>driver_id</th>\n",
       "      <th>driver_status</th>\n",
       "    </tr>\n",
       "  </thead>\n",
       "  <tbody>\n",
       "    <tr>\n",
       "      <td>0</td>\n",
       "      <td>002be0ffdc997bd5c50703158b7c2491</td>\n",
       "      <td>True</td>\n",
       "    </tr>\n",
       "    <tr>\n",
       "      <td>1</td>\n",
       "      <td>007f0389f9c7b03ef97098422f902e62</td>\n",
       "      <td>False</td>\n",
       "    </tr>\n",
       "    <tr>\n",
       "      <td>2</td>\n",
       "      <td>011e5c5dfc5c2c92501b8b24d47509bc</td>\n",
       "      <td>False</td>\n",
       "    </tr>\n",
       "    <tr>\n",
       "      <td>3</td>\n",
       "      <td>0152a2f305e71d26cc964f8d4411add9</td>\n",
       "      <td>True</td>\n",
       "    </tr>\n",
       "    <tr>\n",
       "      <td>4</td>\n",
       "      <td>01674381af7edd264113d4e6ed55ecda</td>\n",
       "      <td>True</td>\n",
       "    </tr>\n",
       "  </tbody>\n",
       "</table>\n",
       "</div>"
      ],
      "text/plain": [
       "                          driver_id  driver_status\n",
       "0  002be0ffdc997bd5c50703158b7c2491           True\n",
       "1  007f0389f9c7b03ef97098422f902e62          False\n",
       "2  011e5c5dfc5c2c92501b8b24d47509bc          False\n",
       "3  0152a2f305e71d26cc964f8d4411add9           True\n",
       "4  01674381af7edd264113d4e6ed55ecda           True"
      ]
     },
     "execution_count": 32,
     "metadata": {},
     "output_type": "execute_result"
    }
   ],
   "source": [
    "driver_status_df.head()"
   ]
  },
  {
   "cell_type": "code",
   "execution_count": 33,
   "metadata": {},
   "outputs": [],
   "source": [
    "#lambda x: 1 if x == False else 0"
   ]
  },
  {
   "cell_type": "code",
   "execution_count": 34,
   "metadata": {},
   "outputs": [],
   "source": [
    "driver_status_df['driver_status_bool'] = driver_status_df['driver_status'].apply(lambda x: 1 if x == False else 0)"
   ]
  },
  {
   "cell_type": "code",
   "execution_count": 35,
   "metadata": {},
   "outputs": [
    {
     "data": {
      "text/html": [
       "<div>\n",
       "<style scoped>\n",
       "    .dataframe tbody tr th:only-of-type {\n",
       "        vertical-align: middle;\n",
       "    }\n",
       "\n",
       "    .dataframe tbody tr th {\n",
       "        vertical-align: top;\n",
       "    }\n",
       "\n",
       "    .dataframe thead th {\n",
       "        text-align: right;\n",
       "    }\n",
       "</style>\n",
       "<table border=\"1\" class=\"dataframe\">\n",
       "  <thead>\n",
       "    <tr style=\"text-align: right;\">\n",
       "      <th></th>\n",
       "      <th>driver_id</th>\n",
       "      <th>driver_status</th>\n",
       "      <th>driver_status_bool</th>\n",
       "    </tr>\n",
       "  </thead>\n",
       "  <tbody>\n",
       "    <tr>\n",
       "      <td>0</td>\n",
       "      <td>002be0ffdc997bd5c50703158b7c2491</td>\n",
       "      <td>True</td>\n",
       "      <td>0</td>\n",
       "    </tr>\n",
       "    <tr>\n",
       "      <td>1</td>\n",
       "      <td>007f0389f9c7b03ef97098422f902e62</td>\n",
       "      <td>False</td>\n",
       "      <td>1</td>\n",
       "    </tr>\n",
       "    <tr>\n",
       "      <td>2</td>\n",
       "      <td>011e5c5dfc5c2c92501b8b24d47509bc</td>\n",
       "      <td>False</td>\n",
       "      <td>1</td>\n",
       "    </tr>\n",
       "    <tr>\n",
       "      <td>3</td>\n",
       "      <td>0152a2f305e71d26cc964f8d4411add9</td>\n",
       "      <td>True</td>\n",
       "      <td>0</td>\n",
       "    </tr>\n",
       "    <tr>\n",
       "      <td>4</td>\n",
       "      <td>01674381af7edd264113d4e6ed55ecda</td>\n",
       "      <td>True</td>\n",
       "      <td>0</td>\n",
       "    </tr>\n",
       "  </tbody>\n",
       "</table>\n",
       "</div>"
      ],
      "text/plain": [
       "                          driver_id  driver_status  driver_status_bool\n",
       "0  002be0ffdc997bd5c50703158b7c2491           True                   0\n",
       "1  007f0389f9c7b03ef97098422f902e62          False                   1\n",
       "2  011e5c5dfc5c2c92501b8b24d47509bc          False                   1\n",
       "3  0152a2f305e71d26cc964f8d4411add9           True                   0\n",
       "4  01674381af7edd264113d4e6ed55ecda           True                   0"
      ]
     },
     "execution_count": 35,
     "metadata": {},
     "output_type": "execute_result"
    }
   ],
   "source": [
    "driver_status_df.head()"
   ]
  },
  {
   "cell_type": "code",
   "execution_count": 36,
   "metadata": {},
   "outputs": [],
   "source": [
    "driver_status_distance_df.head()\n",
    "driver_status_distance_df = driver_status_distance_df[driver_status_distance_df['driver_lifespan'] != 0]"
   ]
  },
  {
   "cell_type": "code",
   "execution_count": 37,
   "metadata": {},
   "outputs": [
    {
     "data": {
      "text/html": [
       "<div>\n",
       "<style scoped>\n",
       "    .dataframe tbody tr th:only-of-type {\n",
       "        vertical-align: middle;\n",
       "    }\n",
       "\n",
       "    .dataframe tbody tr th {\n",
       "        vertical-align: top;\n",
       "    }\n",
       "\n",
       "    .dataframe thead th {\n",
       "        text-align: right;\n",
       "    }\n",
       "</style>\n",
       "<table border=\"1\" class=\"dataframe\">\n",
       "  <thead>\n",
       "    <tr style=\"text-align: right;\">\n",
       "      <th></th>\n",
       "      <th>driver_id</th>\n",
       "      <th>driver_status</th>\n",
       "      <th>driver_status_bool</th>\n",
       "      <th>driver_lifespan</th>\n",
       "      <th>t</th>\n",
       "    </tr>\n",
       "  </thead>\n",
       "  <tbody>\n",
       "    <tr>\n",
       "      <td>0</td>\n",
       "      <td>002be0ffdc997bd5c50703158b7c2491</td>\n",
       "      <td>True</td>\n",
       "      <td>0</td>\n",
       "      <td>86</td>\n",
       "      <td>90</td>\n",
       "    </tr>\n",
       "    <tr>\n",
       "      <td>1</td>\n",
       "      <td>007f0389f9c7b03ef97098422f902e62</td>\n",
       "      <td>False</td>\n",
       "      <td>1</td>\n",
       "      <td>85</td>\n",
       "      <td>90</td>\n",
       "    </tr>\n",
       "    <tr>\n",
       "      <td>2</td>\n",
       "      <td>011e5c5dfc5c2c92501b8b24d47509bc</td>\n",
       "      <td>False</td>\n",
       "      <td>1</td>\n",
       "      <td>68</td>\n",
       "      <td>83</td>\n",
       "    </tr>\n",
       "    <tr>\n",
       "      <td>3</td>\n",
       "      <td>0152a2f305e71d26cc964f8d4411add9</td>\n",
       "      <td>True</td>\n",
       "      <td>0</td>\n",
       "      <td>64</td>\n",
       "      <td>65</td>\n",
       "    </tr>\n",
       "    <tr>\n",
       "      <td>4</td>\n",
       "      <td>01674381af7edd264113d4e6ed55ecda</td>\n",
       "      <td>True</td>\n",
       "      <td>0</td>\n",
       "      <td>56</td>\n",
       "      <td>59</td>\n",
       "    </tr>\n",
       "  </tbody>\n",
       "</table>\n",
       "</div>"
      ],
      "text/plain": [
       "                          driver_id  driver_status  driver_status_bool  \\\n",
       "0  002be0ffdc997bd5c50703158b7c2491           True                   0   \n",
       "1  007f0389f9c7b03ef97098422f902e62          False                   1   \n",
       "2  011e5c5dfc5c2c92501b8b24d47509bc          False                   1   \n",
       "3  0152a2f305e71d26cc964f8d4411add9           True                   0   \n",
       "4  01674381af7edd264113d4e6ed55ecda           True                   0   \n",
       "\n",
       "   driver_lifespan   t  \n",
       "0               86  90  \n",
       "1               85  90  \n",
       "2               68  83  \n",
       "3               64  65  \n",
       "4               56  59  "
      ]
     },
     "execution_count": 37,
     "metadata": {},
     "output_type": "execute_result"
    }
   ],
   "source": [
    "# Survival Analysis Data Frame  \n",
    "survival_dataframe = pd.merge(driver_status_df,driver_status_distance_df, on = 'driver_id', how = 'inner')\n",
    "\n",
    "survival_dataframe.head()"
   ]
  },
  {
   "cell_type": "code",
   "execution_count": 38,
   "metadata": {},
   "outputs": [],
   "source": [
    "from lifelines import KaplanMeierFitter\n"
   ]
  },
  {
   "cell_type": "code",
   "execution_count": 39,
   "metadata": {},
   "outputs": [],
   "source": [
    "# create a kmf object\n",
    "kmf = KaplanMeierFitter() "
   ]
  },
  {
   "cell_type": "code",
   "execution_count": 40,
   "metadata": {},
   "outputs": [
    {
     "data": {
      "text/plain": [
       "<lifelines.KaplanMeierFitter: fitted with 837 observations, 765 censored>"
      ]
     },
     "execution_count": 40,
     "metadata": {},
     "output_type": "execute_result"
    }
   ],
   "source": [
    "# Fit the data into the model\n",
    "kmf.fit(survival_dataframe['driver_lifespan'], survival_dataframe['driver_status_bool'],label='Kaplan Meier Estimate')"
   ]
  },
  {
   "cell_type": "code",
   "execution_count": 41,
   "metadata": {},
   "outputs": [
    {
     "data": {
      "text/plain": [
       "<matplotlib.axes._subplots.AxesSubplot at 0x140b7c128>"
      ]
     },
     "execution_count": 41,
     "metadata": {},
     "output_type": "execute_result"
    },
    {
     "data": {
      "image/png": "[encoded data removed]",
      "text/plain": [
       "<Figure size 432x288 with 1 Axes>"
      ]
     },
     "metadata": {
      "needs_background": "light"
     },
     "output_type": "display_data"
    }
   ],
   "source": [
    "# Create an estimate\n",
    "kmf.plot(ci_show=True) \n",
    "\n",
    "\n",
    "\n",
    "## ci_show is meant for Confidence interval, since our data set is too tiny, thus i am not showing it."
   ]
  },
  {
   "cell_type": "code",
   "execution_count": 42,
   "metadata": {},
   "outputs": [
    {
     "name": "stdout",
     "output_type": "stream",
     "text": [
      "<class 'pandas.core.frame.DataFrame'>\n",
      "Int64Index: 837 entries, 0 to 836\n",
      "Data columns (total 5 columns):\n",
      "driver_id             837 non-null object\n",
      "driver_status         837 non-null bool\n",
      "driver_status_bool    837 non-null int64\n",
      "driver_lifespan       837 non-null int64\n",
      "t                     837 non-null int64\n",
      "dtypes: bool(1), int64(3), object(1)\n",
      "memory usage: 33.5+ KB\n"
     ]
    }
   ],
   "source": [
    "survival_dataframe.info()"
   ]
  },
  {
   "cell_type": "markdown",
   "metadata": {},
   "source": [
    "## Cox Proportional Hazard Model\n"
   ]
  },
  {
   "cell_type": "code",
   "execution_count": 43,
   "metadata": {},
   "outputs": [],
   "source": [
    "from lifelines import CoxPHFitter\n"
   ]
  },
  {
   "cell_type": "markdown",
   "metadata": {},
   "source": [
    "### Advice 1\n",
    "Your team should recommend a definition, methodology or framework for calculating lifetime value.  Ideally, your recommendation should help you calculate a lifetime value for each individual driver.\n"
   ]
  },
  {
   "cell_type": "markdown",
   "metadata": {},
   "source": [
    "### Advice 2\n",
    "One of our follow up questions in the prompt is \"Do all drivers act alike?  Are there specific segments of drivers that generate more value for Lyft than the average driver?\".  So your LTV definition should be able to distinguish different drivers or at least cohorts of drivers. \n"
   ]
  },
  {
   "cell_type": "code",
   "execution_count": 44,
   "metadata": {},
   "outputs": [
    {
     "data": {
      "text/html": [
       "<div>\n",
       "<style scoped>\n",
       "    .dataframe tbody tr th:only-of-type {\n",
       "        vertical-align: middle;\n",
       "    }\n",
       "\n",
       "    .dataframe tbody tr th {\n",
       "        vertical-align: top;\n",
       "    }\n",
       "\n",
       "    .dataframe thead th {\n",
       "        text-align: right;\n",
       "    }\n",
       "</style>\n",
       "<table border=\"1\" class=\"dataframe\">\n",
       "  <thead>\n",
       "    <tr style=\"text-align: right;\">\n",
       "      <th></th>\n",
       "      <th>driver_id</th>\n",
       "      <th>ride_id</th>\n",
       "      <th>ride_distance</th>\n",
       "      <th>ride_duration</th>\n",
       "      <th>ride_prime_time</th>\n",
       "      <th>duration_min</th>\n",
       "      <th>distance_mi</th>\n",
       "      <th>fare_duration</th>\n",
       "      <th>fare_distance</th>\n",
       "      <th>total_fare</th>\n",
       "    </tr>\n",
       "  </thead>\n",
       "  <tbody>\n",
       "    <tr>\n",
       "      <td>0</td>\n",
       "      <td>002be0ffdc997bd5c50703158b7c2491</td>\n",
       "      <td>006d61cf7446e682f7bc50b0f8a5bea5</td>\n",
       "      <td>1811</td>\n",
       "      <td>327</td>\n",
       "      <td>50</td>\n",
       "      <td>5.450000</td>\n",
       "      <td>1.125301</td>\n",
       "      <td>1.199000</td>\n",
       "      <td>1.294096</td>\n",
       "      <td>7.489644</td>\n",
       "    </tr>\n",
       "    <tr>\n",
       "      <td>1</td>\n",
       "      <td>002be0ffdc997bd5c50703158b7c2491</td>\n",
       "      <td>01b522c5c3a756fbdb12e95e87507eda</td>\n",
       "      <td>3362</td>\n",
       "      <td>809</td>\n",
       "      <td>0</td>\n",
       "      <td>13.483333</td>\n",
       "      <td>2.089046</td>\n",
       "      <td>2.966333</td>\n",
       "      <td>2.402403</td>\n",
       "      <td>9.118736</td>\n",
       "    </tr>\n",
       "    <tr>\n",
       "      <td>2</td>\n",
       "      <td>002be0ffdc997bd5c50703158b7c2491</td>\n",
       "      <td>029227c4c2971ce69ff2274dc798ef43</td>\n",
       "      <td>3282</td>\n",
       "      <td>572</td>\n",
       "      <td>0</td>\n",
       "      <td>9.533333</td>\n",
       "      <td>2.039336</td>\n",
       "      <td>2.097333</td>\n",
       "      <td>2.345237</td>\n",
       "      <td>8.192570</td>\n",
       "    </tr>\n",
       "    <tr>\n",
       "      <td>3</td>\n",
       "      <td>002be0ffdc997bd5c50703158b7c2491</td>\n",
       "      <td>034e861343a63ac3c18a9ceb1ce0ac69</td>\n",
       "      <td>65283</td>\n",
       "      <td>3338</td>\n",
       "      <td>25</td>\n",
       "      <td>55.633333</td>\n",
       "      <td>40.564898</td>\n",
       "      <td>12.239333</td>\n",
       "      <td>46.649632</td>\n",
       "      <td>77.361207</td>\n",
       "    </tr>\n",
       "    <tr>\n",
       "      <td>4</td>\n",
       "      <td>002be0ffdc997bd5c50703158b7c2491</td>\n",
       "      <td>034f2e614a2f9fc7f1c2f77647d1b981</td>\n",
       "      <td>4115</td>\n",
       "      <td>823</td>\n",
       "      <td>100</td>\n",
       "      <td>13.716667</td>\n",
       "      <td>2.556938</td>\n",
       "      <td>3.017667</td>\n",
       "      <td>2.940478</td>\n",
       "      <td>15.666290</td>\n",
       "    </tr>\n",
       "  </tbody>\n",
       "</table>\n",
       "</div>"
      ],
      "text/plain": [
       "                          driver_id                           ride_id  \\\n",
       "0  002be0ffdc997bd5c50703158b7c2491  006d61cf7446e682f7bc50b0f8a5bea5   \n",
       "1  002be0ffdc997bd5c50703158b7c2491  01b522c5c3a756fbdb12e95e87507eda   \n",
       "2  002be0ffdc997bd5c50703158b7c2491  029227c4c2971ce69ff2274dc798ef43   \n",
       "3  002be0ffdc997bd5c50703158b7c2491  034e861343a63ac3c18a9ceb1ce0ac69   \n",
       "4  002be0ffdc997bd5c50703158b7c2491  034f2e614a2f9fc7f1c2f77647d1b981   \n",
       "\n",
       "   ride_distance  ride_duration  ride_prime_time  duration_min  distance_mi  \\\n",
       "0           1811            327               50      5.450000     1.125301   \n",
       "1           3362            809                0     13.483333     2.089046   \n",
       "2           3282            572                0      9.533333     2.039336   \n",
       "3          65283           3338               25     55.633333    40.564898   \n",
       "4           4115            823              100     13.716667     2.556938   \n",
       "\n",
       "   fare_duration  fare_distance  total_fare  \n",
       "0       1.199000       1.294096    7.489644  \n",
       "1       2.966333       2.402403    9.118736  \n",
       "2       2.097333       2.345237    8.192570  \n",
       "3      12.239333      46.649632   77.361207  \n",
       "4       3.017667       2.940478   15.666290  "
      ]
     },
     "execution_count": 44,
     "metadata": {},
     "output_type": "execute_result"
    }
   ],
   "source": [
    "rider.head()"
   ]
  },
  {
   "cell_type": "code",
   "execution_count": 45,
   "metadata": {},
   "outputs": [
    {
     "data": {
      "text/html": [
       "<div>\n",
       "<style scoped>\n",
       "    .dataframe tbody tr th:only-of-type {\n",
       "        vertical-align: middle;\n",
       "    }\n",
       "\n",
       "    .dataframe tbody tr th {\n",
       "        vertical-align: top;\n",
       "    }\n",
       "\n",
       "    .dataframe thead th {\n",
       "        text-align: right;\n",
       "    }\n",
       "</style>\n",
       "<table border=\"1\" class=\"dataframe\">\n",
       "  <thead>\n",
       "    <tr style=\"text-align: right;\">\n",
       "      <th></th>\n",
       "      <th>driver_id</th>\n",
       "      <th>rides</th>\n",
       "    </tr>\n",
       "  </thead>\n",
       "  <tbody>\n",
       "    <tr>\n",
       "      <td>0</td>\n",
       "      <td>002be0ffdc997bd5c50703158b7c2491</td>\n",
       "      <td>277</td>\n",
       "    </tr>\n",
       "    <tr>\n",
       "      <td>1</td>\n",
       "      <td>007f0389f9c7b03ef97098422f902e62</td>\n",
       "      <td>31</td>\n",
       "    </tr>\n",
       "    <tr>\n",
       "      <td>2</td>\n",
       "      <td>011e5c5dfc5c2c92501b8b24d47509bc</td>\n",
       "      <td>34</td>\n",
       "    </tr>\n",
       "    <tr>\n",
       "      <td>3</td>\n",
       "      <td>0152a2f305e71d26cc964f8d4411add9</td>\n",
       "      <td>191</td>\n",
       "    </tr>\n",
       "    <tr>\n",
       "      <td>4</td>\n",
       "      <td>01674381af7edd264113d4e6ed55ecda</td>\n",
       "      <td>375</td>\n",
       "    </tr>\n",
       "  </tbody>\n",
       "</table>\n",
       "</div>"
      ],
      "text/plain": [
       "                          driver_id  rides\n",
       "0  002be0ffdc997bd5c50703158b7c2491    277\n",
       "1  007f0389f9c7b03ef97098422f902e62     31\n",
       "2  011e5c5dfc5c2c92501b8b24d47509bc     34\n",
       "3  0152a2f305e71d26cc964f8d4411add9    191\n",
       "4  01674381af7edd264113d4e6ed55ecda    375"
      ]
     },
     "execution_count": 45,
     "metadata": {},
     "output_type": "execute_result"
    }
   ],
   "source": [
    "df.head()"
   ]
  },
  {
   "cell_type": "code",
   "execution_count": 46,
   "metadata": {},
   "outputs": [
    {
     "data": {
      "text/html": [
       "<div>\n",
       "<style scoped>\n",
       "    .dataframe tbody tr th:only-of-type {\n",
       "        vertical-align: middle;\n",
       "    }\n",
       "\n",
       "    .dataframe tbody tr th {\n",
       "        vertical-align: top;\n",
       "    }\n",
       "\n",
       "    .dataframe thead th {\n",
       "        text-align: right;\n",
       "    }\n",
       "</style>\n",
       "<table border=\"1\" class=\"dataframe\">\n",
       "  <thead>\n",
       "    <tr style=\"text-align: right;\">\n",
       "      <th></th>\n",
       "      <th>driver_id</th>\n",
       "      <th>driver_lifespan</th>\n",
       "      <th>t</th>\n",
       "    </tr>\n",
       "  </thead>\n",
       "  <tbody>\n",
       "    <tr>\n",
       "      <td>0</td>\n",
       "      <td>002be0ffdc997bd5c50703158b7c2491</td>\n",
       "      <td>86</td>\n",
       "      <td>90</td>\n",
       "    </tr>\n",
       "    <tr>\n",
       "      <td>1</td>\n",
       "      <td>007f0389f9c7b03ef97098422f902e62</td>\n",
       "      <td>85</td>\n",
       "      <td>90</td>\n",
       "    </tr>\n",
       "    <tr>\n",
       "      <td>2</td>\n",
       "      <td>011e5c5dfc5c2c92501b8b24d47509bc</td>\n",
       "      <td>68</td>\n",
       "      <td>83</td>\n",
       "    </tr>\n",
       "    <tr>\n",
       "      <td>3</td>\n",
       "      <td>0152a2f305e71d26cc964f8d4411add9</td>\n",
       "      <td>64</td>\n",
       "      <td>65</td>\n",
       "    </tr>\n",
       "    <tr>\n",
       "      <td>4</td>\n",
       "      <td>01674381af7edd264113d4e6ed55ecda</td>\n",
       "      <td>56</td>\n",
       "      <td>59</td>\n",
       "    </tr>\n",
       "  </tbody>\n",
       "</table>\n",
       "</div>"
      ],
      "text/plain": [
       "                          driver_id  driver_lifespan   t\n",
       "0  002be0ffdc997bd5c50703158b7c2491               86  90\n",
       "1  007f0389f9c7b03ef97098422f902e62               85  90\n",
       "2  011e5c5dfc5c2c92501b8b24d47509bc               68  83\n",
       "3  0152a2f305e71d26cc964f8d4411add9               64  65\n",
       "4  01674381af7edd264113d4e6ed55ecda               56  59"
      ]
     },
     "execution_count": 46,
     "metadata": {},
     "output_type": "execute_result"
    }
   ],
   "source": [
    "driver_status_distance_df.head()"
   ]
  },
  {
   "cell_type": "code",
   "execution_count": 47,
   "metadata": {},
   "outputs": [
    {
     "data": {
      "text/html": [
       "<div>\n",
       "<style scoped>\n",
       "    .dataframe tbody tr th:only-of-type {\n",
       "        vertical-align: middle;\n",
       "    }\n",
       "\n",
       "    .dataframe tbody tr th {\n",
       "        vertical-align: top;\n",
       "    }\n",
       "\n",
       "    .dataframe thead th {\n",
       "        text-align: right;\n",
       "    }\n",
       "</style>\n",
       "<table border=\"1\" class=\"dataframe\">\n",
       "  <thead>\n",
       "    <tr style=\"text-align: right;\">\n",
       "      <th></th>\n",
       "      <th>driver_id</th>\n",
       "      <th>rides</th>\n",
       "      <th>driver_lifespan</th>\n",
       "      <th>t</th>\n",
       "    </tr>\n",
       "  </thead>\n",
       "  <tbody>\n",
       "    <tr>\n",
       "      <td>0</td>\n",
       "      <td>002be0ffdc997bd5c50703158b7c2491</td>\n",
       "      <td>277</td>\n",
       "      <td>86</td>\n",
       "      <td>90</td>\n",
       "    </tr>\n",
       "    <tr>\n",
       "      <td>1</td>\n",
       "      <td>007f0389f9c7b03ef97098422f902e62</td>\n",
       "      <td>31</td>\n",
       "      <td>85</td>\n",
       "      <td>90</td>\n",
       "    </tr>\n",
       "    <tr>\n",
       "      <td>2</td>\n",
       "      <td>011e5c5dfc5c2c92501b8b24d47509bc</td>\n",
       "      <td>34</td>\n",
       "      <td>68</td>\n",
       "      <td>83</td>\n",
       "    </tr>\n",
       "    <tr>\n",
       "      <td>3</td>\n",
       "      <td>0152a2f305e71d26cc964f8d4411add9</td>\n",
       "      <td>191</td>\n",
       "      <td>64</td>\n",
       "      <td>65</td>\n",
       "    </tr>\n",
       "    <tr>\n",
       "      <td>4</td>\n",
       "      <td>01674381af7edd264113d4e6ed55ecda</td>\n",
       "      <td>375</td>\n",
       "      <td>56</td>\n",
       "      <td>59</td>\n",
       "    </tr>\n",
       "  </tbody>\n",
       "</table>\n",
       "</div>"
      ],
      "text/plain": [
       "                          driver_id  rides  driver_lifespan   t\n",
       "0  002be0ffdc997bd5c50703158b7c2491    277               86  90\n",
       "1  007f0389f9c7b03ef97098422f902e62     31               85  90\n",
       "2  011e5c5dfc5c2c92501b8b24d47509bc     34               68  83\n",
       "3  0152a2f305e71d26cc964f8d4411add9    191               64  65\n",
       "4  01674381af7edd264113d4e6ed55ecda    375               56  59"
      ]
     },
     "execution_count": 47,
     "metadata": {},
     "output_type": "execute_result"
    }
   ],
   "source": [
    "# Create a dataframe with the range of onboard to most recent ride &\n",
    "# the number of rides each driver has given \n",
    "rides_per_day = pd.merge(df,driver_status_distance_df, on = 'driver_id', how = 'inner')\n",
    "rides_per_day.head()"
   ]
  },
  {
   "cell_type": "code",
   "execution_count": 48,
   "metadata": {},
   "outputs": [
    {
     "data": {
      "text/html": [
       "<div>\n",
       "<style scoped>\n",
       "    .dataframe tbody tr th:only-of-type {\n",
       "        vertical-align: middle;\n",
       "    }\n",
       "\n",
       "    .dataframe tbody tr th {\n",
       "        vertical-align: top;\n",
       "    }\n",
       "\n",
       "    .dataframe thead th {\n",
       "        text-align: right;\n",
       "    }\n",
       "</style>\n",
       "<table border=\"1\" class=\"dataframe\">\n",
       "  <thead>\n",
       "    <tr style=\"text-align: right;\">\n",
       "      <th></th>\n",
       "      <th>driver_id</th>\n",
       "      <th>rides</th>\n",
       "      <th>driver_lifespan</th>\n",
       "      <th>t</th>\n",
       "      <th>rides_per_day</th>\n",
       "    </tr>\n",
       "  </thead>\n",
       "  <tbody>\n",
       "    <tr>\n",
       "      <td>0</td>\n",
       "      <td>002be0ffdc997bd5c50703158b7c2491</td>\n",
       "      <td>277</td>\n",
       "      <td>86</td>\n",
       "      <td>90</td>\n",
       "      <td>3.220930</td>\n",
       "    </tr>\n",
       "    <tr>\n",
       "      <td>1</td>\n",
       "      <td>007f0389f9c7b03ef97098422f902e62</td>\n",
       "      <td>31</td>\n",
       "      <td>85</td>\n",
       "      <td>90</td>\n",
       "      <td>0.364706</td>\n",
       "    </tr>\n",
       "    <tr>\n",
       "      <td>2</td>\n",
       "      <td>011e5c5dfc5c2c92501b8b24d47509bc</td>\n",
       "      <td>34</td>\n",
       "      <td>68</td>\n",
       "      <td>83</td>\n",
       "      <td>0.500000</td>\n",
       "    </tr>\n",
       "    <tr>\n",
       "      <td>3</td>\n",
       "      <td>0152a2f305e71d26cc964f8d4411add9</td>\n",
       "      <td>191</td>\n",
       "      <td>64</td>\n",
       "      <td>65</td>\n",
       "      <td>2.984375</td>\n",
       "    </tr>\n",
       "    <tr>\n",
       "      <td>4</td>\n",
       "      <td>01674381af7edd264113d4e6ed55ecda</td>\n",
       "      <td>375</td>\n",
       "      <td>56</td>\n",
       "      <td>59</td>\n",
       "      <td>6.696429</td>\n",
       "    </tr>\n",
       "  </tbody>\n",
       "</table>\n",
       "</div>"
      ],
      "text/plain": [
       "                          driver_id  rides  driver_lifespan   t  rides_per_day\n",
       "0  002be0ffdc997bd5c50703158b7c2491    277               86  90       3.220930\n",
       "1  007f0389f9c7b03ef97098422f902e62     31               85  90       0.364706\n",
       "2  011e5c5dfc5c2c92501b8b24d47509bc     34               68  83       0.500000\n",
       "3  0152a2f305e71d26cc964f8d4411add9    191               64  65       2.984375\n",
       "4  01674381af7edd264113d4e6ed55ecda    375               56  59       6.696429"
      ]
     },
     "execution_count": 48,
     "metadata": {},
     "output_type": "execute_result"
    }
   ],
   "source": [
    "# Add a new column that averages the number of rides a driver has per day \n",
    "\n",
    "rides_per_day['rides_per_day'] = (rides_per_day['rides'] / rides_per_day['driver_lifespan']) \n",
    "\n",
    "rides_per_day.head()"
   ]
  },
  {
   "cell_type": "code",
   "execution_count": 49,
   "metadata": {},
   "outputs": [
    {
     "data": {
      "image/png": "[encoded data removed]",
      "text/plain": [
       "<Figure size 432x288 with 1 Axes>"
      ]
     },
     "metadata": {
      "needs_background": "light"
     },
     "output_type": "display_data"
    }
   ],
   "source": [
    "rides_per_day\n",
    "\n",
    "hist = rides_per_day['rides'].hist(bins=50)\n"
   ]
  },
  {
   "cell_type": "code",
   "execution_count": 50,
   "metadata": {},
   "outputs": [
    {
     "name": "stderr",
     "output_type": "stream",
     "text": [
      "'c' argument looks like a single numeric RGB or RGBA sequence, which should be avoided as value-mapping will have precedence in case its length matches with 'x' & 'y'.  Please use a 2-D array with a single row if you really want to specify the same RGB or RGBA value for all points.\n"
     ]
    },
    {
     "data": {
      "image/png": "[encoded data removed]",
      "text/plain": [
       "<Figure size 432x288 with 1 Axes>"
      ]
     },
     "metadata": {
      "needs_background": "light"
     },
     "output_type": "display_data"
    }
   ],
   "source": [
    "ax = rides_per_day.plot.scatter(x='driver_lifespan',\n",
    "                       y='rides')"
   ]
  },
  {
   "cell_type": "code",
   "execution_count": 51,
   "metadata": {},
   "outputs": [
    {
     "data": {
      "text/html": [
       "<div>\n",
       "<style scoped>\n",
       "    .dataframe tbody tr th:only-of-type {\n",
       "        vertical-align: middle;\n",
       "    }\n",
       "\n",
       "    .dataframe tbody tr th {\n",
       "        vertical-align: top;\n",
       "    }\n",
       "\n",
       "    .dataframe thead th {\n",
       "        text-align: right;\n",
       "    }\n",
       "</style>\n",
       "<table border=\"1\" class=\"dataframe\">\n",
       "  <thead>\n",
       "    <tr style=\"text-align: right;\">\n",
       "      <th></th>\n",
       "      <th>driver_id</th>\n",
       "      <th>ride_id</th>\n",
       "      <th>ride_distance</th>\n",
       "      <th>ride_duration</th>\n",
       "      <th>ride_prime_time</th>\n",
       "      <th>duration_min</th>\n",
       "      <th>distance_mi</th>\n",
       "      <th>fare_duration</th>\n",
       "      <th>fare_distance</th>\n",
       "      <th>total_fare</th>\n",
       "    </tr>\n",
       "  </thead>\n",
       "  <tbody>\n",
       "    <tr>\n",
       "      <td>0</td>\n",
       "      <td>002be0ffdc997bd5c50703158b7c2491</td>\n",
       "      <td>006d61cf7446e682f7bc50b0f8a5bea5</td>\n",
       "      <td>1811</td>\n",
       "      <td>327</td>\n",
       "      <td>50</td>\n",
       "      <td>5.450000</td>\n",
       "      <td>1.125301</td>\n",
       "      <td>1.199000</td>\n",
       "      <td>1.294096</td>\n",
       "      <td>7.489644</td>\n",
       "    </tr>\n",
       "    <tr>\n",
       "      <td>1</td>\n",
       "      <td>002be0ffdc997bd5c50703158b7c2491</td>\n",
       "      <td>01b522c5c3a756fbdb12e95e87507eda</td>\n",
       "      <td>3362</td>\n",
       "      <td>809</td>\n",
       "      <td>0</td>\n",
       "      <td>13.483333</td>\n",
       "      <td>2.089046</td>\n",
       "      <td>2.966333</td>\n",
       "      <td>2.402403</td>\n",
       "      <td>9.118736</td>\n",
       "    </tr>\n",
       "    <tr>\n",
       "      <td>2</td>\n",
       "      <td>002be0ffdc997bd5c50703158b7c2491</td>\n",
       "      <td>029227c4c2971ce69ff2274dc798ef43</td>\n",
       "      <td>3282</td>\n",
       "      <td>572</td>\n",
       "      <td>0</td>\n",
       "      <td>9.533333</td>\n",
       "      <td>2.039336</td>\n",
       "      <td>2.097333</td>\n",
       "      <td>2.345237</td>\n",
       "      <td>8.192570</td>\n",
       "    </tr>\n",
       "    <tr>\n",
       "      <td>3</td>\n",
       "      <td>002be0ffdc997bd5c50703158b7c2491</td>\n",
       "      <td>034e861343a63ac3c18a9ceb1ce0ac69</td>\n",
       "      <td>65283</td>\n",
       "      <td>3338</td>\n",
       "      <td>25</td>\n",
       "      <td>55.633333</td>\n",
       "      <td>40.564898</td>\n",
       "      <td>12.239333</td>\n",
       "      <td>46.649632</td>\n",
       "      <td>77.361207</td>\n",
       "    </tr>\n",
       "    <tr>\n",
       "      <td>4</td>\n",
       "      <td>002be0ffdc997bd5c50703158b7c2491</td>\n",
       "      <td>034f2e614a2f9fc7f1c2f77647d1b981</td>\n",
       "      <td>4115</td>\n",
       "      <td>823</td>\n",
       "      <td>100</td>\n",
       "      <td>13.716667</td>\n",
       "      <td>2.556938</td>\n",
       "      <td>3.017667</td>\n",
       "      <td>2.940478</td>\n",
       "      <td>15.666290</td>\n",
       "    </tr>\n",
       "  </tbody>\n",
       "</table>\n",
       "</div>"
      ],
      "text/plain": [
       "                          driver_id                           ride_id  \\\n",
       "0  002be0ffdc997bd5c50703158b7c2491  006d61cf7446e682f7bc50b0f8a5bea5   \n",
       "1  002be0ffdc997bd5c50703158b7c2491  01b522c5c3a756fbdb12e95e87507eda   \n",
       "2  002be0ffdc997bd5c50703158b7c2491  029227c4c2971ce69ff2274dc798ef43   \n",
       "3  002be0ffdc997bd5c50703158b7c2491  034e861343a63ac3c18a9ceb1ce0ac69   \n",
       "4  002be0ffdc997bd5c50703158b7c2491  034f2e614a2f9fc7f1c2f77647d1b981   \n",
       "\n",
       "   ride_distance  ride_duration  ride_prime_time  duration_min  distance_mi  \\\n",
       "0           1811            327               50      5.450000     1.125301   \n",
       "1           3362            809                0     13.483333     2.089046   \n",
       "2           3282            572                0      9.533333     2.039336   \n",
       "3          65283           3338               25     55.633333    40.564898   \n",
       "4           4115            823              100     13.716667     2.556938   \n",
       "\n",
       "   fare_duration  fare_distance  total_fare  \n",
       "0       1.199000       1.294096    7.489644  \n",
       "1       2.966333       2.402403    9.118736  \n",
       "2       2.097333       2.345237    8.192570  \n",
       "3      12.239333      46.649632   77.361207  \n",
       "4       3.017667       2.940478   15.666290  "
      ]
     },
     "execution_count": 51,
     "metadata": {},
     "output_type": "execute_result"
    }
   ],
   "source": [
    "rider.head()"
   ]
  },
  {
   "cell_type": "code",
   "execution_count": 52,
   "metadata": {},
   "outputs": [
    {
     "data": {
      "text/html": [
       "<div>\n",
       "<style scoped>\n",
       "    .dataframe tbody tr th:only-of-type {\n",
       "        vertical-align: middle;\n",
       "    }\n",
       "\n",
       "    .dataframe tbody tr th {\n",
       "        vertical-align: top;\n",
       "    }\n",
       "\n",
       "    .dataframe thead th {\n",
       "        text-align: right;\n",
       "    }\n",
       "</style>\n",
       "<table border=\"1\" class=\"dataframe\">\n",
       "  <thead>\n",
       "    <tr style=\"text-align: right;\">\n",
       "      <th></th>\n",
       "      <th>driver_id</th>\n",
       "      <th>ride_prime_time_sum</th>\n",
       "      <th>duration_min_sum</th>\n",
       "      <th>distance_mi_sum</th>\n",
       "      <th>total_fare</th>\n",
       "    </tr>\n",
       "  </thead>\n",
       "  <tbody>\n",
       "    <tr>\n",
       "      <td>0</td>\n",
       "      <td>002be0ffdc997bd5c50703158b7c2491</td>\n",
       "      <td>5375</td>\n",
       "      <td>3687.300000</td>\n",
       "      <td>1081.362133</td>\n",
       "      <td>3453.419687</td>\n",
       "    </tr>\n",
       "    <tr>\n",
       "      <td>1</td>\n",
       "      <td>007f0389f9c7b03ef97098422f902e62</td>\n",
       "      <td>625</td>\n",
       "      <td>341.616667</td>\n",
       "      <td>73.030237</td>\n",
       "      <td>308.994506</td>\n",
       "    </tr>\n",
       "    <tr>\n",
       "      <td>2</td>\n",
       "      <td>011e5c5dfc5c2c92501b8b24d47509bc</td>\n",
       "      <td>675</td>\n",
       "      <td>486.750000</td>\n",
       "      <td>167.554285</td>\n",
       "      <td>468.927442</td>\n",
       "    </tr>\n",
       "    <tr>\n",
       "      <td>3</td>\n",
       "      <td>0152a2f305e71d26cc964f8d4411add9</td>\n",
       "      <td>2050</td>\n",
       "      <td>2908.683333</td>\n",
       "      <td>914.183777</td>\n",
       "      <td>2569.866550</td>\n",
       "    </tr>\n",
       "    <tr>\n",
       "      <td>4</td>\n",
       "      <td>01674381af7edd264113d4e6ed55ecda</td>\n",
       "      <td>4700</td>\n",
       "      <td>5957.383333</td>\n",
       "      <td>1940.938672</td>\n",
       "      <td>5287.086873</td>\n",
       "    </tr>\n",
       "  </tbody>\n",
       "</table>\n",
       "</div>"
      ],
      "text/plain": [
       "                          driver_id  ride_prime_time_sum  duration_min_sum  \\\n",
       "0  002be0ffdc997bd5c50703158b7c2491                 5375       3687.300000   \n",
       "1  007f0389f9c7b03ef97098422f902e62                  625        341.616667   \n",
       "2  011e5c5dfc5c2c92501b8b24d47509bc                  675        486.750000   \n",
       "3  0152a2f305e71d26cc964f8d4411add9                 2050       2908.683333   \n",
       "4  01674381af7edd264113d4e6ed55ecda                 4700       5957.383333   \n",
       "\n",
       "   distance_mi_sum   total_fare  \n",
       "0      1081.362133  3453.419687  \n",
       "1        73.030237   308.994506  \n",
       "2       167.554285   468.927442  \n",
       "3       914.183777  2569.866550  \n",
       "4      1940.938672  5287.086873  "
      ]
     },
     "execution_count": 52,
     "metadata": {},
     "output_type": "execute_result"
    }
   ],
   "source": [
    "# Drop unneccessary columns\n",
    "drive_sum = rider.drop(['ride_distance', 'ride_duration', 'fare_duration', 'fare_distance'], axis = 1)\n",
    "# Group the riders by the sum \n",
    "drive_sum = drive_sum.groupby(['driver_id'],as_index=False).sum()\n",
    "\n",
    "# Rename the columns to let people know that it's the sum of all rides \n",
    "drive_sum = drive_sum.rename(columns={\"ride_prime_time\": \"ride_prime_time_sum\", \"duration_min\": \"duration_min_sum\", \"distance_mi\":\"distance_mi_sum\", \"fare\":\"fare_sum\"})\n",
    "drive_sum.head()"
   ]
  },
  {
   "cell_type": "code",
   "execution_count": 53,
   "metadata": {},
   "outputs": [
    {
     "data": {
      "text/html": [
       "<div>\n",
       "<style scoped>\n",
       "    .dataframe tbody tr th:only-of-type {\n",
       "        vertical-align: middle;\n",
       "    }\n",
       "\n",
       "    .dataframe tbody tr th {\n",
       "        vertical-align: top;\n",
       "    }\n",
       "\n",
       "    .dataframe thead th {\n",
       "        text-align: right;\n",
       "    }\n",
       "</style>\n",
       "<table border=\"1\" class=\"dataframe\">\n",
       "  <thead>\n",
       "    <tr style=\"text-align: right;\">\n",
       "      <th></th>\n",
       "      <th>driver_id</th>\n",
       "      <th>ride_prime_time_sum</th>\n",
       "      <th>duration_min_sum</th>\n",
       "      <th>distance_mi_sum</th>\n",
       "      <th>total_fare</th>\n",
       "      <th>rides</th>\n",
       "      <th>driver_lifespan</th>\n",
       "      <th>t</th>\n",
       "      <th>rides_per_day</th>\n",
       "    </tr>\n",
       "  </thead>\n",
       "  <tbody>\n",
       "    <tr>\n",
       "      <td>0</td>\n",
       "      <td>002be0ffdc997bd5c50703158b7c2491</td>\n",
       "      <td>5375</td>\n",
       "      <td>3687.300000</td>\n",
       "      <td>1081.362133</td>\n",
       "      <td>3453.419687</td>\n",
       "      <td>277</td>\n",
       "      <td>86</td>\n",
       "      <td>90</td>\n",
       "      <td>3.220930</td>\n",
       "    </tr>\n",
       "    <tr>\n",
       "      <td>1</td>\n",
       "      <td>007f0389f9c7b03ef97098422f902e62</td>\n",
       "      <td>625</td>\n",
       "      <td>341.616667</td>\n",
       "      <td>73.030237</td>\n",
       "      <td>308.994506</td>\n",
       "      <td>31</td>\n",
       "      <td>85</td>\n",
       "      <td>90</td>\n",
       "      <td>0.364706</td>\n",
       "    </tr>\n",
       "    <tr>\n",
       "      <td>2</td>\n",
       "      <td>011e5c5dfc5c2c92501b8b24d47509bc</td>\n",
       "      <td>675</td>\n",
       "      <td>486.750000</td>\n",
       "      <td>167.554285</td>\n",
       "      <td>468.927442</td>\n",
       "      <td>34</td>\n",
       "      <td>68</td>\n",
       "      <td>83</td>\n",
       "      <td>0.500000</td>\n",
       "    </tr>\n",
       "    <tr>\n",
       "      <td>3</td>\n",
       "      <td>0152a2f305e71d26cc964f8d4411add9</td>\n",
       "      <td>2050</td>\n",
       "      <td>2908.683333</td>\n",
       "      <td>914.183777</td>\n",
       "      <td>2569.866550</td>\n",
       "      <td>191</td>\n",
       "      <td>64</td>\n",
       "      <td>65</td>\n",
       "      <td>2.984375</td>\n",
       "    </tr>\n",
       "    <tr>\n",
       "      <td>4</td>\n",
       "      <td>01674381af7edd264113d4e6ed55ecda</td>\n",
       "      <td>4700</td>\n",
       "      <td>5957.383333</td>\n",
       "      <td>1940.938672</td>\n",
       "      <td>5287.086873</td>\n",
       "      <td>375</td>\n",
       "      <td>56</td>\n",
       "      <td>59</td>\n",
       "      <td>6.696429</td>\n",
       "    </tr>\n",
       "  </tbody>\n",
       "</table>\n",
       "</div>"
      ],
      "text/plain": [
       "                          driver_id  ride_prime_time_sum  duration_min_sum  \\\n",
       "0  002be0ffdc997bd5c50703158b7c2491                 5375       3687.300000   \n",
       "1  007f0389f9c7b03ef97098422f902e62                  625        341.616667   \n",
       "2  011e5c5dfc5c2c92501b8b24d47509bc                  675        486.750000   \n",
       "3  0152a2f305e71d26cc964f8d4411add9                 2050       2908.683333   \n",
       "4  01674381af7edd264113d4e6ed55ecda                 4700       5957.383333   \n",
       "\n",
       "   distance_mi_sum   total_fare  rides  driver_lifespan   t  rides_per_day  \n",
       "0      1081.362133  3453.419687    277               86  90       3.220930  \n",
       "1        73.030237   308.994506     31               85  90       0.364706  \n",
       "2       167.554285   468.927442     34               68  83       0.500000  \n",
       "3       914.183777  2569.866550    191               64  65       2.984375  \n",
       "4      1940.938672  5287.086873    375               56  59       6.696429  "
      ]
     },
     "execution_count": 53,
     "metadata": {},
     "output_type": "execute_result"
    }
   ],
   "source": [
    "driver_sum_total_fare = pd.merge(drive_sum,rides_per_day, on = 'driver_id', how = 'inner')\n",
    "driver_sum_total_fare.head()\n",
    "#driver_sum_total_fare[driver_sum_total_fare['driver_lifespan'] == 0]"
   ]
  },
  {
   "cell_type": "code",
   "execution_count": 54,
   "metadata": {},
   "outputs": [
    {
     "data": {
      "text/html": [
       "<div>\n",
       "<style scoped>\n",
       "    .dataframe tbody tr th:only-of-type {\n",
       "        vertical-align: middle;\n",
       "    }\n",
       "\n",
       "    .dataframe tbody tr th {\n",
       "        vertical-align: top;\n",
       "    }\n",
       "\n",
       "    .dataframe thead th {\n",
       "        text-align: right;\n",
       "    }\n",
       "</style>\n",
       "<table border=\"1\" class=\"dataframe\">\n",
       "  <thead>\n",
       "    <tr style=\"text-align: right;\">\n",
       "      <th></th>\n",
       "      <th>driver_id</th>\n",
       "      <th>driver_onboard_date</th>\n",
       "      <th>ride_id</th>\n",
       "      <th>requested_at</th>\n",
       "      <th>accepted_at</th>\n",
       "      <th>arrived_at</th>\n",
       "      <th>picked_up_at</th>\n",
       "      <th>dropped_off_at</th>\n",
       "    </tr>\n",
       "  </thead>\n",
       "  <tbody>\n",
       "    <tr>\n",
       "      <td>0</td>\n",
       "      <td>d967f5296732fa55266b5f1314e7447b</td>\n",
       "      <td>2016-04-09 00:00:00</td>\n",
       "      <td>00003037a262d9ee40e61b5c0718f7f0</td>\n",
       "      <td>2016-06-13 09:39:19</td>\n",
       "      <td>2016-06-13 09:39:51</td>\n",
       "      <td>2016-06-13 09:44:31</td>\n",
       "      <td>2016-06-13 09:44:33</td>\n",
       "      <td>2016-06-13 10:03:05</td>\n",
       "    </tr>\n",
       "    <tr>\n",
       "      <td>1</td>\n",
       "      <td>0656192a402808805282e60761bda088</td>\n",
       "      <td>2016-04-30 00:00:00</td>\n",
       "      <td>00005eae40882760d675da5effb89ae3</td>\n",
       "      <td>2016-05-14 05:23:21</td>\n",
       "      <td>2016-05-14 05:23:25</td>\n",
       "      <td>2016-05-14 05:26:17</td>\n",
       "      <td>2016-05-14 05:26:18</td>\n",
       "      <td>2016-05-14 05:34:17</td>\n",
       "    </tr>\n",
       "    <tr>\n",
       "      <td>2</td>\n",
       "      <td>c468a648519cd42da75e6aa9dadf733e</td>\n",
       "      <td>2016-04-01 00:00:00</td>\n",
       "      <td>000061d42cf29f73b591041d9a1b2973</td>\n",
       "      <td>2016-05-16 15:43:09</td>\n",
       "      <td>2016-05-16 15:43:14</td>\n",
       "      <td>2016-05-16 15:47:29</td>\n",
       "      <td>2016-05-16 15:47:32</td>\n",
       "      <td>2016-05-16 15:54:18</td>\n",
       "    </tr>\n",
       "    <tr>\n",
       "      <td>3</td>\n",
       "      <td>689bdf87fb2de49f98bf4946cfaa5068</td>\n",
       "      <td>2016-04-04 00:00:00</td>\n",
       "      <td>00006efeb0d5e3ccad7d921ddeee9900</td>\n",
       "      <td>2016-05-11 19:29:36</td>\n",
       "      <td>2016-05-11 19:29:43</td>\n",
       "      <td>2016-05-11 19:35:11</td>\n",
       "      <td>2016-05-11 19:35:15</td>\n",
       "      <td>2016-05-11 19:40:47</td>\n",
       "    </tr>\n",
       "    <tr>\n",
       "      <td>4</td>\n",
       "      <td>eece82fe623b4bb335a9b9e20eb0ca54</td>\n",
       "      <td>2016-04-28 00:00:00</td>\n",
       "      <td>00012759befd5d34a0609800f6a1ee59</td>\n",
       "      <td>2016-05-31 15:44:56</td>\n",
       "      <td>2016-05-31 15:45:05</td>\n",
       "      <td>2016-05-31 15:46:22</td>\n",
       "      <td>2016-05-31 15:46:23</td>\n",
       "      <td>2016-05-31 15:59:26</td>\n",
       "    </tr>\n",
       "    <tr>\n",
       "      <td>...</td>\n",
       "      <td>...</td>\n",
       "      <td>...</td>\n",
       "      <td>...</td>\n",
       "      <td>...</td>\n",
       "      <td>...</td>\n",
       "      <td>...</td>\n",
       "      <td>...</td>\n",
       "      <td>...</td>\n",
       "    </tr>\n",
       "    <tr>\n",
       "      <td>184204</td>\n",
       "      <td>5ccc0e6dc9c7475caf785cdce7b8eb7a</td>\n",
       "      <td>2016-04-05 00:00:00</td>\n",
       "      <td>fffe942c46a5b2039fa01ba4c3d390e8</td>\n",
       "      <td>2016-05-17 19:56:09</td>\n",
       "      <td>2016-05-17 19:56:13</td>\n",
       "      <td>2016-05-17 19:58:50</td>\n",
       "      <td>2016-05-17 19:58:52</td>\n",
       "      <td>2016-05-17 20:11:11</td>\n",
       "    </tr>\n",
       "    <tr>\n",
       "      <td>184205</td>\n",
       "      <td>fb903879c556260ae2604ae0c45cb92a</td>\n",
       "      <td>2016-05-02 00:00:00</td>\n",
       "      <td>fffebb46effb90ce758fdff68b569355</td>\n",
       "      <td>2016-06-16 09:57:07</td>\n",
       "      <td>2016-06-16 09:57:12</td>\n",
       "      <td>2016-06-16 09:58:54</td>\n",
       "      <td>2016-06-16 09:58:57</td>\n",
       "      <td>2016-06-16 10:15:08</td>\n",
       "    </tr>\n",
       "    <tr>\n",
       "      <td>184206</td>\n",
       "      <td>3a1d9fb7a8cfd55ae38d1b4fb1520d1f</td>\n",
       "      <td>2016-05-02 00:00:00</td>\n",
       "      <td>ffff9c38173ddfa17bdd115c463e329f</td>\n",
       "      <td>2016-06-03 18:34:00</td>\n",
       "      <td>2016-06-03 18:34:07</td>\n",
       "      <td>2016-06-03 18:35:20</td>\n",
       "      <td>2016-06-03 18:35:22</td>\n",
       "      <td>2016-06-03 18:50:08</td>\n",
       "    </tr>\n",
       "    <tr>\n",
       "      <td>184207</td>\n",
       "      <td>36de1e085fbd8f354dd3192571cece32</td>\n",
       "      <td>2016-04-19 00:00:00</td>\n",
       "      <td>ffff9e431f7fade54b2550ac19ab6e64</td>\n",
       "      <td>2016-06-12 04:00:10</td>\n",
       "      <td>2016-06-12 04:00:10</td>\n",
       "      <td>2016-06-12 04:04:35</td>\n",
       "      <td>2016-06-12 04:04:37</td>\n",
       "      <td>2016-06-12 04:15:42</td>\n",
       "    </tr>\n",
       "    <tr>\n",
       "      <td>184208</td>\n",
       "      <td>f193cf4d5de76b20688d759ea7c66312</td>\n",
       "      <td>2016-05-03 00:00:00</td>\n",
       "      <td>ffffccd77f47a3de26dfed9a851464b4</td>\n",
       "      <td>2016-05-18 08:44:13</td>\n",
       "      <td>2016-05-18 08:44:21</td>\n",
       "      <td>2016-05-18 08:44:36</td>\n",
       "      <td>2016-05-18 08:44:42</td>\n",
       "      <td>2016-05-18 09:11:37</td>\n",
       "    </tr>\n",
       "  </tbody>\n",
       "</table>\n",
       "<p>184209 rows × 8 columns</p>\n",
       "</div>"
      ],
      "text/plain": [
       "                               driver_id  driver_onboard_date  \\\n",
       "0       d967f5296732fa55266b5f1314e7447b  2016-04-09 00:00:00   \n",
       "1       0656192a402808805282e60761bda088  2016-04-30 00:00:00   \n",
       "2       c468a648519cd42da75e6aa9dadf733e  2016-04-01 00:00:00   \n",
       "3       689bdf87fb2de49f98bf4946cfaa5068  2016-04-04 00:00:00   \n",
       "4       eece82fe623b4bb335a9b9e20eb0ca54  2016-04-28 00:00:00   \n",
       "...                                  ...                  ...   \n",
       "184204  5ccc0e6dc9c7475caf785cdce7b8eb7a  2016-04-05 00:00:00   \n",
       "184205  fb903879c556260ae2604ae0c45cb92a  2016-05-02 00:00:00   \n",
       "184206  3a1d9fb7a8cfd55ae38d1b4fb1520d1f  2016-05-02 00:00:00   \n",
       "184207  36de1e085fbd8f354dd3192571cece32  2016-04-19 00:00:00   \n",
       "184208  f193cf4d5de76b20688d759ea7c66312  2016-05-03 00:00:00   \n",
       "\n",
       "                                 ride_id         requested_at  \\\n",
       "0       00003037a262d9ee40e61b5c0718f7f0  2016-06-13 09:39:19   \n",
       "1       00005eae40882760d675da5effb89ae3  2016-05-14 05:23:21   \n",
       "2       000061d42cf29f73b591041d9a1b2973  2016-05-16 15:43:09   \n",
       "3       00006efeb0d5e3ccad7d921ddeee9900  2016-05-11 19:29:36   \n",
       "4       00012759befd5d34a0609800f6a1ee59  2016-05-31 15:44:56   \n",
       "...                                  ...                  ...   \n",
       "184204  fffe942c46a5b2039fa01ba4c3d390e8  2016-05-17 19:56:09   \n",
       "184205  fffebb46effb90ce758fdff68b569355  2016-06-16 09:57:07   \n",
       "184206  ffff9c38173ddfa17bdd115c463e329f  2016-06-03 18:34:00   \n",
       "184207  ffff9e431f7fade54b2550ac19ab6e64  2016-06-12 04:00:10   \n",
       "184208  ffffccd77f47a3de26dfed9a851464b4  2016-05-18 08:44:13   \n",
       "\n",
       "                accepted_at           arrived_at        picked_up_at  \\\n",
       "0       2016-06-13 09:39:51  2016-06-13 09:44:31 2016-06-13 09:44:33   \n",
       "1       2016-05-14 05:23:25  2016-05-14 05:26:17 2016-05-14 05:26:18   \n",
       "2       2016-05-16 15:43:14  2016-05-16 15:47:29 2016-05-16 15:47:32   \n",
       "3       2016-05-11 19:29:43  2016-05-11 19:35:11 2016-05-11 19:35:15   \n",
       "4       2016-05-31 15:45:05  2016-05-31 15:46:22 2016-05-31 15:46:23   \n",
       "...                     ...                  ...                 ...   \n",
       "184204  2016-05-17 19:56:13  2016-05-17 19:58:50 2016-05-17 19:58:52   \n",
       "184205  2016-06-16 09:57:12  2016-06-16 09:58:54 2016-06-16 09:58:57   \n",
       "184206  2016-06-03 18:34:07  2016-06-03 18:35:20 2016-06-03 18:35:22   \n",
       "184207  2016-06-12 04:00:10  2016-06-12 04:04:35 2016-06-12 04:04:37   \n",
       "184208  2016-05-18 08:44:21  2016-05-18 08:44:36 2016-05-18 08:44:42   \n",
       "\n",
       "             dropped_off_at  \n",
       "0       2016-06-13 10:03:05  \n",
       "1       2016-05-14 05:34:17  \n",
       "2       2016-05-16 15:54:18  \n",
       "3       2016-05-11 19:40:47  \n",
       "4       2016-05-31 15:59:26  \n",
       "...                     ...  \n",
       "184204  2016-05-17 20:11:11  \n",
       "184205  2016-06-16 10:15:08  \n",
       "184206  2016-06-03 18:50:08  \n",
       "184207  2016-06-12 04:15:42  \n",
       "184208  2016-05-18 09:11:37  \n",
       "\n",
       "[184209 rows x 8 columns]"
      ]
     },
     "execution_count": 54,
     "metadata": {},
     "output_type": "execute_result"
    }
   ],
   "source": [
    "timestamps_driver"
   ]
  },
  {
   "cell_type": "code",
   "execution_count": 55,
   "metadata": {},
   "outputs": [
    {
     "name": "stderr",
     "output_type": "stream",
     "text": [
      "'c' argument looks like a single numeric RGB or RGBA sequence, which should be avoided as value-mapping will have precedence in case its length matches with 'x' & 'y'.  Please use a 2-D array with a single row if you really want to specify the same RGB or RGBA value for all points.\n"
     ]
    },
    {
     "data": {
      "image/png": "[encoded data removed]",
      "text/plain": [
       "<Figure size 432x288 with 1 Axes>"
      ]
     },
     "metadata": {
      "needs_background": "light"
     },
     "output_type": "display_data"
    }
   ],
   "source": [
    "ax2 = driver_sum_total_fare.plot.scatter(x='driver_lifespan',\n",
    "                       y='total_fare')"
   ]
  },
  {
   "cell_type": "markdown",
   "metadata": {},
   "source": [
    "# Linear Regression"
   ]
  },
  {
   "cell_type": "code",
   "execution_count": 56,
   "metadata": {},
   "outputs": [
    {
     "data": {
      "text/plain": [
       "0.5303989111650756"
      ]
     },
     "execution_count": 56,
     "metadata": {},
     "output_type": "execute_result"
    }
   ],
   "source": [
    "#all of these is to check if any correlation\n",
    "driver_sum_total_fare['driver_lifespan'].corr(driver_sum_total_fare['rides'])"
   ]
  },
  {
   "cell_type": "code",
   "execution_count": 57,
   "metadata": {},
   "outputs": [
    {
     "data": {
      "text/plain": [
       "0.5249786972279635"
      ]
     },
     "execution_count": 57,
     "metadata": {},
     "output_type": "execute_result"
    }
   ],
   "source": [
    "driver_sum_total_fare['driver_lifespan'].corr(driver_sum_total_fare['total_fare'])"
   ]
  },
  {
   "cell_type": "code",
   "execution_count": 58,
   "metadata": {},
   "outputs": [
    {
     "data": {
      "text/plain": [
       "0.43281700030220704"
      ]
     },
     "execution_count": 58,
     "metadata": {},
     "output_type": "execute_result"
    }
   ],
   "source": [
    "driver_sum_total_fare['driver_lifespan'].corr(driver_sum_total_fare['ride_prime_time_sum'])"
   ]
  },
  {
   "cell_type": "code",
   "execution_count": 59,
   "metadata": {},
   "outputs": [
    {
     "data": {
      "text/plain": [
       "0.5250489607629846"
      ]
     },
     "execution_count": 59,
     "metadata": {},
     "output_type": "execute_result"
    }
   ],
   "source": [
    "driver_sum_total_fare['driver_lifespan'].corr(driver_sum_total_fare['duration_min_sum'])"
   ]
  },
  {
   "cell_type": "code",
   "execution_count": 60,
   "metadata": {},
   "outputs": [
    {
     "data": {
      "text/plain": [
       "0.5197765285398993"
      ]
     },
     "execution_count": 60,
     "metadata": {},
     "output_type": "execute_result"
    }
   ],
   "source": [
    "driver_sum_total_fare['driver_lifespan'].corr(driver_sum_total_fare['distance_mi_sum'])"
   ]
  },
  {
   "cell_type": "code",
   "execution_count": 61,
   "metadata": {},
   "outputs": [
    {
     "data": {
      "text/plain": [
       "-0.00873069204623196"
      ]
     },
     "execution_count": 61,
     "metadata": {},
     "output_type": "execute_result"
    }
   ],
   "source": [
    "#Do not vary so STD = 0 DOES NOT CORRELATE\n",
    "driver_sum_total_fare['driver_lifespan'].corr(driver_sum_total_fare['rides_per_day'])"
   ]
  },
  {
   "cell_type": "code",
   "execution_count": 62,
   "metadata": {},
   "outputs": [],
   "source": [
    "#Creating the feature dataframe\n",
    "X = pd.DataFrame(np.c_[driver_sum_total_fare['rides'],driver_sum_total_fare['total_fare'],driver_sum_total_fare['ride_prime_time_sum'],driver_sum_total_fare['duration_min_sum'],driver_sum_total_fare['distance_mi_sum']], columns = ['rides','total_fare','ride_prime_time_sum','duration_min_sum','distance_mi_sum'])"
   ]
  },
  {
   "cell_type": "code",
   "execution_count": null,
   "metadata": {},
   "outputs": [],
   "source": []
  },
  {
   "cell_type": "code",
   "execution_count": 63,
   "metadata": {},
   "outputs": [],
   "source": [
    "#Using the driver_lifespan as label\n",
    "y = driver_sum_total_fare['driver_lifespan']"
   ]
  },
  {
   "cell_type": "code",
   "execution_count": 64,
   "metadata": {},
   "outputs": [],
   "source": [
    "#Creating training and testing sets\n",
    "X_train, X_test, y_train, y_test = train_test_split(X, y, test_size = 0.2, random_state=9)"
   ]
  },
  {
   "cell_type": "code",
   "execution_count": 65,
   "metadata": {},
   "outputs": [],
   "source": [
    "#running linear reg\n",
    "\n",
    "lin_reg_mod = LinearRegression()"
   ]
  },
  {
   "cell_type": "code",
   "execution_count": 66,
   "metadata": {},
   "outputs": [
    {
     "data": {
      "text/plain": [
       "LinearRegression(copy_X=True, fit_intercept=True, n_jobs=None, normalize=False)"
      ]
     },
     "execution_count": 66,
     "metadata": {},
     "output_type": "execute_result"
    }
   ],
   "source": [
    "lin_reg_mod.fit(X_train, y_train)"
   ]
  },
  {
   "cell_type": "code",
   "execution_count": 67,
   "metadata": {},
   "outputs": [],
   "source": [
    "pred = lin_reg_mod.predict(X_test)"
   ]
  },
  {
   "cell_type": "code",
   "execution_count": null,
   "metadata": {},
   "outputs": [],
   "source": [
    "test_set_rmse = (np.sqrt(mean_squared_error(y_test, pred)))\n",
    "\n",
    "test_set_r2 = r2_score(y_test, pred)"
   ]
  },
  {
   "cell_type": "code",
   "execution_count": null,
   "metadata": {},
   "outputs": [
    {
     "name": "stdout",
     "output_type": "stream",
     "text": [
      "17.186105986389286\n",
      "0.3318131488029906\n"
     ]
    }
   ],
   "source": [
    "#printing RMSE, accuracy\n",
    "print(test_set_rmse)\n",
    "print(test_set_r2)\n"
   ]
  },
  {
   "cell_type": "markdown",
   "metadata": {},
   "source": [
    "# Log Regression"
   ]
  },
  {
   "cell_type": "code",
   "execution_count": 1269,
   "metadata": {},
   "outputs": [],
   "source": [
    "from sklearn.model_selection import train_test_split\n",
    "X_train, X_test, y_train, y_test = train_test_split(X,y, test_size=0.30, \n",
    "                                                    random_state=101)\n",
    "#Creating training and testing "
   ]
  },
  {
   "cell_type": "code",
   "execution_count": 1270,
   "metadata": {},
   "outputs": [],
   "source": [
    "# train['labels'] = labels\n",
    "# le_rides = LabelEncoder()\n",
    "# le_fare = LabelEncoder()\n",
    "# le_prime = LabelEncoder()\n",
    "# le_dura = LabelEncoder()\n",
    "# le_dist = LabelEncoder()\n",
    "# le_life = LabelEncoder()\n",
    "# le_label = LabelEncoder()\n",
    "# train['rides'] = le_rides.fit_transform(train['rides'])\n",
    "# train['total_fare'] = le_fare.fit_transform(train['total_fare'])\n",
    "# train['ride_prime_time_sum'] = le_prime.fit_transform(train['ride_prime_time_sum'])\n",
    "# train['duration_min_sum'] = le_dura.fit_transform(train['duration_min_sum'])\n",
    "# train['distance_mi_sum'] = le_dist.fit_transform(train['distance_mi_sum'])\n",
    "# train['driver_lifespan'] = le_life.fit_transform(train['driver_lifespan'])\n",
    "# train['driver_id'] = le_label.fit_transform(train['driver_id'])\n",
    "\n",
    "\n",
    "# test['rides'] = le_rides.fit_transform(train['rides'])\n",
    "# test['total_fare'] = le_fare.fit_transform(train['total_fare'])\n",
    "# test['ride_prime_time_sum'] = le_prime.fit_transform(train['ride_prime_time_sum'])\n",
    "# test['duration_min_sum'] = le_dura.fit_transform(train['duration_min_sum'])\n",
    "# test['distance_mi_sum'] = le_dist.fit_transform(train['distance_mi_sum'])\n",
    "# test['driver_lifespan'] = le_life.fit_transform(train['driver_lifespan'])\n"
   ]
  },
  {
   "cell_type": "code",
   "execution_count": 1271,
   "metadata": {},
   "outputs": [
    {
     "data": {
      "text/plain": [
       "{2,\n",
       " 8,\n",
       " 9,\n",
       " 12,\n",
       " 13,\n",
       " 14,\n",
       " 16,\n",
       " 18,\n",
       " 20,\n",
       " 22,\n",
       " 24,\n",
       " 25,\n",
       " 29,\n",
       " 30,\n",
       " 31,\n",
       " 33,\n",
       " 41,\n",
       " 42,\n",
       " 44,\n",
       " 47,\n",
       " 51,\n",
       " 55,\n",
       " 58,\n",
       " 60,\n",
       " 62,\n",
       " 63,\n",
       " 64,\n",
       " 68,\n",
       " 75,\n",
       " 77,\n",
       " 80,\n",
       " 84,\n",
       " 85}"
      ]
     },
     "execution_count": 1271,
     "metadata": {},
     "output_type": "execute_result"
    }
   ],
   "source": [
    "#Making log model\n",
    "from sklearn.linear_model import LogisticRegression\n",
    "logmodel = LogisticRegression(solver='liblinear', multi_class='ovr')\n",
    "logmodel.fit(X_train,y_train)\n",
    "predictions = logmodel.predict(X_test)\n",
    "#some labels in y_true don't appear in predictions = possibly bad accuracy b/c they become 0\n",
    "set(y_test) - set(predictions)"
   ]
  },
  {
   "cell_type": "code",
   "execution_count": 1272,
   "metadata": {},
   "outputs": [
    {
     "data": {
      "text/plain": [
       "0.025678606904660548"
      ]
     },
     "execution_count": 1272,
     "metadata": {},
     "output_type": "execute_result"
    }
   ],
   "source": [
    "from sklearn.metrics import f1_score\n",
    "f1_score(y_test,predictions, average='weighted', labels=np.unique(predictions))"
   ]
  },
  {
   "cell_type": "code",
   "execution_count": 1273,
   "metadata": {},
   "outputs": [],
   "source": [
    "from sklearn.metrics import confusion_matrix\n",
    "tn, fp, fn, tp = confusion_matrix(y_test, predictions, labels=[0,1]).ravel()"
   ]
  },
  {
   "cell_type": "code",
   "execution_count": null,
   "metadata": {},
   "outputs": [],
   "source": []
  },
  {
   "cell_type": "markdown",
   "metadata": {},
   "source": [
    "# Polynomial Regression"
   ]
  },
  {
   "cell_type": "code",
   "execution_count": 1274,
   "metadata": {},
   "outputs": [],
   "source": [
    "X = pd.DataFrame(np.c_[driver_sum_total_fare['rides']], columns = ['rides'])\n",
    "y = driver_sum_total_fare['driver_lifespan']\n",
    "X_train, X_test, y_train, y_test = train_test_split(X, y, test_size = 0.2, random_state=9)"
   ]
  },
  {
   "cell_type": "code",
   "execution_count": null,
   "metadata": {},
   "outputs": [],
   "source": []
  },
  {
   "cell_type": "code",
   "execution_count": 1275,
   "metadata": {},
   "outputs": [
    {
     "data": {
      "text/plain": [
       "LinearRegression(copy_X=True, fit_intercept=True, n_jobs=None, normalize=False)"
      ]
     },
     "execution_count": 1275,
     "metadata": {},
     "output_type": "execute_result"
    }
   ],
   "source": [
    "lin = LinearRegression() \n",
    "  \n",
    "lin.fit(X, y) "
   ]
  },
  {
   "cell_type": "code",
   "execution_count": 1276,
   "metadata": {},
   "outputs": [],
   "source": [
    "poly = PolynomialFeatures(degree = 5) \n",
    "X_poly = poly.fit_transform(X) "
   ]
  },
  {
   "cell_type": "code",
   "execution_count": 1277,
   "metadata": {},
   "outputs": [
    {
     "data": {
      "text/plain": [
       "PolynomialFeatures(degree=5, include_bias=True, interaction_only=False,\n",
       "                   order='C')"
      ]
     },
     "execution_count": 1277,
     "metadata": {},
     "output_type": "execute_result"
    }
   ],
   "source": [
    "poly.fit(X_poly, y) "
   ]
  },
  {
   "cell_type": "code",
   "execution_count": 1278,
   "metadata": {},
   "outputs": [
    {
     "data": {
      "text/plain": [
       "LinearRegression(copy_X=True, fit_intercept=True, n_jobs=None, normalize=False)"
      ]
     },
     "execution_count": 1278,
     "metadata": {},
     "output_type": "execute_result"
    }
   ],
   "source": [
    "lin2 = LinearRegression() \n",
    "lin2.fit(X_poly, y) "
   ]
  },
  {
   "cell_type": "code",
   "execution_count": 1279,
   "metadata": {},
   "outputs": [
    {
     "data": {
      "image/png": "[encoded data removed]",
      "text/plain": [
       "<Figure size 432x288 with 1 Axes>"
      ]
     },
     "metadata": {},
     "output_type": "display_data"
    }
   ],
   "source": [
    "plt.scatter(X, y, color = 'blue') \n",
    "  \n",
    "plt.plot(X, lin.predict(X), color = 'red') \n",
    "plt.title('Linear Regression') \n",
    "plt.xlabel('Lifespan') \n",
    "plt.ylabel('Rides') \n",
    "  \n",
    "plt.show() "
   ]
  },
  {
   "cell_type": "code",
   "execution_count": 1280,
   "metadata": {},
   "outputs": [
    {
     "data": {
      "image/png": "[encoded data removed]",
      "text/plain": [
       "<Figure size 432x288 with 1 Axes>"
      ]
     },
     "metadata": {},
     "output_type": "display_data"
    }
   ],
   "source": [
    "plt.scatter(X, y, color = 'blue') \n",
    "  \n",
    "plt.plot(X, lin2.predict(poly.fit_transform(X)), color = 'red') \n",
    "plt.title('Polynomial Regression') \n",
    "plt.xlabel('Lifespan') \n",
    "plt.ylabel('Rides') \n",
    "  \n",
    "plt.show() "
   ]
  },
  {
   "cell_type": "code",
   "execution_count": 1281,
   "metadata": {},
   "outputs": [
    {
     "name": "stdout",
     "output_type": "stream",
     "text": [
      "The model performance for the training set\n",
      "-------------------------------------------\n",
      "RMSE of training set is 17.768298587612904\n",
      "R2 score of training set is 0.3405318786898087\n",
      "\n",
      "\n",
      "The model performance for the test set\n",
      "-------------------------------------------\n",
      "RMSE of test set is 16.552860876373952\n",
      "R2 score of test set is 0.38014646329489044\n"
     ]
    }
   ],
   "source": [
    "poly_features = PolynomialFeatures(degree=7)\n",
    "  \n",
    "  # transforms the existing features to higher degree features.\n",
    "X_train_poly = poly_features.fit_transform(X_train)\n",
    "  \n",
    "  # fit the transformed features to Linear Regression\n",
    "poly_model = LinearRegression()\n",
    "poly_model.fit(X_train_poly, y_train)\n",
    "  \n",
    "  # predicting on training data-set\n",
    "y_train_predicted = poly_model.predict(X_train_poly)\n",
    "  \n",
    "  # predicting on test data-set\n",
    "y_test_predict = poly_model.predict(poly_features.fit_transform(X_test))\n",
    "  \n",
    "  # evaluating the model on training dataset\n",
    "rmse_train = np.sqrt(mean_squared_error(y_train, y_train_predicted))\n",
    "r2_train = r2_score(y_train, y_train_predicted)\n",
    "  \n",
    "  # evaluating the model on test dataset\n",
    "rmse_test = np.sqrt(mean_squared_error(y_test, y_test_predict))\n",
    "r2_test = r2_score(y_test, y_test_predict)\n",
    "  \n",
    "print(\"The model performance for the training set\")\n",
    "print(\"-------------------------------------------\")\n",
    "print(\"RMSE of training set is {}\".format(rmse_train))\n",
    "print(\"R2 score of training set is {}\".format(r2_train))\n",
    "  \n",
    "print(\"\\n\")\n",
    "  \n",
    "print(\"The model performance for the test set\")\n",
    "print(\"-------------------------------------------\")\n",
    "print(\"RMSE of test set is {}\".format(rmse_test))\n",
    "print(\"R2 score of test set is {}\".format(r2_test))\n"
   ]
  },
  {
   "cell_type": "code",
   "execution_count": 1282,
   "metadata": {},
   "outputs": [
    {
     "data": {
      "image/png": "[encoded data removed]",
      "text/plain": [
       "<Figure size 432x288 with 1 Axes>"
      ]
     },
     "metadata": {},
     "output_type": "display_data"
    }
   ],
   "source": [
    "# Polynomial Regression-nth order\n",
    "from sklearn.pipeline import make_pipeline\n",
    "plt.scatter(X_test, y_test, s=10, alpha=0.3)\n",
    "\n",
    "for degree in [1,2,3,4,5,6,7]:\n",
    "\n",
    "    model = make_pipeline(PolynomialFeatures(degree), LinearRegression())\n",
    "\n",
    "    model.fit(X_train,y_train)\n",
    "\n",
    "    y_plot = model.predict(X_test)\n",
    "\n",
    "    plt.plot(X_test, y_plot, label=\"degree %d\" % degree +'; $R^2$: %.2f' % model.score(X_test, y_test))\n",
    "\n",
    "plt.legend(loc='upper right')\n",
    "\n",
    "plt.xlabel(\"Rides\")\n",
    "\n",
    "plt.ylabel(\"Lifetime\")\n",
    "\n",
    "plt.title(\"Variance Explained with Varying Polynomial\")\n",
    "\n",
    "plt.show()"
   ]
  },
  {
   "cell_type": "code",
   "execution_count": null,
   "metadata": {},
   "outputs": [],
   "source": []
  },
  {
   "cell_type": "code",
   "execution_count": null,
   "metadata": {},
   "outputs": [],
   "source": []
  },
  {
   "cell_type": "code",
   "execution_count": 1170,
   "metadata": {},
   "outputs": [
    {
     "data": {
      "text/html": [
       "<div>\n",
       "<style scoped>\n",
       "    .dataframe tbody tr th:only-of-type {\n",
       "        vertical-align: middle;\n",
       "    }\n",
       "\n",
       "    .dataframe tbody tr th {\n",
       "        vertical-align: top;\n",
       "    }\n",
       "\n",
       "    .dataframe thead th {\n",
       "        text-align: right;\n",
       "    }\n",
       "</style>\n",
       "<table border=\"1\" class=\"dataframe\">\n",
       "  <thead>\n",
       "    <tr style=\"text-align: right;\">\n",
       "      <th></th>\n",
       "      <th>driver_id</th>\n",
       "      <th>ride_prime_time_sum</th>\n",
       "      <th>duration_min_sum</th>\n",
       "      <th>distance_mi_sum</th>\n",
       "      <th>total_fare</th>\n",
       "      <th>rides</th>\n",
       "      <th>driver_lifespan</th>\n",
       "      <th>t</th>\n",
       "      <th>rides_per_day</th>\n",
       "    </tr>\n",
       "  </thead>\n",
       "  <tbody>\n",
       "    <tr>\n",
       "      <td>0</td>\n",
       "      <td>002be0ffdc997bd5c50703158b7c2491</td>\n",
       "      <td>5375</td>\n",
       "      <td>3687.300000</td>\n",
       "      <td>1081.362133</td>\n",
       "      <td>3453.419687</td>\n",
       "      <td>277</td>\n",
       "      <td>86</td>\n",
       "      <td>90</td>\n",
       "      <td>3.220930</td>\n",
       "    </tr>\n",
       "    <tr>\n",
       "      <td>1</td>\n",
       "      <td>007f0389f9c7b03ef97098422f902e62</td>\n",
       "      <td>625</td>\n",
       "      <td>341.616667</td>\n",
       "      <td>73.030237</td>\n",
       "      <td>308.994506</td>\n",
       "      <td>31</td>\n",
       "      <td>85</td>\n",
       "      <td>90</td>\n",
       "      <td>0.364706</td>\n",
       "    </tr>\n",
       "    <tr>\n",
       "      <td>2</td>\n",
       "      <td>011e5c5dfc5c2c92501b8b24d47509bc</td>\n",
       "      <td>675</td>\n",
       "      <td>486.750000</td>\n",
       "      <td>167.554285</td>\n",
       "      <td>468.927442</td>\n",
       "      <td>34</td>\n",
       "      <td>68</td>\n",
       "      <td>83</td>\n",
       "      <td>0.500000</td>\n",
       "    </tr>\n",
       "    <tr>\n",
       "      <td>3</td>\n",
       "      <td>0152a2f305e71d26cc964f8d4411add9</td>\n",
       "      <td>2050</td>\n",
       "      <td>2908.683333</td>\n",
       "      <td>914.183777</td>\n",
       "      <td>2569.866550</td>\n",
       "      <td>191</td>\n",
       "      <td>64</td>\n",
       "      <td>65</td>\n",
       "      <td>2.984375</td>\n",
       "    </tr>\n",
       "    <tr>\n",
       "      <td>4</td>\n",
       "      <td>01674381af7edd264113d4e6ed55ecda</td>\n",
       "      <td>4700</td>\n",
       "      <td>5957.383333</td>\n",
       "      <td>1940.938672</td>\n",
       "      <td>5287.086873</td>\n",
       "      <td>375</td>\n",
       "      <td>56</td>\n",
       "      <td>59</td>\n",
       "      <td>6.696429</td>\n",
       "    </tr>\n",
       "    <tr>\n",
       "      <td>...</td>\n",
       "      <td>...</td>\n",
       "      <td>...</td>\n",
       "      <td>...</td>\n",
       "      <td>...</td>\n",
       "      <td>...</td>\n",
       "      <td>...</td>\n",
       "      <td>...</td>\n",
       "      <td>...</td>\n",
       "      <td>...</td>\n",
       "    </tr>\n",
       "    <tr>\n",
       "      <td>832</td>\n",
       "      <td>ff419a3476e21e269e340b5f1f05414e</td>\n",
       "      <td>3100</td>\n",
       "      <td>4105.133333</td>\n",
       "      <td>1244.231288</td>\n",
       "      <td>3476.370782</td>\n",
       "      <td>242</td>\n",
       "      <td>61</td>\n",
       "      <td>62</td>\n",
       "      <td>3.967213</td>\n",
       "    </tr>\n",
       "    <tr>\n",
       "      <td>833</td>\n",
       "      <td>ff714a67ba8c6a108261cd81e3b77f3a</td>\n",
       "      <td>8625</td>\n",
       "      <td>7374.866667</td>\n",
       "      <td>1761.437928</td>\n",
       "      <td>6114.858170</td>\n",
       "      <td>485</td>\n",
       "      <td>81</td>\n",
       "      <td>91</td>\n",
       "      <td>5.987654</td>\n",
       "    </tr>\n",
       "    <tr>\n",
       "      <td>834</td>\n",
       "      <td>fff482c704d36a1afe8b8978d5486283</td>\n",
       "      <td>175</td>\n",
       "      <td>461.550000</td>\n",
       "      <td>108.363200</td>\n",
       "      <td>377.160834</td>\n",
       "      <td>35</td>\n",
       "      <td>34</td>\n",
       "      <td>80</td>\n",
       "      <td>1.029412</td>\n",
       "    </tr>\n",
       "    <tr>\n",
       "      <td>835</td>\n",
       "      <td>fffecccc49436c5389075b13209f0dfa</td>\n",
       "      <td>12050</td>\n",
       "      <td>5899.566667</td>\n",
       "      <td>1817.453191</td>\n",
       "      <td>5812.169994</td>\n",
       "      <td>406</td>\n",
       "      <td>51</td>\n",
       "      <td>52</td>\n",
       "      <td>7.960784</td>\n",
       "    </tr>\n",
       "    <tr>\n",
       "      <td>836</td>\n",
       "      <td>ffff51a71f2f185ec5e97d59dbcd7a78</td>\n",
       "      <td>6625</td>\n",
       "      <td>4477.350000</td>\n",
       "      <td>1473.900825</td>\n",
       "      <td>4448.742395</td>\n",
       "      <td>330</td>\n",
       "      <td>54</td>\n",
       "      <td>54</td>\n",
       "      <td>6.111111</td>\n",
       "    </tr>\n",
       "  </tbody>\n",
       "</table>\n",
       "<p>837 rows × 9 columns</p>\n",
       "</div>"
      ],
      "text/plain": [
       "                            driver_id  ride_prime_time_sum  duration_min_sum  \\\n",
       "0    002be0ffdc997bd5c50703158b7c2491                 5375       3687.300000   \n",
       "1    007f0389f9c7b03ef97098422f902e62                  625        341.616667   \n",
       "2    011e5c5dfc5c2c92501b8b24d47509bc                  675        486.750000   \n",
       "3    0152a2f305e71d26cc964f8d4411add9                 2050       2908.683333   \n",
       "4    01674381af7edd264113d4e6ed55ecda                 4700       5957.383333   \n",
       "..                                ...                  ...               ...   \n",
       "832  ff419a3476e21e269e340b5f1f05414e                 3100       4105.133333   \n",
       "833  ff714a67ba8c6a108261cd81e3b77f3a                 8625       7374.866667   \n",
       "834  fff482c704d36a1afe8b8978d5486283                  175        461.550000   \n",
       "835  fffecccc49436c5389075b13209f0dfa                12050       5899.566667   \n",
       "836  ffff51a71f2f185ec5e97d59dbcd7a78                 6625       4477.350000   \n",
       "\n",
       "     distance_mi_sum   total_fare  rides  driver_lifespan   t  rides_per_day  \n",
       "0        1081.362133  3453.419687    277               86  90       3.220930  \n",
       "1          73.030237   308.994506     31               85  90       0.364706  \n",
       "2         167.554285   468.927442     34               68  83       0.500000  \n",
       "3         914.183777  2569.866550    191               64  65       2.984375  \n",
       "4        1940.938672  5287.086873    375               56  59       6.696429  \n",
       "..               ...          ...    ...              ...  ..            ...  \n",
       "832      1244.231288  3476.370782    242               61  62       3.967213  \n",
       "833      1761.437928  6114.858170    485               81  91       5.987654  \n",
       "834       108.363200   377.160834     35               34  80       1.029412  \n",
       "835      1817.453191  5812.169994    406               51  52       7.960784  \n",
       "836      1473.900825  4448.742395    330               54  54       6.111111  \n",
       "\n",
       "[837 rows x 9 columns]"
      ]
     },
     "execution_count": 1170,
     "metadata": {},
     "output_type": "execute_result"
    }
   ],
   "source": [
    "import pandas as pd\n",
    "import warnings\n",
    "warnings.filterwarnings('ignore')\n",
    "driver_sum_total_fare['rides'] = driver_sum_total_fare['rides'].apply(lambda x: x if x >= 5 else 0)\n",
    "#driver_sum_total_fare['driver_lifespan'] = driver_sum_total_fare.rides.apply(lambda x: x if x >= 5 else 0)\n",
    "driver_sum_total_fare.set_value(438, 'driver_lifespan', 0)\n",
    "driver_sum_total_fare.set_value(421, 'driver_lifespan', 0)"
   ]
  },
  {
   "cell_type": "code",
   "execution_count": 1171,
   "metadata": {},
   "outputs": [
    {
     "data": {
      "text/html": [
       "<div>\n",
       "<style scoped>\n",
       "    .dataframe tbody tr th:only-of-type {\n",
       "        vertical-align: middle;\n",
       "    }\n",
       "\n",
       "    .dataframe tbody tr th {\n",
       "        vertical-align: top;\n",
       "    }\n",
       "\n",
       "    .dataframe thead th {\n",
       "        text-align: right;\n",
       "    }\n",
       "</style>\n",
       "<table border=\"1\" class=\"dataframe\">\n",
       "  <thead>\n",
       "    <tr style=\"text-align: right;\">\n",
       "      <th></th>\n",
       "      <th>driver_id</th>\n",
       "      <th>ride_prime_time_sum</th>\n",
       "      <th>duration_min_sum</th>\n",
       "      <th>distance_mi_sum</th>\n",
       "      <th>total_fare</th>\n",
       "      <th>rides</th>\n",
       "      <th>driver_lifespan</th>\n",
       "      <th>t</th>\n",
       "      <th>rides_per_day</th>\n",
       "    </tr>\n",
       "  </thead>\n",
       "  <tbody>\n",
       "    <tr>\n",
       "      <td>421</td>\n",
       "      <td>7b625f643d0775f0ac4898e33235377b</td>\n",
       "      <td>0</td>\n",
       "      <td>28.533333</td>\n",
       "      <td>6.148456</td>\n",
       "      <td>25.691293</td>\n",
       "      <td>0</td>\n",
       "      <td>0</td>\n",
       "      <td>84</td>\n",
       "      <td>0.200000</td>\n",
       "    </tr>\n",
       "    <tr>\n",
       "      <td>438</td>\n",
       "      <td>7ff85c5c0e9324e28d1e0d0589c364bd</td>\n",
       "      <td>25</td>\n",
       "      <td>29.183333</td>\n",
       "      <td>14.957619</td>\n",
       "      <td>35.566946</td>\n",
       "      <td>0</td>\n",
       "      <td>0</td>\n",
       "      <td>69</td>\n",
       "      <td>0.046875</td>\n",
       "    </tr>\n",
       "  </tbody>\n",
       "</table>\n",
       "</div>"
      ],
      "text/plain": [
       "                            driver_id  ride_prime_time_sum  duration_min_sum  \\\n",
       "421  7b625f643d0775f0ac4898e33235377b                    0         28.533333   \n",
       "438  7ff85c5c0e9324e28d1e0d0589c364bd                   25         29.183333   \n",
       "\n",
       "     distance_mi_sum  total_fare  rides  driver_lifespan   t  rides_per_day  \n",
       "421         6.148456   25.691293      0                0  84       0.200000  \n",
       "438        14.957619   35.566946      0                0  69       0.046875  "
      ]
     },
     "execution_count": 1171,
     "metadata": {},
     "output_type": "execute_result"
    }
   ],
   "source": [
    "driver_sum_total_fare[driver_sum_total_fare['rides'] < 5]"
   ]
  },
  {
   "cell_type": "code",
   "execution_count": 1172,
   "metadata": {
    "scrolled": true
   },
   "outputs": [],
   "source": [
    "# import lifetimes\n",
    "# from lifetimes.plotting import *\n",
    "# from lifetimes.utils import *\n",
    "# #from lifetimes.estimation import *\n"
   ]
  },
  {
   "cell_type": "code",
   "execution_count": 1173,
   "metadata": {},
   "outputs": [
    {
     "name": "stdout",
     "output_type": "stream",
     "text": [
      "count    837.000000\n",
      "mean     220.075269\n",
      "std      178.189151\n",
      "min        0.000000\n",
      "25%       44.000000\n",
      "50%      224.000000\n",
      "75%      330.000000\n",
      "max      919.000000\n",
      "Name: rides, dtype: float64\n",
      "0.0023894862604540022\n"
     ]
    },
    {
     "data": {
      "image/png": "[encoded data removed]",
      "text/plain": [
       "<Figure size 432x288 with 1 Axes>"
      ]
     },
     "metadata": {},
     "output_type": "display_data"
    }
   ],
   "source": [
    "driver_sum_total_fare['rides'].plot(kind='hist', bins=50)\n",
    "print(driver_sum_total_fare['rides'].describe())\n",
    "print(sum(driver_sum_total_fare['rides'] == 0)/float(len(driver_sum_total_fare)))"
   ]
  },
  {
   "cell_type": "code",
   "execution_count": 1174,
   "metadata": {},
   "outputs": [
    {
     "name": "stdout",
     "output_type": "stream",
     "text": [
      "      fun: -1119.9457913924307\n",
      " hess_inv: array([[  1.79381563,   1.77253132,   5.26201299,   5.24969109],\n",
      "       [  1.77253132,   2.40258042,   0.85670268,   0.84276921],\n",
      "       [  5.26201299,   0.85670268, 590.76728974, 587.86331527],\n",
      "       [  5.24969109,   0.84276921, 587.86331527, 586.61545788]])\n",
      "      jac: array([-1.39914381e-04,  9.81400300e-05, -9.96786536e-06,  9.42549493e-06])\n",
      "  message: 'Desired error not necessarily achieved due to precision loss.'\n",
      "     nfev: 157\n",
      "      nit: 49\n",
      "     njev: 145\n",
      "   status: 2\n",
      "  success: False\n",
      "        x: array([ 0.48694489, -5.40007585, 12.63068289, 18.36676784])\n"
     ]
    },
    {
     "ename": "ConvergenceError",
     "evalue": "\nThe model did not converge. Try adding a larger penalizer to see if that helps convergence.\n",
     "output_type": "error",
     "traceback": [
      "\u001b[0;31m---------------------------------------------------------------------------\u001b[0m",
      "\u001b[0;31mConvergenceError\u001b[0m                          Traceback (most recent call last)",
      "\u001b[0;32m<ipython-input-1174-5768f59aa2c7>\u001b[0m in \u001b[0;36m<module>\u001b[0;34m\u001b[0m\n\u001b[1;32m      1\u001b[0m \u001b[0;32mfrom\u001b[0m \u001b[0mlifetimes\u001b[0m \u001b[0;32mimport\u001b[0m \u001b[0mBetaGeoFitter\u001b[0m\u001b[0;34m\u001b[0m\u001b[0m\n\u001b[1;32m      2\u001b[0m \u001b[0mbgf\u001b[0m \u001b[0;34m=\u001b[0m \u001b[0mBetaGeoFitter\u001b[0m\u001b[0;34m(\u001b[0m\u001b[0mpenalizer_coef\u001b[0m\u001b[0;34m=\u001b[0m\u001b[0;36m0.0\u001b[0m\u001b[0;34m)\u001b[0m\u001b[0;34m\u001b[0m\u001b[0m\n\u001b[0;32m----> 3\u001b[0;31m \u001b[0mbgf\u001b[0m\u001b[0;34m.\u001b[0m\u001b[0mfit\u001b[0m\u001b[0;34m(\u001b[0m\u001b[0mdriver_sum_total_fare\u001b[0m\u001b[0;34m[\u001b[0m\u001b[0;34m'rides'\u001b[0m\u001b[0;34m]\u001b[0m\u001b[0;34m,\u001b[0m \u001b[0mdriver_sum_total_fare\u001b[0m\u001b[0;34m[\u001b[0m\u001b[0;34m'driver_lifespan'\u001b[0m\u001b[0;34m]\u001b[0m\u001b[0;34m,\u001b[0m \u001b[0mdriver_sum_total_fare\u001b[0m\u001b[0;34m[\u001b[0m\u001b[0;34m't'\u001b[0m\u001b[0;34m]\u001b[0m\u001b[0;34m)\u001b[0m\u001b[0;34m\u001b[0m\u001b[0m\n\u001b[0m\u001b[1;32m      4\u001b[0m \u001b[0mprint\u001b[0m\u001b[0;34m(\u001b[0m\u001b[0mbgf\u001b[0m\u001b[0;34m)\u001b[0m\u001b[0;34m\u001b[0m\u001b[0m\n",
      "\u001b[0;32m/Library/Frameworks/Python.framework/Versions/3.6/lib/python3.6/site-packages/lifetimes/fitters/beta_geo_fitter.py\u001b[0m in \u001b[0;36mfit\u001b[0;34m(self, frequency, recency, T, weights, initial_params, verbose, tol, index, **kwargs)\u001b[0m\n\u001b[1;32m    127\u001b[0m             \u001b[0mverbose\u001b[0m\u001b[0;34m,\u001b[0m\u001b[0;34m\u001b[0m\u001b[0m\n\u001b[1;32m    128\u001b[0m             \u001b[0mtol\u001b[0m\u001b[0;34m,\u001b[0m\u001b[0;34m\u001b[0m\u001b[0m\n\u001b[0;32m--> 129\u001b[0;31m             \u001b[0;34m**\u001b[0m\u001b[0mkwargs\u001b[0m\u001b[0;34m\u001b[0m\u001b[0m\n\u001b[0m\u001b[1;32m    130\u001b[0m         )\n\u001b[1;32m    131\u001b[0m \u001b[0;34m\u001b[0m\u001b[0m\n",
      "\u001b[0;32m/Library/Frameworks/Python.framework/Versions/3.6/lib/python3.6/site-packages/lifetimes/fitters/__init__.py\u001b[0m in \u001b[0;36m_fit\u001b[0;34m(self, minimizing_function_args, initial_params, params_size, disp, tol, bounds, **kwargs)\u001b[0m\n\u001b[1;32m    117\u001b[0m                 \"\"\"\n\u001b[1;32m    118\u001b[0m             \u001b[0mThe\u001b[0m \u001b[0mmodel\u001b[0m \u001b[0mdid\u001b[0m \u001b[0;32mnot\u001b[0m \u001b[0mconverge\u001b[0m\u001b[0;34m.\u001b[0m \u001b[0mTry\u001b[0m \u001b[0madding\u001b[0m \u001b[0ma\u001b[0m \u001b[0mlarger\u001b[0m \u001b[0mpenalizer\u001b[0m \u001b[0mto\u001b[0m \u001b[0msee\u001b[0m \u001b[0;32mif\u001b[0m \u001b[0mthat\u001b[0m \u001b[0mhelps\u001b[0m \u001b[0mconvergence\u001b[0m\u001b[0;34m.\u001b[0m\u001b[0;34m\u001b[0m\u001b[0m\n\u001b[0;32m--> 119\u001b[0;31m             \"\"\"\n\u001b[0m\u001b[1;32m    120\u001b[0m             )\n\u001b[1;32m    121\u001b[0m         )\n",
      "\u001b[0;31mConvergenceError\u001b[0m: \nThe model did not converge. Try adding a larger penalizer to see if that helps convergence.\n"
     ]
    }
   ],
   "source": [
    "from lifetimes import BetaGeoFitter\n",
    "bgf = BetaGeoFitter(penalizer_coef=0.0)\n",
    "bgf.fit(driver_sum_total_fare['rides'], driver_sum_total_fare['driver_lifespan'], driver_sum_total_fare['t'])\n",
    "print(bgf)"
   ]
  },
  {
   "cell_type": "code",
   "execution_count": 1175,
   "metadata": {},
   "outputs": [
    {
     "ename": "AttributeError",
     "evalue": "'BetaGeoFitter' object has no attribute 'data'",
     "output_type": "error",
     "traceback": [
      "\u001b[0;31m---------------------------------------------------------------------------\u001b[0m",
      "\u001b[0;31mAttributeError\u001b[0m                            Traceback (most recent call last)",
      "\u001b[0;32m<ipython-input-1175-ca261d8d7842>\u001b[0m in \u001b[0;36m<module>\u001b[0;34m\u001b[0m\n\u001b[1;32m      2\u001b[0m \u001b[0;32mimport\u001b[0m \u001b[0mmatplotlib\u001b[0m\u001b[0;34m.\u001b[0m\u001b[0mpyplot\u001b[0m \u001b[0;32mas\u001b[0m \u001b[0mplt\u001b[0m\u001b[0;34m\u001b[0m\u001b[0m\n\u001b[1;32m      3\u001b[0m \u001b[0mfig\u001b[0m \u001b[0;34m=\u001b[0m \u001b[0mplt\u001b[0m\u001b[0;34m.\u001b[0m\u001b[0mfigure\u001b[0m\u001b[0;34m(\u001b[0m\u001b[0mfigsize\u001b[0m\u001b[0;34m=\u001b[0m\u001b[0;34m(\u001b[0m\u001b[0;36m12\u001b[0m\u001b[0;34m,\u001b[0m\u001b[0;36m8\u001b[0m\u001b[0;34m)\u001b[0m\u001b[0;34m)\u001b[0m\u001b[0;34m\u001b[0m\u001b[0m\n\u001b[0;32m----> 4\u001b[0;31m \u001b[0mplot_frequency_recency_matrix\u001b[0m\u001b[0;34m(\u001b[0m\u001b[0mbgf\u001b[0m\u001b[0;34m)\u001b[0m\u001b[0;34m\u001b[0m\u001b[0m\n\u001b[0m",
      "\u001b[0;32m/Library/Frameworks/Python.framework/Versions/3.6/lib/python3.6/site-packages/lifetimes/plotting.py\u001b[0m in \u001b[0;36mplot_frequency_recency_matrix\u001b[0;34m(model, T, max_frequency, max_recency, title, xlabel, ylabel, **kwargs)\u001b[0m\n\u001b[1;32m    181\u001b[0m \u001b[0;34m\u001b[0m\u001b[0m\n\u001b[1;32m    182\u001b[0m     \u001b[0;32mif\u001b[0m \u001b[0mmax_frequency\u001b[0m \u001b[0;32mis\u001b[0m \u001b[0;32mNone\u001b[0m\u001b[0;34m:\u001b[0m\u001b[0;34m\u001b[0m\u001b[0m\n\u001b[0;32m--> 183\u001b[0;31m         \u001b[0mmax_frequency\u001b[0m \u001b[0;34m=\u001b[0m \u001b[0mint\u001b[0m\u001b[0;34m(\u001b[0m\u001b[0mmodel\u001b[0m\u001b[0;34m.\u001b[0m\u001b[0mdata\u001b[0m\u001b[0;34m[\u001b[0m\u001b[0;34m\"frequency\"\u001b[0m\u001b[0;34m]\u001b[0m\u001b[0;34m.\u001b[0m\u001b[0mmax\u001b[0m\u001b[0;34m(\u001b[0m\u001b[0;34m)\u001b[0m\u001b[0;34m)\u001b[0m\u001b[0;34m\u001b[0m\u001b[0m\n\u001b[0m\u001b[1;32m    184\u001b[0m \u001b[0;34m\u001b[0m\u001b[0m\n\u001b[1;32m    185\u001b[0m     \u001b[0;32mif\u001b[0m \u001b[0mmax_recency\u001b[0m \u001b[0;32mis\u001b[0m \u001b[0;32mNone\u001b[0m\u001b[0;34m:\u001b[0m\u001b[0;34m\u001b[0m\u001b[0m\n",
      "\u001b[0;31mAttributeError\u001b[0m: 'BetaGeoFitter' object has no attribute 'data'"
     ]
    },
    {
     "data": {
      "text/plain": [
       "<Figure size 864x576 with 0 Axes>"
      ]
     },
     "metadata": {},
     "output_type": "display_data"
    }
   ],
   "source": [
    "from lifetimes.plotting import plot_frequency_recency_matrix\n",
    "import matplotlib.pyplot as plt\n",
    "fig = plt.figure(figsize=(12,8))\n",
    "plot_frequency_recency_matrix(bgf)"
   ]
  },
  {
   "cell_type": "code",
   "execution_count": 1176,
   "metadata": {},
   "outputs": [
    {
     "ename": "AttributeError",
     "evalue": "'BetaGeoFitter' object has no attribute 'data'",
     "output_type": "error",
     "traceback": [
      "\u001b[0;31m---------------------------------------------------------------------------\u001b[0m",
      "\u001b[0;31mAttributeError\u001b[0m                            Traceback (most recent call last)",
      "\u001b[0;32m<ipython-input-1176-e235f7573870>\u001b[0m in \u001b[0;36m<module>\u001b[0;34m\u001b[0m\n\u001b[1;32m      1\u001b[0m \u001b[0;32mfrom\u001b[0m \u001b[0mlifetimes\u001b[0m\u001b[0;34m.\u001b[0m\u001b[0mplotting\u001b[0m \u001b[0;32mimport\u001b[0m \u001b[0mplot_probability_alive_matrix\u001b[0m\u001b[0;34m\u001b[0m\u001b[0m\n\u001b[1;32m      2\u001b[0m \u001b[0mfig\u001b[0m \u001b[0;34m=\u001b[0m \u001b[0mplt\u001b[0m\u001b[0;34m.\u001b[0m\u001b[0mfigure\u001b[0m\u001b[0;34m(\u001b[0m\u001b[0mfigsize\u001b[0m\u001b[0;34m=\u001b[0m\u001b[0;34m(\u001b[0m\u001b[0;36m12\u001b[0m\u001b[0;34m,\u001b[0m\u001b[0;36m8\u001b[0m\u001b[0;34m)\u001b[0m\u001b[0;34m)\u001b[0m\u001b[0;34m\u001b[0m\u001b[0m\n\u001b[0;32m----> 3\u001b[0;31m \u001b[0mplot_probability_alive_matrix\u001b[0m\u001b[0;34m(\u001b[0m\u001b[0mbgf\u001b[0m\u001b[0;34m)\u001b[0m\u001b[0;34m\u001b[0m\u001b[0m\n\u001b[0m",
      "\u001b[0;32m/Library/Frameworks/Python.framework/Versions/3.6/lib/python3.6/site-packages/lifetimes/plotting.py\u001b[0m in \u001b[0;36mplot_probability_alive_matrix\u001b[0;34m(model, max_frequency, max_recency, title, xlabel, ylabel, **kwargs)\u001b[0m\n\u001b[1;32m    253\u001b[0m     \u001b[0;32mfrom\u001b[0m \u001b[0mmatplotlib\u001b[0m \u001b[0;32mimport\u001b[0m \u001b[0mpyplot\u001b[0m \u001b[0;32mas\u001b[0m \u001b[0mplt\u001b[0m\u001b[0;34m\u001b[0m\u001b[0m\n\u001b[1;32m    254\u001b[0m \u001b[0;34m\u001b[0m\u001b[0m\n\u001b[0;32m--> 255\u001b[0;31m     \u001b[0mz\u001b[0m \u001b[0;34m=\u001b[0m \u001b[0mmodel\u001b[0m\u001b[0;34m.\u001b[0m\u001b[0mconditional_probability_alive_matrix\u001b[0m\u001b[0;34m(\u001b[0m\u001b[0mmax_frequency\u001b[0m\u001b[0;34m,\u001b[0m \u001b[0mmax_recency\u001b[0m\u001b[0;34m)\u001b[0m\u001b[0;34m\u001b[0m\u001b[0m\n\u001b[0m\u001b[1;32m    256\u001b[0m \u001b[0;34m\u001b[0m\u001b[0m\n\u001b[1;32m    257\u001b[0m     \u001b[0minterpolation\u001b[0m \u001b[0;34m=\u001b[0m \u001b[0mkwargs\u001b[0m\u001b[0;34m.\u001b[0m\u001b[0mpop\u001b[0m\u001b[0;34m(\u001b[0m\u001b[0;34m\"interpolation\"\u001b[0m\u001b[0;34m,\u001b[0m \u001b[0;34m\"none\"\u001b[0m\u001b[0;34m)\u001b[0m\u001b[0;34m\u001b[0m\u001b[0m\n",
      "\u001b[0;32m/Library/Frameworks/Python.framework/Versions/3.6/lib/python3.6/site-packages/lifetimes/fitters/beta_geo_fitter.py\u001b[0m in \u001b[0;36mconditional_probability_alive_matrix\u001b[0;34m(self, max_frequency, max_recency)\u001b[0m\n\u001b[1;32m    256\u001b[0m \u001b[0;34m\u001b[0m\u001b[0m\n\u001b[1;32m    257\u001b[0m         \"\"\"\n\u001b[0;32m--> 258\u001b[0;31m         \u001b[0mmax_frequency\u001b[0m \u001b[0;34m=\u001b[0m \u001b[0mmax_frequency\u001b[0m \u001b[0;32mor\u001b[0m \u001b[0mint\u001b[0m\u001b[0;34m(\u001b[0m\u001b[0mself\u001b[0m\u001b[0;34m.\u001b[0m\u001b[0mdata\u001b[0m\u001b[0;34m[\u001b[0m\u001b[0;34m\"frequency\"\u001b[0m\u001b[0;34m]\u001b[0m\u001b[0;34m.\u001b[0m\u001b[0mmax\u001b[0m\u001b[0;34m(\u001b[0m\u001b[0;34m)\u001b[0m\u001b[0;34m)\u001b[0m\u001b[0;34m\u001b[0m\u001b[0m\n\u001b[0m\u001b[1;32m    259\u001b[0m         \u001b[0mmax_recency\u001b[0m \u001b[0;34m=\u001b[0m \u001b[0mmax_recency\u001b[0m \u001b[0;32mor\u001b[0m \u001b[0mint\u001b[0m\u001b[0;34m(\u001b[0m\u001b[0mself\u001b[0m\u001b[0;34m.\u001b[0m\u001b[0mdata\u001b[0m\u001b[0;34m[\u001b[0m\u001b[0;34m\"T\"\u001b[0m\u001b[0;34m]\u001b[0m\u001b[0;34m.\u001b[0m\u001b[0mmax\u001b[0m\u001b[0;34m(\u001b[0m\u001b[0;34m)\u001b[0m\u001b[0;34m)\u001b[0m\u001b[0;34m\u001b[0m\u001b[0m\n\u001b[1;32m    260\u001b[0m \u001b[0;34m\u001b[0m\u001b[0m\n",
      "\u001b[0;31mAttributeError\u001b[0m: 'BetaGeoFitter' object has no attribute 'data'"
     ]
    },
    {
     "data": {
      "text/plain": [
       "<Figure size 864x576 with 0 Axes>"
      ]
     },
     "metadata": {},
     "output_type": "display_data"
    }
   ],
   "source": [
    "from lifetimes.plotting import plot_probability_alive_matrix\n",
    "fig = plt.figure(figsize=(12,8))\n",
    "plot_probability_alive_matrix(bgf)"
   ]
  },
  {
   "cell_type": "code",
   "execution_count": 1177,
   "metadata": {},
   "outputs": [
    {
     "ename": "AttributeError",
     "evalue": "'BetaGeoFitter' object has no attribute 'data'",
     "output_type": "error",
     "traceback": [
      "\u001b[0;31m---------------------------------------------------------------------------\u001b[0m",
      "\u001b[0;31mAttributeError\u001b[0m                            Traceback (most recent call last)",
      "\u001b[0;32m<ipython-input-1177-4c32895ddcb8>\u001b[0m in \u001b[0;36m<module>\u001b[0;34m\u001b[0m\n\u001b[1;32m      1\u001b[0m \u001b[0;32mfrom\u001b[0m \u001b[0mlifetimes\u001b[0m\u001b[0;34m.\u001b[0m\u001b[0mplotting\u001b[0m \u001b[0;32mimport\u001b[0m \u001b[0mplot_period_transactions\u001b[0m\u001b[0;34m\u001b[0m\u001b[0m\n\u001b[0;32m----> 2\u001b[0;31m \u001b[0mplot_period_transactions\u001b[0m\u001b[0;34m(\u001b[0m\u001b[0mbgf\u001b[0m\u001b[0;34m)\u001b[0m\u001b[0;34m\u001b[0m\u001b[0m\n\u001b[0m",
      "\u001b[0;32m/Library/Frameworks/Python.framework/Versions/3.6/lib/python3.6/site-packages/lifetimes/plotting.py\u001b[0m in \u001b[0;36mplot_period_transactions\u001b[0;34m(model, max_frequency, title, xlabel, ylabel, **kwargs)\u001b[0m\n\u001b[1;32m     58\u001b[0m     \u001b[0mlabels\u001b[0m \u001b[0;34m=\u001b[0m \u001b[0mkwargs\u001b[0m\u001b[0;34m.\u001b[0m\u001b[0mpop\u001b[0m\u001b[0;34m(\u001b[0m\u001b[0;34m\"label\"\u001b[0m\u001b[0;34m,\u001b[0m \u001b[0;34m[\u001b[0m\u001b[0;34m\"Actual\"\u001b[0m\u001b[0;34m,\u001b[0m \u001b[0;34m\"Model\"\u001b[0m\u001b[0;34m]\u001b[0m\u001b[0;34m)\u001b[0m\u001b[0;34m\u001b[0m\u001b[0m\n\u001b[1;32m     59\u001b[0m \u001b[0;34m\u001b[0m\u001b[0m\n\u001b[0;32m---> 60\u001b[0;31m     \u001b[0mn\u001b[0m \u001b[0;34m=\u001b[0m \u001b[0mmodel\u001b[0m\u001b[0;34m.\u001b[0m\u001b[0mdata\u001b[0m\u001b[0;34m.\u001b[0m\u001b[0mshape\u001b[0m\u001b[0;34m[\u001b[0m\u001b[0;36m0\u001b[0m\u001b[0;34m]\u001b[0m\u001b[0;34m\u001b[0m\u001b[0m\n\u001b[0m\u001b[1;32m     61\u001b[0m     \u001b[0msimulated_data\u001b[0m \u001b[0;34m=\u001b[0m \u001b[0mmodel\u001b[0m\u001b[0;34m.\u001b[0m\u001b[0mgenerate_new_data\u001b[0m\u001b[0;34m(\u001b[0m\u001b[0msize\u001b[0m\u001b[0;34m=\u001b[0m\u001b[0mn\u001b[0m\u001b[0;34m)\u001b[0m\u001b[0;34m\u001b[0m\u001b[0m\n\u001b[1;32m     62\u001b[0m \u001b[0;34m\u001b[0m\u001b[0m\n",
      "\u001b[0;31mAttributeError\u001b[0m: 'BetaGeoFitter' object has no attribute 'data'"
     ]
    }
   ],
   "source": [
    "from lifetimes.plotting import plot_period_transactions\n",
    "plot_period_transactions(bgf)"
   ]
  },
  {
   "cell_type": "code",
   "execution_count": 1178,
   "metadata": {},
   "outputs": [
    {
     "ename": "AttributeError",
     "evalue": "'BetaGeoFitter' object has no attribute 'predict'",
     "output_type": "error",
     "traceback": [
      "\u001b[0;31m---------------------------------------------------------------------------\u001b[0m",
      "\u001b[0;31mAttributeError\u001b[0m                            Traceback (most recent call last)",
      "\u001b[0;32m<ipython-input-1178-a5a25c14d93e>\u001b[0m in \u001b[0;36m<module>\u001b[0;34m\u001b[0m\n\u001b[1;32m      1\u001b[0m \u001b[0mg\u001b[0m \u001b[0;34m=\u001b[0m \u001b[0;36m10\u001b[0m\u001b[0;34m\u001b[0m\u001b[0m\n\u001b[1;32m      2\u001b[0m \u001b[0mindividual\u001b[0m \u001b[0;34m=\u001b[0m \u001b[0mdriver_sum_total_fare\u001b[0m\u001b[0;34m.\u001b[0m\u001b[0mloc\u001b[0m\u001b[0;34m[\u001b[0m\u001b[0mdriver_sum_total_fare\u001b[0m\u001b[0;34m[\u001b[0m\u001b[0;34m'driver_id'\u001b[0m\u001b[0;34m]\u001b[0m \u001b[0;34m==\u001b[0m\u001b[0;34m'007f0389f9c7b03ef97098422f902e62'\u001b[0m\u001b[0;34m]\u001b[0m\u001b[0;34m\u001b[0m\u001b[0m\n\u001b[0;32m----> 3\u001b[0;31m \u001b[0mbgf\u001b[0m\u001b[0;34m.\u001b[0m\u001b[0mpredict\u001b[0m\u001b[0;34m(\u001b[0m\u001b[0mg\u001b[0m\u001b[0;34m,\u001b[0m \u001b[0mdriver_sum_total_fare\u001b[0m\u001b[0;34m[\u001b[0m\u001b[0;34m'rides'\u001b[0m\u001b[0;34m]\u001b[0m\u001b[0;34m,\u001b[0m \u001b[0mdriver_sum_total_fare\u001b[0m\u001b[0;34m[\u001b[0m\u001b[0;34m'driver_lifespan'\u001b[0m\u001b[0;34m]\u001b[0m\u001b[0;34m,\u001b[0m \u001b[0mdriver_sum_total_fare\u001b[0m\u001b[0;34m[\u001b[0m\u001b[0;34m't'\u001b[0m\u001b[0;34m]\u001b[0m\u001b[0;34m)\u001b[0m\u001b[0;34m\u001b[0m\u001b[0m\n\u001b[0m",
      "\u001b[0;31mAttributeError\u001b[0m: 'BetaGeoFitter' object has no attribute 'predict'"
     ]
    }
   ],
   "source": [
    "g = 10\n",
    "individual = driver_sum_total_fare.loc[driver_sum_total_fare['driver_id'] =='007f0389f9c7b03ef97098422f902e62']\n",
    "bgf.predict(g, driver_sum_total_fare['rides'], driver_sum_total_fare['driver_lifespan'], driver_sum_total_fare['t'])"
   ]
  },
  {
   "cell_type": "code",
   "execution_count": 1179,
   "metadata": {},
   "outputs": [
    {
     "name": "stdout",
     "output_type": "stream",
     "text": [
      "                          driver_id  ride_prime_time_sum  duration_min_sum  \\\n",
      "0  002be0ffdc997bd5c50703158b7c2491                 5375       3687.300000   \n",
      "1  007f0389f9c7b03ef97098422f902e62                  625        341.616667   \n",
      "2  011e5c5dfc5c2c92501b8b24d47509bc                  675        486.750000   \n",
      "3  0152a2f305e71d26cc964f8d4411add9                 2050       2908.683333   \n",
      "4  01674381af7edd264113d4e6ed55ecda                 4700       5957.383333   \n",
      "\n",
      "   distance_mi_sum   total_fare  rides  driver_lifespan   t  rides_per_day  \n",
      "0      1081.362133  3453.419687    277               86  90       3.220930  \n",
      "1        73.030237   308.994506     31               85  90       0.364706  \n",
      "2       167.554285   468.927442     34               68  83       0.500000  \n",
      "3       914.183777  2569.866550    191               64  65       2.984375  \n",
      "4      1940.938672  5287.086873    375               56  59       6.696429  \n",
      "835\n"
     ]
    }
   ],
   "source": [
    "returning_customers_summary = driver_sum_total_fare[driver_sum_total_fare['rides']>0]\n",
    "print(returning_customers_summary.head())\n",
    "print(len(returning_customers_summary))"
   ]
  },
  {
   "cell_type": "code",
   "execution_count": 1180,
   "metadata": {},
   "outputs": [
    {
     "name": "stdout",
     "output_type": "stream",
     "text": [
      "<lifetimes.GammaGammaFitter: fitted with 835 subjects, p: 0.02, q: 21.65, v: 5112603.76>\n"
     ]
    }
   ],
   "source": [
    "from lifetimes import GammaGammaFitter\n",
    "ggf = GammaGammaFitter(penalizer_coef = 0)\n",
    "ggf.fit(returning_customers_summary['rides'],\n",
    "        returning_customers_summary['total_fare'])\n",
    "print(ggf)"
   ]
  },
  {
   "cell_type": "code",
   "execution_count": 1185,
   "metadata": {},
   "outputs": [
    {
     "name": "stdout",
     "output_type": "stream",
     "text": [
      "0      4316.637944\n",
      "1      4415.667535\n",
      "2      4409.749832\n",
      "3      4245.030561\n",
      "4      4717.588114\n",
      "          ...     \n",
      "832    4342.726022\n",
      "833    5005.142888\n",
      "834    4403.604950\n",
      "835    4867.971129\n",
      "836    4510.404609\n",
      "Length: 837, dtype: float64\n"
     ]
    }
   ],
   "source": [
    "print(ggf.conditional_expected_average_profit(\n",
    "        driver_sum_total_fare['rides'],\n",
    "        driver_sum_total_fare['total_fare']))"
   ]
  },
  {
   "cell_type": "code",
   "execution_count": 1401,
   "metadata": {},
   "outputs": [
    {
     "data": {
      "text/html": [
       "<div>\n",
       "<style scoped>\n",
       "    .dataframe tbody tr th:only-of-type {\n",
       "        vertical-align: middle;\n",
       "    }\n",
       "\n",
       "    .dataframe tbody tr th {\n",
       "        vertical-align: top;\n",
       "    }\n",
       "\n",
       "    .dataframe thead th {\n",
       "        text-align: right;\n",
       "    }\n",
       "</style>\n",
       "<table border=\"1\" class=\"dataframe\">\n",
       "  <thead>\n",
       "    <tr style=\"text-align: right;\">\n",
       "      <th></th>\n",
       "      <th>driver_id</th>\n",
       "      <th>ride_prime_time_sum</th>\n",
       "      <th>duration_min_sum</th>\n",
       "      <th>distance_mi_sum</th>\n",
       "      <th>total_fare</th>\n",
       "      <th>rides</th>\n",
       "      <th>driver_lifespan</th>\n",
       "      <th>t</th>\n",
       "      <th>rides_per_day</th>\n",
       "    </tr>\n",
       "  </thead>\n",
       "  <tbody>\n",
       "    <tr>\n",
       "      <td>0</td>\n",
       "      <td>002be0ffdc997bd5c50703158b7c2491</td>\n",
       "      <td>5375</td>\n",
       "      <td>3687.3</td>\n",
       "      <td>1081.362133</td>\n",
       "      <td>3453.419687</td>\n",
       "      <td>277</td>\n",
       "      <td>86</td>\n",
       "      <td>90</td>\n",
       "      <td>3.22093</td>\n",
       "    </tr>\n",
       "  </tbody>\n",
       "</table>\n",
       "</div>"
      ],
      "text/plain": [
       "                          driver_id  ride_prime_time_sum  duration_min_sum  \\\n",
       "0  002be0ffdc997bd5c50703158b7c2491                 5375            3687.3   \n",
       "\n",
       "   distance_mi_sum   total_fare  rides  driver_lifespan   t  rides_per_day  \n",
       "0      1081.362133  3453.419687    277               86  90        3.22093  "
      ]
     },
     "execution_count": 1401,
     "metadata": {},
     "output_type": "execute_result"
    }
   ],
   "source": [
    "driver_sum_total_fare[driver_sum_total_fare['driver_id'] == '002be0ffdc997bd5c50703158b7c2491']"
   ]
  },
  {
   "cell_type": "code",
   "execution_count": 190,
   "metadata": {},
   "outputs": [
    {
     "data": {
      "text/html": [
       "<div>\n",
       "<style scoped>\n",
       "    .dataframe tbody tr th:only-of-type {\n",
       "        vertical-align: middle;\n",
       "    }\n",
       "\n",
       "    .dataframe tbody tr th {\n",
       "        vertical-align: top;\n",
       "    }\n",
       "\n",
       "    .dataframe thead th {\n",
       "        text-align: right;\n",
       "    }\n",
       "</style>\n",
       "<table border=\"1\" class=\"dataframe\">\n",
       "  <thead>\n",
       "    <tr style=\"text-align: right;\">\n",
       "      <th></th>\n",
       "      <th>driver_id</th>\n",
       "      <th>driver_onboard_date</th>\n",
       "      <th>ride_id</th>\n",
       "      <th>requested_at</th>\n",
       "      <th>accepted_at</th>\n",
       "      <th>arrived_at</th>\n",
       "      <th>picked_up_at</th>\n",
       "      <th>dropped_off_at</th>\n",
       "    </tr>\n",
       "  </thead>\n",
       "  <tbody>\n",
       "    <tr>\n",
       "      <td>0</td>\n",
       "      <td>d967f5296732fa55266b5f1314e7447b</td>\n",
       "      <td>2016-04-09 00:00:00</td>\n",
       "      <td>00003037a262d9ee40e61b5c0718f7f0</td>\n",
       "      <td>2016-06-13 09:39:19</td>\n",
       "      <td>2016-06-13 09:39:51</td>\n",
       "      <td>2016-06-13 09:44:31</td>\n",
       "      <td>2016-06-13 09:44:33</td>\n",
       "      <td>2016-06-13 10:03:05</td>\n",
       "    </tr>\n",
       "    <tr>\n",
       "      <td>1</td>\n",
       "      <td>0656192a402808805282e60761bda088</td>\n",
       "      <td>2016-04-30 00:00:00</td>\n",
       "      <td>00005eae40882760d675da5effb89ae3</td>\n",
       "      <td>2016-05-14 05:23:21</td>\n",
       "      <td>2016-05-14 05:23:25</td>\n",
       "      <td>2016-05-14 05:26:17</td>\n",
       "      <td>2016-05-14 05:26:18</td>\n",
       "      <td>2016-05-14 05:34:17</td>\n",
       "    </tr>\n",
       "    <tr>\n",
       "      <td>2</td>\n",
       "      <td>c468a648519cd42da75e6aa9dadf733e</td>\n",
       "      <td>2016-04-01 00:00:00</td>\n",
       "      <td>000061d42cf29f73b591041d9a1b2973</td>\n",
       "      <td>2016-05-16 15:43:09</td>\n",
       "      <td>2016-05-16 15:43:14</td>\n",
       "      <td>2016-05-16 15:47:29</td>\n",
       "      <td>2016-05-16 15:47:32</td>\n",
       "      <td>2016-05-16 15:54:18</td>\n",
       "    </tr>\n",
       "    <tr>\n",
       "      <td>3</td>\n",
       "      <td>689bdf87fb2de49f98bf4946cfaa5068</td>\n",
       "      <td>2016-04-04 00:00:00</td>\n",
       "      <td>00006efeb0d5e3ccad7d921ddeee9900</td>\n",
       "      <td>2016-05-11 19:29:36</td>\n",
       "      <td>2016-05-11 19:29:43</td>\n",
       "      <td>2016-05-11 19:35:11</td>\n",
       "      <td>2016-05-11 19:35:15</td>\n",
       "      <td>2016-05-11 19:40:47</td>\n",
       "    </tr>\n",
       "    <tr>\n",
       "      <td>4</td>\n",
       "      <td>eece82fe623b4bb335a9b9e20eb0ca54</td>\n",
       "      <td>2016-04-28 00:00:00</td>\n",
       "      <td>00012759befd5d34a0609800f6a1ee59</td>\n",
       "      <td>2016-05-31 15:44:56</td>\n",
       "      <td>2016-05-31 15:45:05</td>\n",
       "      <td>2016-05-31 15:46:22</td>\n",
       "      <td>2016-05-31 15:46:23</td>\n",
       "      <td>2016-05-31 15:59:26</td>\n",
       "    </tr>\n",
       "    <tr>\n",
       "      <td>...</td>\n",
       "      <td>...</td>\n",
       "      <td>...</td>\n",
       "      <td>...</td>\n",
       "      <td>...</td>\n",
       "      <td>...</td>\n",
       "      <td>...</td>\n",
       "      <td>...</td>\n",
       "      <td>...</td>\n",
       "    </tr>\n",
       "    <tr>\n",
       "      <td>184204</td>\n",
       "      <td>5ccc0e6dc9c7475caf785cdce7b8eb7a</td>\n",
       "      <td>2016-04-05 00:00:00</td>\n",
       "      <td>fffe942c46a5b2039fa01ba4c3d390e8</td>\n",
       "      <td>2016-05-17 19:56:09</td>\n",
       "      <td>2016-05-17 19:56:13</td>\n",
       "      <td>2016-05-17 19:58:50</td>\n",
       "      <td>2016-05-17 19:58:52</td>\n",
       "      <td>2016-05-17 20:11:11</td>\n",
       "    </tr>\n",
       "    <tr>\n",
       "      <td>184205</td>\n",
       "      <td>fb903879c556260ae2604ae0c45cb92a</td>\n",
       "      <td>2016-05-02 00:00:00</td>\n",
       "      <td>fffebb46effb90ce758fdff68b569355</td>\n",
       "      <td>2016-06-16 09:57:07</td>\n",
       "      <td>2016-06-16 09:57:12</td>\n",
       "      <td>2016-06-16 09:58:54</td>\n",
       "      <td>2016-06-16 09:58:57</td>\n",
       "      <td>2016-06-16 10:15:08</td>\n",
       "    </tr>\n",
       "    <tr>\n",
       "      <td>184206</td>\n",
       "      <td>3a1d9fb7a8cfd55ae38d1b4fb1520d1f</td>\n",
       "      <td>2016-05-02 00:00:00</td>\n",
       "      <td>ffff9c38173ddfa17bdd115c463e329f</td>\n",
       "      <td>2016-06-03 18:34:00</td>\n",
       "      <td>2016-06-03 18:34:07</td>\n",
       "      <td>2016-06-03 18:35:20</td>\n",
       "      <td>2016-06-03 18:35:22</td>\n",
       "      <td>2016-06-03 18:50:08</td>\n",
       "    </tr>\n",
       "    <tr>\n",
       "      <td>184207</td>\n",
       "      <td>36de1e085fbd8f354dd3192571cece32</td>\n",
       "      <td>2016-04-19 00:00:00</td>\n",
       "      <td>ffff9e431f7fade54b2550ac19ab6e64</td>\n",
       "      <td>2016-06-12 04:00:10</td>\n",
       "      <td>2016-06-12 04:00:10</td>\n",
       "      <td>2016-06-12 04:04:35</td>\n",
       "      <td>2016-06-12 04:04:37</td>\n",
       "      <td>2016-06-12 04:15:42</td>\n",
       "    </tr>\n",
       "    <tr>\n",
       "      <td>184208</td>\n",
       "      <td>f193cf4d5de76b20688d759ea7c66312</td>\n",
       "      <td>2016-05-03 00:00:00</td>\n",
       "      <td>ffffccd77f47a3de26dfed9a851464b4</td>\n",
       "      <td>2016-05-18 08:44:13</td>\n",
       "      <td>2016-05-18 08:44:21</td>\n",
       "      <td>2016-05-18 08:44:36</td>\n",
       "      <td>2016-05-18 08:44:42</td>\n",
       "      <td>2016-05-18 09:11:37</td>\n",
       "    </tr>\n",
       "  </tbody>\n",
       "</table>\n",
       "<p>184209 rows × 8 columns</p>\n",
       "</div>"
      ],
      "text/plain": [
       "                               driver_id  driver_onboard_date  \\\n",
       "0       d967f5296732fa55266b5f1314e7447b  2016-04-09 00:00:00   \n",
       "1       0656192a402808805282e60761bda088  2016-04-30 00:00:00   \n",
       "2       c468a648519cd42da75e6aa9dadf733e  2016-04-01 00:00:00   \n",
       "3       689bdf87fb2de49f98bf4946cfaa5068  2016-04-04 00:00:00   \n",
       "4       eece82fe623b4bb335a9b9e20eb0ca54  2016-04-28 00:00:00   \n",
       "...                                  ...                  ...   \n",
       "184204  5ccc0e6dc9c7475caf785cdce7b8eb7a  2016-04-05 00:00:00   \n",
       "184205  fb903879c556260ae2604ae0c45cb92a  2016-05-02 00:00:00   \n",
       "184206  3a1d9fb7a8cfd55ae38d1b4fb1520d1f  2016-05-02 00:00:00   \n",
       "184207  36de1e085fbd8f354dd3192571cece32  2016-04-19 00:00:00   \n",
       "184208  f193cf4d5de76b20688d759ea7c66312  2016-05-03 00:00:00   \n",
       "\n",
       "                                 ride_id         requested_at  \\\n",
       "0       00003037a262d9ee40e61b5c0718f7f0  2016-06-13 09:39:19   \n",
       "1       00005eae40882760d675da5effb89ae3  2016-05-14 05:23:21   \n",
       "2       000061d42cf29f73b591041d9a1b2973  2016-05-16 15:43:09   \n",
       "3       00006efeb0d5e3ccad7d921ddeee9900  2016-05-11 19:29:36   \n",
       "4       00012759befd5d34a0609800f6a1ee59  2016-05-31 15:44:56   \n",
       "...                                  ...                  ...   \n",
       "184204  fffe942c46a5b2039fa01ba4c3d390e8  2016-05-17 19:56:09   \n",
       "184205  fffebb46effb90ce758fdff68b569355  2016-06-16 09:57:07   \n",
       "184206  ffff9c38173ddfa17bdd115c463e329f  2016-06-03 18:34:00   \n",
       "184207  ffff9e431f7fade54b2550ac19ab6e64  2016-06-12 04:00:10   \n",
       "184208  ffffccd77f47a3de26dfed9a851464b4  2016-05-18 08:44:13   \n",
       "\n",
       "                accepted_at           arrived_at        picked_up_at  \\\n",
       "0       2016-06-13 09:39:51  2016-06-13 09:44:31 2016-06-13 09:44:33   \n",
       "1       2016-05-14 05:23:25  2016-05-14 05:26:17 2016-05-14 05:26:18   \n",
       "2       2016-05-16 15:43:14  2016-05-16 15:47:29 2016-05-16 15:47:32   \n",
       "3       2016-05-11 19:29:43  2016-05-11 19:35:11 2016-05-11 19:35:15   \n",
       "4       2016-05-31 15:45:05  2016-05-31 15:46:22 2016-05-31 15:46:23   \n",
       "...                     ...                  ...                 ...   \n",
       "184204  2016-05-17 19:56:13  2016-05-17 19:58:50 2016-05-17 19:58:52   \n",
       "184205  2016-06-16 09:57:12  2016-06-16 09:58:54 2016-06-16 09:58:57   \n",
       "184206  2016-06-03 18:34:07  2016-06-03 18:35:20 2016-06-03 18:35:22   \n",
       "184207  2016-06-12 04:00:10  2016-06-12 04:04:35 2016-06-12 04:04:37   \n",
       "184208  2016-05-18 08:44:21  2016-05-18 08:44:36 2016-05-18 08:44:42   \n",
       "\n",
       "             dropped_off_at  \n",
       "0       2016-06-13 10:03:05  \n",
       "1       2016-05-14 05:34:17  \n",
       "2       2016-05-16 15:54:18  \n",
       "3       2016-05-11 19:40:47  \n",
       "4       2016-05-31 15:59:26  \n",
       "...                     ...  \n",
       "184204  2016-05-17 20:11:11  \n",
       "184205  2016-06-16 10:15:08  \n",
       "184206  2016-06-03 18:50:08  \n",
       "184207  2016-06-12 04:15:42  \n",
       "184208  2016-05-18 09:11:37  \n",
       "\n",
       "[184209 rows x 8 columns]"
      ]
     },
     "execution_count": 190,
     "metadata": {},
     "output_type": "execute_result"
    }
   ],
   "source": []
  },
  {
   "cell_type": "markdown",
   "metadata": {},
   "source": [
    "# LTV"
   ]
  },
  {
   "cell_type": "code",
   "execution_count": 133,
   "metadata": {},
   "outputs": [
    {
     "data": {
      "text/html": [
       "<div>\n",
       "<style scoped>\n",
       "    .dataframe tbody tr th:only-of-type {\n",
       "        vertical-align: middle;\n",
       "    }\n",
       "\n",
       "    .dataframe tbody tr th {\n",
       "        vertical-align: top;\n",
       "    }\n",
       "\n",
       "    .dataframe thead th {\n",
       "        text-align: right;\n",
       "    }\n",
       "</style>\n",
       "<table border=\"1\" class=\"dataframe\">\n",
       "  <thead>\n",
       "    <tr style=\"text-align: right;\">\n",
       "      <th></th>\n",
       "      <th>driver_id</th>\n",
       "      <th>ride_id</th>\n",
       "      <th>ride_distance</th>\n",
       "      <th>ride_duration</th>\n",
       "      <th>ride_prime_time</th>\n",
       "      <th>duration_min</th>\n",
       "      <th>distance_mi</th>\n",
       "      <th>fare_duration</th>\n",
       "      <th>fare_distance</th>\n",
       "      <th>total_fare</th>\n",
       "      <th>accepted_at</th>\n",
       "      <th>arrived_at</th>\n",
       "      <th>dropped_off_at</th>\n",
       "      <th>picked_up_at</th>\n",
       "      <th>requested_at</th>\n",
       "    </tr>\n",
       "  </thead>\n",
       "  <tbody>\n",
       "    <tr>\n",
       "      <td>0</td>\n",
       "      <td>002be0ffdc997bd5c50703158b7c2491</td>\n",
       "      <td>006d61cf7446e682f7bc50b0f8a5bea5</td>\n",
       "      <td>1811</td>\n",
       "      <td>327</td>\n",
       "      <td>50</td>\n",
       "      <td>5.450000</td>\n",
       "      <td>1.125301</td>\n",
       "      <td>1.199000</td>\n",
       "      <td>1.294096</td>\n",
       "      <td>7.489644</td>\n",
       "      <td>2016-04-23 02:14:15</td>\n",
       "      <td>2016-04-23 02:16:36</td>\n",
       "      <td>2016-04-23 02:22:07</td>\n",
       "      <td>2016-04-23 02:16:40</td>\n",
       "      <td>2016-04-23 02:13:50</td>\n",
       "    </tr>\n",
       "    <tr>\n",
       "      <td>1</td>\n",
       "      <td>002be0ffdc997bd5c50703158b7c2491</td>\n",
       "      <td>01b522c5c3a756fbdb12e95e87507eda</td>\n",
       "      <td>3362</td>\n",
       "      <td>809</td>\n",
       "      <td>0</td>\n",
       "      <td>13.483333</td>\n",
       "      <td>2.089046</td>\n",
       "      <td>2.966333</td>\n",
       "      <td>2.402403</td>\n",
       "      <td>9.118736</td>\n",
       "      <td>2016-03-29 19:00:52</td>\n",
       "      <td>2016-03-29 19:03:57</td>\n",
       "      <td>2016-03-29 19:17:30</td>\n",
       "      <td>2016-03-29 19:04:01</td>\n",
       "      <td>2016-03-29 19:00:49</td>\n",
       "    </tr>\n",
       "    <tr>\n",
       "      <td>2</td>\n",
       "      <td>002be0ffdc997bd5c50703158b7c2491</td>\n",
       "      <td>029227c4c2971ce69ff2274dc798ef43</td>\n",
       "      <td>3282</td>\n",
       "      <td>572</td>\n",
       "      <td>0</td>\n",
       "      <td>9.533333</td>\n",
       "      <td>2.039336</td>\n",
       "      <td>2.097333</td>\n",
       "      <td>2.345237</td>\n",
       "      <td>8.192570</td>\n",
       "      <td>2016-06-21 11:56:39</td>\n",
       "      <td>2016-06-21 12:01:32</td>\n",
       "      <td>2016-06-21 12:11:07</td>\n",
       "      <td>2016-06-21 12:01:35</td>\n",
       "      <td>2016-06-21 11:56:31</td>\n",
       "    </tr>\n",
       "    <tr>\n",
       "      <td>3</td>\n",
       "      <td>002be0ffdc997bd5c50703158b7c2491</td>\n",
       "      <td>034e861343a63ac3c18a9ceb1ce0ac69</td>\n",
       "      <td>65283</td>\n",
       "      <td>3338</td>\n",
       "      <td>25</td>\n",
       "      <td>55.633333</td>\n",
       "      <td>40.564898</td>\n",
       "      <td>12.239333</td>\n",
       "      <td>46.649632</td>\n",
       "      <td>77.361207</td>\n",
       "      <td>2016-05-19 09:15:33</td>\n",
       "      <td>2016-05-19 09:18:20</td>\n",
       "      <td>2016-05-19 10:13:58</td>\n",
       "      <td>2016-05-19 09:18:20</td>\n",
       "      <td>2016-05-19 09:15:29</td>\n",
       "    </tr>\n",
       "    <tr>\n",
       "      <td>4</td>\n",
       "      <td>002be0ffdc997bd5c50703158b7c2491</td>\n",
       "      <td>034f2e614a2f9fc7f1c2f77647d1b981</td>\n",
       "      <td>4115</td>\n",
       "      <td>823</td>\n",
       "      <td>100</td>\n",
       "      <td>13.716667</td>\n",
       "      <td>2.556938</td>\n",
       "      <td>3.017667</td>\n",
       "      <td>2.940478</td>\n",
       "      <td>15.666290</td>\n",
       "      <td>2016-04-20 22:05:32</td>\n",
       "      <td>2016-04-20 22:07:03</td>\n",
       "      <td>2016-04-20 22:20:45</td>\n",
       "      <td>2016-04-20 22:07:02</td>\n",
       "      <td>2016-04-20 22:05:30</td>\n",
       "    </tr>\n",
       "    <tr>\n",
       "      <td>...</td>\n",
       "      <td>...</td>\n",
       "      <td>...</td>\n",
       "      <td>...</td>\n",
       "      <td>...</td>\n",
       "      <td>...</td>\n",
       "      <td>...</td>\n",
       "      <td>...</td>\n",
       "      <td>...</td>\n",
       "      <td>...</td>\n",
       "      <td>...</td>\n",
       "      <td>...</td>\n",
       "      <td>...</td>\n",
       "      <td>...</td>\n",
       "      <td>...</td>\n",
       "      <td>...</td>\n",
       "    </tr>\n",
       "    <tr>\n",
       "      <td>184814</td>\n",
       "      <td>ffff51a71f2f185ec5e97d59dbcd7a78</td>\n",
       "      <td>fc717192b3512767269ff5a54b97af05</td>\n",
       "      <td>10127</td>\n",
       "      <td>1336</td>\n",
       "      <td>0</td>\n",
       "      <td>22.266667</td>\n",
       "      <td>6.292614</td>\n",
       "      <td>4.898667</td>\n",
       "      <td>7.236506</td>\n",
       "      <td>15.885173</td>\n",
       "      <td>2016-06-18 01:15:52</td>\n",
       "      <td>2016-06-18 01:21:11</td>\n",
       "      <td>2016-06-18 01:43:30</td>\n",
       "      <td>2016-06-18 01:21:14</td>\n",
       "      <td>2016-06-18 01:14:52</td>\n",
       "    </tr>\n",
       "    <tr>\n",
       "      <td>184815</td>\n",
       "      <td>ffff51a71f2f185ec5e97d59dbcd7a78</td>\n",
       "      <td>fd6fa5f9265d2cf83936ead663f9e0e7</td>\n",
       "      <td>1908</td>\n",
       "      <td>445</td>\n",
       "      <td>0</td>\n",
       "      <td>7.416667</td>\n",
       "      <td>1.185574</td>\n",
       "      <td>1.631667</td>\n",
       "      <td>1.363410</td>\n",
       "      <td>6.745077</td>\n",
       "      <td>2016-06-23 23:52:08</td>\n",
       "      <td>2016-06-23 23:59:04</td>\n",
       "      <td>2016-06-24 00:06:33</td>\n",
       "      <td>2016-06-23 23:59:08</td>\n",
       "      <td>2016-06-23 23:51:55</td>\n",
       "    </tr>\n",
       "    <tr>\n",
       "      <td>184816</td>\n",
       "      <td>ffff51a71f2f185ec5e97d59dbcd7a78</td>\n",
       "      <td>fe0857c43025264d337dfe1d8463e503</td>\n",
       "      <td>4039</td>\n",
       "      <td>875</td>\n",
       "      <td>0</td>\n",
       "      <td>14.583333</td>\n",
       "      <td>2.509713</td>\n",
       "      <td>3.208333</td>\n",
       "      <td>2.886170</td>\n",
       "      <td>9.844504</td>\n",
       "      <td>2016-05-31 19:26:42</td>\n",
       "      <td>2016-05-31 19:29:08</td>\n",
       "      <td>2016-05-31 19:43:46</td>\n",
       "      <td>2016-05-31 19:29:11</td>\n",
       "      <td>2016-05-31 19:26:34</td>\n",
       "    </tr>\n",
       "    <tr>\n",
       "      <td>184817</td>\n",
       "      <td>ffff51a71f2f185ec5e97d59dbcd7a78</td>\n",
       "      <td>ff0db0ca4557bf5b05b4da6f660a1ac1</td>\n",
       "      <td>4760</td>\n",
       "      <td>777</td>\n",
       "      <td>0</td>\n",
       "      <td>12.950000</td>\n",
       "      <td>2.957721</td>\n",
       "      <td>2.849000</td>\n",
       "      <td>3.401379</td>\n",
       "      <td>10.000379</td>\n",
       "      <td>2016-05-15 00:51:59</td>\n",
       "      <td>2016-05-15 00:52:05</td>\n",
       "      <td>2016-05-15 01:05:04</td>\n",
       "      <td>2016-05-15 00:52:07</td>\n",
       "      <td>2016-05-15 00:51:53</td>\n",
       "    </tr>\n",
       "    <tr>\n",
       "      <td>184818</td>\n",
       "      <td>ffff51a71f2f185ec5e97d59dbcd7a78</td>\n",
       "      <td>ff7dc29693f8c79ff103d350a7b6c157</td>\n",
       "      <td>3751</td>\n",
       "      <td>889</td>\n",
       "      <td>100</td>\n",
       "      <td>14.816667</td>\n",
       "      <td>2.330759</td>\n",
       "      <td>3.259667</td>\n",
       "      <td>2.680373</td>\n",
       "      <td>15.630079</td>\n",
       "      <td>2016-05-15 21:08:55</td>\n",
       "      <td>2016-05-15 21:11:26</td>\n",
       "      <td>2016-05-15 21:26:18</td>\n",
       "      <td>2016-05-15 21:11:29</td>\n",
       "      <td>2016-05-15 21:08:47</td>\n",
       "    </tr>\n",
       "  </tbody>\n",
       "</table>\n",
       "<p>184819 rows × 15 columns</p>\n",
       "</div>"
      ],
      "text/plain": [
       "                               driver_id                           ride_id  \\\n",
       "0       002be0ffdc997bd5c50703158b7c2491  006d61cf7446e682f7bc50b0f8a5bea5   \n",
       "1       002be0ffdc997bd5c50703158b7c2491  01b522c5c3a756fbdb12e95e87507eda   \n",
       "2       002be0ffdc997bd5c50703158b7c2491  029227c4c2971ce69ff2274dc798ef43   \n",
       "3       002be0ffdc997bd5c50703158b7c2491  034e861343a63ac3c18a9ceb1ce0ac69   \n",
       "4       002be0ffdc997bd5c50703158b7c2491  034f2e614a2f9fc7f1c2f77647d1b981   \n",
       "...                                  ...                               ...   \n",
       "184814  ffff51a71f2f185ec5e97d59dbcd7a78  fc717192b3512767269ff5a54b97af05   \n",
       "184815  ffff51a71f2f185ec5e97d59dbcd7a78  fd6fa5f9265d2cf83936ead663f9e0e7   \n",
       "184816  ffff51a71f2f185ec5e97d59dbcd7a78  fe0857c43025264d337dfe1d8463e503   \n",
       "184817  ffff51a71f2f185ec5e97d59dbcd7a78  ff0db0ca4557bf5b05b4da6f660a1ac1   \n",
       "184818  ffff51a71f2f185ec5e97d59dbcd7a78  ff7dc29693f8c79ff103d350a7b6c157   \n",
       "\n",
       "        ride_distance  ride_duration  ride_prime_time  duration_min  \\\n",
       "0                1811            327               50      5.450000   \n",
       "1                3362            809                0     13.483333   \n",
       "2                3282            572                0      9.533333   \n",
       "3               65283           3338               25     55.633333   \n",
       "4                4115            823              100     13.716667   \n",
       "...               ...            ...              ...           ...   \n",
       "184814          10127           1336                0     22.266667   \n",
       "184815           1908            445                0      7.416667   \n",
       "184816           4039            875                0     14.583333   \n",
       "184817           4760            777                0     12.950000   \n",
       "184818           3751            889              100     14.816667   \n",
       "\n",
       "        distance_mi  fare_duration  fare_distance  total_fare  \\\n",
       "0          1.125301       1.199000       1.294096    7.489644   \n",
       "1          2.089046       2.966333       2.402403    9.118736   \n",
       "2          2.039336       2.097333       2.345237    8.192570   \n",
       "3         40.564898      12.239333      46.649632   77.361207   \n",
       "4          2.556938       3.017667       2.940478   15.666290   \n",
       "...             ...            ...            ...         ...   \n",
       "184814     6.292614       4.898667       7.236506   15.885173   \n",
       "184815     1.185574       1.631667       1.363410    6.745077   \n",
       "184816     2.509713       3.208333       2.886170    9.844504   \n",
       "184817     2.957721       2.849000       3.401379   10.000379   \n",
       "184818     2.330759       3.259667       2.680373   15.630079   \n",
       "\n",
       "                accepted_at           arrived_at       dropped_off_at  \\\n",
       "0       2016-04-23 02:14:15  2016-04-23 02:16:36  2016-04-23 02:22:07   \n",
       "1       2016-03-29 19:00:52  2016-03-29 19:03:57  2016-03-29 19:17:30   \n",
       "2       2016-06-21 11:56:39  2016-06-21 12:01:32  2016-06-21 12:11:07   \n",
       "3       2016-05-19 09:15:33  2016-05-19 09:18:20  2016-05-19 10:13:58   \n",
       "4       2016-04-20 22:05:32  2016-04-20 22:07:03  2016-04-20 22:20:45   \n",
       "...                     ...                  ...                  ...   \n",
       "184814  2016-06-18 01:15:52  2016-06-18 01:21:11  2016-06-18 01:43:30   \n",
       "184815  2016-06-23 23:52:08  2016-06-23 23:59:04  2016-06-24 00:06:33   \n",
       "184816  2016-05-31 19:26:42  2016-05-31 19:29:08  2016-05-31 19:43:46   \n",
       "184817  2016-05-15 00:51:59  2016-05-15 00:52:05  2016-05-15 01:05:04   \n",
       "184818  2016-05-15 21:08:55  2016-05-15 21:11:26  2016-05-15 21:26:18   \n",
       "\n",
       "               picked_up_at         requested_at  \n",
       "0       2016-04-23 02:16:40  2016-04-23 02:13:50  \n",
       "1       2016-03-29 19:04:01  2016-03-29 19:00:49  \n",
       "2       2016-06-21 12:01:35  2016-06-21 11:56:31  \n",
       "3       2016-05-19 09:18:20  2016-05-19 09:15:29  \n",
       "4       2016-04-20 22:07:02  2016-04-20 22:05:30  \n",
       "...                     ...                  ...  \n",
       "184814  2016-06-18 01:21:14  2016-06-18 01:14:52  \n",
       "184815  2016-06-23 23:59:08  2016-06-23 23:51:55  \n",
       "184816  2016-05-31 19:29:11  2016-05-31 19:26:34  \n",
       "184817  2016-05-15 00:52:07  2016-05-15 00:51:53  \n",
       "184818  2016-05-15 21:11:29  2016-05-15 21:08:47  \n",
       "\n",
       "[184819 rows x 15 columns]"
      ]
     },
     "execution_count": 133,
     "metadata": {},
     "output_type": "execute_result"
    }
   ],
   "source": [
    "merged_driver"
   ]
  },
  {
   "cell_type": "code",
   "execution_count": 196,
   "metadata": {},
   "outputs": [
    {
     "name": "stderr",
     "output_type": "stream",
     "text": [
      "/Library/Frameworks/Python.framework/Versions/3.6/lib/python3.6/site-packages/ipykernel_launcher.py:2: FutureWarning:\n",
      "\n",
      "Comparing Series of datetimes with 'datetime.date'.  Currently, the\n",
      "'datetime.date' is coerced to a datetime. In the future pandas will\n",
      "not coerce, and a TypeError will be raised. To retain the current\n",
      "behavior, convert the 'datetime.date' to a datetime with\n",
      "'pd.Timestamp'.\n",
      "\n",
      "/Library/Frameworks/Python.framework/Versions/3.6/lib/python3.6/site-packages/ipykernel_launcher.py:3: FutureWarning:\n",
      "\n",
      "Comparing Series of datetimes with 'datetime.date'.  Currently, the\n",
      "'datetime.date' is coerced to a datetime. In the future pandas will\n",
      "not coerce, and a TypeError will be raised. To retain the current\n",
      "behavior, convert the 'datetime.date' to a datetime with\n",
      "'pd.Timestamp'.\n",
      "\n"
     ]
    }
   ],
   "source": [
    "merged_driver['picked_up_at']=pd.to_datetime(timestamps_driver['picked_up_at'].str.strip(), format='%Y-%m-%d %H:%M:%S')\n",
    "driver_1m = merged_driver[(merged_driver.picked_up_at < date(2016,4,28)) & (merged_driver.picked_up_at >= date(2016,3,28))].reset_index(drop=True)\n",
    "driver_2m = merged_driver[(merged_driver.picked_up_at >= date(2011,4,28)) & (merged_driver.picked_up_at < date(2016, 6, 27))].reset_index(drop=True)"
   ]
  },
  {
   "cell_type": "code",
   "execution_count": null,
   "metadata": {},
   "outputs": [],
   "source": []
  },
  {
   "cell_type": "code",
   "execution_count": 197,
   "metadata": {},
   "outputs": [],
   "source": [
    "driver_user = pd.DataFrame(driver_1m['driver_id'].unique())\n",
    "driver_user.columns = ['driver_id']"
   ]
  },
  {
   "cell_type": "code",
   "execution_count": 198,
   "metadata": {},
   "outputs": [],
   "source": [
    "def order_cluster(cluster_field_name, target_field_name,df,ascending):\n",
    "    new_cluster_field_name = 'new_' + cluster_field_name\n",
    "    df_new = df.groupby(cluster_field_name)[target_field_name].mean().reset_index()\n",
    "    df_new = df_new.sort_values(by=target_field_name,ascending=ascending).reset_index(drop=True)\n",
    "    df_new['index'] = df_new.index\n",
    "    df_final = pd.merge(df,df_new[[cluster_field_name,'index']], on=cluster_field_name)\n",
    "    df_final = df_final.drop([cluster_field_name],axis=1)\n",
    "    df_final = df_final.rename(columns={\"index\":cluster_field_name})\n",
    "    return df_final"
   ]
  },
  {
   "cell_type": "code",
   "execution_count": 199,
   "metadata": {},
   "outputs": [],
   "source": [
    "driver_max = driver_1m.groupby('driver_id').picked_up_at.max().reset_index()\n",
    "driver_max.columns = ['driver_id','driver_max']\n",
    "driver_max['Recency'] = (driver_max['driver_max'].max() - driver_max['driver_max']).dt.days\n",
    "driver_user = pd.merge(driver_user, driver_max[['driver_id','Recency']], on='driver_id')\n",
    "\n",
    "kmeans = KMeans(n_clusters=4)\n",
    "kmeans.fit(driver_user[['Recency']])\n",
    "driver_user['RecencyCluster'] = kmeans.predict(driver_user[['Recency']])\n",
    "\n",
    "driver_user = order_cluster('RecencyCluster', 'Recency',driver_user,False)"
   ]
  },
  {
   "cell_type": "code",
   "execution_count": 200,
   "metadata": {},
   "outputs": [],
   "source": [
    "driver_freq = driver_1m.groupby('driver_id').picked_up_at.count().reset_index()\n",
    "driver_freq.columns = ['driver_id','Frequency']\n",
    "driver_user = pd.merge(driver_user, driver_freq, on='driver_id')\n",
    "\n",
    "kmeans = KMeans(n_clusters=4)\n",
    "kmeans.fit(driver_user[['Frequency']])\n",
    "driver_user['FrequencyCluster'] = kmeans.predict(driver_user[['Frequency']])\n",
    "\n",
    "driver_user = order_cluster('FrequencyCluster', 'Frequency',driver_user,True)"
   ]
  },
  {
   "cell_type": "code",
   "execution_count": 201,
   "metadata": {},
   "outputs": [
    {
     "data": {
      "text/html": [
       "<div>\n",
       "<style scoped>\n",
       "    .dataframe tbody tr th:only-of-type {\n",
       "        vertical-align: middle;\n",
       "    }\n",
       "\n",
       "    .dataframe tbody tr th {\n",
       "        vertical-align: top;\n",
       "    }\n",
       "\n",
       "    .dataframe thead th {\n",
       "        text-align: right;\n",
       "    }\n",
       "</style>\n",
       "<table border=\"1\" class=\"dataframe\">\n",
       "  <thead>\n",
       "    <tr style=\"text-align: right;\">\n",
       "      <th></th>\n",
       "      <th>driver_id</th>\n",
       "      <th>ride_id</th>\n",
       "      <th>ride_distance</th>\n",
       "      <th>ride_duration</th>\n",
       "      <th>ride_prime_time</th>\n",
       "      <th>duration_min</th>\n",
       "      <th>distance_mi</th>\n",
       "      <th>fare_duration</th>\n",
       "      <th>fare_distance</th>\n",
       "      <th>total_fare</th>\n",
       "      <th>accepted_at</th>\n",
       "      <th>arrived_at</th>\n",
       "      <th>dropped_off_at</th>\n",
       "      <th>picked_up_at</th>\n",
       "      <th>requested_at</th>\n",
       "    </tr>\n",
       "  </thead>\n",
       "  <tbody>\n",
       "    <tr>\n",
       "      <td>0</td>\n",
       "      <td>002be0ffdc997bd5c50703158b7c2491</td>\n",
       "      <td>006d61cf7446e682f7bc50b0f8a5bea5</td>\n",
       "      <td>1811</td>\n",
       "      <td>327</td>\n",
       "      <td>50</td>\n",
       "      <td>5.450000</td>\n",
       "      <td>1.125301</td>\n",
       "      <td>1.199000</td>\n",
       "      <td>1.294096</td>\n",
       "      <td>7.489644</td>\n",
       "      <td>2016-04-23 02:14:15</td>\n",
       "      <td>2016-04-23 02:16:36</td>\n",
       "      <td>2016-04-23 02:22:07</td>\n",
       "      <td>2016-04-23 02:16:40</td>\n",
       "      <td>2016-04-23 02:13:50</td>\n",
       "    </tr>\n",
       "    <tr>\n",
       "      <td>1</td>\n",
       "      <td>002be0ffdc997bd5c50703158b7c2491</td>\n",
       "      <td>01b522c5c3a756fbdb12e95e87507eda</td>\n",
       "      <td>3362</td>\n",
       "      <td>809</td>\n",
       "      <td>0</td>\n",
       "      <td>13.483333</td>\n",
       "      <td>2.089046</td>\n",
       "      <td>2.966333</td>\n",
       "      <td>2.402403</td>\n",
       "      <td>9.118736</td>\n",
       "      <td>2016-03-29 19:00:52</td>\n",
       "      <td>2016-03-29 19:03:57</td>\n",
       "      <td>2016-03-29 19:17:30</td>\n",
       "      <td>2016-03-29 19:04:01</td>\n",
       "      <td>2016-03-29 19:00:49</td>\n",
       "    </tr>\n",
       "    <tr>\n",
       "      <td>2</td>\n",
       "      <td>002be0ffdc997bd5c50703158b7c2491</td>\n",
       "      <td>034f2e614a2f9fc7f1c2f77647d1b981</td>\n",
       "      <td>4115</td>\n",
       "      <td>823</td>\n",
       "      <td>100</td>\n",
       "      <td>13.716667</td>\n",
       "      <td>2.556938</td>\n",
       "      <td>3.017667</td>\n",
       "      <td>2.940478</td>\n",
       "      <td>15.666290</td>\n",
       "      <td>2016-04-20 22:05:32</td>\n",
       "      <td>2016-04-20 22:07:03</td>\n",
       "      <td>2016-04-20 22:20:45</td>\n",
       "      <td>2016-04-20 22:07:02</td>\n",
       "      <td>2016-04-20 22:05:30</td>\n",
       "    </tr>\n",
       "    <tr>\n",
       "      <td>3</td>\n",
       "      <td>002be0ffdc997bd5c50703158b7c2491</td>\n",
       "      <td>04053c0ed21761e07f0b869cab5b7dd0</td>\n",
       "      <td>1575</td>\n",
       "      <td>347</td>\n",
       "      <td>0</td>\n",
       "      <td>5.783333</td>\n",
       "      <td>0.978658</td>\n",
       "      <td>1.272333</td>\n",
       "      <td>1.125456</td>\n",
       "      <td>6.147790</td>\n",
       "      <td>2016-04-16 22:28:08</td>\n",
       "      <td>2016-04-16 22:29:10</td>\n",
       "      <td>2016-04-16 22:35:02</td>\n",
       "      <td>2016-04-16 22:29:15</td>\n",
       "      <td>2016-04-16 22:28:05</td>\n",
       "    </tr>\n",
       "    <tr>\n",
       "      <td>4</td>\n",
       "      <td>002be0ffdc997bd5c50703158b7c2491</td>\n",
       "      <td>0534d432e0186625f623aaee57af98be</td>\n",
       "      <td>3056</td>\n",
       "      <td>687</td>\n",
       "      <td>25</td>\n",
       "      <td>11.450000</td>\n",
       "      <td>1.898907</td>\n",
       "      <td>2.519000</td>\n",
       "      <td>2.183743</td>\n",
       "      <td>9.628428</td>\n",
       "      <td>2016-04-01 21:53:12</td>\n",
       "      <td>2016-04-01 21:54:15</td>\n",
       "      <td>2016-04-01 22:05:41</td>\n",
       "      <td>2016-04-01 21:54:14</td>\n",
       "      <td>2016-04-01 21:53:09</td>\n",
       "    </tr>\n",
       "    <tr>\n",
       "      <td>...</td>\n",
       "      <td>...</td>\n",
       "      <td>...</td>\n",
       "      <td>...</td>\n",
       "      <td>...</td>\n",
       "      <td>...</td>\n",
       "      <td>...</td>\n",
       "      <td>...</td>\n",
       "      <td>...</td>\n",
       "      <td>...</td>\n",
       "      <td>...</td>\n",
       "      <td>...</td>\n",
       "      <td>...</td>\n",
       "      <td>...</td>\n",
       "      <td>...</td>\n",
       "      <td>...</td>\n",
       "    </tr>\n",
       "    <tr>\n",
       "      <td>31665</td>\n",
       "      <td>fff482c704d36a1afe8b8978d5486283</td>\n",
       "      <td>ddd4cdc8e30a7b277464214debf688d3</td>\n",
       "      <td>2920</td>\n",
       "      <td>774</td>\n",
       "      <td>0</td>\n",
       "      <td>12.900000</td>\n",
       "      <td>1.814400</td>\n",
       "      <td>2.838000</td>\n",
       "      <td>2.086560</td>\n",
       "      <td>8.674560</td>\n",
       "      <td>2016-04-15 08:49:08</td>\n",
       "      <td>2016-04-15 08:52:33</td>\n",
       "      <td>2016-04-15 09:05:29</td>\n",
       "      <td>2016-04-15 08:52:35</td>\n",
       "      <td>2016-04-15 08:48:59</td>\n",
       "    </tr>\n",
       "    <tr>\n",
       "      <td>31666</td>\n",
       "      <td>fff482c704d36a1afe8b8978d5486283</td>\n",
       "      <td>de7ff831091364220f392148e7cc9da9</td>\n",
       "      <td>2397</td>\n",
       "      <td>961</td>\n",
       "      <td>0</td>\n",
       "      <td>16.016667</td>\n",
       "      <td>1.489424</td>\n",
       "      <td>3.523667</td>\n",
       "      <td>1.712837</td>\n",
       "      <td>8.986504</td>\n",
       "      <td>2016-04-21 12:06:12</td>\n",
       "      <td>2016-04-21 12:12:44</td>\n",
       "      <td>2016-04-21 12:28:46</td>\n",
       "      <td>2016-04-21 12:12:45</td>\n",
       "      <td>2016-04-21 12:06:03</td>\n",
       "    </tr>\n",
       "    <tr>\n",
       "      <td>31667</td>\n",
       "      <td>fff482c704d36a1afe8b8978d5486283</td>\n",
       "      <td>f4ed6a9def9d352b5ef319df6eb76841</td>\n",
       "      <td>4778</td>\n",
       "      <td>859</td>\n",
       "      <td>0</td>\n",
       "      <td>14.316667</td>\n",
       "      <td>2.968906</td>\n",
       "      <td>3.149667</td>\n",
       "      <td>3.414242</td>\n",
       "      <td>10.313908</td>\n",
       "      <td>2016-04-19 13:55:35</td>\n",
       "      <td>2016-04-19 13:58:14</td>\n",
       "      <td>2016-04-19 14:12:38</td>\n",
       "      <td>2016-04-19 13:58:19</td>\n",
       "      <td>2016-04-19 13:55:27</td>\n",
       "    </tr>\n",
       "    <tr>\n",
       "      <td>31668</td>\n",
       "      <td>fff482c704d36a1afe8b8978d5486283</td>\n",
       "      <td>f613ea12a08b5bf5a5b6d86baf94ff9f</td>\n",
       "      <td>1409</td>\n",
       "      <td>356</td>\n",
       "      <td>0</td>\n",
       "      <td>5.933333</td>\n",
       "      <td>0.875510</td>\n",
       "      <td>1.305333</td>\n",
       "      <td>1.006837</td>\n",
       "      <td>6.062170</td>\n",
       "      <td>2016-04-21 12:30:19</td>\n",
       "      <td>2016-04-21 12:34:17</td>\n",
       "      <td>2016-04-21 12:40:17</td>\n",
       "      <td>2016-04-21 12:34:21</td>\n",
       "      <td>2016-04-21 12:30:05</td>\n",
       "    </tr>\n",
       "    <tr>\n",
       "      <td>31669</td>\n",
       "      <td>fff482c704d36a1afe8b8978d5486283</td>\n",
       "      <td>f820e8432fe91f801777a686bde6fb61</td>\n",
       "      <td>5039</td>\n",
       "      <td>658</td>\n",
       "      <td>0</td>\n",
       "      <td>10.966667</td>\n",
       "      <td>3.131083</td>\n",
       "      <td>2.412667</td>\n",
       "      <td>3.600746</td>\n",
       "      <td>9.763413</td>\n",
       "      <td>2016-04-26 13:00:10</td>\n",
       "      <td>2016-04-26 13:03:35</td>\n",
       "      <td>2016-04-26 13:14:33</td>\n",
       "      <td>2016-04-26 13:03:35</td>\n",
       "      <td>2016-04-26 12:59:59</td>\n",
       "    </tr>\n",
       "  </tbody>\n",
       "</table>\n",
       "<p>31670 rows × 15 columns</p>\n",
       "</div>"
      ],
      "text/plain": [
       "                              driver_id                           ride_id  \\\n",
       "0      002be0ffdc997bd5c50703158b7c2491  006d61cf7446e682f7bc50b0f8a5bea5   \n",
       "1      002be0ffdc997bd5c50703158b7c2491  01b522c5c3a756fbdb12e95e87507eda   \n",
       "2      002be0ffdc997bd5c50703158b7c2491  034f2e614a2f9fc7f1c2f77647d1b981   \n",
       "3      002be0ffdc997bd5c50703158b7c2491  04053c0ed21761e07f0b869cab5b7dd0   \n",
       "4      002be0ffdc997bd5c50703158b7c2491  0534d432e0186625f623aaee57af98be   \n",
       "...                                 ...                               ...   \n",
       "31665  fff482c704d36a1afe8b8978d5486283  ddd4cdc8e30a7b277464214debf688d3   \n",
       "31666  fff482c704d36a1afe8b8978d5486283  de7ff831091364220f392148e7cc9da9   \n",
       "31667  fff482c704d36a1afe8b8978d5486283  f4ed6a9def9d352b5ef319df6eb76841   \n",
       "31668  fff482c704d36a1afe8b8978d5486283  f613ea12a08b5bf5a5b6d86baf94ff9f   \n",
       "31669  fff482c704d36a1afe8b8978d5486283  f820e8432fe91f801777a686bde6fb61   \n",
       "\n",
       "       ride_distance  ride_duration  ride_prime_time  duration_min  \\\n",
       "0               1811            327               50      5.450000   \n",
       "1               3362            809                0     13.483333   \n",
       "2               4115            823              100     13.716667   \n",
       "3               1575            347                0      5.783333   \n",
       "4               3056            687               25     11.450000   \n",
       "...              ...            ...              ...           ...   \n",
       "31665           2920            774                0     12.900000   \n",
       "31666           2397            961                0     16.016667   \n",
       "31667           4778            859                0     14.316667   \n",
       "31668           1409            356                0      5.933333   \n",
       "31669           5039            658                0     10.966667   \n",
       "\n",
       "       distance_mi  fare_duration  fare_distance  total_fare  \\\n",
       "0         1.125301       1.199000       1.294096    7.489644   \n",
       "1         2.089046       2.966333       2.402403    9.118736   \n",
       "2         2.556938       3.017667       2.940478   15.666290   \n",
       "3         0.978658       1.272333       1.125456    6.147790   \n",
       "4         1.898907       2.519000       2.183743    9.628428   \n",
       "...            ...            ...            ...         ...   \n",
       "31665     1.814400       2.838000       2.086560    8.674560   \n",
       "31666     1.489424       3.523667       1.712837    8.986504   \n",
       "31667     2.968906       3.149667       3.414242   10.313908   \n",
       "31668     0.875510       1.305333       1.006837    6.062170   \n",
       "31669     3.131083       2.412667       3.600746    9.763413   \n",
       "\n",
       "               accepted_at           arrived_at       dropped_off_at  \\\n",
       "0      2016-04-23 02:14:15  2016-04-23 02:16:36  2016-04-23 02:22:07   \n",
       "1      2016-03-29 19:00:52  2016-03-29 19:03:57  2016-03-29 19:17:30   \n",
       "2      2016-04-20 22:05:32  2016-04-20 22:07:03  2016-04-20 22:20:45   \n",
       "3      2016-04-16 22:28:08  2016-04-16 22:29:10  2016-04-16 22:35:02   \n",
       "4      2016-04-01 21:53:12  2016-04-01 21:54:15  2016-04-01 22:05:41   \n",
       "...                    ...                  ...                  ...   \n",
       "31665  2016-04-15 08:49:08  2016-04-15 08:52:33  2016-04-15 09:05:29   \n",
       "31666  2016-04-21 12:06:12  2016-04-21 12:12:44  2016-04-21 12:28:46   \n",
       "31667  2016-04-19 13:55:35  2016-04-19 13:58:14  2016-04-19 14:12:38   \n",
       "31668  2016-04-21 12:30:19  2016-04-21 12:34:17  2016-04-21 12:40:17   \n",
       "31669  2016-04-26 13:00:10  2016-04-26 13:03:35  2016-04-26 13:14:33   \n",
       "\n",
       "             picked_up_at         requested_at  \n",
       "0     2016-04-23 02:16:40  2016-04-23 02:13:50  \n",
       "1     2016-03-29 19:04:01  2016-03-29 19:00:49  \n",
       "2     2016-04-20 22:07:02  2016-04-20 22:05:30  \n",
       "3     2016-04-16 22:29:15  2016-04-16 22:28:05  \n",
       "4     2016-04-01 21:54:14  2016-04-01 21:53:09  \n",
       "...                   ...                  ...  \n",
       "31665 2016-04-15 08:52:35  2016-04-15 08:48:59  \n",
       "31666 2016-04-21 12:12:45  2016-04-21 12:06:03  \n",
       "31667 2016-04-19 13:58:19  2016-04-19 13:55:27  \n",
       "31668 2016-04-21 12:34:21  2016-04-21 12:30:05  \n",
       "31669 2016-04-26 13:03:35  2016-04-26 12:59:59  \n",
       "\n",
       "[31670 rows x 15 columns]"
      ]
     },
     "execution_count": 201,
     "metadata": {},
     "output_type": "execute_result"
    }
   ],
   "source": [
    "driver_1m"
   ]
  },
  {
   "cell_type": "code",
   "execution_count": 202,
   "metadata": {},
   "outputs": [],
   "source": [
    "driver_rev = driver_1m.groupby('driver_id').total_fare.sum().reset_index()\n",
    "driver_user = pd.merge(driver_user, driver_rev, on='driver_id')\n",
    "\n",
    "kmeans = KMeans(n_clusters=4)\n",
    "kmeans.fit(driver_user[['total_fare']])\n",
    "driver_user['RevenueCluster'] = kmeans.predict(driver_user[['total_fare']])\n",
    "driver_user = order_cluster('RevenueCluster', 'total_fare',driver_user,True)"
   ]
  },
  {
   "cell_type": "code",
   "execution_count": 203,
   "metadata": {},
   "outputs": [],
   "source": [
    "driver_user['OverallScore'] = driver_user['RecencyCluster'] + driver_user['FrequencyCluster'] + driver_user['RevenueCluster']\n",
    "driver_user['Segment'] = 'Low-Value'\n",
    "driver_user.loc[driver_user['OverallScore']>2,'Segment'] = 'Mid-Value' \n",
    "driver_user.loc[driver_user['OverallScore']>4,'Segment'] = 'High-Value' "
   ]
  },
  {
   "cell_type": "code",
   "execution_count": 221,
   "metadata": {},
   "outputs": [
    {
     "data": {
      "application/vnd.plotly.v1+json": {
       "config": {
        "linkText": "Export to plot.ly",
        "plotlyServerURL": "https://plot.ly",
        "showLink": false
       },
       "data": [
        {
         "type": "histogram",
         "x": [
          3453.419687219792,
          308.9945057272917,
          468.927441819625,
          2569.866550199708,
          5287.086873363209,
          2891.6547711143317,
          662.2411025590001,
          4210.362721967791,
          5118.254776960039,
          1561.571427700708,
          768.32989464125,
          2901.6529299887075,
          461.611647700375,
          4689.879450125247,
          2850.4647321876664,
          4712.554903259959,
          496.59245817820835,
          856.759973206417,
          4467.80753199629,
          719.6017703657084,
          498.2007984852916,
          4675.668868207043,
          694.9070224218334,
          4371.838272937874,
          534.0964264565835,
          4820.759647800748,
          3362.1402137856235,
          245.38674581345833,
          2106.3249042150837,
          387.684210442625,
          7872.035798502544,
          7411.711628511333,
          384.04405335775004,
          556.142905712125,
          5406.066340994499,
          437.0631631094167,
          5129.224217792457,
          3943.6489587188735,
          3088.951578043375,
          489.2659164595832,
          3959.7839954438737,
          4069.9360170992913,
          457.52331375591655,
          595.8243726432918,
          7212.760437607465,
          5903.970120377669,
          5436.424058051585,
          515.0825111251667,
          722.1465950797501,
          309.6651587505833,
          592.9614974032085,
          5895.832854797959,
          8756.199087251329,
          501.4983764881666,
          577.2659330755832,
          501.13339743100005,
          6335.587479178915,
          679.7292265077082,
          2785.20392002575,
          296.53540978045834,
          314.4374445932083,
          467.3977096609167,
          5680.614974045295,
          666.3280152018332,
          840.2093805548333,
          4318.818425258203,
          5084.6876049224165,
          944.9593392909583,
          8753.31110175845,
          387.0178816689167,
          855.7419522089165,
          259.16195490866664,
          534.744203098125,
          3434.592821362917,
          535.7660531711666,
          752.174915776375,
          1089.329564965125,
          3214.7744353144176,
          696.6541948007916,
          5338.3043295805055,
          793.7820922265416,
          4634.026301939876,
          4825.758250792545,
          344.02025991749997,
          4691.68322881037,
          3300.9845019797062,
          8240.754734477247,
          4838.602122321374,
          4768.165675264289,
          2601.8904356285834,
          7393.066782589334,
          697.6525475018332,
          510.0305329714584,
          5860.6277610471625,
          314.58995575366674,
          475.31866379912486,
          4898.835372693001,
          3937.3185743397526,
          5003.337946146122,
          6811.7371830847915,
          2827.3427162086246,
          345.24566837137496,
          314.132579957625,
          3384.898317040209,
          497.0236931812915,
          544.0786422565416,
          5290.524850101707,
          6700.0866554483355,
          4909.928759026796,
          650.2375712669582,
          663.2485948754584,
          3401.4134256716225,
          7969.428071306002,
          2807.966572036459,
          3081.825729325669,
          2716.5181656225436,
          5810.17548439729,
          3131.9261351695827,
          2911.5179023023334,
          3118.5003579908753,
          711.1605149925001,
          5887.12894900875,
          5534.927874019712,
          572.1861828890417,
          6778.664025271296,
          8694.627978796554,
          6563.051184911499,
          1401.7425297014581,
          4269.760942226583,
          4649.196941770624,
          690.3511935997501,
          869.3212093717918,
          305.3264495471249,
          4890.809820295748,
          8470.04151305116,
          783.6852859227915,
          5039.0874872818695,
          4412.562280695248,
          3010.9829462963753,
          578.7037219955834,
          6148.689881049831,
          4124.263243876626,
          659.015195435875,
          3402.418598160291,
          506.80128448241663,
          475.0086217115417,
          3187.7384425963346,
          480.60601570695826,
          2451.336307533832,
          6072.794634751965,
          6309.699444545706,
          4272.327778000832,
          7854.950272245385,
          460.8440348068749,
          343.07397431387506,
          365.67851962395827,
          3525.800071192958,
          3127.9366011390007,
          295.56247521229164,
          392.03967318120834,
          2589.3820694009974,
          583.5105967633333,
          661.981601780375,
          350.1885101617083,
          546.0987287389166,
          613.1262156115832,
          538.2801126563749,
          303.90466163,
          5999.311476022708,
          3148.6013857854173,
          359.80396190625004,
          920.7204038040833,
          438.7133148546668,
          3929.656664644706,
          2324.677950406208,
          691.9280506084168,
          6683.986938188577,
          609.7424926765417,
          533.9731042235,
          403.3321485675416,
          3152.913262360709,
          493.89095161975,
          5326.668518153167,
          3467.209308055916,
          1946.5581582561665,
          683.856556981125,
          370.2075498228749,
          2866.562042607749,
          615.3641322774581,
          5340.935837480663,
          2828.7562502062488,
          2253.8593909739993,
          6542.454124819382,
          3584.0588161778755,
          5941.105268846167,
          4231.316179949039,
          4373.413051943125,
          8682.380525443254,
          4298.345329002829,
          303.6390421602083,
          1012.8751108478333,
          4167.650470003082,
          2401.944065957999,
          463.2161697800834,
          4923.091171692836,
          5669.668335150042,
          3216.244494155669,
          4120.8598669825815,
          2976.5734477140422,
          703.7530852369998,
          280.95388738087496,
          4097.793658298373,
          2772.273974286501,
          3838.039223334793,
          2235.586250755624,
          3874.2737340739586,
          2238.0633932982087,
          6578.529612511828,
          4516.309509820376,
          1076.505054088667,
          4244.511804758377,
          2730.940317304917,
          7026.033475212755,
          530.9960686611666,
          2181.3257090944576,
          483.9290414210417,
          1343.1770654757076,
          2857.7196481574565,
          2318.9669259494576,
          8336.528611794585,
          4957.628451080418,
          3402.061127956583,
          2908.0521800580423,
          2068.959182309042,
          903.9504533672498,
          4011.0658035182455,
          480.8107581905,
          3168.9023072797086,
          8466.595501091333,
          404.69334856779165,
          5318.782862305038,
          425.71984893779165,
          2537.159986951584,
          348.0442458811667,
          3664.9330858718354,
          4077.9130315675006,
          2920.752199598668,
          742.5986815448334,
          6853.423789538164,
          2792.379819435664,
          5190.60333301217,
          738.5575238571249,
          2875.6974938213307,
          2816.1988101797483,
          3026.41845206354,
          507.855670288625,
          3028.4242148944995,
          739.9263626032916,
          799.7353670548332,
          304.3936286053333,
          2445.3416846720834,
          3929.1088366265412,
          3665.8687633857053,
          2141.237556677624,
          3514.937154327417,
          557.7182266012916,
          378.8997649471667,
          624.5763465450832,
          3777.9359078126245,
          8295.19214586083,
          369.0581040732499,
          3879.029135577502,
          3598.1103613649566,
          4170.572693200749,
          2726.743179671793,
          364.040878684875,
          4371.025810754167,
          5363.398360882832,
          2904.8033211520847,
          596.7730300876249,
          7225.950274835204,
          2730.7276296211253,
          989.5220882879997,
          3977.077064155796,
          532.6444561415834,
          549.080730595875,
          9058.916066086997,
          3753.83036904521,
          463.37704615945825,
          3773.4257072276246,
          4751.368167358539,
          899.337646905,
          523.2397460158751,
          495.85240505712505,
          653.2116251111249,
          663.1858992306248,
          5426.188588189499,
          413.5939852903334,
          3872.97983198104,
          771.8663953000417,
          7283.962209144336,
          520.772951293,
          3718.4000469221223,
          6591.156347025003,
          3561.7597085336242,
          3424.3786182162903,
          2722.3097759298334,
          637.8912297740002,
          3961.91767483504,
          4755.810012628292,
          408.9064549632083,
          3357.41937012221,
          3437.7957912861216,
          3732.793717949875,
          742.220789768875,
          382.26640817837495,
          5956.097133952002,
          5100.213212888787,
          387.58537699724997,
          3297.040764658876,
          5703.20262529883,
          885.9248764743334,
          5094.072915457336,
          4180.35404727054,
          4104.27225493425,
          7712.32993761692,
          2875.1016539354587,
          2109.050211593916,
          4518.523643311831,
          3778.4321547910436,
          4748.032498098917,
          4674.317749723209,
          740.3108118481249,
          4929.024050044042,
          425.4791584405,
          4978.395710239457,
          6904.018899756084,
          2975.82833773125,
          2008.995867208625,
          2941.2889565637925,
          4688.44839391917,
          3770.305301647502,
          4670.297356627834,
          2808.5571349695,
          2443.1994404244983,
          4870.068973850666,
          472.5828104942917,
          5215.076238670747,
          9433.435011688664,
          3315.2215375250416,
          250.95797056633336,
          7855.896643907702,
          516.679809334625,
          3312.9385252282495,
          5051.715551186836,
          2901.5087636186254,
          2815.475074664667,
          1089.0099368160002,
          3746.8963362531613,
          626.1341574140415,
          506.3491891116666,
          4243.467559072041,
          3162.773171425875,
          6531.078351224667,
          846.8417769016249,
          5604.604660688289,
          430.94728907312503,
          450.2366113002083,
          404.19701663866664,
          752.2883816142083,
          249.7626877095,
          1705.382293204959,
          418.8145477075833,
          489.3195616013333,
          6552.551089036288,
          541.4717947481665,
          4202.623312425915,
          613.2203848786666,
          3821.1278507718766,
          3058.8969018148323,
          6322.437115927418,
          219.16100193754164,
          3782.368667346918,
          3120.1944280602906,
          3455.3921889622525,
          3396.7968964930415,
          5294.443626417333,
          4519.532282684668,
          3220.711877208458,
          1483.6716701911664,
          397.0193459535,
          393.8120595109584,
          399.7917878820416,
          4046.387641134999,
          6304.584011690828,
          4822.943247455833,
          483.34339119858333,
          3352.664454633834,
          2907.313957289415,
          4849.174390591792,
          4874.290226028043,
          2728.0135381404175,
          454.62228080170814,
          2506.4215645767918,
          2566.471833152332,
          3194.6136331883345,
          4788.79220246125,
          291.3084723892917,
          3634.3233533784573,
          5273.331309413875,
          5659.472132964881,
          973.4927799601662,
          3808.3381569680005,
          3603.897623701959,
          3261.953967613293,
          431.11351691845834,
          3020.8208959845415,
          2809.144604012082,
          3210.8176947509182,
          485.56701944241655,
          25.691293393000002,
          3180.321812670709,
          2850.9951738699615,
          707.6729011705833,
          7978.429179446624,
          1192.9044020835834,
          3218.7416698029156,
          3738.9004747142067,
          2360.266137191375,
          535.699218059625,
          3581.163981489455,
          2358.372486297166,
          2560.284957157,
          359.40830901116675,
          677.2582799090002,
          4647.33369227558,
          2553.409824572917,
          35.566946074791666,
          5209.50206823454,
          5423.097294383334,
          2813.949837900626,
          664.7320401342082,
          437.15513891679166,
          3153.188270252081,
          2925.452543050707,
          4948.055205537878,
          474.9678031522917,
          355.9850228055834,
          532.955063005625,
          3836.572201285251,
          706.1513185107916,
          440.0789028271666,
          734.8479432963749,
          4774.626778130541,
          5825.357570667127,
          8249.871157937958,
          851.1837880307501,
          444.3358881467499,
          4128.464959952499,
          557.0538774112084,
          714.6971795479584,
          372.35962412445826,
          353.65265708916667,
          880.7063631425418,
          3300.349255801457,
          847.9220239953748,
          8783.17278278221,
          946.0960264735833,
          3494.7792947759986,
          5047.976367444909,
          594.1722729717916,
          3273.7960249194166,
          959.0622829764166,
          488.0834692029584,
          5275.203750811625,
          4033.8604710491654,
          275.82690226858335,
          319.17301207191673,
          737.3024752053333,
          2737.5039463978333,
          3696.9485165982924,
          670.2449411459583,
          714.3690915732501,
          4735.780145033667,
          2950.642476184082,
          1866.9014282077087,
          518.4080323828334,
          927.7348361338749,
          5524.597913546662,
          3154.877692574832,
          474.73234817083323,
          496.4397827597499,
          462.52331560333334,
          8386.296010110955,
          757.9809766443333,
          4047.3956766712904,
          3247.3669362264186,
          4373.5957858651645,
          812.6186513494167,
          7329.205579210377,
          3516.4030145951674,
          720.0416604957916,
          2152.5346590494573,
          815.4502354267499,
          6170.056155858836,
          2423.9905984875013,
          3390.7920884566674,
          3307.2875425601246,
          3281.522923055917,
          349.8899149564167,
          2468.508703019624,
          4428.257003683457,
          714.4642043882501,
          3665.904754505791,
          4351.733208248371,
          462.28414700166667,
          841.1610935414999,
          4067.853175256543,
          3511.804572050664,
          3835.733171062206,
          581.4995279575,
          487.49979147579177,
          3416.9786867483335,
          502.9074211412084,
          2394.334530562249,
          558.6458704197917,
          3924.4093092575004,
          2927.214715487209,
          3552.4740252326674,
          3271.230895053625,
          4403.655227393124,
          3290.5444214489994,
          608.7959371701247,
          4192.473433887372,
          333.0128763006666,
          451.0546713213333,
          898.4350128506251,
          928.0257113455418,
          6467.249811920878,
          5634.070093405005,
          3229.9611429539154,
          4950.931870906124,
          413.00012016033344,
          444.90934035879167,
          4407.239374568585,
          3515.8950635726687,
          359.40888804620846,
          1158.2700566588746,
          279.50138398312504,
          6212.304101871749,
          2786.8608621751664,
          2465.644441686376,
          4429.712125926294,
          2838.3482853977935,
          360.09226884887505,
          3777.709654432,
          8619.207572142674,
          2807.8796727647477,
          4521.526719794666,
          5463.158904925082,
          3964.569798933877,
          378.5395730852916,
          5907.350723508539,
          557.083229333625,
          3605.1370581096216,
          3883.2707213438316,
          2659.895723086,
          3017.359528233209,
          419.8821055524999,
          6186.779817756204,
          772.9801263951667,
          7213.619676983201,
          4061.108079720043,
          549.4424586136249,
          661.0942963686665,
          4137.947231903332,
          6119.850317241541,
          7472.741311150583,
          3446.830972359207,
          528.7454240605415,
          9101.248322059506,
          577.9373128940416,
          787.741942114125,
          529.0407530495834,
          4415.008796513208,
          1259.9457572779168,
          2441.821212526791,
          2884.059046442292,
          799.7379736467916,
          760.7785576639167,
          3220.198915278334,
          425.6292146979166,
          5134.338689596703,
          9489.184157584665,
          405.80391296470833,
          822.6669830311666,
          6695.288202941501,
          6928.462901677463,
          524.9217655264166,
          5738.2155297108775,
          3372.699003544164,
          2844.9851715237087,
          447.28767240091673,
          5239.181693907875,
          612.895765041708,
          793.4516608056667,
          4941.175041329953,
          6500.828211349999,
          463.5329881505001,
          7367.050302295875,
          616.1026485354583,
          3942.369026113459,
          3815.1152342068335,
          513.6978815422916,
          5459.980548608664,
          2549.3460822578336,
          7501.462589732671,
          3847.6083330556644,
          6755.046312627335,
          5570.905007967119,
          5937.982805727791,
          5988.065493608957,
          407.37125807749993,
          3177.040127869417,
          336.6536259324167,
          615.7496296219166,
          527.3070231989584,
          5065.121594074912,
          5080.12284515059,
          740.5259905397919,
          3445.8879889416253,
          423.37439499991666,
          757.4788742123334,
          2994.8623475260842,
          258.145590539625,
          3058.79049245025,
          342.9717403243333,
          3584.457735045708,
          5329.429173609584,
          398.40262513799996,
          2579.5033199806244,
          696.2429431122085,
          442.5053371341666,
          551.5759735534999,
          665.4736721928751,
          766.76250696875,
          365.82942456758343,
          3531.068582782875,
          5818.9908596159985,
          9851.776737907749,
          9165.035320476582,
          3474.046405682167,
          6183.058666457,
          5383.527855925247,
          2530.992295847792,
          4334.058549543752,
          826.9302030758333,
          2516.201828440415,
          2982.9756149997115,
          696.4145190076669,
          527.1662414762916,
          502.85106012674987,
          4277.182648359919,
          2457.545721840166,
          7112.050544368787,
          6546.984885691089,
          2845.0807036649567,
          4206.447230825835,
          4099.698254086374,
          1125.6583813679995,
          1231.8512377509583,
          2574.85898191579,
          2291.663912195207,
          442.6383529210833,
          5574.848707211542,
          654.4379717861668,
          423.355432302125,
          589.0582640885415,
          7143.658496486625,
          309.0126211365416,
          4071.722185702083,
          6714.5704407646635,
          560.605980941875,
          498.6947510917917,
          429.2836218280832,
          8152.011422463129,
          4057.8379374877086,
          3608.1603844433344,
          379.8573763825,
          5890.427494220453,
          7439.92240364507,
          332.35564434175006,
          721.7884528529997,
          3194.6694149143764,
          700.55341490375,
          656.5423148420001,
          3028.0986380736654,
          205.97492376525003,
          2470.38143833075,
          4045.816594250541,
          3690.8254906218353,
          585.7875063434167,
          1334.247557302958,
          3380.9946969950406,
          5392.029048250794,
          2656.6791503451655,
          7138.301393679466,
          3954.8446410904994,
          526.4835312993748,
          3167.529191982961,
          534.5263072676249,
          2735.5363132136654,
          269.452157306375,
          632.7752155931252,
          5975.275997284121,
          1045.37878793375,
          1215.7690842346663,
          234.86948432775003,
          552.2670795852916,
          631.9657621670416,
          313.20953613933335,
          1019.1776982998748,
          6200.19093440508,
          3851.0408249999587,
          4074.9788568386234,
          5113.4628386957065,
          453.13353948470814,
          695.0658760637499,
          3494.9922625904187,
          3312.391277017709,
          631.8557599729997,
          395.8729352595001,
          4197.244839702373,
          3270.323712427335,
          3241.301360893251,
          4431.551538282211,
          469.91609898370814,
          5286.63847785179,
          663.6948696233333,
          3248.2859869330814,
          585.3219900665,
          584.187433968625,
          2867.5161484431683,
          793.5897450442079,
          6301.552325421071,
          3152.3059440729985,
          4640.591966841123,
          517.8645195114583,
          2973.763792383045,
          3042.204485081333,
          675.0787024340002,
          4136.016352885958,
          292.75615452795836,
          4877.536684276749,
          889.1682758200833,
          508.0464172867499,
          2966.912282027295,
          368.996487347875,
          494.12606826741666,
          408.16816304391665,
          5410.5642856390805,
          2370.4926068610835,
          283.789538391125,
          3562.0151757435397,
          541.6011872459584,
          6690.972690170791,
          533.448333752375,
          606.0377569875417,
          383.21963345470834,
          3476.1860257002895,
          6145.073165515665,
          3289.8912240539153,
          2295.6294409322504,
          2906.0379350840003,
          1252.6968518375415,
          2685.7555138015814,
          2654.2298855947897,
          3127.962106968374,
          910.5781266584165,
          1258.8713599457087,
          4261.342776512832,
          5130.89242800696,
          909.9348375661666,
          2600.789327860124,
          1039.6872360060831,
          341.30966258279165,
          7692.156848498286,
          3450.4146123178757,
          4710.805418923956,
          3065.498056142832,
          4330.002689985333,
          5349.260105170787,
          4475.794445299957,
          6337.211617834745,
          7243.573966489454,
          628.8085771679583,
          391.18337233087505,
          539.2008949703333,
          4193.685011321834,
          4054.2991362729613,
          6909.718856512292,
          409.51144920058323,
          512.0682647009166,
          4029.5563675409553,
          584.3000340911249,
          652.3377771895417,
          5659.854165304584,
          5059.296565302706,
          2479.1735616472897,
          411.1771765054999,
          382.9665038200832,
          5934.789304231464,
          659.4246179222919,
          414.424309353,
          570.0126267468332,
          4976.232553913958,
          533.2274321775417,
          589.287828275875,
          847.502489659625,
          3426.4899293242524,
          1231.3912795775836,
          733.8249030531249,
          3332.6961699799563,
          3438.0433151413345,
          4292.486499537252,
          3936.9598252554983,
          190.87026612283333,
          2956.3105868553334,
          639.671226271875,
          429.707400380875,
          6392.2034386614605,
          4915.17357369812,
          3468.8391988325407,
          449.1282153678333,
          3476.3707816821247,
          6114.858169921957,
          377.1608341692084,
          5812.1699938368765,
          4424.83721519046
         ]
        }
       ],
       "layout": {
        "template": {
         "data": {
          "bar": [
           {
            "error_x": {
             "color": "#2a3f5f"
            },
            "error_y": {
             "color": "#2a3f5f"
            },
            "marker": {
             "line": {
              "color": "#E5ECF6",
              "width": 0.5
             }
            },
            "type": "bar"
           }
          ],
          "barpolar": [
           {
            "marker": {
             "line": {
              "color": "#E5ECF6",
              "width": 0.5
             }
            },
            "type": "barpolar"
           }
          ],
          "carpet": [
           {
            "aaxis": {
             "endlinecolor": "#2a3f5f",
             "gridcolor": "white",
             "linecolor": "white",
             "minorgridcolor": "white",
             "startlinecolor": "#2a3f5f"
            },
            "baxis": {
             "endlinecolor": "#2a3f5f",
             "gridcolor": "white",
             "linecolor": "white",
             "minorgridcolor": "white",
             "startlinecolor": "#2a3f5f"
            },
            "type": "carpet"
           }
          ],
          "choropleth": [
           {
            "colorbar": {
             "outlinewidth": 0,
             "ticks": ""
            },
            "type": "choropleth"
           }
          ],
          "contour": [
           {
            "colorbar": {
             "outlinewidth": 0,
             "ticks": ""
            },
            "colorscale": [
             [
              0,
              "#0d0887"
             ],
             [
              0.1111111111111111,
              "#46039f"
             ],
             [
              0.2222222222222222,
              "#7201a8"
             ],
             [
              0.3333333333333333,
              "#9c179e"
             ],
             [
              0.4444444444444444,
              "#bd3786"
             ],
             [
              0.5555555555555556,
              "#d8576b"
             ],
             [
              0.6666666666666666,
              "#ed7953"
             ],
             [
              0.7777777777777778,
              "#fb9f3a"
             ],
             [
              0.8888888888888888,
              "#fdca26"
             ],
             [
              1,
              "#f0f921"
             ]
            ],
            "type": "contour"
           }
          ],
          "contourcarpet": [
           {
            "colorbar": {
             "outlinewidth": 0,
             "ticks": ""
            },
            "type": "contourcarpet"
           }
          ],
          "heatmap": [
           {
            "colorbar": {
             "outlinewidth": 0,
             "ticks": ""
            },
            "colorscale": [
             [
              0,
              "#0d0887"
             ],
             [
              0.1111111111111111,
              "#46039f"
             ],
             [
              0.2222222222222222,
              "#7201a8"
             ],
             [
              0.3333333333333333,
              "#9c179e"
             ],
             [
              0.4444444444444444,
              "#bd3786"
             ],
             [
              0.5555555555555556,
              "#d8576b"
             ],
             [
              0.6666666666666666,
              "#ed7953"
             ],
             [
              0.7777777777777778,
              "#fb9f3a"
             ],
             [
              0.8888888888888888,
              "#fdca26"
             ],
             [
              1,
              "#f0f921"
             ]
            ],
            "type": "heatmap"
           }
          ],
          "heatmapgl": [
           {
            "colorbar": {
             "outlinewidth": 0,
             "ticks": ""
            },
            "colorscale": [
             [
              0,
              "#0d0887"
             ],
             [
              0.1111111111111111,
              "#46039f"
             ],
             [
              0.2222222222222222,
              "#7201a8"
             ],
             [
              0.3333333333333333,
              "#9c179e"
             ],
             [
              0.4444444444444444,
              "#bd3786"
             ],
             [
              0.5555555555555556,
              "#d8576b"
             ],
             [
              0.6666666666666666,
              "#ed7953"
             ],
             [
              0.7777777777777778,
              "#fb9f3a"
             ],
             [
              0.8888888888888888,
              "#fdca26"
             ],
             [
              1,
              "#f0f921"
             ]
            ],
            "type": "heatmapgl"
           }
          ],
          "histogram": [
           {
            "marker": {
             "colorbar": {
              "outlinewidth": 0,
              "ticks": ""
             }
            },
            "type": "histogram"
           }
          ],
          "histogram2d": [
           {
            "colorbar": {
             "outlinewidth": 0,
             "ticks": ""
            },
            "colorscale": [
             [
              0,
              "#0d0887"
             ],
             [
              0.1111111111111111,
              "#46039f"
             ],
             [
              0.2222222222222222,
              "#7201a8"
             ],
             [
              0.3333333333333333,
              "#9c179e"
             ],
             [
              0.4444444444444444,
              "#bd3786"
             ],
             [
              0.5555555555555556,
              "#d8576b"
             ],
             [
              0.6666666666666666,
              "#ed7953"
             ],
             [
              0.7777777777777778,
              "#fb9f3a"
             ],
             [
              0.8888888888888888,
              "#fdca26"
             ],
             [
              1,
              "#f0f921"
             ]
            ],
            "type": "histogram2d"
           }
          ],
          "histogram2dcontour": [
           {
            "colorbar": {
             "outlinewidth": 0,
             "ticks": ""
            },
            "colorscale": [
             [
              0,
              "#0d0887"
             ],
             [
              0.1111111111111111,
              "#46039f"
             ],
             [
              0.2222222222222222,
              "#7201a8"
             ],
             [
              0.3333333333333333,
              "#9c179e"
             ],
             [
              0.4444444444444444,
              "#bd3786"
             ],
             [
              0.5555555555555556,
              "#d8576b"
             ],
             [
              0.6666666666666666,
              "#ed7953"
             ],
             [
              0.7777777777777778,
              "#fb9f3a"
             ],
             [
              0.8888888888888888,
              "#fdca26"
             ],
             [
              1,
              "#f0f921"
             ]
            ],
            "type": "histogram2dcontour"
           }
          ],
          "mesh3d": [
           {
            "colorbar": {
             "outlinewidth": 0,
             "ticks": ""
            },
            "type": "mesh3d"
           }
          ],
          "parcoords": [
           {
            "line": {
             "colorbar": {
              "outlinewidth": 0,
              "ticks": ""
             }
            },
            "type": "parcoords"
           }
          ],
          "scatter": [
           {
            "marker": {
             "colorbar": {
              "outlinewidth": 0,
              "ticks": ""
             }
            },
            "type": "scatter"
           }
          ],
          "scatter3d": [
           {
            "line": {
             "colorbar": {
              "outlinewidth": 0,
              "ticks": ""
             }
            },
            "marker": {
             "colorbar": {
              "outlinewidth": 0,
              "ticks": ""
             }
            },
            "type": "scatter3d"
           }
          ],
          "scattercarpet": [
           {
            "marker": {
             "colorbar": {
              "outlinewidth": 0,
              "ticks": ""
             }
            },
            "type": "scattercarpet"
           }
          ],
          "scattergeo": [
           {
            "marker": {
             "colorbar": {
              "outlinewidth": 0,
              "ticks": ""
             }
            },
            "type": "scattergeo"
           }
          ],
          "scattergl": [
           {
            "marker": {
             "colorbar": {
              "outlinewidth": 0,
              "ticks": ""
             }
            },
            "type": "scattergl"
           }
          ],
          "scattermapbox": [
           {
            "marker": {
             "colorbar": {
              "outlinewidth": 0,
              "ticks": ""
             }
            },
            "type": "scattermapbox"
           }
          ],
          "scatterpolar": [
           {
            "marker": {
             "colorbar": {
              "outlinewidth": 0,
              "ticks": ""
             }
            },
            "type": "scatterpolar"
           }
          ],
          "scatterpolargl": [
           {
            "marker": {
             "colorbar": {
              "outlinewidth": 0,
              "ticks": ""
             }
            },
            "type": "scatterpolargl"
           }
          ],
          "scatterternary": [
           {
            "marker": {
             "colorbar": {
              "outlinewidth": 0,
              "ticks": ""
             }
            },
            "type": "scatterternary"
           }
          ],
          "surface": [
           {
            "colorbar": {
             "outlinewidth": 0,
             "ticks": ""
            },
            "colorscale": [
             [
              0,
              "#0d0887"
             ],
             [
              0.1111111111111111,
              "#46039f"
             ],
             [
              0.2222222222222222,
              "#7201a8"
             ],
             [
              0.3333333333333333,
              "#9c179e"
             ],
             [
              0.4444444444444444,
              "#bd3786"
             ],
             [
              0.5555555555555556,
              "#d8576b"
             ],
             [
              0.6666666666666666,
              "#ed7953"
             ],
             [
              0.7777777777777778,
              "#fb9f3a"
             ],
             [
              0.8888888888888888,
              "#fdca26"
             ],
             [
              1,
              "#f0f921"
             ]
            ],
            "type": "surface"
           }
          ],
          "table": [
           {
            "cells": {
             "fill": {
              "color": "#EBF0F8"
             },
             "line": {
              "color": "white"
             }
            },
            "header": {
             "fill": {
              "color": "#C8D4E3"
             },
             "line": {
              "color": "white"
             }
            },
            "type": "table"
           }
          ]
         },
         "layout": {
          "annotationdefaults": {
           "arrowcolor": "#2a3f5f",
           "arrowhead": 0,
           "arrowwidth": 1
          },
          "colorscale": {
           "diverging": [
            [
             0,
             "#8e0152"
            ],
            [
             0.1,
             "#c51b7d"
            ],
            [
             0.2,
             "#de77ae"
            ],
            [
             0.3,
             "#f1b6da"
            ],
            [
             0.4,
             "#fde0ef"
            ],
            [
             0.5,
             "#f7f7f7"
            ],
            [
             0.6,
             "#e6f5d0"
            ],
            [
             0.7,
             "#b8e186"
            ],
            [
             0.8,
             "#7fbc41"
            ],
            [
             0.9,
             "#4d9221"
            ],
            [
             1,
             "#276419"
            ]
           ],
           "sequential": [
            [
             0,
             "#0d0887"
            ],
            [
             0.1111111111111111,
             "#46039f"
            ],
            [
             0.2222222222222222,
             "#7201a8"
            ],
            [
             0.3333333333333333,
             "#9c179e"
            ],
            [
             0.4444444444444444,
             "#bd3786"
            ],
            [
             0.5555555555555556,
             "#d8576b"
            ],
            [
             0.6666666666666666,
             "#ed7953"
            ],
            [
             0.7777777777777778,
             "#fb9f3a"
            ],
            [
             0.8888888888888888,
             "#fdca26"
            ],
            [
             1,
             "#f0f921"
            ]
           ],
           "sequentialminus": [
            [
             0,
             "#0d0887"
            ],
            [
             0.1111111111111111,
             "#46039f"
            ],
            [
             0.2222222222222222,
             "#7201a8"
            ],
            [
             0.3333333333333333,
             "#9c179e"
            ],
            [
             0.4444444444444444,
             "#bd3786"
            ],
            [
             0.5555555555555556,
             "#d8576b"
            ],
            [
             0.6666666666666666,
             "#ed7953"
            ],
            [
             0.7777777777777778,
             "#fb9f3a"
            ],
            [
             0.8888888888888888,
             "#fdca26"
            ],
            [
             1,
             "#f0f921"
            ]
           ]
          },
          "colorway": [
           "#636efa",
           "#EF553B",
           "#00cc96",
           "#ab63fa",
           "#FFA15A",
           "#19d3f3",
           "#FF6692",
           "#B6E880",
           "#FF97FF",
           "#FECB52"
          ],
          "font": {
           "color": "#2a3f5f"
          },
          "geo": {
           "bgcolor": "white",
           "lakecolor": "white",
           "landcolor": "#E5ECF6",
           "showlakes": true,
           "showland": true,
           "subunitcolor": "white"
          },
          "hoverlabel": {
           "align": "left"
          },
          "hovermode": "closest",
          "mapbox": {
           "style": "light"
          },
          "paper_bgcolor": "white",
          "plot_bgcolor": "#E5ECF6",
          "polar": {
           "angularaxis": {
            "gridcolor": "white",
            "linecolor": "white",
            "ticks": ""
           },
           "bgcolor": "#E5ECF6",
           "radialaxis": {
            "gridcolor": "white",
            "linecolor": "white",
            "ticks": ""
           }
          },
          "scene": {
           "xaxis": {
            "backgroundcolor": "#E5ECF6",
            "gridcolor": "white",
            "gridwidth": 2,
            "linecolor": "white",
            "showbackground": true,
            "ticks": "",
            "zerolinecolor": "white"
           },
           "yaxis": {
            "backgroundcolor": "#E5ECF6",
            "gridcolor": "white",
            "gridwidth": 2,
            "linecolor": "white",
            "showbackground": true,
            "ticks": "",
            "zerolinecolor": "white"
           },
           "zaxis": {
            "backgroundcolor": "#E5ECF6",
            "gridcolor": "white",
            "gridwidth": 2,
            "linecolor": "white",
            "showbackground": true,
            "ticks": "",
            "zerolinecolor": "white"
           }
          },
          "shapedefaults": {
           "line": {
            "color": "#2a3f5f"
           }
          },
          "ternary": {
           "aaxis": {
            "gridcolor": "white",
            "linecolor": "white",
            "ticks": ""
           },
           "baxis": {
            "gridcolor": "white",
            "linecolor": "white",
            "ticks": ""
           },
           "bgcolor": "#E5ECF6",
           "caxis": {
            "gridcolor": "white",
            "linecolor": "white",
            "ticks": ""
           }
          },
          "title": {
           "x": 0.05
          },
          "xaxis": {
           "automargin": true,
           "gridcolor": "white",
           "linecolor": "white",
           "ticks": "",
           "zerolinecolor": "white",
           "zerolinewidth": 2
          },
          "yaxis": {
           "automargin": true,
           "gridcolor": "white",
           "linecolor": "white",
           "ticks": "",
           "zerolinecolor": "white",
           "zerolinewidth": 2
          }
         }
        },
        "title": {
         "text": "2m Revenue",
         "x": 0,
         "xref": "paper"
        },
        "xaxis": {
         "title": {
          "font": {
           "color": "#7f7f7f",
           "family": "Courier New, monospace",
           "size": 18
          },
          "text": "Revenue"
         }
        },
        "yaxis": {
         "title": {
          "font": {
           "color": "#7f7f7f",
           "family": "Courier New, monospace",
           "size": 18
          },
          "text": "Driver amount"
         }
        }
       }
      },
      "text/html": [
       "<div>\n",
       "        \n",
       "        \n",
       "            <div id=\"281db39e-75c9-4b80-a13f-258b52c29c45\" class=\"plotly-graph-div\" style=\"height:525px; width:100%;\"></div>\n",
       "            <script type=\"text/javascript\">\n",
       "                require([\"plotly\"], function(Plotly) {\n",
       "                    window.PLOTLYENV=window.PLOTLYENV || {};\n",
       "                    \n",
       "                if (document.getElementById(\"281db39e-75c9-4b80-a13f-258b52c29c45\")) {\n",
       "                    Plotly.newPlot(\n",
       "                        '281db39e-75c9-4b80-a13f-258b52c29c45',\n",
       "                        [{\"type\": \"histogram\", \"x\": [3453.419687219792, 308.9945057272917, 468.927441819625, 2569.866550199708, 5287.086873363209, 2891.6547711143317, 662.2411025590001, 4210.362721967791, 5118.254776960039, 1561.571427700708, 768.32989464125, 2901.6529299887075, 461.611647700375, 4689.879450125247, 2850.4647321876664, 4712.554903259959, 496.59245817820835, 856.759973206417, 4467.80753199629, 719.6017703657084, 498.2007984852916, 4675.668868207043, 694.9070224218334, 4371.838272937874, 534.0964264565835, 4820.759647800748, 3362.1402137856235, 245.38674581345833, 2106.3249042150837, 387.684210442625, 7872.035798502544, 7411.711628511333, 384.04405335775004, 556.142905712125, 5406.066340994499, 437.0631631094167, 5129.224217792457, 3943.6489587188735, 3088.951578043375, 489.2659164595832, 3959.7839954438737, 4069.9360170992913, 457.52331375591655, 595.8243726432918, 7212.760437607465, 5903.970120377669, 5436.424058051585, 515.0825111251667, 722.1465950797501, 309.6651587505833, 592.9614974032085, 5895.832854797959, 8756.199087251329, 501.4983764881666, 577.2659330755832, 501.13339743100005, 6335.587479178915, 679.7292265077082, 2785.20392002575, 296.53540978045834, 314.4374445932083, 467.3977096609167, 5680.614974045295, 666.3280152018332, 840.2093805548333, 4318.818425258203, 5084.6876049224165, 944.9593392909583, 8753.31110175845, 387.0178816689167, 855.7419522089165, 259.16195490866664, 534.744203098125, 3434.592821362917, 535.7660531711666, 752.174915776375, 1089.329564965125, 3214.7744353144176, 696.6541948007916, 5338.3043295805055, 793.7820922265416, 4634.026301939876, 4825.758250792545, 344.02025991749997, 4691.68322881037, 3300.9845019797062, 8240.754734477247, 4838.602122321374, 4768.165675264289, 2601.8904356285834, 7393.066782589334, 697.6525475018332, 510.0305329714584, 5860.6277610471625, 314.58995575366674, 475.31866379912486, 4898.835372693001, 3937.3185743397526, 5003.337946146122, 6811.7371830847915, 2827.3427162086246, 345.24566837137496, 314.132579957625, 3384.898317040209, 497.0236931812915, 544.0786422565416, 5290.524850101707, 6700.0866554483355, 4909.928759026796, 650.2375712669582, 663.2485948754584, 3401.4134256716225, 7969.428071306002, 2807.966572036459, 3081.825729325669, 2716.5181656225436, 5810.17548439729, 3131.9261351695827, 2911.5179023023334, 3118.5003579908753, 711.1605149925001, 5887.12894900875, 5534.927874019712, 572.1861828890417, 6778.664025271296, 8694.627978796554, 6563.051184911499, 1401.7425297014581, 4269.760942226583, 4649.196941770624, 690.3511935997501, 869.3212093717918, 305.3264495471249, 4890.809820295748, 8470.04151305116, 783.6852859227915, 5039.0874872818695, 4412.562280695248, 3010.9829462963753, 578.7037219955834, 6148.689881049831, 4124.263243876626, 659.015195435875, 3402.418598160291, 506.80128448241663, 475.0086217115417, 3187.7384425963346, 480.60601570695826, 2451.336307533832, 6072.794634751965, 6309.699444545706, 4272.327778000832, 7854.950272245385, 460.8440348068749, 343.07397431387506, 365.67851962395827, 3525.800071192958, 3127.9366011390007, 295.56247521229164, 392.03967318120834, 2589.3820694009974, 583.5105967633333, 661.981601780375, 350.1885101617083, 546.0987287389166, 613.1262156115832, 538.2801126563749, 303.90466163, 5999.311476022708, 3148.6013857854173, 359.80396190625004, 920.7204038040833, 438.7133148546668, 3929.656664644706, 2324.677950406208, 691.9280506084168, 6683.986938188577, 609.7424926765417, 533.9731042235, 403.3321485675416, 3152.913262360709, 493.89095161975, 5326.668518153167, 3467.209308055916, 1946.5581582561665, 683.856556981125, 370.2075498228749, 2866.562042607749, 615.3641322774581, 5340.935837480663, 2828.7562502062488, 2253.8593909739993, 6542.454124819382, 3584.0588161778755, 5941.105268846167, 4231.316179949039, 4373.413051943125, 8682.380525443254, 4298.345329002829, 303.6390421602083, 1012.8751108478333, 4167.650470003082, 2401.944065957999, 463.2161697800834, 4923.091171692836, 5669.668335150042, 3216.244494155669, 4120.8598669825815, 2976.5734477140422, 703.7530852369998, 280.95388738087496, 4097.793658298373, 2772.273974286501, 3838.039223334793, 2235.586250755624, 3874.2737340739586, 2238.0633932982087, 6578.529612511828, 4516.309509820376, 1076.505054088667, 4244.511804758377, 2730.940317304917, 7026.033475212755, 530.9960686611666, 2181.3257090944576, 483.9290414210417, 1343.1770654757076, 2857.7196481574565, 2318.9669259494576, 8336.528611794585, 4957.628451080418, 3402.061127956583, 2908.0521800580423, 2068.959182309042, 903.9504533672498, 4011.0658035182455, 480.8107581905, 3168.9023072797086, 8466.595501091333, 404.69334856779165, 5318.782862305038, 425.71984893779165, 2537.159986951584, 348.0442458811667, 3664.9330858718354, 4077.9130315675006, 2920.752199598668, 742.5986815448334, 6853.423789538164, 2792.379819435664, 5190.60333301217, 738.5575238571249, 2875.6974938213307, 2816.1988101797483, 3026.41845206354, 507.855670288625, 3028.4242148944995, 739.9263626032916, 799.7353670548332, 304.3936286053333, 2445.3416846720834, 3929.1088366265412, 3665.8687633857053, 2141.237556677624, 3514.937154327417, 557.7182266012916, 378.8997649471667, 624.5763465450832, 3777.9359078126245, 8295.19214586083, 369.0581040732499, 3879.029135577502, 3598.1103613649566, 4170.572693200749, 2726.743179671793, 364.040878684875, 4371.025810754167, 5363.398360882832, 2904.8033211520847, 596.7730300876249, 7225.950274835204, 2730.7276296211253, 989.5220882879997, 3977.077064155796, 532.6444561415834, 549.080730595875, 9058.916066086997, 3753.83036904521, 463.37704615945825, 3773.4257072276246, 4751.368167358539, 899.337646905, 523.2397460158751, 495.85240505712505, 653.2116251111249, 663.1858992306248, 5426.188588189499, 413.5939852903334, 3872.97983198104, 771.8663953000417, 7283.962209144336, 520.772951293, 3718.4000469221223, 6591.156347025003, 3561.7597085336242, 3424.3786182162903, 2722.3097759298334, 637.8912297740002, 3961.91767483504, 4755.810012628292, 408.9064549632083, 3357.41937012221, 3437.7957912861216, 3732.793717949875, 742.220789768875, 382.26640817837495, 5956.097133952002, 5100.213212888787, 387.58537699724997, 3297.040764658876, 5703.20262529883, 885.9248764743334, 5094.072915457336, 4180.35404727054, 4104.27225493425, 7712.32993761692, 2875.1016539354587, 2109.050211593916, 4518.523643311831, 3778.4321547910436, 4748.032498098917, 4674.317749723209, 740.3108118481249, 4929.024050044042, 425.4791584405, 4978.395710239457, 6904.018899756084, 2975.82833773125, 2008.995867208625, 2941.2889565637925, 4688.44839391917, 3770.305301647502, 4670.297356627834, 2808.5571349695, 2443.1994404244983, 4870.068973850666, 472.5828104942917, 5215.076238670747, 9433.435011688664, 3315.2215375250416, 250.95797056633336, 7855.896643907702, 516.679809334625, 3312.9385252282495, 5051.715551186836, 2901.5087636186254, 2815.475074664667, 1089.0099368160002, 3746.8963362531613, 626.1341574140415, 506.3491891116666, 4243.467559072041, 3162.773171425875, 6531.078351224667, 846.8417769016249, 5604.604660688289, 430.94728907312503, 450.2366113002083, 404.19701663866664, 752.2883816142083, 249.7626877095, 1705.382293204959, 418.8145477075833, 489.3195616013333, 6552.551089036288, 541.4717947481665, 4202.623312425915, 613.2203848786666, 3821.1278507718766, 3058.8969018148323, 6322.437115927418, 219.16100193754164, 3782.368667346918, 3120.1944280602906, 3455.3921889622525, 3396.7968964930415, 5294.443626417333, 4519.532282684668, 3220.711877208458, 1483.6716701911664, 397.0193459535, 393.8120595109584, 399.7917878820416, 4046.387641134999, 6304.584011690828, 4822.943247455833, 483.34339119858333, 3352.664454633834, 2907.313957289415, 4849.174390591792, 4874.290226028043, 2728.0135381404175, 454.62228080170814, 2506.4215645767918, 2566.471833152332, 3194.6136331883345, 4788.79220246125, 291.3084723892917, 3634.3233533784573, 5273.331309413875, 5659.472132964881, 973.4927799601662, 3808.3381569680005, 3603.897623701959, 3261.953967613293, 431.11351691845834, 3020.8208959845415, 2809.144604012082, 3210.8176947509182, 485.56701944241655, 25.691293393000002, 3180.321812670709, 2850.9951738699615, 707.6729011705833, 7978.429179446624, 1192.9044020835834, 3218.7416698029156, 3738.9004747142067, 2360.266137191375, 535.699218059625, 3581.163981489455, 2358.372486297166, 2560.284957157, 359.40830901116675, 677.2582799090002, 4647.33369227558, 2553.409824572917, 35.566946074791666, 5209.50206823454, 5423.097294383334, 2813.949837900626, 664.7320401342082, 437.15513891679166, 3153.188270252081, 2925.452543050707, 4948.055205537878, 474.9678031522917, 355.9850228055834, 532.955063005625, 3836.572201285251, 706.1513185107916, 440.0789028271666, 734.8479432963749, 4774.626778130541, 5825.357570667127, 8249.871157937958, 851.1837880307501, 444.3358881467499, 4128.464959952499, 557.0538774112084, 714.6971795479584, 372.35962412445826, 353.65265708916667, 880.7063631425418, 3300.349255801457, 847.9220239953748, 8783.17278278221, 946.0960264735833, 3494.7792947759986, 5047.976367444909, 594.1722729717916, 3273.7960249194166, 959.0622829764166, 488.0834692029584, 5275.203750811625, 4033.8604710491654, 275.82690226858335, 319.17301207191673, 737.3024752053333, 2737.5039463978333, 3696.9485165982924, 670.2449411459583, 714.3690915732501, 4735.780145033667, 2950.642476184082, 1866.9014282077087, 518.4080323828334, 927.7348361338749, 5524.597913546662, 3154.877692574832, 474.73234817083323, 496.4397827597499, 462.52331560333334, 8386.296010110955, 757.9809766443333, 4047.3956766712904, 3247.3669362264186, 4373.5957858651645, 812.6186513494167, 7329.205579210377, 3516.4030145951674, 720.0416604957916, 2152.5346590494573, 815.4502354267499, 6170.056155858836, 2423.9905984875013, 3390.7920884566674, 3307.2875425601246, 3281.522923055917, 349.8899149564167, 2468.508703019624, 4428.257003683457, 714.4642043882501, 3665.904754505791, 4351.733208248371, 462.28414700166667, 841.1610935414999, 4067.853175256543, 3511.804572050664, 3835.733171062206, 581.4995279575, 487.49979147579177, 3416.9786867483335, 502.9074211412084, 2394.334530562249, 558.6458704197917, 3924.4093092575004, 2927.214715487209, 3552.4740252326674, 3271.230895053625, 4403.655227393124, 3290.5444214489994, 608.7959371701247, 4192.473433887372, 333.0128763006666, 451.0546713213333, 898.4350128506251, 928.0257113455418, 6467.249811920878, 5634.070093405005, 3229.9611429539154, 4950.931870906124, 413.00012016033344, 444.90934035879167, 4407.239374568585, 3515.8950635726687, 359.40888804620846, 1158.2700566588746, 279.50138398312504, 6212.304101871749, 2786.8608621751664, 2465.644441686376, 4429.712125926294, 2838.3482853977935, 360.09226884887505, 3777.709654432, 8619.207572142674, 2807.8796727647477, 4521.526719794666, 5463.158904925082, 3964.569798933877, 378.5395730852916, 5907.350723508539, 557.083229333625, 3605.1370581096216, 3883.2707213438316, 2659.895723086, 3017.359528233209, 419.8821055524999, 6186.779817756204, 772.9801263951667, 7213.619676983201, 4061.108079720043, 549.4424586136249, 661.0942963686665, 4137.947231903332, 6119.850317241541, 7472.741311150583, 3446.830972359207, 528.7454240605415, 9101.248322059506, 577.9373128940416, 787.741942114125, 529.0407530495834, 4415.008796513208, 1259.9457572779168, 2441.821212526791, 2884.059046442292, 799.7379736467916, 760.7785576639167, 3220.198915278334, 425.6292146979166, 5134.338689596703, 9489.184157584665, 405.80391296470833, 822.6669830311666, 6695.288202941501, 6928.462901677463, 524.9217655264166, 5738.2155297108775, 3372.699003544164, 2844.9851715237087, 447.28767240091673, 5239.181693907875, 612.895765041708, 793.4516608056667, 4941.175041329953, 6500.828211349999, 463.5329881505001, 7367.050302295875, 616.1026485354583, 3942.369026113459, 3815.1152342068335, 513.6978815422916, 5459.980548608664, 2549.3460822578336, 7501.462589732671, 3847.6083330556644, 6755.046312627335, 5570.905007967119, 5937.982805727791, 5988.065493608957, 407.37125807749993, 3177.040127869417, 336.6536259324167, 615.7496296219166, 527.3070231989584, 5065.121594074912, 5080.12284515059, 740.5259905397919, 3445.8879889416253, 423.37439499991666, 757.4788742123334, 2994.8623475260842, 258.145590539625, 3058.79049245025, 342.9717403243333, 3584.457735045708, 5329.429173609584, 398.40262513799996, 2579.5033199806244, 696.2429431122085, 442.5053371341666, 551.5759735534999, 665.4736721928751, 766.76250696875, 365.82942456758343, 3531.068582782875, 5818.9908596159985, 9851.776737907749, 9165.035320476582, 3474.046405682167, 6183.058666457, 5383.527855925247, 2530.992295847792, 4334.058549543752, 826.9302030758333, 2516.201828440415, 2982.9756149997115, 696.4145190076669, 527.1662414762916, 502.85106012674987, 4277.182648359919, 2457.545721840166, 7112.050544368787, 6546.984885691089, 2845.0807036649567, 4206.447230825835, 4099.698254086374, 1125.6583813679995, 1231.8512377509583, 2574.85898191579, 2291.663912195207, 442.6383529210833, 5574.848707211542, 654.4379717861668, 423.355432302125, 589.0582640885415, 7143.658496486625, 309.0126211365416, 4071.722185702083, 6714.5704407646635, 560.605980941875, 498.6947510917917, 429.2836218280832, 8152.011422463129, 4057.8379374877086, 3608.1603844433344, 379.8573763825, 5890.427494220453, 7439.92240364507, 332.35564434175006, 721.7884528529997, 3194.6694149143764, 700.55341490375, 656.5423148420001, 3028.0986380736654, 205.97492376525003, 2470.38143833075, 4045.816594250541, 3690.8254906218353, 585.7875063434167, 1334.247557302958, 3380.9946969950406, 5392.029048250794, 2656.6791503451655, 7138.301393679466, 3954.8446410904994, 526.4835312993748, 3167.529191982961, 534.5263072676249, 2735.5363132136654, 269.452157306375, 632.7752155931252, 5975.275997284121, 1045.37878793375, 1215.7690842346663, 234.86948432775003, 552.2670795852916, 631.9657621670416, 313.20953613933335, 1019.1776982998748, 6200.19093440508, 3851.0408249999587, 4074.9788568386234, 5113.4628386957065, 453.13353948470814, 695.0658760637499, 3494.9922625904187, 3312.391277017709, 631.8557599729997, 395.8729352595001, 4197.244839702373, 3270.323712427335, 3241.301360893251, 4431.551538282211, 469.91609898370814, 5286.63847785179, 663.6948696233333, 3248.2859869330814, 585.3219900665, 584.187433968625, 2867.5161484431683, 793.5897450442079, 6301.552325421071, 3152.3059440729985, 4640.591966841123, 517.8645195114583, 2973.763792383045, 3042.204485081333, 675.0787024340002, 4136.016352885958, 292.75615452795836, 4877.536684276749, 889.1682758200833, 508.0464172867499, 2966.912282027295, 368.996487347875, 494.12606826741666, 408.16816304391665, 5410.5642856390805, 2370.4926068610835, 283.789538391125, 3562.0151757435397, 541.6011872459584, 6690.972690170791, 533.448333752375, 606.0377569875417, 383.21963345470834, 3476.1860257002895, 6145.073165515665, 3289.8912240539153, 2295.6294409322504, 2906.0379350840003, 1252.6968518375415, 2685.7555138015814, 2654.2298855947897, 3127.962106968374, 910.5781266584165, 1258.8713599457087, 4261.342776512832, 5130.89242800696, 909.9348375661666, 2600.789327860124, 1039.6872360060831, 341.30966258279165, 7692.156848498286, 3450.4146123178757, 4710.805418923956, 3065.498056142832, 4330.002689985333, 5349.260105170787, 4475.794445299957, 6337.211617834745, 7243.573966489454, 628.8085771679583, 391.18337233087505, 539.2008949703333, 4193.685011321834, 4054.2991362729613, 6909.718856512292, 409.51144920058323, 512.0682647009166, 4029.5563675409553, 584.3000340911249, 652.3377771895417, 5659.854165304584, 5059.296565302706, 2479.1735616472897, 411.1771765054999, 382.9665038200832, 5934.789304231464, 659.4246179222919, 414.424309353, 570.0126267468332, 4976.232553913958, 533.2274321775417, 589.287828275875, 847.502489659625, 3426.4899293242524, 1231.3912795775836, 733.8249030531249, 3332.6961699799563, 3438.0433151413345, 4292.486499537252, 3936.9598252554983, 190.87026612283333, 2956.3105868553334, 639.671226271875, 429.707400380875, 6392.2034386614605, 4915.17357369812, 3468.8391988325407, 449.1282153678333, 3476.3707816821247, 6114.858169921957, 377.1608341692084, 5812.1699938368765, 4424.83721519046]}],\n",
       "                        {\"template\": {\"data\": {\"bar\": [{\"error_x\": {\"color\": \"#2a3f5f\"}, \"error_y\": {\"color\": \"#2a3f5f\"}, \"marker\": {\"line\": {\"color\": \"#E5ECF6\", \"width\": 0.5}}, \"type\": \"bar\"}], \"barpolar\": [{\"marker\": {\"line\": {\"color\": \"#E5ECF6\", \"width\": 0.5}}, \"type\": \"barpolar\"}], \"carpet\": [{\"aaxis\": {\"endlinecolor\": \"#2a3f5f\", \"gridcolor\": \"white\", \"linecolor\": \"white\", \"minorgridcolor\": \"white\", \"startlinecolor\": \"#2a3f5f\"}, \"baxis\": {\"endlinecolor\": \"#2a3f5f\", \"gridcolor\": \"white\", \"linecolor\": \"white\", \"minorgridcolor\": \"white\", \"startlinecolor\": \"#2a3f5f\"}, \"type\": \"carpet\"}], \"choropleth\": [{\"colorbar\": {\"outlinewidth\": 0, \"ticks\": \"\"}, \"type\": \"choropleth\"}], \"contour\": [{\"colorbar\": {\"outlinewidth\": 0, \"ticks\": \"\"}, \"colorscale\": [[0.0, \"#0d0887\"], [0.1111111111111111, \"#46039f\"], [0.2222222222222222, \"#7201a8\"], [0.3333333333333333, \"#9c179e\"], [0.4444444444444444, \"#bd3786\"], [0.5555555555555556, \"#d8576b\"], [0.6666666666666666, \"#ed7953\"], [0.7777777777777778, \"#fb9f3a\"], [0.8888888888888888, \"#fdca26\"], [1.0, \"#f0f921\"]], \"type\": \"contour\"}], \"contourcarpet\": [{\"colorbar\": {\"outlinewidth\": 0, \"ticks\": \"\"}, \"type\": \"contourcarpet\"}], \"heatmap\": [{\"colorbar\": {\"outlinewidth\": 0, \"ticks\": \"\"}, \"colorscale\": [[0.0, \"#0d0887\"], [0.1111111111111111, \"#46039f\"], [0.2222222222222222, \"#7201a8\"], [0.3333333333333333, \"#9c179e\"], [0.4444444444444444, \"#bd3786\"], [0.5555555555555556, \"#d8576b\"], [0.6666666666666666, \"#ed7953\"], [0.7777777777777778, \"#fb9f3a\"], [0.8888888888888888, \"#fdca26\"], [1.0, \"#f0f921\"]], \"type\": \"heatmap\"}], \"heatmapgl\": [{\"colorbar\": {\"outlinewidth\": 0, \"ticks\": \"\"}, \"colorscale\": [[0.0, \"#0d0887\"], [0.1111111111111111, \"#46039f\"], [0.2222222222222222, \"#7201a8\"], [0.3333333333333333, \"#9c179e\"], [0.4444444444444444, \"#bd3786\"], [0.5555555555555556, \"#d8576b\"], [0.6666666666666666, \"#ed7953\"], [0.7777777777777778, \"#fb9f3a\"], [0.8888888888888888, \"#fdca26\"], [1.0, \"#f0f921\"]], \"type\": \"heatmapgl\"}], \"histogram\": [{\"marker\": {\"colorbar\": {\"outlinewidth\": 0, \"ticks\": \"\"}}, \"type\": \"histogram\"}], \"histogram2d\": [{\"colorbar\": {\"outlinewidth\": 0, \"ticks\": \"\"}, \"colorscale\": [[0.0, \"#0d0887\"], [0.1111111111111111, \"#46039f\"], [0.2222222222222222, \"#7201a8\"], [0.3333333333333333, \"#9c179e\"], [0.4444444444444444, \"#bd3786\"], [0.5555555555555556, \"#d8576b\"], [0.6666666666666666, \"#ed7953\"], [0.7777777777777778, \"#fb9f3a\"], [0.8888888888888888, \"#fdca26\"], [1.0, \"#f0f921\"]], \"type\": \"histogram2d\"}], \"histogram2dcontour\": [{\"colorbar\": {\"outlinewidth\": 0, \"ticks\": \"\"}, \"colorscale\": [[0.0, \"#0d0887\"], [0.1111111111111111, \"#46039f\"], [0.2222222222222222, \"#7201a8\"], [0.3333333333333333, \"#9c179e\"], [0.4444444444444444, \"#bd3786\"], [0.5555555555555556, \"#d8576b\"], [0.6666666666666666, \"#ed7953\"], [0.7777777777777778, \"#fb9f3a\"], [0.8888888888888888, \"#fdca26\"], [1.0, \"#f0f921\"]], \"type\": \"histogram2dcontour\"}], \"mesh3d\": [{\"colorbar\": {\"outlinewidth\": 0, \"ticks\": \"\"}, \"type\": \"mesh3d\"}], \"parcoords\": [{\"line\": {\"colorbar\": {\"outlinewidth\": 0, \"ticks\": \"\"}}, \"type\": \"parcoords\"}], \"scatter\": [{\"marker\": {\"colorbar\": {\"outlinewidth\": 0, \"ticks\": \"\"}}, \"type\": \"scatter\"}], \"scatter3d\": [{\"line\": {\"colorbar\": {\"outlinewidth\": 0, \"ticks\": \"\"}}, \"marker\": {\"colorbar\": {\"outlinewidth\": 0, \"ticks\": \"\"}}, \"type\": \"scatter3d\"}], \"scattercarpet\": [{\"marker\": {\"colorbar\": {\"outlinewidth\": 0, \"ticks\": \"\"}}, \"type\": \"scattercarpet\"}], \"scattergeo\": [{\"marker\": {\"colorbar\": {\"outlinewidth\": 0, \"ticks\": \"\"}}, \"type\": \"scattergeo\"}], \"scattergl\": [{\"marker\": {\"colorbar\": {\"outlinewidth\": 0, \"ticks\": \"\"}}, \"type\": \"scattergl\"}], \"scattermapbox\": [{\"marker\": {\"colorbar\": {\"outlinewidth\": 0, \"ticks\": \"\"}}, \"type\": \"scattermapbox\"}], \"scatterpolar\": [{\"marker\": {\"colorbar\": {\"outlinewidth\": 0, \"ticks\": \"\"}}, \"type\": \"scatterpolar\"}], \"scatterpolargl\": [{\"marker\": {\"colorbar\": {\"outlinewidth\": 0, \"ticks\": \"\"}}, \"type\": \"scatterpolargl\"}], \"scatterternary\": [{\"marker\": {\"colorbar\": {\"outlinewidth\": 0, \"ticks\": \"\"}}, \"type\": \"scatterternary\"}], \"surface\": [{\"colorbar\": {\"outlinewidth\": 0, \"ticks\": \"\"}, \"colorscale\": [[0.0, \"#0d0887\"], [0.1111111111111111, \"#46039f\"], [0.2222222222222222, \"#7201a8\"], [0.3333333333333333, \"#9c179e\"], [0.4444444444444444, \"#bd3786\"], [0.5555555555555556, \"#d8576b\"], [0.6666666666666666, \"#ed7953\"], [0.7777777777777778, \"#fb9f3a\"], [0.8888888888888888, \"#fdca26\"], [1.0, \"#f0f921\"]], \"type\": \"surface\"}], \"table\": [{\"cells\": {\"fill\": {\"color\": \"#EBF0F8\"}, \"line\": {\"color\": \"white\"}}, \"header\": {\"fill\": {\"color\": \"#C8D4E3\"}, \"line\": {\"color\": \"white\"}}, \"type\": \"table\"}]}, \"layout\": {\"annotationdefaults\": {\"arrowcolor\": \"#2a3f5f\", \"arrowhead\": 0, \"arrowwidth\": 1}, \"colorscale\": {\"diverging\": [[0, \"#8e0152\"], [0.1, \"#c51b7d\"], [0.2, \"#de77ae\"], [0.3, \"#f1b6da\"], [0.4, \"#fde0ef\"], [0.5, \"#f7f7f7\"], [0.6, \"#e6f5d0\"], [0.7, \"#b8e186\"], [0.8, \"#7fbc41\"], [0.9, \"#4d9221\"], [1, \"#276419\"]], \"sequential\": [[0.0, \"#0d0887\"], [0.1111111111111111, \"#46039f\"], [0.2222222222222222, \"#7201a8\"], [0.3333333333333333, \"#9c179e\"], [0.4444444444444444, \"#bd3786\"], [0.5555555555555556, \"#d8576b\"], [0.6666666666666666, \"#ed7953\"], [0.7777777777777778, \"#fb9f3a\"], [0.8888888888888888, \"#fdca26\"], [1.0, \"#f0f921\"]], \"sequentialminus\": [[0.0, \"#0d0887\"], [0.1111111111111111, \"#46039f\"], [0.2222222222222222, \"#7201a8\"], [0.3333333333333333, \"#9c179e\"], [0.4444444444444444, \"#bd3786\"], [0.5555555555555556, \"#d8576b\"], [0.6666666666666666, \"#ed7953\"], [0.7777777777777778, \"#fb9f3a\"], [0.8888888888888888, \"#fdca26\"], [1.0, \"#f0f921\"]]}, \"colorway\": [\"#636efa\", \"#EF553B\", \"#00cc96\", \"#ab63fa\", \"#FFA15A\", \"#19d3f3\", \"#FF6692\", \"#B6E880\", \"#FF97FF\", \"#FECB52\"], \"font\": {\"color\": \"#2a3f5f\"}, \"geo\": {\"bgcolor\": \"white\", \"lakecolor\": \"white\", \"landcolor\": \"#E5ECF6\", \"showlakes\": true, \"showland\": true, \"subunitcolor\": \"white\"}, \"hoverlabel\": {\"align\": \"left\"}, \"hovermode\": \"closest\", \"mapbox\": {\"style\": \"light\"}, \"paper_bgcolor\": \"white\", \"plot_bgcolor\": \"#E5ECF6\", \"polar\": {\"angularaxis\": {\"gridcolor\": \"white\", \"linecolor\": \"white\", \"ticks\": \"\"}, \"bgcolor\": \"#E5ECF6\", \"radialaxis\": {\"gridcolor\": \"white\", \"linecolor\": \"white\", \"ticks\": \"\"}}, \"scene\": {\"xaxis\": {\"backgroundcolor\": \"#E5ECF6\", \"gridcolor\": \"white\", \"gridwidth\": 2, \"linecolor\": \"white\", \"showbackground\": true, \"ticks\": \"\", \"zerolinecolor\": \"white\"}, \"yaxis\": {\"backgroundcolor\": \"#E5ECF6\", \"gridcolor\": \"white\", \"gridwidth\": 2, \"linecolor\": \"white\", \"showbackground\": true, \"ticks\": \"\", \"zerolinecolor\": \"white\"}, \"zaxis\": {\"backgroundcolor\": \"#E5ECF6\", \"gridcolor\": \"white\", \"gridwidth\": 2, \"linecolor\": \"white\", \"showbackground\": true, \"ticks\": \"\", \"zerolinecolor\": \"white\"}}, \"shapedefaults\": {\"line\": {\"color\": \"#2a3f5f\"}}, \"ternary\": {\"aaxis\": {\"gridcolor\": \"white\", \"linecolor\": \"white\", \"ticks\": \"\"}, \"baxis\": {\"gridcolor\": \"white\", \"linecolor\": \"white\", \"ticks\": \"\"}, \"bgcolor\": \"#E5ECF6\", \"caxis\": {\"gridcolor\": \"white\", \"linecolor\": \"white\", \"ticks\": \"\"}}, \"title\": {\"x\": 0.05}, \"xaxis\": {\"automargin\": true, \"gridcolor\": \"white\", \"linecolor\": \"white\", \"ticks\": \"\", \"zerolinecolor\": \"white\", \"zerolinewidth\": 2}, \"yaxis\": {\"automargin\": true, \"gridcolor\": \"white\", \"linecolor\": \"white\", \"ticks\": \"\", \"zerolinecolor\": \"white\", \"zerolinewidth\": 2}}}, \"title\": {\"text\": \"2m Revenue\", \"x\": 0, \"xref\": \"paper\"}, \"xaxis\": {\"title\": {\"font\": {\"color\": \"#7f7f7f\", \"family\": \"Courier New, monospace\", \"size\": 18}, \"text\": \"Revenue\"}}, \"yaxis\": {\"title\": {\"font\": {\"color\": \"#7f7f7f\", \"family\": \"Courier New, monospace\", \"size\": 18}, \"text\": \"Driver amount\"}}},\n",
       "                        {\"responsive\": true}\n",
       "                    ).then(function(){\n",
       "                            \n",
       "var gd = document.getElementById('281db39e-75c9-4b80-a13f-258b52c29c45');\n",
       "var x = new MutationObserver(function (mutations, observer) {{\n",
       "        var display = window.getComputedStyle(gd).display;\n",
       "        if (!display || display === 'none') {{\n",
       "            console.log([gd, 'removed!']);\n",
       "            Plotly.purge(gd);\n",
       "            observer.disconnect();\n",
       "        }}\n",
       "}});\n",
       "\n",
       "// Listen for the removal of the full notebook cells\n",
       "var notebookContainer = gd.closest('#notebook-container');\n",
       "if (notebookContainer) {{\n",
       "    x.observe(notebookContainer, {childList: true});\n",
       "}}\n",
       "\n",
       "// Listen for the clearing of the current output cell\n",
       "var outputEl = gd.closest('.output');\n",
       "if (outputEl) {{\n",
       "    x.observe(outputEl, {childList: true});\n",
       "}}\n",
       "\n",
       "                        })\n",
       "                };\n",
       "                });\n",
       "            </script>\n",
       "        </div>"
      ]
     },
     "metadata": {},
     "output_type": "display_data"
    }
   ],
   "source": [
    "driver_user_2m = driver_2m.groupby('driver_id')['total_fare'].sum().reset_index()\n",
    "driver_user_2m.columns = ['driver_id','m2_fare']\n",
    "plot_data = [\n",
    "    go.Histogram(\n",
    "        x=driver_user_2m.query('m2_fare < 10000')['m2_fare']\n",
    "    )\n",
    "]\n",
    "\n",
    "plot_layout = go.Layout(\n",
    "    title=go.layout.Title(\n",
    "        text='2m Revenue',\n",
    "        xref='paper',\n",
    "        x=0\n",
    "    ),\n",
    "    xaxis=go.layout.XAxis(\n",
    "        title=go.layout.xaxis.Title(\n",
    "            text='Revenue',\n",
    "            font=dict(\n",
    "                family='Courier New, monospace',\n",
    "                size=18,\n",
    "                color='#7f7f7f'\n",
    "            )\n",
    "        )\n",
    "    ),\n",
    "    yaxis=go.layout.YAxis(\n",
    "        title=go.layout.yaxis.Title(\n",
    "            text='Driver amount',\n",
    "            font=dict(\n",
    "                family='Courier New, monospace',\n",
    "                size=18,\n",
    "                color='#7f7f7f'\n",
    "            )\n",
    "        )\n",
    "    )\n",
    ")\n",
    "    \n",
    "fig = go.Figure(data=plot_data, layout=plot_layout)\n",
    "pyoff.iplot(fig)"
   ]
  },
  {
   "cell_type": "code",
   "execution_count": 205,
   "metadata": {},
   "outputs": [],
   "source": [
    "driver_merge = pd.merge(driver_user, driver_user_2m, on='driver_id', how='left')"
   ]
  },
  {
   "cell_type": "code",
   "execution_count": 206,
   "metadata": {},
   "outputs": [
    {
     "data": {
      "application/vnd.plotly.v1+json": {
       "config": {
        "linkText": "Export to plot.ly",
        "plotlyServerURL": "https://plot.ly",
        "showLink": false
       },
       "data": [
        {
         "marker": {
          "color": "blue",
          "line": {
           "width": 1
          },
          "opacity": 0.8,
          "size": 7
         },
         "mode": "markers",
         "name": "Low",
         "type": "scatter",
         "x": [
          1,
          2,
          2,
          2,
          2,
          2,
          2,
          2,
          2,
          2,
          2,
          2,
          2,
          2,
          2,
          2,
          2,
          2,
          2,
          2,
          2,
          2,
          2,
          2,
          2,
          2,
          2,
          2,
          2,
          2,
          2,
          2,
          2,
          2,
          2,
          2,
          2,
          2,
          2,
          2,
          2,
          2,
          2,
          2,
          2,
          2,
          2,
          2,
          2,
          2,
          2,
          2,
          2,
          2,
          2,
          2,
          2,
          2,
          2,
          2,
          2,
          2,
          2,
          2,
          2,
          2,
          2,
          2,
          2,
          2,
          2,
          2,
          2,
          1,
          1,
          1,
          1,
          1,
          1,
          1,
          1,
          1,
          1,
          1,
          1,
          1,
          1,
          1,
          1,
          1,
          1,
          1,
          1,
          1,
          1,
          1,
          1,
          1,
          1,
          1,
          1,
          1,
          1,
          1,
          1,
          1,
          0,
          0,
          0,
          0,
          0,
          0,
          0,
          0,
          0,
          0,
          0,
          0,
          0,
          0,
          0,
          0
         ],
         "y": [
          588.4770148072917,
          714.4642043882501,
          755.4402875432501,
          387.0552770059582,
          260.9357192557917,
          457.52331375591655,
          32.94208073316666,
          457.68191247620825,
          314.58995575366674,
          413.506227503,
          310.9270901864583,
          81.10227003416668,
          198.22574077566668,
          462.0741843195833,
          16.122353951,
          406.4390930132499,
          18.263339273333333,
          101.24459224941668,
          359.80396190625004,
          25.513827452833333,
          312.48807142275007,
          36.2148208535,
          34.008206812,
          297.9404460538334,
          449.4689201417085,
          8.754431824,
          403.5883060279999,
          167.89444322016666,
          63.588111649249996,
          282.8611796110417,
          343.3290384909583,
          171.42707593612496,
          25.691293393000002,
          44.4886714915,
          327.02985441925,
          352.41895964458337,
          181.78132881491666,
          129.51245474508335,
          64.29078941995833,
          385.9284918457916,
          106.03457788516666,
          322.9075402372083,
          155.60884113125002,
          273.2462304698333,
          124.36240570166667,
          401.01821931695827,
          146.60088393616667,
          411.9461126596666,
          326.5140646809167,
          226.73814234079165,
          71.49992213229167,
          95.45867764683334,
          312.7805179570833,
          199.73558525083337,
          132.59822896904166,
          271.2154327095,
          394.0815118213333,
          498.6947510917917,
          335.12057904974995,
          138.250326222625,
          393.8843994488332,
          534.5263072676249,
          43.25815733058334,
          31.725222181666666,
          121.53969166745833,
          243.44547381700002,
          117.53764993170833,
          177.92916080291667,
          430.35419983404154,
          154.67957942966663,
          69.13883426820834,
          320.81379025858337,
          449.1282153678333,
          496.59245817820835,
          302.8362885767917,
          387.0178816689167,
          151.1867290789583,
          312.7623812671249,
          242.236589991625,
          98.12803413345833,
          249.18838788420828,
          126.55989365770833,
          481.09374901475,
          429.5908755472916,
          89.40429867083333,
          474.9678031522917,
          440.0789028271666,
          149.30654193129163,
          372.35962412445826,
          46.766830387166664,
          517.7016317571666,
          279.50138398312504,
          28.140341518666666,
          342.9717403243333,
          332.35564434175006,
          28.802773574333333,
          56.324184249791664,
          460.04957186629167,
          7.276694225166667,
          157.76624789458333,
          395.8729352595001,
          27.693046168499997,
          238.17372595083333,
          136.50903176345832,
          408.16816304391665,
          324.5098913778332,
          123.8755175945,
          309.6651587505833,
          88.204867388125,
          233.00458592049998,
          303.6390421602083,
          453.75672988287505,
          250.95797056633336,
          418.8145477075833,
          156.5836600297083,
          350.5176699178334,
          8.791263936666667,
          413.00012016033344,
          407.37125807749993,
          258.145590539625,
          172.63603208279167,
          283.789538391125
         ]
        },
        {
         "marker": {
          "color": "green",
          "line": {
           "width": 1
          },
          "opacity": 0.5,
          "size": 9
         },
         "mode": "markers",
         "name": "Mid",
         "type": "scatter",
         "x": [
          4,
          4,
          4,
          4,
          4,
          4,
          4,
          4,
          4,
          4,
          4,
          4,
          4,
          4,
          4,
          4,
          4,
          4,
          4,
          4,
          3,
          3,
          3,
          3,
          3,
          3,
          4,
          4,
          4,
          4,
          4,
          4,
          4,
          4,
          4,
          4,
          4,
          4,
          4,
          4,
          4,
          4,
          4,
          4,
          4,
          4,
          3,
          3,
          3,
          3,
          3,
          3,
          3,
          3,
          3,
          3,
          3,
          3,
          3,
          3,
          3,
          3,
          3,
          3,
          3,
          3,
          3,
          3,
          3,
          3,
          3,
          3,
          3,
          3,
          3,
          3,
          3,
          3,
          3,
          3,
          3,
          3,
          3,
          3,
          3,
          3,
          3,
          3,
          3,
          3,
          3,
          3,
          3,
          3,
          3,
          3,
          3,
          3,
          3,
          3,
          3,
          3,
          3,
          3,
          3,
          3,
          3,
          3,
          3,
          3,
          3,
          3,
          3,
          3,
          3,
          3,
          3,
          3,
          3,
          3,
          3,
          3,
          3,
          3,
          3,
          3,
          3,
          3,
          3,
          3,
          3,
          3,
          3,
          3,
          3,
          3,
          3,
          3,
          3,
          3,
          3,
          3,
          3,
          3,
          3,
          3,
          3,
          3,
          3,
          3,
          3,
          3,
          3,
          3,
          3,
          3,
          3,
          3,
          3,
          3,
          3,
          3,
          3,
          3,
          3,
          3,
          3,
          3,
          3,
          3,
          3,
          3,
          3,
          3,
          3,
          3,
          3,
          3,
          3,
          3,
          3,
          3,
          3,
          3,
          3,
          3,
          3,
          3,
          3,
          3,
          3,
          3,
          3,
          3,
          3,
          3,
          3,
          3,
          3,
          3,
          3,
          3,
          3,
          3,
          3,
          3,
          3,
          3,
          3,
          3,
          3,
          3,
          3,
          3,
          3,
          3,
          3,
          3,
          3,
          3,
          3,
          3,
          3,
          3,
          3,
          3,
          3,
          3,
          3,
          3,
          3,
          3,
          3,
          3,
          3,
          3,
          3,
          3,
          3,
          3,
          3,
          3,
          3,
          3,
          3,
          3,
          3,
          4,
          3
         ],
         "y": [
          621.8358255939582,
          609.1566144658334,
          604.1328636966665,
          637.8108711425833,
          690.163606265375,
          598.1054196563749,
          673.8408612734165,
          582.2275673862085,
          552.0107493446667,
          553.81843779625,
          551.810143411,
          648.3862427554583,
          592.3254666162084,
          607.4762088809583,
          604.5992636958334,
          599.3277354772084,
          639.3020538454998,
          793.5897450442079,
          573.5467226172084,
          858.5375683964164,
          743.4697306638336,
          631.9304956080417,
          679.7673847156664,
          677.7601520417084,
          583.83628079525,
          728.6398774883334,
          697.1534806420415,
          1136.7430877652498,
          833.5536838288334,
          842.8175824072919,
          720.1908444556666,
          1030.0384075284164,
          599.9633350525,
          1192.9044020835834,
          847.9220239953748,
          679.4621684943334,
          675.4781894684168,
          842.2443774539169,
          828.9861832198337,
          910.913155732542,
          716.825878373,
          1151.5785490525827,
          560.605980941875,
          900.9064736882085,
          628.8085771679583,
          936.7565627883336,
          1168.8777641987504,
          1034.6991121396666,
          767.171732634875,
          835.8132402554164,
          1048.5872954230001,
          624.4863483615416,
          675.0787024340002,
          117.27705281912499,
          163.83233883629165,
          194.04575382275,
          46.09701422633333,
          335.8315335800416,
          266.7498529497083,
          315.85965396750004,
          293.59461184275,
          212.06722723754163,
          261.9781048149584,
          191.68430747770836,
          61.227361129500004,
          263.3286233499166,
          156.9529112637083,
          200.68376584145835,
          380.7246146539166,
          24.37810114883333,
          196.4973480922917,
          278.33087001616667,
          310.0266107156666,
          138.80965160616665,
          387.557860931,
          412.204592708125,
          520.7527954698331,
          196.09870820145835,
          191.66697939970834,
          221.22335917866664,
          68.44084062774999,
          487.33373844687503,
          510.97782839154155,
          95.7100382565,
          435.34921173345833,
          482.53453330933326,
          21.401860517666663,
          138.47886594099998,
          371.99795622095826,
          274.9999979185834,
          145.16339084583333,
          58.837474609666664,
          359.91455252254167,
          469.1467090906667,
          129.64252508325,
          157.678625975875,
          49.645154403666666,
          187.71116658824997,
          278.76245997391663,
          18.735141089166667,
          68.64878776941667,
          169.77346810558333,
          299.05799843012505,
          223.87621432270834,
          34.42158466391666,
          130.29040457820832,
          510.776746933625,
          157.82858918141665,
          167.23964529712498,
          65.44987843266667,
          483.6007769045833,
          123.63874342316667,
          89.48270632129166,
          496.8562139141668,
          38.3790507185,
          434.7274958486667,
          321.2466774735833,
          44.22283922583334,
          138.57222742904165,
          406.7116888508749,
          292.90734852083335,
          198.07246832091667,
          126.28640686591665,
          519.0972175876249,
          169.68480088949997,
          415.9796184428751,
          463.37704615945825,
          345.867417444,
          86.64304442074999,
          37.005475877833334,
          423.272790914375,
          355.8759776760416,
          134.41616307766665,
          321.59916429345833,
          206.59035474883333,
          81.415684769625,
          30.655069714499998,
          88.0090259015,
          454.6569178954166,
          32.878326775666665,
          144.01147891191667,
          373.8833287165417,
          450.2366113002083,
          451.85072455825,
          79.24523720100001,
          470.75659380916665,
          200.8524556436667,
          109.96161462004164,
          226.16134666520836,
          297.8509062945001,
          228.43511638075,
          177.30757839900002,
          77.1350092635,
          75.29610601445833,
          96.18365963983334,
          49.322619232375,
          7.226756527291666,
          131.71857598883332,
          382.58470401862496,
          168.495327072125,
          426.0143927470832,
          423.35952612854163,
          530.1286118067915,
          6.784824824333333,
          391.1639245502917,
          271.13254064325,
          492.2783787216667,
          523.3643583124582,
          385.3255996215,
          136.31944404195835,
          18.937336308541667,
          78.34322638433333,
          14.270950692333333,
          520.0851472661667,
          378.89954022475,
          494.0947209768334,
          99.61701262258332,
          406.81369154108324,
          143.63398180837498,
          182.938338203,
          167.66015232341667,
          232.34060129987503,
          22.292884396333335,
          73.75180672533332,
          467.9092559170834,
          446.1436376662083,
          229.62360736850002,
          465.88276979062493,
          5,
          315.2725279289167,
          381.16701460833326,
          371.01417458525,
          544.9580146268332,
          61.67235138129167,
          70.69318101924999,
          370.2348519564582,
          353.6694742500417,
          200.70012722566665,
          491.9332952792082,
          241.4273115875,
          274.0226318597083,
          330.81521297887497,
          128.14079777541667,
          407.120753708125,
          465.3194670591667,
          493.5522424697917,
          326.1934410767917,
          418.0547352504999,
          413.4424738670417,
          340.07421426566674,
          175.28758950974998,
          280.1577432081666,
          246.23175930604168,
          330.5728257070833,
          30.921204754541662,
          111.90859839433332,
          295.2618920194166,
          235.58695400133337,
          344.37002912362493,
          400.4112689624999,
          345.97499650191673,
          125.79837790345834,
          59.679608660708325,
          210.72953453612504,
          55.67252921883333,
          98.55381915624999,
          541.6011872459584,
          482.9127997376667,
          42.32425328633333,
          45.95499602545833,
          15.103874993333331,
          8.431756449333333,
          18.921977062833335,
          248.36530725204167,
          297.48213197916664,
          189.16965675025,
          512.0682647009166,
          520.6505404329167,
          259.51437623737496,
          460.2332769558749,
          286.06833838433323,
          29.40544050233333,
          287.27452147287505,
          481.0012974376666,
          384.6610280419167,
          135.38933166670833,
          187.17363606045836,
          528.4123450699999,
          534.744203098125
         ]
        },
        {
         "marker": {
          "color": "red",
          "line": {
           "width": 1
          },
          "opacity": 0.9,
          "size": 11
         },
         "mode": "markers",
         "name": "High",
         "type": "scatter",
         "x": [
          7,
          7,
          7,
          7,
          7,
          7,
          7,
          7,
          7,
          7,
          7,
          7,
          7,
          7,
          7,
          7,
          7,
          7,
          7,
          7,
          7,
          7,
          7,
          7,
          7,
          7,
          7,
          7,
          7,
          7,
          7,
          7,
          7,
          7,
          7,
          7,
          7,
          7,
          7,
          7,
          7,
          7,
          7,
          7,
          7,
          7,
          7,
          7,
          7,
          7,
          7,
          7,
          7,
          7,
          7,
          6,
          6,
          6,
          6,
          6,
          5,
          5,
          6,
          6,
          6,
          6,
          6,
          6,
          6,
          6,
          6,
          6,
          6,
          8,
          6,
          6,
          5,
          5,
          5,
          5,
          5,
          5,
          5,
          5,
          5,
          5,
          5,
          5,
          5,
          5,
          5,
          5,
          5,
          5,
          5,
          5,
          5,
          5,
          5,
          5,
          5,
          5,
          5,
          5,
          5,
          5,
          5,
          5,
          5,
          5,
          5,
          5,
          5,
          5,
          5,
          5,
          5,
          5,
          5,
          5,
          5,
          5,
          5,
          5,
          5,
          5,
          5,
          5,
          5,
          5,
          5,
          5,
          5,
          5,
          5,
          5,
          5,
          5,
          5,
          5,
          5,
          5,
          5,
          5,
          5,
          5,
          5,
          5,
          5,
          5,
          5,
          5,
          5,
          5,
          5,
          5,
          5,
          5,
          5,
          5,
          5,
          5,
          5,
          5,
          5,
          5,
          5,
          5,
          5,
          5,
          5,
          5,
          5,
          5,
          5,
          5,
          5,
          5,
          5,
          5,
          5,
          5,
          5,
          5,
          8,
          8,
          9,
          9,
          9,
          9,
          9,
          9,
          9,
          9,
          9,
          9,
          9,
          9,
          9,
          9,
          9,
          9,
          9,
          8
         ],
         "y": [
          1277.2335903253336,
          1520.7825920291677,
          1450.4215799387912,
          1661.4003902123743,
          1879.0214731404576,
          1350.2664460359995,
          1495.9000591219585,
          1927.3893929448755,
          1532.174335249293,
          1332.1861994709163,
          1352.0283287329587,
          1645.7119490259993,
          1383.2346520654996,
          1742.587666963125,
          2000.7338391171247,
          1333.2574418646666,
          1997.9123697355415,
          1663.5539529025418,
          1388.8074288853745,
          1291.409476591958,
          1388.5908248449582,
          1912.2658365764992,
          1923.6440816245004,
          2093.286747398291,
          1701.3210123401668,
          1829.4787464569993,
          1751.033965979167,
          1326.0775286214578,
          1580.0121952534582,
          2069.799655995875,
          1702.9888000874992,
          2095.499104377582,
          1465.419376332583,
          1282.9712997434162,
          1822.7934796476252,
          1455.9242423232079,
          1349.5131180231247,
          1557.6870288047924,
          1282.1239493407913,
          1650.1064170690827,
          1289.4664668579587,
          1876.649104229291,
          2009.0081598429997,
          1831.8028569048329,
          1875.6299332177089,
          1616.8666673370415,
          1819.676095795583,
          1791.3909387907497,
          1542.7302350539578,
          2039.6382186989165,
          1497.6515768340416,
          1492.8481100199995,
          1828.9859677557918,
          1764.503407981376,
          1497.1828752415413,
          1656.2080012772078,
          1339.779183747917,
          2038.720609013126,
          1471.460750746334,
          1588.9481339953752,
          1799.9577032009572,
          1720.9433822503336,
          1297.7335476847916,
          1597.9659481244582,
          1335.4571752319166,
          1258.9212470807083,
          1263.5845131725825,
          1418.3591122404582,
          1361.455211098791,
          1318.2027075516257,
          1265.589820584625,
          1249.9663553063751,
          1288.700838845625,
          1987.26241191625,
          1212.150978190959,
          1112.7752938562503,
          719.6826300969165,
          1066.048885151708,
          753.4106139075003,
          911.3699709266667,
          979.0126204372084,
          810.2393633984165,
          1079.824044668292,
          736.9207122118747,
          1085.1327833294167,
          1217.3157996512084,
          770.6443295339582,
          959.2654235418748,
          740.0667684337085,
          1005.6500294303752,
          1122.6512093976667,
          904.5484621195001,
          1020.3565540827918,
          975.333474978958,
          774.3023872846667,
          791.7509685775831,
          704.3365669664585,
          732.4903827700002,
          946.8380662278336,
          747.6148325986248,
          640.5038545770834,
          667.6974536319998,
          1090.495039769917,
          1116.9697395013752,
          688.1175094775416,
          930.4959454193335,
          877.9521732637081,
          903.0298668134582,
          559.5322668429583,
          911.7578250034583,
          898.9371972807085,
          946.5463174078748,
          575.0649538554583,
          992.9856580356249,
          1035.6888617454586,
          646.0704475443749,
          934.4991316270832,
          734.4546608457918,
          1036.4832994615417,
          1192.2332533463336,
          1203.5259042898335,
          965.280290368333,
          1207.3922579148752,
          841.9526763667499,
          1009.1755772845415,
          602.3256478447915,
          836.8225516768748,
          968.957634482667,
          589.4180248603752,
          1006.0109330582496,
          858.4176365665417,
          1141.5557806848328,
          849.7546946867502,
          1148.5967927875,
          1010.8815166120414,
          809.1638525717499,
          961.0201740960001,
          818.6279853168752,
          922.4661554127085,
          629.0054011622083,
          1049.8768381255,
          569.6041622117085,
          826.5132120607083,
          1082.5426970327915,
          1100.428821248042,
          810.1846644397083,
          874.3260373245414,
          919.8565944755003,
          888.0648031648745,
          1124.3601223679582,
          1160.7285747312499,
          800.4123778948334,
          684.6028146028334,
          1071.9619729833748,
          733.234839049625,
          1019.0440312682498,
          696.9246329650417,
          1081.4353925909998,
          1022.5679569449579,
          1155.2235991771665,
          715.4518122210833,
          646.79374618025,
          669.2742918919583,
          981.9669523461247,
          793.3503698298332,
          1021.2947661449165,
          666.95493234775,
          902.1399844431664,
          745.2979165690417,
          657.7375521623749,
          1132.7405629062498,
          686.031256520417,
          1210.6666090808333,
          1159.871532377125,
          1012.1493957850834,
          872.0646293971251,
          897.4087680083335,
          1066.7709838627084,
          943.8411682749166,
          705.0174891096251,
          589.287828275875,
          1067.1806791167921,
          899.0305052964585,
          1040.9222705363336,
          2294.018976262375,
          2348.481978921417,
          2534.6717105101256,
          2236.7402507349584,
          3856.0346059089998,
          2751.6445797195,
          3009.0619890883345,
          2707.1169972498747,
          2473.3953569154596,
          2692.0859348573345,
          2499.3213676371242,
          3477.218120562918,
          2657.966024284999,
          2644.066112731292,
          3174.133598446126,
          2307.9906198656245,
          2769.5883637103325,
          3229.8297920997916,
          2921.7966696227086,
          2802.4722773027056
         ]
        }
       ],
       "layout": {
        "template": {
         "data": {
          "bar": [
           {
            "error_x": {
             "color": "#2a3f5f"
            },
            "error_y": {
             "color": "#2a3f5f"
            },
            "marker": {
             "line": {
              "color": "#E5ECF6",
              "width": 0.5
             }
            },
            "type": "bar"
           }
          ],
          "barpolar": [
           {
            "marker": {
             "line": {
              "color": "#E5ECF6",
              "width": 0.5
             }
            },
            "type": "barpolar"
           }
          ],
          "carpet": [
           {
            "aaxis": {
             "endlinecolor": "#2a3f5f",
             "gridcolor": "white",
             "linecolor": "white",
             "minorgridcolor": "white",
             "startlinecolor": "#2a3f5f"
            },
            "baxis": {
             "endlinecolor": "#2a3f5f",
             "gridcolor": "white",
             "linecolor": "white",
             "minorgridcolor": "white",
             "startlinecolor": "#2a3f5f"
            },
            "type": "carpet"
           }
          ],
          "choropleth": [
           {
            "colorbar": {
             "outlinewidth": 0,
             "ticks": ""
            },
            "type": "choropleth"
           }
          ],
          "contour": [
           {
            "colorbar": {
             "outlinewidth": 0,
             "ticks": ""
            },
            "colorscale": [
             [
              0,
              "#0d0887"
             ],
             [
              0.1111111111111111,
              "#46039f"
             ],
             [
              0.2222222222222222,
              "#7201a8"
             ],
             [
              0.3333333333333333,
              "#9c179e"
             ],
             [
              0.4444444444444444,
              "#bd3786"
             ],
             [
              0.5555555555555556,
              "#d8576b"
             ],
             [
              0.6666666666666666,
              "#ed7953"
             ],
             [
              0.7777777777777778,
              "#fb9f3a"
             ],
             [
              0.8888888888888888,
              "#fdca26"
             ],
             [
              1,
              "#f0f921"
             ]
            ],
            "type": "contour"
           }
          ],
          "contourcarpet": [
           {
            "colorbar": {
             "outlinewidth": 0,
             "ticks": ""
            },
            "type": "contourcarpet"
           }
          ],
          "heatmap": [
           {
            "colorbar": {
             "outlinewidth": 0,
             "ticks": ""
            },
            "colorscale": [
             [
              0,
              "#0d0887"
             ],
             [
              0.1111111111111111,
              "#46039f"
             ],
             [
              0.2222222222222222,
              "#7201a8"
             ],
             [
              0.3333333333333333,
              "#9c179e"
             ],
             [
              0.4444444444444444,
              "#bd3786"
             ],
             [
              0.5555555555555556,
              "#d8576b"
             ],
             [
              0.6666666666666666,
              "#ed7953"
             ],
             [
              0.7777777777777778,
              "#fb9f3a"
             ],
             [
              0.8888888888888888,
              "#fdca26"
             ],
             [
              1,
              "#f0f921"
             ]
            ],
            "type": "heatmap"
           }
          ],
          "heatmapgl": [
           {
            "colorbar": {
             "outlinewidth": 0,
             "ticks": ""
            },
            "colorscale": [
             [
              0,
              "#0d0887"
             ],
             [
              0.1111111111111111,
              "#46039f"
             ],
             [
              0.2222222222222222,
              "#7201a8"
             ],
             [
              0.3333333333333333,
              "#9c179e"
             ],
             [
              0.4444444444444444,
              "#bd3786"
             ],
             [
              0.5555555555555556,
              "#d8576b"
             ],
             [
              0.6666666666666666,
              "#ed7953"
             ],
             [
              0.7777777777777778,
              "#fb9f3a"
             ],
             [
              0.8888888888888888,
              "#fdca26"
             ],
             [
              1,
              "#f0f921"
             ]
            ],
            "type": "heatmapgl"
           }
          ],
          "histogram": [
           {
            "marker": {
             "colorbar": {
              "outlinewidth": 0,
              "ticks": ""
             }
            },
            "type": "histogram"
           }
          ],
          "histogram2d": [
           {
            "colorbar": {
             "outlinewidth": 0,
             "ticks": ""
            },
            "colorscale": [
             [
              0,
              "#0d0887"
             ],
             [
              0.1111111111111111,
              "#46039f"
             ],
             [
              0.2222222222222222,
              "#7201a8"
             ],
             [
              0.3333333333333333,
              "#9c179e"
             ],
             [
              0.4444444444444444,
              "#bd3786"
             ],
             [
              0.5555555555555556,
              "#d8576b"
             ],
             [
              0.6666666666666666,
              "#ed7953"
             ],
             [
              0.7777777777777778,
              "#fb9f3a"
             ],
             [
              0.8888888888888888,
              "#fdca26"
             ],
             [
              1,
              "#f0f921"
             ]
            ],
            "type": "histogram2d"
           }
          ],
          "histogram2dcontour": [
           {
            "colorbar": {
             "outlinewidth": 0,
             "ticks": ""
            },
            "colorscale": [
             [
              0,
              "#0d0887"
             ],
             [
              0.1111111111111111,
              "#46039f"
             ],
             [
              0.2222222222222222,
              "#7201a8"
             ],
             [
              0.3333333333333333,
              "#9c179e"
             ],
             [
              0.4444444444444444,
              "#bd3786"
             ],
             [
              0.5555555555555556,
              "#d8576b"
             ],
             [
              0.6666666666666666,
              "#ed7953"
             ],
             [
              0.7777777777777778,
              "#fb9f3a"
             ],
             [
              0.8888888888888888,
              "#fdca26"
             ],
             [
              1,
              "#f0f921"
             ]
            ],
            "type": "histogram2dcontour"
           }
          ],
          "mesh3d": [
           {
            "colorbar": {
             "outlinewidth": 0,
             "ticks": ""
            },
            "type": "mesh3d"
           }
          ],
          "parcoords": [
           {
            "line": {
             "colorbar": {
              "outlinewidth": 0,
              "ticks": ""
             }
            },
            "type": "parcoords"
           }
          ],
          "scatter": [
           {
            "marker": {
             "colorbar": {
              "outlinewidth": 0,
              "ticks": ""
             }
            },
            "type": "scatter"
           }
          ],
          "scatter3d": [
           {
            "line": {
             "colorbar": {
              "outlinewidth": 0,
              "ticks": ""
             }
            },
            "marker": {
             "colorbar": {
              "outlinewidth": 0,
              "ticks": ""
             }
            },
            "type": "scatter3d"
           }
          ],
          "scattercarpet": [
           {
            "marker": {
             "colorbar": {
              "outlinewidth": 0,
              "ticks": ""
             }
            },
            "type": "scattercarpet"
           }
          ],
          "scattergeo": [
           {
            "marker": {
             "colorbar": {
              "outlinewidth": 0,
              "ticks": ""
             }
            },
            "type": "scattergeo"
           }
          ],
          "scattergl": [
           {
            "marker": {
             "colorbar": {
              "outlinewidth": 0,
              "ticks": ""
             }
            },
            "type": "scattergl"
           }
          ],
          "scattermapbox": [
           {
            "marker": {
             "colorbar": {
              "outlinewidth": 0,
              "ticks": ""
             }
            },
            "type": "scattermapbox"
           }
          ],
          "scatterpolar": [
           {
            "marker": {
             "colorbar": {
              "outlinewidth": 0,
              "ticks": ""
             }
            },
            "type": "scatterpolar"
           }
          ],
          "scatterpolargl": [
           {
            "marker": {
             "colorbar": {
              "outlinewidth": 0,
              "ticks": ""
             }
            },
            "type": "scatterpolargl"
           }
          ],
          "scatterternary": [
           {
            "marker": {
             "colorbar": {
              "outlinewidth": 0,
              "ticks": ""
             }
            },
            "type": "scatterternary"
           }
          ],
          "surface": [
           {
            "colorbar": {
             "outlinewidth": 0,
             "ticks": ""
            },
            "colorscale": [
             [
              0,
              "#0d0887"
             ],
             [
              0.1111111111111111,
              "#46039f"
             ],
             [
              0.2222222222222222,
              "#7201a8"
             ],
             [
              0.3333333333333333,
              "#9c179e"
             ],
             [
              0.4444444444444444,
              "#bd3786"
             ],
             [
              0.5555555555555556,
              "#d8576b"
             ],
             [
              0.6666666666666666,
              "#ed7953"
             ],
             [
              0.7777777777777778,
              "#fb9f3a"
             ],
             [
              0.8888888888888888,
              "#fdca26"
             ],
             [
              1,
              "#f0f921"
             ]
            ],
            "type": "surface"
           }
          ],
          "table": [
           {
            "cells": {
             "fill": {
              "color": "#EBF0F8"
             },
             "line": {
              "color": "white"
             }
            },
            "header": {
             "fill": {
              "color": "#C8D4E3"
             },
             "line": {
              "color": "white"
             }
            },
            "type": "table"
           }
          ]
         },
         "layout": {
          "annotationdefaults": {
           "arrowcolor": "#2a3f5f",
           "arrowhead": 0,
           "arrowwidth": 1
          },
          "colorscale": {
           "diverging": [
            [
             0,
             "#8e0152"
            ],
            [
             0.1,
             "#c51b7d"
            ],
            [
             0.2,
             "#de77ae"
            ],
            [
             0.3,
             "#f1b6da"
            ],
            [
             0.4,
             "#fde0ef"
            ],
            [
             0.5,
             "#f7f7f7"
            ],
            [
             0.6,
             "#e6f5d0"
            ],
            [
             0.7,
             "#b8e186"
            ],
            [
             0.8,
             "#7fbc41"
            ],
            [
             0.9,
             "#4d9221"
            ],
            [
             1,
             "#276419"
            ]
           ],
           "sequential": [
            [
             0,
             "#0d0887"
            ],
            [
             0.1111111111111111,
             "#46039f"
            ],
            [
             0.2222222222222222,
             "#7201a8"
            ],
            [
             0.3333333333333333,
             "#9c179e"
            ],
            [
             0.4444444444444444,
             "#bd3786"
            ],
            [
             0.5555555555555556,
             "#d8576b"
            ],
            [
             0.6666666666666666,
             "#ed7953"
            ],
            [
             0.7777777777777778,
             "#fb9f3a"
            ],
            [
             0.8888888888888888,
             "#fdca26"
            ],
            [
             1,
             "#f0f921"
            ]
           ],
           "sequentialminus": [
            [
             0,
             "#0d0887"
            ],
            [
             0.1111111111111111,
             "#46039f"
            ],
            [
             0.2222222222222222,
             "#7201a8"
            ],
            [
             0.3333333333333333,
             "#9c179e"
            ],
            [
             0.4444444444444444,
             "#bd3786"
            ],
            [
             0.5555555555555556,
             "#d8576b"
            ],
            [
             0.6666666666666666,
             "#ed7953"
            ],
            [
             0.7777777777777778,
             "#fb9f3a"
            ],
            [
             0.8888888888888888,
             "#fdca26"
            ],
            [
             1,
             "#f0f921"
            ]
           ]
          },
          "colorway": [
           "#636efa",
           "#EF553B",
           "#00cc96",
           "#ab63fa",
           "#FFA15A",
           "#19d3f3",
           "#FF6692",
           "#B6E880",
           "#FF97FF",
           "#FECB52"
          ],
          "font": {
           "color": "#2a3f5f"
          },
          "geo": {
           "bgcolor": "white",
           "lakecolor": "white",
           "landcolor": "#E5ECF6",
           "showlakes": true,
           "showland": true,
           "subunitcolor": "white"
          },
          "hoverlabel": {
           "align": "left"
          },
          "hovermode": "closest",
          "mapbox": {
           "style": "light"
          },
          "paper_bgcolor": "white",
          "plot_bgcolor": "#E5ECF6",
          "polar": {
           "angularaxis": {
            "gridcolor": "white",
            "linecolor": "white",
            "ticks": ""
           },
           "bgcolor": "#E5ECF6",
           "radialaxis": {
            "gridcolor": "white",
            "linecolor": "white",
            "ticks": ""
           }
          },
          "scene": {
           "xaxis": {
            "backgroundcolor": "#E5ECF6",
            "gridcolor": "white",
            "gridwidth": 2,
            "linecolor": "white",
            "showbackground": true,
            "ticks": "",
            "zerolinecolor": "white"
           },
           "yaxis": {
            "backgroundcolor": "#E5ECF6",
            "gridcolor": "white",
            "gridwidth": 2,
            "linecolor": "white",
            "showbackground": true,
            "ticks": "",
            "zerolinecolor": "white"
           },
           "zaxis": {
            "backgroundcolor": "#E5ECF6",
            "gridcolor": "white",
            "gridwidth": 2,
            "linecolor": "white",
            "showbackground": true,
            "ticks": "",
            "zerolinecolor": "white"
           }
          },
          "shapedefaults": {
           "line": {
            "color": "#2a3f5f"
           }
          },
          "ternary": {
           "aaxis": {
            "gridcolor": "white",
            "linecolor": "white",
            "ticks": ""
           },
           "baxis": {
            "gridcolor": "white",
            "linecolor": "white",
            "ticks": ""
           },
           "bgcolor": "#E5ECF6",
           "caxis": {
            "gridcolor": "white",
            "linecolor": "white",
            "ticks": ""
           }
          },
          "title": {
           "x": 0.05
          },
          "xaxis": {
           "automargin": true,
           "gridcolor": "white",
           "linecolor": "white",
           "ticks": "",
           "zerolinecolor": "white",
           "zerolinewidth": 2
          },
          "yaxis": {
           "automargin": true,
           "gridcolor": "white",
           "linecolor": "white",
           "ticks": "",
           "zerolinecolor": "white",
           "zerolinewidth": 2
          }
         }
        },
        "title": {
         "text": "LTV"
        },
        "xaxis": {
         "title": {
          "text": "RFM Score"
         }
        },
        "yaxis": {
         "title": {
          "text": "2m LTV"
         }
        }
       }
      },
      "text/html": [
       "<div>\n",
       "        \n",
       "        \n",
       "            <div id=\"edbc893a-9a65-425a-b221-cf9a1d720e66\" class=\"plotly-graph-div\" style=\"height:525px; width:100%;\"></div>\n",
       "            <script type=\"text/javascript\">\n",
       "                require([\"plotly\"], function(Plotly) {\n",
       "                    window.PLOTLYENV=window.PLOTLYENV || {};\n",
       "                    \n",
       "                if (document.getElementById(\"edbc893a-9a65-425a-b221-cf9a1d720e66\")) {\n",
       "                    Plotly.newPlot(\n",
       "                        'edbc893a-9a65-425a-b221-cf9a1d720e66',\n",
       "                        [{\"marker\": {\"color\": \"blue\", \"line\": {\"width\": 1}, \"opacity\": 0.8, \"size\": 7}, \"mode\": \"markers\", \"name\": \"Low\", \"type\": \"scatter\", \"x\": [1, 2, 2, 2, 2, 2, 2, 2, 2, 2, 2, 2, 2, 2, 2, 2, 2, 2, 2, 2, 2, 2, 2, 2, 2, 2, 2, 2, 2, 2, 2, 2, 2, 2, 2, 2, 2, 2, 2, 2, 2, 2, 2, 2, 2, 2, 2, 2, 2, 2, 2, 2, 2, 2, 2, 2, 2, 2, 2, 2, 2, 2, 2, 2, 2, 2, 2, 2, 2, 2, 2, 2, 2, 1, 1, 1, 1, 1, 1, 1, 1, 1, 1, 1, 1, 1, 1, 1, 1, 1, 1, 1, 1, 1, 1, 1, 1, 1, 1, 1, 1, 1, 1, 1, 1, 1, 0, 0, 0, 0, 0, 0, 0, 0, 0, 0, 0, 0, 0, 0, 0, 0], \"y\": [588.4770148072917, 714.4642043882501, 755.4402875432501, 387.0552770059582, 260.9357192557917, 457.52331375591655, 32.94208073316666, 457.68191247620825, 314.58995575366674, 413.506227503, 310.9270901864583, 81.10227003416668, 198.22574077566668, 462.0741843195833, 16.122353951, 406.4390930132499, 18.263339273333333, 101.24459224941668, 359.80396190625004, 25.513827452833333, 312.48807142275007, 36.2148208535, 34.008206812, 297.9404460538334, 449.4689201417085, 8.754431824, 403.5883060279999, 167.89444322016666, 63.588111649249996, 282.8611796110417, 343.3290384909583, 171.42707593612496, 25.691293393000002, 44.4886714915, 327.02985441925, 352.41895964458337, 181.78132881491666, 129.51245474508335, 64.29078941995833, 385.9284918457916, 106.03457788516666, 322.9075402372083, 155.60884113125002, 273.2462304698333, 124.36240570166667, 401.01821931695827, 146.60088393616667, 411.9461126596666, 326.5140646809167, 226.73814234079165, 71.49992213229167, 95.45867764683334, 312.7805179570833, 199.73558525083337, 132.59822896904166, 271.2154327095, 394.0815118213333, 498.6947510917917, 335.12057904974995, 138.250326222625, 393.8843994488332, 534.5263072676249, 43.25815733058334, 31.725222181666666, 121.53969166745833, 243.44547381700002, 117.53764993170833, 177.92916080291667, 430.35419983404154, 154.67957942966663, 69.13883426820834, 320.81379025858337, 449.1282153678333, 496.59245817820835, 302.8362885767917, 387.0178816689167, 151.1867290789583, 312.7623812671249, 242.236589991625, 98.12803413345833, 249.18838788420828, 126.55989365770833, 481.09374901475, 429.5908755472916, 89.40429867083333, 474.9678031522917, 440.0789028271666, 149.30654193129163, 372.35962412445826, 46.766830387166664, 517.7016317571666, 279.50138398312504, 28.140341518666666, 342.9717403243333, 332.35564434175006, 28.802773574333333, 56.324184249791664, 460.04957186629167, 7.276694225166667, 157.76624789458333, 395.8729352595001, 27.693046168499997, 238.17372595083333, 136.50903176345832, 408.16816304391665, 324.5098913778332, 123.8755175945, 309.6651587505833, 88.204867388125, 233.00458592049998, 303.6390421602083, 453.75672988287505, 250.95797056633336, 418.8145477075833, 156.5836600297083, 350.5176699178334, 8.791263936666667, 413.00012016033344, 407.37125807749993, 258.145590539625, 172.63603208279167, 283.789538391125]}, {\"marker\": {\"color\": \"green\", \"line\": {\"width\": 1}, \"opacity\": 0.5, \"size\": 9}, \"mode\": \"markers\", \"name\": \"Mid\", \"type\": \"scatter\", \"x\": [4, 4, 4, 4, 4, 4, 4, 4, 4, 4, 4, 4, 4, 4, 4, 4, 4, 4, 4, 4, 3, 3, 3, 3, 3, 3, 4, 4, 4, 4, 4, 4, 4, 4, 4, 4, 4, 4, 4, 4, 4, 4, 4, 4, 4, 4, 3, 3, 3, 3, 3, 3, 3, 3, 3, 3, 3, 3, 3, 3, 3, 3, 3, 3, 3, 3, 3, 3, 3, 3, 3, 3, 3, 3, 3, 3, 3, 3, 3, 3, 3, 3, 3, 3, 3, 3, 3, 3, 3, 3, 3, 3, 3, 3, 3, 3, 3, 3, 3, 3, 3, 3, 3, 3, 3, 3, 3, 3, 3, 3, 3, 3, 3, 3, 3, 3, 3, 3, 3, 3, 3, 3, 3, 3, 3, 3, 3, 3, 3, 3, 3, 3, 3, 3, 3, 3, 3, 3, 3, 3, 3, 3, 3, 3, 3, 3, 3, 3, 3, 3, 3, 3, 3, 3, 3, 3, 3, 3, 3, 3, 3, 3, 3, 3, 3, 3, 3, 3, 3, 3, 3, 3, 3, 3, 3, 3, 3, 3, 3, 3, 3, 3, 3, 3, 3, 3, 3, 3, 3, 3, 3, 3, 3, 3, 3, 3, 3, 3, 3, 3, 3, 3, 3, 3, 3, 3, 3, 3, 3, 3, 3, 3, 3, 3, 3, 3, 3, 3, 3, 3, 3, 3, 3, 3, 3, 3, 3, 3, 3, 3, 3, 3, 3, 3, 3, 3, 3, 3, 3, 3, 3, 3, 3, 3, 3, 3, 3, 4, 3], \"y\": [621.8358255939582, 609.1566144658334, 604.1328636966665, 637.8108711425833, 690.163606265375, 598.1054196563749, 673.8408612734165, 582.2275673862085, 552.0107493446667, 553.81843779625, 551.810143411, 648.3862427554583, 592.3254666162084, 607.4762088809583, 604.5992636958334, 599.3277354772084, 639.3020538454998, 793.5897450442079, 573.5467226172084, 858.5375683964164, 743.4697306638336, 631.9304956080417, 679.7673847156664, 677.7601520417084, 583.83628079525, 728.6398774883334, 697.1534806420415, 1136.7430877652498, 833.5536838288334, 842.8175824072919, 720.1908444556666, 1030.0384075284164, 599.9633350525, 1192.9044020835834, 847.9220239953748, 679.4621684943334, 675.4781894684168, 842.2443774539169, 828.9861832198337, 910.913155732542, 716.825878373, 1151.5785490525827, 560.605980941875, 900.9064736882085, 628.8085771679583, 936.7565627883336, 1168.8777641987504, 1034.6991121396666, 767.171732634875, 835.8132402554164, 1048.5872954230001, 624.4863483615416, 675.0787024340002, 117.27705281912499, 163.83233883629165, 194.04575382275, 46.09701422633333, 335.8315335800416, 266.7498529497083, 315.85965396750004, 293.59461184275, 212.06722723754163, 261.9781048149584, 191.68430747770836, 61.227361129500004, 263.3286233499166, 156.9529112637083, 200.68376584145835, 380.7246146539166, 24.37810114883333, 196.4973480922917, 278.33087001616667, 310.0266107156666, 138.80965160616665, 387.557860931, 412.204592708125, 520.7527954698331, 196.09870820145835, 191.66697939970834, 221.22335917866664, 68.44084062774999, 487.33373844687503, 510.97782839154155, 95.7100382565, 435.34921173345833, 482.53453330933326, 21.401860517666663, 138.47886594099998, 371.99795622095826, 274.9999979185834, 145.16339084583333, 58.837474609666664, 359.91455252254167, 469.1467090906667, 129.64252508325, 157.678625975875, 49.645154403666666, 187.71116658824997, 278.76245997391663, 18.735141089166667, 68.64878776941667, 169.77346810558333, 299.05799843012505, 223.87621432270834, 34.42158466391666, 130.29040457820832, 510.776746933625, 157.82858918141665, 167.23964529712498, 65.44987843266667, 483.6007769045833, 123.63874342316667, 89.48270632129166, 496.8562139141668, 38.3790507185, 434.7274958486667, 321.2466774735833, 44.22283922583334, 138.57222742904165, 406.7116888508749, 292.90734852083335, 198.07246832091667, 126.28640686591665, 519.0972175876249, 169.68480088949997, 415.9796184428751, 463.37704615945825, 345.867417444, 86.64304442074999, 37.005475877833334, 423.272790914375, 355.8759776760416, 134.41616307766665, 321.59916429345833, 206.59035474883333, 81.415684769625, 30.655069714499998, 88.0090259015, 454.6569178954166, 32.878326775666665, 144.01147891191667, 373.8833287165417, 450.2366113002083, 451.85072455825, 79.24523720100001, 470.75659380916665, 200.8524556436667, 109.96161462004164, 226.16134666520836, 297.8509062945001, 228.43511638075, 177.30757839900002, 77.1350092635, 75.29610601445833, 96.18365963983334, 49.322619232375, 7.226756527291666, 131.71857598883332, 382.58470401862496, 168.495327072125, 426.0143927470832, 423.35952612854163, 530.1286118067915, 6.784824824333333, 391.1639245502917, 271.13254064325, 492.2783787216667, 523.3643583124582, 385.3255996215, 136.31944404195835, 18.937336308541667, 78.34322638433333, 14.270950692333333, 520.0851472661667, 378.89954022475, 494.0947209768334, 99.61701262258332, 406.81369154108324, 143.63398180837498, 182.938338203, 167.66015232341667, 232.34060129987503, 22.292884396333335, 73.75180672533332, 467.9092559170834, 446.1436376662083, 229.62360736850002, 465.88276979062493, 5.0, 315.2725279289167, 381.16701460833326, 371.01417458525, 544.9580146268332, 61.67235138129167, 70.69318101924999, 370.2348519564582, 353.6694742500417, 200.70012722566665, 491.9332952792082, 241.4273115875, 274.0226318597083, 330.81521297887497, 128.14079777541667, 407.120753708125, 465.3194670591667, 493.5522424697917, 326.1934410767917, 418.0547352504999, 413.4424738670417, 340.07421426566674, 175.28758950974998, 280.1577432081666, 246.23175930604168, 330.5728257070833, 30.921204754541662, 111.90859839433332, 295.2618920194166, 235.58695400133337, 344.37002912362493, 400.4112689624999, 345.97499650191673, 125.79837790345834, 59.679608660708325, 210.72953453612504, 55.67252921883333, 98.55381915624999, 541.6011872459584, 482.9127997376667, 42.32425328633333, 45.95499602545833, 15.103874993333331, 8.431756449333333, 18.921977062833335, 248.36530725204167, 297.48213197916664, 189.16965675025, 512.0682647009166, 520.6505404329167, 259.51437623737496, 460.2332769558749, 286.06833838433323, 29.40544050233333, 287.27452147287505, 481.0012974376666, 384.6610280419167, 135.38933166670833, 187.17363606045836, 528.4123450699999, 534.744203098125]}, {\"marker\": {\"color\": \"red\", \"line\": {\"width\": 1}, \"opacity\": 0.9, \"size\": 11}, \"mode\": \"markers\", \"name\": \"High\", \"type\": \"scatter\", \"x\": [7, 7, 7, 7, 7, 7, 7, 7, 7, 7, 7, 7, 7, 7, 7, 7, 7, 7, 7, 7, 7, 7, 7, 7, 7, 7, 7, 7, 7, 7, 7, 7, 7, 7, 7, 7, 7, 7, 7, 7, 7, 7, 7, 7, 7, 7, 7, 7, 7, 7, 7, 7, 7, 7, 7, 6, 6, 6, 6, 6, 5, 5, 6, 6, 6, 6, 6, 6, 6, 6, 6, 6, 6, 8, 6, 6, 5, 5, 5, 5, 5, 5, 5, 5, 5, 5, 5, 5, 5, 5, 5, 5, 5, 5, 5, 5, 5, 5, 5, 5, 5, 5, 5, 5, 5, 5, 5, 5, 5, 5, 5, 5, 5, 5, 5, 5, 5, 5, 5, 5, 5, 5, 5, 5, 5, 5, 5, 5, 5, 5, 5, 5, 5, 5, 5, 5, 5, 5, 5, 5, 5, 5, 5, 5, 5, 5, 5, 5, 5, 5, 5, 5, 5, 5, 5, 5, 5, 5, 5, 5, 5, 5, 5, 5, 5, 5, 5, 5, 5, 5, 5, 5, 5, 5, 5, 5, 5, 5, 5, 5, 5, 5, 5, 5, 8, 8, 9, 9, 9, 9, 9, 9, 9, 9, 9, 9, 9, 9, 9, 9, 9, 9, 9, 8], \"y\": [1277.2335903253336, 1520.7825920291677, 1450.4215799387912, 1661.4003902123743, 1879.0214731404576, 1350.2664460359995, 1495.9000591219585, 1927.3893929448755, 1532.174335249293, 1332.1861994709163, 1352.0283287329587, 1645.7119490259993, 1383.2346520654996, 1742.587666963125, 2000.7338391171247, 1333.2574418646666, 1997.9123697355415, 1663.5539529025418, 1388.8074288853745, 1291.409476591958, 1388.5908248449582, 1912.2658365764992, 1923.6440816245004, 2093.286747398291, 1701.3210123401668, 1829.4787464569993, 1751.033965979167, 1326.0775286214578, 1580.0121952534582, 2069.799655995875, 1702.9888000874992, 2095.499104377582, 1465.419376332583, 1282.9712997434162, 1822.7934796476252, 1455.9242423232079, 1349.5131180231247, 1557.6870288047924, 1282.1239493407913, 1650.1064170690827, 1289.4664668579587, 1876.649104229291, 2009.0081598429997, 1831.8028569048329, 1875.6299332177089, 1616.8666673370415, 1819.676095795583, 1791.3909387907497, 1542.7302350539578, 2039.6382186989165, 1497.6515768340416, 1492.8481100199995, 1828.9859677557918, 1764.503407981376, 1497.1828752415413, 1656.2080012772078, 1339.779183747917, 2038.720609013126, 1471.460750746334, 1588.9481339953752, 1799.9577032009572, 1720.9433822503336, 1297.7335476847916, 1597.9659481244582, 1335.4571752319166, 1258.9212470807083, 1263.5845131725825, 1418.3591122404582, 1361.455211098791, 1318.2027075516257, 1265.589820584625, 1249.9663553063751, 1288.700838845625, 1987.26241191625, 1212.150978190959, 1112.7752938562503, 719.6826300969165, 1066.048885151708, 753.4106139075003, 911.3699709266667, 979.0126204372084, 810.2393633984165, 1079.824044668292, 736.9207122118747, 1085.1327833294167, 1217.3157996512084, 770.6443295339582, 959.2654235418748, 740.0667684337085, 1005.6500294303752, 1122.6512093976667, 904.5484621195001, 1020.3565540827918, 975.333474978958, 774.3023872846667, 791.7509685775831, 704.3365669664585, 732.4903827700002, 946.8380662278336, 747.6148325986248, 640.5038545770834, 667.6974536319998, 1090.495039769917, 1116.9697395013752, 688.1175094775416, 930.4959454193335, 877.9521732637081, 903.0298668134582, 559.5322668429583, 911.7578250034583, 898.9371972807085, 946.5463174078748, 575.0649538554583, 992.9856580356249, 1035.6888617454586, 646.0704475443749, 934.4991316270832, 734.4546608457918, 1036.4832994615417, 1192.2332533463336, 1203.5259042898335, 965.280290368333, 1207.3922579148752, 841.9526763667499, 1009.1755772845415, 602.3256478447915, 836.8225516768748, 968.957634482667, 589.4180248603752, 1006.0109330582496, 858.4176365665417, 1141.5557806848328, 849.7546946867502, 1148.5967927875, 1010.8815166120414, 809.1638525717499, 961.0201740960001, 818.6279853168752, 922.4661554127085, 629.0054011622083, 1049.8768381255, 569.6041622117085, 826.5132120607083, 1082.5426970327915, 1100.428821248042, 810.1846644397083, 874.3260373245414, 919.8565944755003, 888.0648031648745, 1124.3601223679582, 1160.7285747312499, 800.4123778948334, 684.6028146028334, 1071.9619729833748, 733.234839049625, 1019.0440312682498, 696.9246329650417, 1081.4353925909998, 1022.5679569449579, 1155.2235991771665, 715.4518122210833, 646.79374618025, 669.2742918919583, 981.9669523461247, 793.3503698298332, 1021.2947661449165, 666.95493234775, 902.1399844431664, 745.2979165690417, 657.7375521623749, 1132.7405629062498, 686.031256520417, 1210.6666090808333, 1159.871532377125, 1012.1493957850834, 872.0646293971251, 897.4087680083335, 1066.7709838627084, 943.8411682749166, 705.0174891096251, 589.287828275875, 1067.1806791167921, 899.0305052964585, 1040.9222705363336, 2294.018976262375, 2348.481978921417, 2534.6717105101256, 2236.7402507349584, 3856.0346059089998, 2751.6445797195, 3009.0619890883345, 2707.1169972498747, 2473.3953569154596, 2692.0859348573345, 2499.3213676371242, 3477.218120562918, 2657.966024284999, 2644.066112731292, 3174.133598446126, 2307.9906198656245, 2769.5883637103325, 3229.8297920997916, 2921.7966696227086, 2802.4722773027056]}],\n",
       "                        {\"template\": {\"data\": {\"bar\": [{\"error_x\": {\"color\": \"#2a3f5f\"}, \"error_y\": {\"color\": \"#2a3f5f\"}, \"marker\": {\"line\": {\"color\": \"#E5ECF6\", \"width\": 0.5}}, \"type\": \"bar\"}], \"barpolar\": [{\"marker\": {\"line\": {\"color\": \"#E5ECF6\", \"width\": 0.5}}, \"type\": \"barpolar\"}], \"carpet\": [{\"aaxis\": {\"endlinecolor\": \"#2a3f5f\", \"gridcolor\": \"white\", \"linecolor\": \"white\", \"minorgridcolor\": \"white\", \"startlinecolor\": \"#2a3f5f\"}, \"baxis\": {\"endlinecolor\": \"#2a3f5f\", \"gridcolor\": \"white\", \"linecolor\": \"white\", \"minorgridcolor\": \"white\", \"startlinecolor\": \"#2a3f5f\"}, \"type\": \"carpet\"}], \"choropleth\": [{\"colorbar\": {\"outlinewidth\": 0, \"ticks\": \"\"}, \"type\": \"choropleth\"}], \"contour\": [{\"colorbar\": {\"outlinewidth\": 0, \"ticks\": \"\"}, \"colorscale\": [[0.0, \"#0d0887\"], [0.1111111111111111, \"#46039f\"], [0.2222222222222222, \"#7201a8\"], [0.3333333333333333, \"#9c179e\"], [0.4444444444444444, \"#bd3786\"], [0.5555555555555556, \"#d8576b\"], [0.6666666666666666, \"#ed7953\"], [0.7777777777777778, \"#fb9f3a\"], [0.8888888888888888, \"#fdca26\"], [1.0, \"#f0f921\"]], \"type\": \"contour\"}], \"contourcarpet\": [{\"colorbar\": {\"outlinewidth\": 0, \"ticks\": \"\"}, \"type\": \"contourcarpet\"}], \"heatmap\": [{\"colorbar\": {\"outlinewidth\": 0, \"ticks\": \"\"}, \"colorscale\": [[0.0, \"#0d0887\"], [0.1111111111111111, \"#46039f\"], [0.2222222222222222, \"#7201a8\"], [0.3333333333333333, \"#9c179e\"], [0.4444444444444444, \"#bd3786\"], [0.5555555555555556, \"#d8576b\"], [0.6666666666666666, \"#ed7953\"], [0.7777777777777778, \"#fb9f3a\"], [0.8888888888888888, \"#fdca26\"], [1.0, \"#f0f921\"]], \"type\": \"heatmap\"}], \"heatmapgl\": [{\"colorbar\": {\"outlinewidth\": 0, \"ticks\": \"\"}, \"colorscale\": [[0.0, \"#0d0887\"], [0.1111111111111111, \"#46039f\"], [0.2222222222222222, \"#7201a8\"], [0.3333333333333333, \"#9c179e\"], [0.4444444444444444, \"#bd3786\"], [0.5555555555555556, \"#d8576b\"], [0.6666666666666666, \"#ed7953\"], [0.7777777777777778, \"#fb9f3a\"], [0.8888888888888888, \"#fdca26\"], [1.0, \"#f0f921\"]], \"type\": \"heatmapgl\"}], \"histogram\": [{\"marker\": {\"colorbar\": {\"outlinewidth\": 0, \"ticks\": \"\"}}, \"type\": \"histogram\"}], \"histogram2d\": [{\"colorbar\": {\"outlinewidth\": 0, \"ticks\": \"\"}, \"colorscale\": [[0.0, \"#0d0887\"], [0.1111111111111111, \"#46039f\"], [0.2222222222222222, \"#7201a8\"], [0.3333333333333333, \"#9c179e\"], [0.4444444444444444, \"#bd3786\"], [0.5555555555555556, \"#d8576b\"], [0.6666666666666666, \"#ed7953\"], [0.7777777777777778, \"#fb9f3a\"], [0.8888888888888888, \"#fdca26\"], [1.0, \"#f0f921\"]], \"type\": \"histogram2d\"}], \"histogram2dcontour\": [{\"colorbar\": {\"outlinewidth\": 0, \"ticks\": \"\"}, \"colorscale\": [[0.0, \"#0d0887\"], [0.1111111111111111, \"#46039f\"], [0.2222222222222222, \"#7201a8\"], [0.3333333333333333, \"#9c179e\"], [0.4444444444444444, \"#bd3786\"], [0.5555555555555556, \"#d8576b\"], [0.6666666666666666, \"#ed7953\"], [0.7777777777777778, \"#fb9f3a\"], [0.8888888888888888, \"#fdca26\"], [1.0, \"#f0f921\"]], \"type\": \"histogram2dcontour\"}], \"mesh3d\": [{\"colorbar\": {\"outlinewidth\": 0, \"ticks\": \"\"}, \"type\": \"mesh3d\"}], \"parcoords\": [{\"line\": {\"colorbar\": {\"outlinewidth\": 0, \"ticks\": \"\"}}, \"type\": \"parcoords\"}], \"scatter\": [{\"marker\": {\"colorbar\": {\"outlinewidth\": 0, \"ticks\": \"\"}}, \"type\": \"scatter\"}], \"scatter3d\": [{\"line\": {\"colorbar\": {\"outlinewidth\": 0, \"ticks\": \"\"}}, \"marker\": {\"colorbar\": {\"outlinewidth\": 0, \"ticks\": \"\"}}, \"type\": \"scatter3d\"}], \"scattercarpet\": [{\"marker\": {\"colorbar\": {\"outlinewidth\": 0, \"ticks\": \"\"}}, \"type\": \"scattercarpet\"}], \"scattergeo\": [{\"marker\": {\"colorbar\": {\"outlinewidth\": 0, \"ticks\": \"\"}}, \"type\": \"scattergeo\"}], \"scattergl\": [{\"marker\": {\"colorbar\": {\"outlinewidth\": 0, \"ticks\": \"\"}}, \"type\": \"scattergl\"}], \"scattermapbox\": [{\"marker\": {\"colorbar\": {\"outlinewidth\": 0, \"ticks\": \"\"}}, \"type\": \"scattermapbox\"}], \"scatterpolar\": [{\"marker\": {\"colorbar\": {\"outlinewidth\": 0, \"ticks\": \"\"}}, \"type\": \"scatterpolar\"}], \"scatterpolargl\": [{\"marker\": {\"colorbar\": {\"outlinewidth\": 0, \"ticks\": \"\"}}, \"type\": \"scatterpolargl\"}], \"scatterternary\": [{\"marker\": {\"colorbar\": {\"outlinewidth\": 0, \"ticks\": \"\"}}, \"type\": \"scatterternary\"}], \"surface\": [{\"colorbar\": {\"outlinewidth\": 0, \"ticks\": \"\"}, \"colorscale\": [[0.0, \"#0d0887\"], [0.1111111111111111, \"#46039f\"], [0.2222222222222222, \"#7201a8\"], [0.3333333333333333, \"#9c179e\"], [0.4444444444444444, \"#bd3786\"], [0.5555555555555556, \"#d8576b\"], [0.6666666666666666, \"#ed7953\"], [0.7777777777777778, \"#fb9f3a\"], [0.8888888888888888, \"#fdca26\"], [1.0, \"#f0f921\"]], \"type\": \"surface\"}], \"table\": [{\"cells\": {\"fill\": {\"color\": \"#EBF0F8\"}, \"line\": {\"color\": \"white\"}}, \"header\": {\"fill\": {\"color\": \"#C8D4E3\"}, \"line\": {\"color\": \"white\"}}, \"type\": \"table\"}]}, \"layout\": {\"annotationdefaults\": {\"arrowcolor\": \"#2a3f5f\", \"arrowhead\": 0, \"arrowwidth\": 1}, \"colorscale\": {\"diverging\": [[0, \"#8e0152\"], [0.1, \"#c51b7d\"], [0.2, \"#de77ae\"], [0.3, \"#f1b6da\"], [0.4, \"#fde0ef\"], [0.5, \"#f7f7f7\"], [0.6, \"#e6f5d0\"], [0.7, \"#b8e186\"], [0.8, \"#7fbc41\"], [0.9, \"#4d9221\"], [1, \"#276419\"]], \"sequential\": [[0.0, \"#0d0887\"], [0.1111111111111111, \"#46039f\"], [0.2222222222222222, \"#7201a8\"], [0.3333333333333333, \"#9c179e\"], [0.4444444444444444, \"#bd3786\"], [0.5555555555555556, \"#d8576b\"], [0.6666666666666666, \"#ed7953\"], [0.7777777777777778, \"#fb9f3a\"], [0.8888888888888888, \"#fdca26\"], [1.0, \"#f0f921\"]], \"sequentialminus\": [[0.0, \"#0d0887\"], [0.1111111111111111, \"#46039f\"], [0.2222222222222222, \"#7201a8\"], [0.3333333333333333, \"#9c179e\"], [0.4444444444444444, \"#bd3786\"], [0.5555555555555556, \"#d8576b\"], [0.6666666666666666, \"#ed7953\"], [0.7777777777777778, \"#fb9f3a\"], [0.8888888888888888, \"#fdca26\"], [1.0, \"#f0f921\"]]}, \"colorway\": [\"#636efa\", \"#EF553B\", \"#00cc96\", \"#ab63fa\", \"#FFA15A\", \"#19d3f3\", \"#FF6692\", \"#B6E880\", \"#FF97FF\", \"#FECB52\"], \"font\": {\"color\": \"#2a3f5f\"}, \"geo\": {\"bgcolor\": \"white\", \"lakecolor\": \"white\", \"landcolor\": \"#E5ECF6\", \"showlakes\": true, \"showland\": true, \"subunitcolor\": \"white\"}, \"hoverlabel\": {\"align\": \"left\"}, \"hovermode\": \"closest\", \"mapbox\": {\"style\": \"light\"}, \"paper_bgcolor\": \"white\", \"plot_bgcolor\": \"#E5ECF6\", \"polar\": {\"angularaxis\": {\"gridcolor\": \"white\", \"linecolor\": \"white\", \"ticks\": \"\"}, \"bgcolor\": \"#E5ECF6\", \"radialaxis\": {\"gridcolor\": \"white\", \"linecolor\": \"white\", \"ticks\": \"\"}}, \"scene\": {\"xaxis\": {\"backgroundcolor\": \"#E5ECF6\", \"gridcolor\": \"white\", \"gridwidth\": 2, \"linecolor\": \"white\", \"showbackground\": true, \"ticks\": \"\", \"zerolinecolor\": \"white\"}, \"yaxis\": {\"backgroundcolor\": \"#E5ECF6\", \"gridcolor\": \"white\", \"gridwidth\": 2, \"linecolor\": \"white\", \"showbackground\": true, \"ticks\": \"\", \"zerolinecolor\": \"white\"}, \"zaxis\": {\"backgroundcolor\": \"#E5ECF6\", \"gridcolor\": \"white\", \"gridwidth\": 2, \"linecolor\": \"white\", \"showbackground\": true, \"ticks\": \"\", \"zerolinecolor\": \"white\"}}, \"shapedefaults\": {\"line\": {\"color\": \"#2a3f5f\"}}, \"ternary\": {\"aaxis\": {\"gridcolor\": \"white\", \"linecolor\": \"white\", \"ticks\": \"\"}, \"baxis\": {\"gridcolor\": \"white\", \"linecolor\": \"white\", \"ticks\": \"\"}, \"bgcolor\": \"#E5ECF6\", \"caxis\": {\"gridcolor\": \"white\", \"linecolor\": \"white\", \"ticks\": \"\"}}, \"title\": {\"x\": 0.05}, \"xaxis\": {\"automargin\": true, \"gridcolor\": \"white\", \"linecolor\": \"white\", \"ticks\": \"\", \"zerolinecolor\": \"white\", \"zerolinewidth\": 2}, \"yaxis\": {\"automargin\": true, \"gridcolor\": \"white\", \"linecolor\": \"white\", \"ticks\": \"\", \"zerolinecolor\": \"white\", \"zerolinewidth\": 2}}}, \"title\": {\"text\": \"LTV\"}, \"xaxis\": {\"title\": {\"text\": \"RFM Score\"}}, \"yaxis\": {\"title\": {\"text\": \"2m LTV\"}}},\n",
       "                        {\"responsive\": true}\n",
       "                    ).then(function(){\n",
       "                            \n",
       "var gd = document.getElementById('edbc893a-9a65-425a-b221-cf9a1d720e66');\n",
       "var x = new MutationObserver(function (mutations, observer) {{\n",
       "        var display = window.getComputedStyle(gd).display;\n",
       "        if (!display || display === 'none') {{\n",
       "            console.log([gd, 'removed!']);\n",
       "            Plotly.purge(gd);\n",
       "            observer.disconnect();\n",
       "        }}\n",
       "}});\n",
       "\n",
       "// Listen for the removal of the full notebook cells\n",
       "var notebookContainer = gd.closest('#notebook-container');\n",
       "if (notebookContainer) {{\n",
       "    x.observe(notebookContainer, {childList: true});\n",
       "}}\n",
       "\n",
       "// Listen for the clearing of the current output cell\n",
       "var outputEl = gd.closest('.output');\n",
       "if (outputEl) {{\n",
       "    x.observe(outputEl, {childList: true});\n",
       "}}\n",
       "\n",
       "                        })\n",
       "                };\n",
       "                });\n",
       "            </script>\n",
       "        </div>"
      ]
     },
     "metadata": {},
     "output_type": "display_data"
    }
   ],
   "source": [
    "driver_graph = driver_merge.query(\"m2_fare < 30000\")\n",
    "\n",
    "plot_data = [\n",
    "    go.Scatter(\n",
    "        x=driver_graph.query(\"Segment == 'Low-Value'\")['OverallScore'],\n",
    "        y=driver_graph.query(\"Segment == 'Low-Value'\")['total_fare'],\n",
    "        mode='markers',\n",
    "        name='Low',\n",
    "        marker= dict(size= 7,\n",
    "            line= dict(width=1),\n",
    "            color= 'blue',\n",
    "            opacity= 0.8\n",
    "           )\n",
    "    ),\n",
    "        go.Scatter(\n",
    "        x=driver_graph.query(\"Segment == 'Mid-Value'\")['OverallScore'],\n",
    "        y=driver_graph.query(\"Segment == 'Mid-Value'\")['total_fare'],\n",
    "        mode='markers',\n",
    "        name='Mid',\n",
    "        marker= dict(size= 9,\n",
    "            line= dict(width=1),\n",
    "            color= 'green',\n",
    "            opacity= 0.5\n",
    "           )\n",
    "    ),\n",
    "        go.Scatter(\n",
    "        x=driver_graph.query(\"Segment == 'High-Value'\")['OverallScore'],\n",
    "        y=driver_graph.query(\"Segment == 'High-Value'\")['total_fare'],\n",
    "        mode='markers',\n",
    "        name='High',\n",
    "        marker= dict(size= 11,\n",
    "            line= dict(width=1),\n",
    "            color= 'red',\n",
    "            opacity= 0.9\n",
    "           )\n",
    "    ),\n",
    "]\n",
    "\n",
    "plot_layout = go.Layout(\n",
    "        yaxis= {'title': \"2m LTV\"},\n",
    "        xaxis= {'title': \"RFM Score\"},\n",
    "        title='LTV'\n",
    "    )\n",
    "fig = go.Figure(data=plot_data, layout=plot_layout)\n",
    "pyoff.iplot(fig)"
   ]
  },
  {
   "cell_type": "code",
   "execution_count": null,
   "metadata": {},
   "outputs": [],
   "source": []
  },
  {
   "cell_type": "code",
   "execution_count": 207,
   "metadata": {},
   "outputs": [],
   "source": [
    "driver_merge = driver_merge[driver_merge['m2_fare']<driver_merge['m2_fare'].quantile(0.99)]"
   ]
  },
  {
   "cell_type": "code",
   "execution_count": 208,
   "metadata": {},
   "outputs": [
    {
     "data": {
      "text/html": [
       "<div>\n",
       "<style scoped>\n",
       "    .dataframe tbody tr th:only-of-type {\n",
       "        vertical-align: middle;\n",
       "    }\n",
       "\n",
       "    .dataframe tbody tr th {\n",
       "        vertical-align: top;\n",
       "    }\n",
       "\n",
       "    .dataframe thead th {\n",
       "        text-align: right;\n",
       "    }\n",
       "</style>\n",
       "<table border=\"1\" class=\"dataframe\">\n",
       "  <thead>\n",
       "    <tr style=\"text-align: right;\">\n",
       "      <th></th>\n",
       "      <th>count</th>\n",
       "      <th>mean</th>\n",
       "      <th>std</th>\n",
       "      <th>min</th>\n",
       "      <th>25%</th>\n",
       "      <th>50%</th>\n",
       "      <th>75%</th>\n",
       "      <th>max</th>\n",
       "    </tr>\n",
       "    <tr>\n",
       "      <th>LTVCluster</th>\n",
       "      <th></th>\n",
       "      <th></th>\n",
       "      <th></th>\n",
       "      <th></th>\n",
       "      <th></th>\n",
       "      <th></th>\n",
       "      <th></th>\n",
       "      <th></th>\n",
       "    </tr>\n",
       "  </thead>\n",
       "  <tbody>\n",
       "    <tr>\n",
       "      <td>0</td>\n",
       "      <td>223.0</td>\n",
       "      <td>587.667693</td>\n",
       "      <td>292.012279</td>\n",
       "      <td>25.691293</td>\n",
       "      <td>403.764583</td>\n",
       "      <td>512.068265</td>\n",
       "      <td>702.153250</td>\n",
       "      <td>2008.995867</td>\n",
       "    </tr>\n",
       "    <tr>\n",
       "      <td>1</td>\n",
       "      <td>238.0</td>\n",
       "      <td>3538.661140</td>\n",
       "      <td>736.421503</td>\n",
       "      <td>2106.324904</td>\n",
       "      <td>2974.466206</td>\n",
       "      <td>3451.917150</td>\n",
       "      <td>4094.251948</td>\n",
       "      <td>4976.232554</td>\n",
       "    </tr>\n",
       "    <tr>\n",
       "      <td>2</td>\n",
       "      <td>108.0</td>\n",
       "      <td>6422.761629</td>\n",
       "      <td>1151.642844</td>\n",
       "      <td>5003.337946</td>\n",
       "      <td>5422.282513</td>\n",
       "      <td>6176.557411</td>\n",
       "      <td>7216.702326</td>\n",
       "      <td>9433.435012</td>\n",
       "    </tr>\n",
       "  </tbody>\n",
       "</table>\n",
       "</div>"
      ],
      "text/plain": [
       "            count         mean          std          min          25%  \\\n",
       "LTVCluster                                                              \n",
       "0           223.0   587.667693   292.012279    25.691293   403.764583   \n",
       "1           238.0  3538.661140   736.421503  2106.324904  2974.466206   \n",
       "2           108.0  6422.761629  1151.642844  5003.337946  5422.282513   \n",
       "\n",
       "                    50%          75%          max  \n",
       "LTVCluster                                         \n",
       "0            512.068265   702.153250  2008.995867  \n",
       "1           3451.917150  4094.251948  4976.232554  \n",
       "2           6176.557411  7216.702326  9433.435012  "
      ]
     },
     "execution_count": 208,
     "metadata": {},
     "output_type": "execute_result"
    }
   ],
   "source": [
    "\n",
    "kmeans = KMeans(n_clusters=3)\n",
    "kmeans.fit(driver_merge[['m2_fare']])\n",
    "driver_merge['LTVCluster'] = kmeans.predict(driver_merge[['m2_fare']])\n",
    "\n",
    "#order cluster number based on LTV\n",
    "driver_sum_total_fare = order_cluster('LTVCluster', 'm2_fare',driver_merge,True)\n",
    "\n",
    "#creatinga new cluster dataframe\n",
    "driver_cluster = driver_merge.copy()\n",
    "\n",
    "#see details of the clusters\n",
    "driver_merge.groupby('LTVCluster')['m2_fare'].describe()"
   ]
  },
  {
   "cell_type": "code",
   "execution_count": null,
   "metadata": {},
   "outputs": [],
   "source": []
  },
  {
   "cell_type": "code",
   "execution_count": 209,
   "metadata": {},
   "outputs": [],
   "source": [
    "driver_class = pd.get_dummies(driver_cluster)\n",
    "#calculate and show correlations\n",
    "corr_matrix = driver_class.corr()\n",
    "corr_matrix['LTVCluster'].sort_values(ascending=False)\n",
    "\n",
    "#create X and y, X will be feature set and y is the label - LTV\n",
    "X = driver_class.drop(['LTVCluster','m2_fare'],axis=1)\n",
    "y = driver_class['LTVCluster']\n",
    "\n",
    "#split training and test sets\n",
    "X_train, X_test, y_train, y_test = train_test_split(X, y, test_size=0.05, random_state=56)"
   ]
  },
  {
   "cell_type": "code",
   "execution_count": 210,
   "metadata": {},
   "outputs": [
    {
     "name": "stdout",
     "output_type": "stream",
     "text": [
      "Accuracy of XGB classifier on training set: 0.89\n",
      "Accuracy of XGB classifier on test set: 0.62\n",
      "              precision    recall  f1-score   support\n",
      "\n",
      "           0       0.79      0.73      0.76        15\n",
      "           1       0.60      0.46      0.52        13\n",
      "           2       0.20      1.00      0.33         1\n",
      "\n",
      "    accuracy                           0.62        29\n",
      "   macro avg       0.53      0.73      0.54        29\n",
      "weighted avg       0.68      0.62      0.64        29\n",
      "\n"
     ]
    }
   ],
   "source": [
    "#XGBoost Multiclassification Model\n",
    "ltv_xgb_model = xgb.XGBClassifier(max_depth=5, learning_rate=0.1,objective= 'multi:softprob',n_jobs=-1).fit(X_train, y_train)\n",
    "\n",
    "print('Accuracy of XGB classifier on training set: {:.2f}'\n",
    "       .format(ltv_xgb_model.score(X_train, y_train)))\n",
    "print('Accuracy of XGB classifier on test set: {:.2f}'\n",
    "       .format(ltv_xgb_model.score(X_test[X_train.columns], y_test)))\n",
    "\n",
    "y_pred = ltv_xgb_model.predict(X_test)\n",
    "print(classification_report(y_test, y_pred))"
   ]
  },
  {
   "cell_type": "code",
   "execution_count": null,
   "metadata": {},
   "outputs": [],
   "source": []
  },
  {
   "cell_type": "code",
   "execution_count": null,
   "metadata": {},
   "outputs": [],
   "source": []
  },
  {
   "cell_type": "code",
   "execution_count": null,
   "metadata": {},
   "outputs": [],
   "source": []
  },
  {
   "cell_type": "code",
   "execution_count": null,
   "metadata": {},
   "outputs": [],
   "source": []
  },
  {
   "cell_type": "code",
   "execution_count": null,
   "metadata": {},
   "outputs": [],
   "source": []
  },
  {
   "cell_type": "code",
   "execution_count": null,
   "metadata": {},
   "outputs": [],
   "source": []
  }
 ],
 "metadata": {
  "kernelspec": {
   "display_name": "Python 3",
   "language": "python",
   "name": "python3"
  },
  "language_info": {
   "codemirror_mode": {
    "name": "ipython",
    "version": 3
   },
   "file_extension": ".py",
   "mimetype": "text/x-python",
   "name": "python",
   "nbconvert_exporter": "python",
   "pygments_lexer": "ipython3",
   "version": "3.6.2"
  }
 },
 "nbformat": 4,
 "nbformat_minor": 2
}
