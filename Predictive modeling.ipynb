{
 "cells": [
  {
   "cell_type": "markdown",
   "metadata": {},
   "source": [
    "## Define different types of users\n",
    "Active versus inactive \n",
    "\n",
    "0 versus 1\n",
    "\n",
    "First hypothesis:\n",
    "- you are inactive if you have less than 5 trips in two months\n",
    "\n",
    "Second hypothesis:\n",
    "- you are inactive if you have less than 50 miles in two months\n",
    "\n",
    "### We have comb through everyone and determine whether they are active or inactive "
   ]
  },
  {
   "cell_type": "code",
   "execution_count": 1191,
   "metadata": {
    "scrolled": true
   },
   "outputs": [],
   "source": [
    "from __future__ import division\n",
    "from datetime import datetime, timedelta,date\n",
    "import pandas as pd\n",
    "%matplotlib inline\n",
    "from sklearn.metrics import classification_report,confusion_matrix\n",
    "import matplotlib.pyplot as plt\n",
    "import numpy as np\n",
    "import seaborn as sns\n",
    "from sklearn.cluster import KMeans\n",
    "\n",
    "\n",
    "import chart_studio\n",
    "import plotly.offline as pyoff\n",
    "import plotly.graph_objs as go\n",
    "\n",
    "import xgboost as xgb\n",
    "from sklearn.model_selection import KFold, cross_val_score, train_test_split\n",
    "\n",
    "import xgboost as xgb\n",
    "import pandas as pd\n",
    "import matplotlib.pyplot as plt  # To visualize\n",
    "import pandas as pd  # To read data\n",
    "from sklearn.linear_model import LinearRegression\n",
    "import pandas as pd\n",
    "import numpy as np\n",
    "from sklearn.preprocessing import LabelEncoder\n",
    "import random\n",
    "from sklearn.ensemble import RandomForestClassifier\n",
    "from sklearn.ensemble import GradientBoostingClassifier\n",
    "from pandas.plotting import autocorrelation_plot\n",
    "from sklearn.model_selection import train_test_split\n",
    "from sklearn.datasets import load_boston\n",
    "from sklearn.metrics import mean_squared_error\n",
    "from sklearn.metrics import r2_score\n",
    "from sklearn.feature_extraction.text import CountVectorizer\n",
    "from sklearn.linear_model import LogisticRegression\n",
    "from sklearn.model_selection import train_test_split\n",
    "import seaborn as sns\n",
    "sns.set(style=\"white\")\n",
    "sns.set(style=\"whitegrid\", color_codes=True)\n",
    "from sklearn.feature_selection import RFE\n",
    "from sklearn.linear_model import LogisticRegression\n",
    "from sklearn.preprocessing import PolynomialFeatures\n",
    "from sklearn.linear_model import LinearRegression\n",
    "import datetime"
   ]
  },
  {
   "cell_type": "code",
   "execution_count": 1078,
   "metadata": {},
   "outputs": [],
   "source": [
    "# create dataframes\n",
    "driver = pd.read_csv(\"driver_ids.csv\")\n",
    "rider = pd.read_csv(\"ride_ids.csv\")\n",
    "timestamps = pd.read_csv(\"ride_timestamps.csv\")"
   ]
  },
  {
   "cell_type": "code",
   "execution_count": 1079,
   "metadata": {},
   "outputs": [
    {
     "data": {
      "text/html": [
       "<div>\n",
       "<style scoped>\n",
       "    .dataframe tbody tr th:only-of-type {\n",
       "        vertical-align: middle;\n",
       "    }\n",
       "\n",
       "    .dataframe tbody tr th {\n",
       "        vertical-align: top;\n",
       "    }\n",
       "\n",
       "    .dataframe thead th {\n",
       "        text-align: right;\n",
       "    }\n",
       "</style>\n",
       "<table border=\"1\" class=\"dataframe\">\n",
       "  <thead>\n",
       "    <tr style=\"text-align: right;\">\n",
       "      <th></th>\n",
       "      <th>driver_id</th>\n",
       "      <th>driver_onboard_date</th>\n",
       "    </tr>\n",
       "  </thead>\n",
       "  <tbody>\n",
       "  </tbody>\n",
       "</table>\n",
       "</div>"
      ],
      "text/plain": [
       "Empty DataFrame\n",
       "Columns: [driver_id, driver_onboard_date]\n",
       "Index: []"
      ]
     },
     "execution_count": 1079,
     "metadata": {},
     "output_type": "execute_result"
    }
   ],
   "source": [
    "driver[driver['driver_id']== '056175954c78be4c4de7e80167b7e1f9']"
   ]
  },
  {
   "cell_type": "code",
   "execution_count": 1080,
   "metadata": {},
   "outputs": [
    {
     "data": {
      "text/html": [
       "<div>\n",
       "<style scoped>\n",
       "    .dataframe tbody tr th:only-of-type {\n",
       "        vertical-align: middle;\n",
       "    }\n",
       "\n",
       "    .dataframe tbody tr th {\n",
       "        vertical-align: top;\n",
       "    }\n",
       "\n",
       "    .dataframe thead th {\n",
       "        text-align: right;\n",
       "    }\n",
       "</style>\n",
       "<table border=\"1\" class=\"dataframe\">\n",
       "  <thead>\n",
       "    <tr style=\"text-align: right;\">\n",
       "      <th></th>\n",
       "      <th>driver_id</th>\n",
       "      <th>ride_id</th>\n",
       "      <th>ride_distance</th>\n",
       "      <th>ride_duration</th>\n",
       "      <th>ride_prime_time</th>\n",
       "    </tr>\n",
       "  </thead>\n",
       "  <tbody>\n",
       "    <tr>\n",
       "      <td>0</td>\n",
       "      <td>002be0ffdc997bd5c50703158b7c2491</td>\n",
       "      <td>006d61cf7446e682f7bc50b0f8a5bea5</td>\n",
       "      <td>1811</td>\n",
       "      <td>327</td>\n",
       "      <td>50</td>\n",
       "    </tr>\n",
       "    <tr>\n",
       "      <td>1</td>\n",
       "      <td>002be0ffdc997bd5c50703158b7c2491</td>\n",
       "      <td>01b522c5c3a756fbdb12e95e87507eda</td>\n",
       "      <td>3362</td>\n",
       "      <td>809</td>\n",
       "      <td>0</td>\n",
       "    </tr>\n",
       "    <tr>\n",
       "      <td>2</td>\n",
       "      <td>002be0ffdc997bd5c50703158b7c2491</td>\n",
       "      <td>029227c4c2971ce69ff2274dc798ef43</td>\n",
       "      <td>3282</td>\n",
       "      <td>572</td>\n",
       "      <td>0</td>\n",
       "    </tr>\n",
       "    <tr>\n",
       "      <td>3</td>\n",
       "      <td>002be0ffdc997bd5c50703158b7c2491</td>\n",
       "      <td>034e861343a63ac3c18a9ceb1ce0ac69</td>\n",
       "      <td>65283</td>\n",
       "      <td>3338</td>\n",
       "      <td>25</td>\n",
       "    </tr>\n",
       "    <tr>\n",
       "      <td>4</td>\n",
       "      <td>002be0ffdc997bd5c50703158b7c2491</td>\n",
       "      <td>034f2e614a2f9fc7f1c2f77647d1b981</td>\n",
       "      <td>4115</td>\n",
       "      <td>823</td>\n",
       "      <td>100</td>\n",
       "    </tr>\n",
       "  </tbody>\n",
       "</table>\n",
       "</div>"
      ],
      "text/plain": [
       "                          driver_id                           ride_id  \\\n",
       "0  002be0ffdc997bd5c50703158b7c2491  006d61cf7446e682f7bc50b0f8a5bea5   \n",
       "1  002be0ffdc997bd5c50703158b7c2491  01b522c5c3a756fbdb12e95e87507eda   \n",
       "2  002be0ffdc997bd5c50703158b7c2491  029227c4c2971ce69ff2274dc798ef43   \n",
       "3  002be0ffdc997bd5c50703158b7c2491  034e861343a63ac3c18a9ceb1ce0ac69   \n",
       "4  002be0ffdc997bd5c50703158b7c2491  034f2e614a2f9fc7f1c2f77647d1b981   \n",
       "\n",
       "   ride_distance  ride_duration  ride_prime_time  \n",
       "0           1811            327               50  \n",
       "1           3362            809                0  \n",
       "2           3282            572                0  \n",
       "3          65283           3338               25  \n",
       "4           4115            823              100  "
      ]
     },
     "execution_count": 1080,
     "metadata": {},
     "output_type": "execute_result"
    }
   ],
   "source": [
    "rider.head()"
   ]
  },
  {
   "cell_type": "code",
   "execution_count": 1081,
   "metadata": {},
   "outputs": [
    {
     "data": {
      "text/html": [
       "<div>\n",
       "<style scoped>\n",
       "    .dataframe tbody tr th:only-of-type {\n",
       "        vertical-align: middle;\n",
       "    }\n",
       "\n",
       "    .dataframe tbody tr th {\n",
       "        vertical-align: top;\n",
       "    }\n",
       "\n",
       "    .dataframe thead th {\n",
       "        text-align: right;\n",
       "    }\n",
       "</style>\n",
       "<table border=\"1\" class=\"dataframe\">\n",
       "  <thead>\n",
       "    <tr style=\"text-align: right;\">\n",
       "      <th></th>\n",
       "      <th>ride_id</th>\n",
       "      <th>event</th>\n",
       "      <th>timestamp</th>\n",
       "    </tr>\n",
       "  </thead>\n",
       "  <tbody>\n",
       "    <tr>\n",
       "      <td>0</td>\n",
       "      <td>00003037a262d9ee40e61b5c0718f7f0</td>\n",
       "      <td>requested_at</td>\n",
       "      <td>2016-06-13 09:39:19</td>\n",
       "    </tr>\n",
       "    <tr>\n",
       "      <td>1</td>\n",
       "      <td>00003037a262d9ee40e61b5c0718f7f0</td>\n",
       "      <td>accepted_at</td>\n",
       "      <td>2016-06-13 09:39:51</td>\n",
       "    </tr>\n",
       "    <tr>\n",
       "      <td>2</td>\n",
       "      <td>00003037a262d9ee40e61b5c0718f7f0</td>\n",
       "      <td>arrived_at</td>\n",
       "      <td>2016-06-13 09:44:31</td>\n",
       "    </tr>\n",
       "    <tr>\n",
       "      <td>3</td>\n",
       "      <td>00003037a262d9ee40e61b5c0718f7f0</td>\n",
       "      <td>picked_up_at</td>\n",
       "      <td>2016-06-13 09:44:33</td>\n",
       "    </tr>\n",
       "    <tr>\n",
       "      <td>4</td>\n",
       "      <td>00003037a262d9ee40e61b5c0718f7f0</td>\n",
       "      <td>dropped_off_at</td>\n",
       "      <td>2016-06-13 10:03:05</td>\n",
       "    </tr>\n",
       "  </tbody>\n",
       "</table>\n",
       "</div>"
      ],
      "text/plain": [
       "                            ride_id           event            timestamp\n",
       "0  00003037a262d9ee40e61b5c0718f7f0    requested_at  2016-06-13 09:39:19\n",
       "1  00003037a262d9ee40e61b5c0718f7f0     accepted_at  2016-06-13 09:39:51\n",
       "2  00003037a262d9ee40e61b5c0718f7f0      arrived_at  2016-06-13 09:44:31\n",
       "3  00003037a262d9ee40e61b5c0718f7f0    picked_up_at  2016-06-13 09:44:33\n",
       "4  00003037a262d9ee40e61b5c0718f7f0  dropped_off_at  2016-06-13 10:03:05"
      ]
     },
     "execution_count": 1081,
     "metadata": {},
     "output_type": "execute_result"
    }
   ],
   "source": [
    "timestamps.head()"
   ]
  },
  {
   "cell_type": "markdown",
   "metadata": {},
   "source": [
    "## Cleaning the rider df\n",
    "- durations into minutes \n",
    "- distance into miles \n",
    "- fare based on minutes\n",
    "- fare based on distance\n",
    "- Actual total fare"
   ]
  },
  {
   "cell_type": "code",
   "execution_count": 1082,
   "metadata": {},
   "outputs": [],
   "source": [
    "# Convert the seconds into mintues \n",
    "rider['duration_min'] = rider['ride_duration'].apply(lambda x: x / 60)"
   ]
  },
  {
   "cell_type": "code",
   "execution_count": 1083,
   "metadata": {},
   "outputs": [],
   "source": [
    "# Convert meters into miles \n",
    "rider['distance_mi'] = rider['ride_distance'].apply(lambda x: x *  0.00062137)"
   ]
  },
  {
   "cell_type": "code",
   "execution_count": 1084,
   "metadata": {},
   "outputs": [],
   "source": [
    "# The fare purely based on the length in minutes \n",
    "rider['fare_duration'] = rider['duration_min'].apply(lambda x: x * .22)"
   ]
  },
  {
   "cell_type": "code",
   "execution_count": 1085,
   "metadata": {},
   "outputs": [],
   "source": [
    "# The fare purely based on the distance \n",
    "rider['fare_distance'] = rider['distance_mi'].apply(lambda x: x * 1.15)"
   ]
  },
  {
   "cell_type": "code",
   "execution_count": 1086,
   "metadata": {},
   "outputs": [],
   "source": [
    "# Fare based on the formula presented online\n",
    "rider['total_fare'] = ((rider['fare_distance'] + rider['fare_duration']) * (1 + (0.01 * rider['ride_prime_time']))) + 2 + 1.75\n"
   ]
  },
  {
   "cell_type": "code",
   "execution_count": 1087,
   "metadata": {},
   "outputs": [],
   "source": [
    "# Set minimum and maximum on the fares \n",
    "rider['total_fare'] = rider['total_fare'].apply(lambda x: x if x >= 5 else 5)\n",
    "rider['total_fare'] = rider['total_fare'].apply(lambda x: x if x <= 400 else 400)"
   ]
  },
  {
   "cell_type": "code",
   "execution_count": 1088,
   "metadata": {},
   "outputs": [
    {
     "data": {
      "text/html": [
       "<div>\n",
       "<style scoped>\n",
       "    .dataframe tbody tr th:only-of-type {\n",
       "        vertical-align: middle;\n",
       "    }\n",
       "\n",
       "    .dataframe tbody tr th {\n",
       "        vertical-align: top;\n",
       "    }\n",
       "\n",
       "    .dataframe thead th {\n",
       "        text-align: right;\n",
       "    }\n",
       "</style>\n",
       "<table border=\"1\" class=\"dataframe\">\n",
       "  <thead>\n",
       "    <tr style=\"text-align: right;\">\n",
       "      <th></th>\n",
       "      <th>driver_id</th>\n",
       "      <th>ride_id</th>\n",
       "      <th>ride_distance</th>\n",
       "      <th>ride_duration</th>\n",
       "      <th>ride_prime_time</th>\n",
       "      <th>duration_min</th>\n",
       "      <th>distance_mi</th>\n",
       "      <th>fare_duration</th>\n",
       "      <th>fare_distance</th>\n",
       "      <th>total_fare</th>\n",
       "    </tr>\n",
       "  </thead>\n",
       "  <tbody>\n",
       "    <tr>\n",
       "      <td>0</td>\n",
       "      <td>002be0ffdc997bd5c50703158b7c2491</td>\n",
       "      <td>006d61cf7446e682f7bc50b0f8a5bea5</td>\n",
       "      <td>1811</td>\n",
       "      <td>327</td>\n",
       "      <td>50</td>\n",
       "      <td>5.450000</td>\n",
       "      <td>1.125301</td>\n",
       "      <td>1.199000</td>\n",
       "      <td>1.294096</td>\n",
       "      <td>7.489644</td>\n",
       "    </tr>\n",
       "    <tr>\n",
       "      <td>1</td>\n",
       "      <td>002be0ffdc997bd5c50703158b7c2491</td>\n",
       "      <td>01b522c5c3a756fbdb12e95e87507eda</td>\n",
       "      <td>3362</td>\n",
       "      <td>809</td>\n",
       "      <td>0</td>\n",
       "      <td>13.483333</td>\n",
       "      <td>2.089046</td>\n",
       "      <td>2.966333</td>\n",
       "      <td>2.402403</td>\n",
       "      <td>9.118736</td>\n",
       "    </tr>\n",
       "    <tr>\n",
       "      <td>2</td>\n",
       "      <td>002be0ffdc997bd5c50703158b7c2491</td>\n",
       "      <td>029227c4c2971ce69ff2274dc798ef43</td>\n",
       "      <td>3282</td>\n",
       "      <td>572</td>\n",
       "      <td>0</td>\n",
       "      <td>9.533333</td>\n",
       "      <td>2.039336</td>\n",
       "      <td>2.097333</td>\n",
       "      <td>2.345237</td>\n",
       "      <td>8.192570</td>\n",
       "    </tr>\n",
       "    <tr>\n",
       "      <td>3</td>\n",
       "      <td>002be0ffdc997bd5c50703158b7c2491</td>\n",
       "      <td>034e861343a63ac3c18a9ceb1ce0ac69</td>\n",
       "      <td>65283</td>\n",
       "      <td>3338</td>\n",
       "      <td>25</td>\n",
       "      <td>55.633333</td>\n",
       "      <td>40.564898</td>\n",
       "      <td>12.239333</td>\n",
       "      <td>46.649632</td>\n",
       "      <td>77.361207</td>\n",
       "    </tr>\n",
       "    <tr>\n",
       "      <td>4</td>\n",
       "      <td>002be0ffdc997bd5c50703158b7c2491</td>\n",
       "      <td>034f2e614a2f9fc7f1c2f77647d1b981</td>\n",
       "      <td>4115</td>\n",
       "      <td>823</td>\n",
       "      <td>100</td>\n",
       "      <td>13.716667</td>\n",
       "      <td>2.556938</td>\n",
       "      <td>3.017667</td>\n",
       "      <td>2.940478</td>\n",
       "      <td>15.666290</td>\n",
       "    </tr>\n",
       "  </tbody>\n",
       "</table>\n",
       "</div>"
      ],
      "text/plain": [
       "                          driver_id                           ride_id  \\\n",
       "0  002be0ffdc997bd5c50703158b7c2491  006d61cf7446e682f7bc50b0f8a5bea5   \n",
       "1  002be0ffdc997bd5c50703158b7c2491  01b522c5c3a756fbdb12e95e87507eda   \n",
       "2  002be0ffdc997bd5c50703158b7c2491  029227c4c2971ce69ff2274dc798ef43   \n",
       "3  002be0ffdc997bd5c50703158b7c2491  034e861343a63ac3c18a9ceb1ce0ac69   \n",
       "4  002be0ffdc997bd5c50703158b7c2491  034f2e614a2f9fc7f1c2f77647d1b981   \n",
       "\n",
       "   ride_distance  ride_duration  ride_prime_time  duration_min  distance_mi  \\\n",
       "0           1811            327               50      5.450000     1.125301   \n",
       "1           3362            809                0     13.483333     2.089046   \n",
       "2           3282            572                0      9.533333     2.039336   \n",
       "3          65283           3338               25     55.633333    40.564898   \n",
       "4           4115            823              100     13.716667     2.556938   \n",
       "\n",
       "   fare_duration  fare_distance  total_fare  \n",
       "0       1.199000       1.294096    7.489644  \n",
       "1       2.966333       2.402403    9.118736  \n",
       "2       2.097333       2.345237    8.192570  \n",
       "3      12.239333      46.649632   77.361207  \n",
       "4       3.017667       2.940478   15.666290  "
      ]
     },
     "execution_count": 1088,
     "metadata": {},
     "output_type": "execute_result"
    }
   ],
   "source": [
    "rider.head()"
   ]
  },
  {
   "cell_type": "markdown",
   "metadata": {},
   "source": [
    "## Combining timestamp and onboarding dates \n"
   ]
  },
  {
   "cell_type": "code",
   "execution_count": 1089,
   "metadata": {},
   "outputs": [
    {
     "data": {
      "text/html": [
       "<div>\n",
       "<style scoped>\n",
       "    .dataframe tbody tr th:only-of-type {\n",
       "        vertical-align: middle;\n",
       "    }\n",
       "\n",
       "    .dataframe tbody tr th {\n",
       "        vertical-align: top;\n",
       "    }\n",
       "\n",
       "    .dataframe thead th {\n",
       "        text-align: right;\n",
       "    }\n",
       "</style>\n",
       "<table border=\"1\" class=\"dataframe\">\n",
       "  <thead>\n",
       "    <tr style=\"text-align: right;\">\n",
       "      <th></th>\n",
       "      <th>ride_id</th>\n",
       "      <th>event</th>\n",
       "      <th>timestamp</th>\n",
       "    </tr>\n",
       "  </thead>\n",
       "  <tbody>\n",
       "    <tr>\n",
       "      <td>0</td>\n",
       "      <td>00003037a262d9ee40e61b5c0718f7f0</td>\n",
       "      <td>requested_at</td>\n",
       "      <td>2016-06-13 09:39:19</td>\n",
       "    </tr>\n",
       "    <tr>\n",
       "      <td>1</td>\n",
       "      <td>00003037a262d9ee40e61b5c0718f7f0</td>\n",
       "      <td>accepted_at</td>\n",
       "      <td>2016-06-13 09:39:51</td>\n",
       "    </tr>\n",
       "    <tr>\n",
       "      <td>2</td>\n",
       "      <td>00003037a262d9ee40e61b5c0718f7f0</td>\n",
       "      <td>arrived_at</td>\n",
       "      <td>2016-06-13 09:44:31</td>\n",
       "    </tr>\n",
       "    <tr>\n",
       "      <td>3</td>\n",
       "      <td>00003037a262d9ee40e61b5c0718f7f0</td>\n",
       "      <td>picked_up_at</td>\n",
       "      <td>2016-06-13 09:44:33</td>\n",
       "    </tr>\n",
       "    <tr>\n",
       "      <td>4</td>\n",
       "      <td>00003037a262d9ee40e61b5c0718f7f0</td>\n",
       "      <td>dropped_off_at</td>\n",
       "      <td>2016-06-13 10:03:05</td>\n",
       "    </tr>\n",
       "  </tbody>\n",
       "</table>\n",
       "</div>"
      ],
      "text/plain": [
       "                            ride_id           event            timestamp\n",
       "0  00003037a262d9ee40e61b5c0718f7f0    requested_at  2016-06-13 09:39:19\n",
       "1  00003037a262d9ee40e61b5c0718f7f0     accepted_at  2016-06-13 09:39:51\n",
       "2  00003037a262d9ee40e61b5c0718f7f0      arrived_at  2016-06-13 09:44:31\n",
       "3  00003037a262d9ee40e61b5c0718f7f0    picked_up_at  2016-06-13 09:44:33\n",
       "4  00003037a262d9ee40e61b5c0718f7f0  dropped_off_at  2016-06-13 10:03:05"
      ]
     },
     "execution_count": 1089,
     "metadata": {},
     "output_type": "execute_result"
    }
   ],
   "source": [
    "timestamps.head()"
   ]
  },
  {
   "cell_type": "code",
   "execution_count": 1090,
   "metadata": {},
   "outputs": [
    {
     "data": {
      "text/plain": [
       "event\n",
       "accepted_at       194081\n",
       "arrived_at        194080\n",
       "dropped_off_at    194081\n",
       "picked_up_at      194081\n",
       "requested_at      194081\n",
       "dtype: int64"
      ]
     },
     "execution_count": 1090,
     "metadata": {},
     "output_type": "execute_result"
    }
   ],
   "source": [
    "# pivot the timestamps\n",
    "pivot_timestamps = timestamps.pivot(index='ride_id', columns='event', values='timestamp')\n",
    "pivot_timestamps.count()"
   ]
  },
  {
   "cell_type": "code",
   "execution_count": 1091,
   "metadata": {},
   "outputs": [],
   "source": [
    "# Preview the rides and the time stamp of each action \n",
    "pivot_timestamps.head()\n",
    "pivot_timestamps.reset_index(level=0, inplace=True)"
   ]
  },
  {
   "cell_type": "markdown",
   "metadata": {},
   "source": [
    "## This contains three crucial elements \n",
    "- driver_id\n",
    "- ride_id\n",
    "- driver_onboarding_date"
   ]
  },
  {
   "cell_type": "code",
   "execution_count": 1092,
   "metadata": {},
   "outputs": [
    {
     "data": {
      "text/html": [
       "<div>\n",
       "<style scoped>\n",
       "    .dataframe tbody tr th:only-of-type {\n",
       "        vertical-align: middle;\n",
       "    }\n",
       "\n",
       "    .dataframe tbody tr th {\n",
       "        vertical-align: top;\n",
       "    }\n",
       "\n",
       "    .dataframe thead th {\n",
       "        text-align: right;\n",
       "    }\n",
       "</style>\n",
       "<table border=\"1\" class=\"dataframe\">\n",
       "  <thead>\n",
       "    <tr style=\"text-align: right;\">\n",
       "      <th></th>\n",
       "      <th>driver_id</th>\n",
       "      <th>ride_id</th>\n",
       "      <th>driver_onboard_date</th>\n",
       "    </tr>\n",
       "  </thead>\n",
       "  <tbody>\n",
       "    <tr>\n",
       "      <td>0</td>\n",
       "      <td>002be0ffdc997bd5c50703158b7c2491</td>\n",
       "      <td>006d61cf7446e682f7bc50b0f8a5bea5</td>\n",
       "      <td>2016-03-29 00:00:00</td>\n",
       "    </tr>\n",
       "    <tr>\n",
       "      <td>1</td>\n",
       "      <td>002be0ffdc997bd5c50703158b7c2491</td>\n",
       "      <td>01b522c5c3a756fbdb12e95e87507eda</td>\n",
       "      <td>2016-03-29 00:00:00</td>\n",
       "    </tr>\n",
       "    <tr>\n",
       "      <td>2</td>\n",
       "      <td>002be0ffdc997bd5c50703158b7c2491</td>\n",
       "      <td>029227c4c2971ce69ff2274dc798ef43</td>\n",
       "      <td>2016-03-29 00:00:00</td>\n",
       "    </tr>\n",
       "    <tr>\n",
       "      <td>3</td>\n",
       "      <td>002be0ffdc997bd5c50703158b7c2491</td>\n",
       "      <td>034e861343a63ac3c18a9ceb1ce0ac69</td>\n",
       "      <td>2016-03-29 00:00:00</td>\n",
       "    </tr>\n",
       "    <tr>\n",
       "      <td>4</td>\n",
       "      <td>002be0ffdc997bd5c50703158b7c2491</td>\n",
       "      <td>034f2e614a2f9fc7f1c2f77647d1b981</td>\n",
       "      <td>2016-03-29 00:00:00</td>\n",
       "    </tr>\n",
       "  </tbody>\n",
       "</table>\n",
       "</div>"
      ],
      "text/plain": [
       "                          driver_id                           ride_id  \\\n",
       "0  002be0ffdc997bd5c50703158b7c2491  006d61cf7446e682f7bc50b0f8a5bea5   \n",
       "1  002be0ffdc997bd5c50703158b7c2491  01b522c5c3a756fbdb12e95e87507eda   \n",
       "2  002be0ffdc997bd5c50703158b7c2491  029227c4c2971ce69ff2274dc798ef43   \n",
       "3  002be0ffdc997bd5c50703158b7c2491  034e861343a63ac3c18a9ceb1ce0ac69   \n",
       "4  002be0ffdc997bd5c50703158b7c2491  034f2e614a2f9fc7f1c2f77647d1b981   \n",
       "\n",
       "   driver_onboard_date  \n",
       "0  2016-03-29 00:00:00  \n",
       "1  2016-03-29 00:00:00  \n",
       "2  2016-03-29 00:00:00  \n",
       "3  2016-03-29 00:00:00  \n",
       "4  2016-03-29 00:00:00  "
      ]
     },
     "execution_count": 1092,
     "metadata": {},
     "output_type": "execute_result"
    }
   ],
   "source": [
    "# Merge driver_id, ride_id, and onboarding_date\n",
    "driver_rider = pd.merge(rider[['driver_id','ride_id']], driver, on = 'driver_id', how = 'inner')\n",
    "driver_rider.head()"
   ]
  },
  {
   "cell_type": "code",
   "execution_count": 1093,
   "metadata": {},
   "outputs": [
    {
     "data": {
      "text/html": [
       "<div>\n",
       "<style scoped>\n",
       "    .dataframe tbody tr th:only-of-type {\n",
       "        vertical-align: middle;\n",
       "    }\n",
       "\n",
       "    .dataframe tbody tr th {\n",
       "        vertical-align: top;\n",
       "    }\n",
       "\n",
       "    .dataframe thead th {\n",
       "        text-align: right;\n",
       "    }\n",
       "</style>\n",
       "<table border=\"1\" class=\"dataframe\">\n",
       "  <thead>\n",
       "    <tr style=\"text-align: right;\">\n",
       "      <th></th>\n",
       "      <th>ride_id</th>\n",
       "      <th>accepted_at</th>\n",
       "      <th>arrived_at</th>\n",
       "      <th>dropped_off_at</th>\n",
       "      <th>picked_up_at</th>\n",
       "      <th>requested_at</th>\n",
       "      <th>driver_id</th>\n",
       "      <th>driver_onboard_date</th>\n",
       "    </tr>\n",
       "  </thead>\n",
       "  <tbody>\n",
       "    <tr>\n",
       "      <td>0</td>\n",
       "      <td>00003037a262d9ee40e61b5c0718f7f0</td>\n",
       "      <td>2016-06-13 09:39:51</td>\n",
       "      <td>2016-06-13 09:44:31</td>\n",
       "      <td>2016-06-13 10:03:05</td>\n",
       "      <td>2016-06-13 09:44:33</td>\n",
       "      <td>2016-06-13 09:39:19</td>\n",
       "      <td>d967f5296732fa55266b5f1314e7447b</td>\n",
       "      <td>2016-04-09 00:00:00</td>\n",
       "    </tr>\n",
       "    <tr>\n",
       "      <td>1</td>\n",
       "      <td>00005eae40882760d675da5effb89ae3</td>\n",
       "      <td>2016-05-14 05:23:25</td>\n",
       "      <td>2016-05-14 05:26:17</td>\n",
       "      <td>2016-05-14 05:34:17</td>\n",
       "      <td>2016-05-14 05:26:18</td>\n",
       "      <td>2016-05-14 05:23:21</td>\n",
       "      <td>0656192a402808805282e60761bda088</td>\n",
       "      <td>2016-04-30 00:00:00</td>\n",
       "    </tr>\n",
       "    <tr>\n",
       "      <td>2</td>\n",
       "      <td>000061d42cf29f73b591041d9a1b2973</td>\n",
       "      <td>2016-05-16 15:43:14</td>\n",
       "      <td>2016-05-16 15:47:29</td>\n",
       "      <td>2016-05-16 15:54:18</td>\n",
       "      <td>2016-05-16 15:47:32</td>\n",
       "      <td>2016-05-16 15:43:09</td>\n",
       "      <td>c468a648519cd42da75e6aa9dadf733e</td>\n",
       "      <td>2016-04-01 00:00:00</td>\n",
       "    </tr>\n",
       "    <tr>\n",
       "      <td>3</td>\n",
       "      <td>00006efeb0d5e3ccad7d921ddeee9900</td>\n",
       "      <td>2016-05-11 19:29:43</td>\n",
       "      <td>2016-05-11 19:35:11</td>\n",
       "      <td>2016-05-11 19:40:47</td>\n",
       "      <td>2016-05-11 19:35:15</td>\n",
       "      <td>2016-05-11 19:29:36</td>\n",
       "      <td>689bdf87fb2de49f98bf4946cfaa5068</td>\n",
       "      <td>2016-04-04 00:00:00</td>\n",
       "    </tr>\n",
       "    <tr>\n",
       "      <td>4</td>\n",
       "      <td>00012759befd5d34a0609800f6a1ee59</td>\n",
       "      <td>2016-05-31 15:45:05</td>\n",
       "      <td>2016-05-31 15:46:22</td>\n",
       "      <td>2016-05-31 15:59:26</td>\n",
       "      <td>2016-05-31 15:46:23</td>\n",
       "      <td>2016-05-31 15:44:56</td>\n",
       "      <td>eece82fe623b4bb335a9b9e20eb0ca54</td>\n",
       "      <td>2016-04-28 00:00:00</td>\n",
       "    </tr>\n",
       "  </tbody>\n",
       "</table>\n",
       "</div>"
      ],
      "text/plain": [
       "                            ride_id          accepted_at           arrived_at  \\\n",
       "0  00003037a262d9ee40e61b5c0718f7f0  2016-06-13 09:39:51  2016-06-13 09:44:31   \n",
       "1  00005eae40882760d675da5effb89ae3  2016-05-14 05:23:25  2016-05-14 05:26:17   \n",
       "2  000061d42cf29f73b591041d9a1b2973  2016-05-16 15:43:14  2016-05-16 15:47:29   \n",
       "3  00006efeb0d5e3ccad7d921ddeee9900  2016-05-11 19:29:43  2016-05-11 19:35:11   \n",
       "4  00012759befd5d34a0609800f6a1ee59  2016-05-31 15:45:05  2016-05-31 15:46:22   \n",
       "\n",
       "        dropped_off_at         picked_up_at         requested_at  \\\n",
       "0  2016-06-13 10:03:05  2016-06-13 09:44:33  2016-06-13 09:39:19   \n",
       "1  2016-05-14 05:34:17  2016-05-14 05:26:18  2016-05-14 05:23:21   \n",
       "2  2016-05-16 15:54:18  2016-05-16 15:47:32  2016-05-16 15:43:09   \n",
       "3  2016-05-11 19:40:47  2016-05-11 19:35:15  2016-05-11 19:29:36   \n",
       "4  2016-05-31 15:59:26  2016-05-31 15:46:23  2016-05-31 15:44:56   \n",
       "\n",
       "                          driver_id  driver_onboard_date  \n",
       "0  d967f5296732fa55266b5f1314e7447b  2016-04-09 00:00:00  \n",
       "1  0656192a402808805282e60761bda088  2016-04-30 00:00:00  \n",
       "2  c468a648519cd42da75e6aa9dadf733e  2016-04-01 00:00:00  \n",
       "3  689bdf87fb2de49f98bf4946cfaa5068  2016-04-04 00:00:00  \n",
       "4  eece82fe623b4bb335a9b9e20eb0ca54  2016-04-28 00:00:00  "
      ]
     },
     "execution_count": 1093,
     "metadata": {},
     "output_type": "execute_result"
    }
   ],
   "source": [
    "# merged the two data frames \n",
    "timestamps_driver = pd.merge(pivot_timestamps,driver_rider, on = 'ride_id', how = 'inner')\n",
    "timestamps_driver.head()"
   ]
  },
  {
   "cell_type": "code",
   "execution_count": 1094,
   "metadata": {},
   "outputs": [
    {
     "data": {
      "text/html": [
       "<div>\n",
       "<style scoped>\n",
       "    .dataframe tbody tr th:only-of-type {\n",
       "        vertical-align: middle;\n",
       "    }\n",
       "\n",
       "    .dataframe tbody tr th {\n",
       "        vertical-align: top;\n",
       "    }\n",
       "\n",
       "    .dataframe thead th {\n",
       "        text-align: right;\n",
       "    }\n",
       "</style>\n",
       "<table border=\"1\" class=\"dataframe\">\n",
       "  <thead>\n",
       "    <tr style=\"text-align: right;\">\n",
       "      <th></th>\n",
       "      <th>driver_id</th>\n",
       "      <th>driver_onboard_date</th>\n",
       "      <th>ride_id</th>\n",
       "      <th>requested_at</th>\n",
       "      <th>accepted_at</th>\n",
       "      <th>arrived_at</th>\n",
       "      <th>picked_up_at</th>\n",
       "      <th>dropped_off_at</th>\n",
       "    </tr>\n",
       "  </thead>\n",
       "  <tbody>\n",
       "    <tr>\n",
       "      <td>0</td>\n",
       "      <td>d967f5296732fa55266b5f1314e7447b</td>\n",
       "      <td>2016-04-09 00:00:00</td>\n",
       "      <td>00003037a262d9ee40e61b5c0718f7f0</td>\n",
       "      <td>2016-06-13 09:39:19</td>\n",
       "      <td>2016-06-13 09:39:51</td>\n",
       "      <td>2016-06-13 09:44:31</td>\n",
       "      <td>2016-06-13 09:44:33</td>\n",
       "      <td>2016-06-13 10:03:05</td>\n",
       "    </tr>\n",
       "    <tr>\n",
       "      <td>1</td>\n",
       "      <td>0656192a402808805282e60761bda088</td>\n",
       "      <td>2016-04-30 00:00:00</td>\n",
       "      <td>00005eae40882760d675da5effb89ae3</td>\n",
       "      <td>2016-05-14 05:23:21</td>\n",
       "      <td>2016-05-14 05:23:25</td>\n",
       "      <td>2016-05-14 05:26:17</td>\n",
       "      <td>2016-05-14 05:26:18</td>\n",
       "      <td>2016-05-14 05:34:17</td>\n",
       "    </tr>\n",
       "    <tr>\n",
       "      <td>2</td>\n",
       "      <td>c468a648519cd42da75e6aa9dadf733e</td>\n",
       "      <td>2016-04-01 00:00:00</td>\n",
       "      <td>000061d42cf29f73b591041d9a1b2973</td>\n",
       "      <td>2016-05-16 15:43:09</td>\n",
       "      <td>2016-05-16 15:43:14</td>\n",
       "      <td>2016-05-16 15:47:29</td>\n",
       "      <td>2016-05-16 15:47:32</td>\n",
       "      <td>2016-05-16 15:54:18</td>\n",
       "    </tr>\n",
       "    <tr>\n",
       "      <td>3</td>\n",
       "      <td>689bdf87fb2de49f98bf4946cfaa5068</td>\n",
       "      <td>2016-04-04 00:00:00</td>\n",
       "      <td>00006efeb0d5e3ccad7d921ddeee9900</td>\n",
       "      <td>2016-05-11 19:29:36</td>\n",
       "      <td>2016-05-11 19:29:43</td>\n",
       "      <td>2016-05-11 19:35:11</td>\n",
       "      <td>2016-05-11 19:35:15</td>\n",
       "      <td>2016-05-11 19:40:47</td>\n",
       "    </tr>\n",
       "    <tr>\n",
       "      <td>4</td>\n",
       "      <td>eece82fe623b4bb335a9b9e20eb0ca54</td>\n",
       "      <td>2016-04-28 00:00:00</td>\n",
       "      <td>00012759befd5d34a0609800f6a1ee59</td>\n",
       "      <td>2016-05-31 15:44:56</td>\n",
       "      <td>2016-05-31 15:45:05</td>\n",
       "      <td>2016-05-31 15:46:22</td>\n",
       "      <td>2016-05-31 15:46:23</td>\n",
       "      <td>2016-05-31 15:59:26</td>\n",
       "    </tr>\n",
       "  </tbody>\n",
       "</table>\n",
       "</div>"
      ],
      "text/plain": [
       "                          driver_id  driver_onboard_date  \\\n",
       "0  d967f5296732fa55266b5f1314e7447b  2016-04-09 00:00:00   \n",
       "1  0656192a402808805282e60761bda088  2016-04-30 00:00:00   \n",
       "2  c468a648519cd42da75e6aa9dadf733e  2016-04-01 00:00:00   \n",
       "3  689bdf87fb2de49f98bf4946cfaa5068  2016-04-04 00:00:00   \n",
       "4  eece82fe623b4bb335a9b9e20eb0ca54  2016-04-28 00:00:00   \n",
       "\n",
       "                            ride_id         requested_at          accepted_at  \\\n",
       "0  00003037a262d9ee40e61b5c0718f7f0  2016-06-13 09:39:19  2016-06-13 09:39:51   \n",
       "1  00005eae40882760d675da5effb89ae3  2016-05-14 05:23:21  2016-05-14 05:23:25   \n",
       "2  000061d42cf29f73b591041d9a1b2973  2016-05-16 15:43:09  2016-05-16 15:43:14   \n",
       "3  00006efeb0d5e3ccad7d921ddeee9900  2016-05-11 19:29:36  2016-05-11 19:29:43   \n",
       "4  00012759befd5d34a0609800f6a1ee59  2016-05-31 15:44:56  2016-05-31 15:45:05   \n",
       "\n",
       "            arrived_at         picked_up_at       dropped_off_at  \n",
       "0  2016-06-13 09:44:31  2016-06-13 09:44:33  2016-06-13 10:03:05  \n",
       "1  2016-05-14 05:26:17  2016-05-14 05:26:18  2016-05-14 05:34:17  \n",
       "2  2016-05-16 15:47:29  2016-05-16 15:47:32  2016-05-16 15:54:18  \n",
       "3  2016-05-11 19:35:11  2016-05-11 19:35:15  2016-05-11 19:40:47  \n",
       "4  2016-05-31 15:46:22  2016-05-31 15:46:23  2016-05-31 15:59:26  "
      ]
     },
     "execution_count": 1094,
     "metadata": {},
     "output_type": "execute_result"
    }
   ],
   "source": [
    "# Reorder the columns\n",
    "timestamps_driver = timestamps_driver[['driver_id', 'driver_onboard_date', 'ride_id','requested_at', 'accepted_at', 'arrived_at', 'picked_up_at', 'dropped_off_at']]\n",
    "timestamps_driver.head()#['driver_onboard_date'][0]"
   ]
  },
  {
   "cell_type": "code",
   "execution_count": 1095,
   "metadata": {},
   "outputs": [
    {
     "data": {
      "text/plain": [
       "driver_id              002be0ffdc997bd5c50703158b7c2491\n",
       "driver_onboard_date                 2016-03-29 00:00:00\n",
       "ride_id                ff72b2fbf16a0ab06fe8cec71e50eb50\n",
       "requested_at                        2016-06-23 10:06:26\n",
       "accepted_at                         2016-06-23 10:06:30\n",
       "arrived_at                          2016-06-23 10:08:03\n",
       "picked_up_at                        2016-06-23 10:08:13\n",
       "dropped_off_at                      2016-06-23 10:29:53\n",
       "dtype: object"
      ]
     },
     "execution_count": 1095,
     "metadata": {},
     "output_type": "execute_result"
    }
   ],
   "source": [
    "# Create a new dataframe  \n",
    "timestamps_driver_datetime = pd.DataFrame()\n",
    "\n",
    "\n",
    "# Change them into timestamp dates \n",
    "timestamps_driver_datetime['driver_id'] = timestamps_driver['driver_id']\n",
    "\n",
    "timestamps_driver_datetime['driver_onboard_date'] = pd.to_datetime(timestamps_driver['driver_onboard_date'])\n",
    "\n",
    "timestamps_driver_datetime['ride_id'] = timestamps_driver['ride_id']\n",
    "\n",
    "timestamps_driver_datetime['requested_at'] = pd.to_datetime(timestamps_driver['requested_at'])\n",
    "\n",
    "timestamps_driver_datetime['accepted_at'] = pd.to_datetime(timestamps_driver['accepted_at'])\n",
    "\n",
    "timestamps_driver_datetime['arrived_at'] = pd.to_datetime(timestamps_driver['arrived_at'])\n",
    "\n",
    "timestamps_driver_datetime['picked_up_at'] = pd.to_datetime(timestamps_driver['picked_up_at'])\n",
    "\n",
    "timestamps_driver_datetime['dropped_off_at'] = pd.to_datetime(timestamps_driver['dropped_off_at'])\n",
    "\n",
    "\n",
    "timestamps_driver_datetime.head()\n",
    "timestamps_driver[timestamps_driver['driver_id'] == '002be0ffdc997bd5c50703158b7c2491'].max()"
   ]
  },
  {
   "cell_type": "code",
   "execution_count": 1096,
   "metadata": {},
   "outputs": [
    {
     "data": {
      "text/html": [
       "<div>\n",
       "<style scoped>\n",
       "    .dataframe tbody tr th:only-of-type {\n",
       "        vertical-align: middle;\n",
       "    }\n",
       "\n",
       "    .dataframe tbody tr th {\n",
       "        vertical-align: top;\n",
       "    }\n",
       "\n",
       "    .dataframe thead th {\n",
       "        text-align: right;\n",
       "    }\n",
       "</style>\n",
       "<table border=\"1\" class=\"dataframe\">\n",
       "  <thead>\n",
       "    <tr style=\"text-align: right;\">\n",
       "      <th></th>\n",
       "      <th>driver_id</th>\n",
       "      <th>ride_id</th>\n",
       "      <th>requested_at</th>\n",
       "      <th>accepted_at</th>\n",
       "      <th>arrived_at</th>\n",
       "      <th>picked_up_at</th>\n",
       "      <th>dropped_off_at</th>\n",
       "    </tr>\n",
       "    <tr>\n",
       "      <th>driver_onboard_date</th>\n",
       "      <th></th>\n",
       "      <th></th>\n",
       "      <th></th>\n",
       "      <th></th>\n",
       "      <th></th>\n",
       "      <th></th>\n",
       "      <th></th>\n",
       "    </tr>\n",
       "  </thead>\n",
       "  <tbody>\n",
       "    <tr>\n",
       "      <td>2016-03-28</td>\n",
       "      <td>3849</td>\n",
       "      <td>3849</td>\n",
       "      <td>3849</td>\n",
       "      <td>3849</td>\n",
       "      <td>3849</td>\n",
       "      <td>3849</td>\n",
       "      <td>3849</td>\n",
       "    </tr>\n",
       "    <tr>\n",
       "      <td>2016-03-29</td>\n",
       "      <td>6937</td>\n",
       "      <td>6937</td>\n",
       "      <td>6937</td>\n",
       "      <td>6937</td>\n",
       "      <td>6936</td>\n",
       "      <td>6937</td>\n",
       "      <td>6937</td>\n",
       "    </tr>\n",
       "    <tr>\n",
       "      <td>2016-03-30</td>\n",
       "      <td>6001</td>\n",
       "      <td>6001</td>\n",
       "      <td>6001</td>\n",
       "      <td>6001</td>\n",
       "      <td>6001</td>\n",
       "      <td>6001</td>\n",
       "      <td>6001</td>\n",
       "    </tr>\n",
       "    <tr>\n",
       "      <td>2016-03-31</td>\n",
       "      <td>7199</td>\n",
       "      <td>7199</td>\n",
       "      <td>7199</td>\n",
       "      <td>7199</td>\n",
       "      <td>7199</td>\n",
       "      <td>7199</td>\n",
       "      <td>7199</td>\n",
       "    </tr>\n",
       "    <tr>\n",
       "      <td>2016-04-01</td>\n",
       "      <td>3294</td>\n",
       "      <td>3294</td>\n",
       "      <td>3294</td>\n",
       "      <td>3294</td>\n",
       "      <td>3294</td>\n",
       "      <td>3294</td>\n",
       "      <td>3294</td>\n",
       "    </tr>\n",
       "  </tbody>\n",
       "</table>\n",
       "</div>"
      ],
      "text/plain": [
       "                     driver_id  ride_id  requested_at  accepted_at  \\\n",
       "driver_onboard_date                                                  \n",
       "2016-03-28                3849     3849          3849         3849   \n",
       "2016-03-29                6937     6937          6937         6937   \n",
       "2016-03-30                6001     6001          6001         6001   \n",
       "2016-03-31                7199     7199          7199         7199   \n",
       "2016-04-01                3294     3294          3294         3294   \n",
       "\n",
       "                     arrived_at  picked_up_at  dropped_off_at  \n",
       "driver_onboard_date                                            \n",
       "2016-03-28                 3849          3849            3849  \n",
       "2016-03-29                 6936          6937            6937  \n",
       "2016-03-30                 6001          6001            6001  \n",
       "2016-03-31                 7199          7199            7199  \n",
       "2016-04-01                 3294          3294            3294  "
      ]
     },
     "execution_count": 1096,
     "metadata": {},
     "output_type": "execute_result"
    },
    {
     "data": {
      "image/png": "[encoded data removed]",
      "text/plain": [
       "<Figure size 432x288 with 1 Axes>"
      ]
     },
     "metadata": {},
     "output_type": "display_data"
    }
   ],
   "source": [
    "#timestamps_driver_datetime[timestamps_driver_datetime['driver_id'] == 'd967f5296732fa55266b5f1314e7447b'].count()\n",
    "\n",
    "hist = timestamps_driver_datetime['driver_onboard_date'].hist(bins=50)\n",
    "\n",
    "onboarding_amount = timestamps_driver_datetime.groupby(['driver_onboard_date']).count()\n",
    "onboarding_amount.head()"
   ]
  },
  {
   "cell_type": "code",
   "execution_count": 1097,
   "metadata": {},
   "outputs": [
    {
     "data": {
      "text/html": [
       "<div>\n",
       "<style scoped>\n",
       "    .dataframe tbody tr th:only-of-type {\n",
       "        vertical-align: middle;\n",
       "    }\n",
       "\n",
       "    .dataframe tbody tr th {\n",
       "        vertical-align: top;\n",
       "    }\n",
       "\n",
       "    .dataframe thead th {\n",
       "        text-align: right;\n",
       "    }\n",
       "</style>\n",
       "<table border=\"1\" class=\"dataframe\">\n",
       "  <thead>\n",
       "    <tr style=\"text-align: right;\">\n",
       "      <th></th>\n",
       "      <th>driver_id</th>\n",
       "      <th>rides</th>\n",
       "    </tr>\n",
       "  </thead>\n",
       "  <tbody>\n",
       "    <tr>\n",
       "      <td>0</td>\n",
       "      <td>002be0ffdc997bd5c50703158b7c2491</td>\n",
       "      <td>277</td>\n",
       "    </tr>\n",
       "    <tr>\n",
       "      <td>1</td>\n",
       "      <td>007f0389f9c7b03ef97098422f902e62</td>\n",
       "      <td>31</td>\n",
       "    </tr>\n",
       "    <tr>\n",
       "      <td>2</td>\n",
       "      <td>011e5c5dfc5c2c92501b8b24d47509bc</td>\n",
       "      <td>34</td>\n",
       "    </tr>\n",
       "    <tr>\n",
       "      <td>3</td>\n",
       "      <td>0152a2f305e71d26cc964f8d4411add9</td>\n",
       "      <td>191</td>\n",
       "    </tr>\n",
       "    <tr>\n",
       "      <td>4</td>\n",
       "      <td>01674381af7edd264113d4e6ed55ecda</td>\n",
       "      <td>375</td>\n",
       "    </tr>\n",
       "  </tbody>\n",
       "</table>\n",
       "</div>"
      ],
      "text/plain": [
       "                          driver_id  rides\n",
       "0  002be0ffdc997bd5c50703158b7c2491    277\n",
       "1  007f0389f9c7b03ef97098422f902e62     31\n",
       "2  011e5c5dfc5c2c92501b8b24d47509bc     34\n",
       "3  0152a2f305e71d26cc964f8d4411add9    191\n",
       "4  01674381af7edd264113d4e6ed55ecda    375"
      ]
     },
     "execution_count": 1097,
     "metadata": {},
     "output_type": "execute_result"
    }
   ],
   "source": [
    "# create a new data frame to contain frequency of riders \n",
    "df = pd.DataFrame()\n",
    "\n",
    "df = rider.groupby(['driver_id'], as_index=False).size()\n",
    "\n",
    "df = df.to_frame().reset_index()\n",
    "df = df.rename(columns= {0: 'rides'})\n",
    "df.head()"
   ]
  },
  {
   "cell_type": "code",
   "execution_count": 1098,
   "metadata": {},
   "outputs": [],
   "source": [
    "# Create a dictionary of all the drivers as the key and the list of dates as a value\n",
    "driver_ridedates = {}\n",
    "for driver_id in df['driver_id']:\n",
    "    # This is the dataframe with all the rides of a particular rider \n",
    "    temp_ride = timestamps_driver_datetime[timestamps_driver_datetime['driver_id'] == driver_id]\n",
    "    \n",
    "    #print(temp_ride.head())\n",
    "    if temp_ride.shape[0] == 0:\n",
    "        driver_ridedates[driver_id] = ['empty']\n",
    "    elif temp_ride.shape[0] != 0:\n",
    "        driver_ridedates[driver_id] = [temp_ride['driver_onboard_date'].tolist()[0]]\n",
    "        driver_ridedates[driver_id].append(temp_ride['picked_up_at'].tolist())\n",
    "        driver_ridedates[driver_id][1].sort()\n"
   ]
  },
  {
   "cell_type": "code",
   "execution_count": 1099,
   "metadata": {},
   "outputs": [
    {
     "data": {
      "text/plain": [
       "['empty']"
      ]
     },
     "execution_count": 1099,
     "metadata": {},
     "output_type": "execute_result"
    }
   ],
   "source": [
    "driver_ridedates['056175954c78be4c4de7e80167b7e1f9']\n",
    "\n",
    "driver_ridedates['056175954c78be4c4de7e80167b7e1f9']"
   ]
  },
  {
   "cell_type": "code",
   "execution_count": 1100,
   "metadata": {},
   "outputs": [
    {
     "data": {
      "text/plain": [
       "dict_values([90, 90, 83, 65, 59, 81, 51, 62, 52, 55, 88, 79, 76, 54, 78, 76, 83, 81, 44, 73, 0, 46, 80, 46, 58, 47, 68, 80, 44, 84, 50, 72, 68, 89, 55, 83, 45, 75, 90, 67, 47, 0, 84, 0, 0, 55, 90, 84, 74, 78, 62, 44, 47, 0, 88, 83, 83, 66, 63, 47, 64, 62, 60, 53, 0, 89, 72, 84, 90, 70, 70, 70, 68, 0, 53, 81, 90, 44, 44, 0, 0, 51, 84, 82, 0, 0, 69, 52, 89, 56, 0, 72, 67, 83, 88, 67, 83, 84, 83, 0, 84, 68, 0, 0, 45, 47, 57, 68, 0, 77, 0, 0, 79, 68, 83, 0, 62, 44, 84, 45, 75, 68, 0, 58, 0, 75, 47, 62, 60, 72, 63, 88, 87, 0, 88, 0, 68, 53, 82, 0, 56, 83, 79, 74, 49, 59, 68, 88, 90, 0, 81, 86, 45, 81, 67, 73, 51, 77, 75, 81, 83, 51, 80, 76, 55, 90, 62, 63, 0, 65, 0, 82, 0, 90, 74, 90, 66, 79, 43, 64, 87, 81, 84, 66, 80, 0, 82, 0, 53, 0, 59, 77, 61, 64, 74, 86, 88, 59, 73, 60, 45, 65, 47, 59, 84, 46, 84, 69, 0, 59, 0, 63, 69, 61, 71, 66, 84, 62, 86, 81, 0, 71, 65, 72, 61, 58, 0, 0, 56, 66, 56, 89, 63, 84, 67, 87, 74, 45, 81, 74, 59, 0, 83, 73, 74, 44, 51, 54, 46, 87, 83, 70, 89, 49, 73, 80, 59, 57, 57, 62, 0, 65, 87, 67, 49, 0, 75, 73, 78, 82, 50, 66, 82, 73, 73, 67, 55, 72, 76, 52, 76, 77, 62, 50, 59, 91, 76, 59, 59, 68, 67, 60, 71, 74, 46, 60, 0, 48, 71, 75, 88, 54, 46, 78, 44, 63, 79, 77, 82, 55, 90, 0, 75, 77, 75, 66, 52, 51, 52, 0, 50, 0, 83, 0, 47, 86, 81, 86, 53, 48, 58, 90, 74, 47, 0, 51, 69, 90, 68, 46, 71, 62, 60, 58, 84, 74, 66, 69, 53, 47, 0, 75, 91, 67, 83, 76, 65, 71, 83, 76, 63, 48, 56, 0, 81, 54, 79, 0, 89, 0, 51, 83, 76, 0, 48, 77, 52, 49, 47, 54, 90, 84, 87, 67, 76, 0, 52, 49, 52, 84, 46, 58, 48, 89, 81, 45, 60, 0, 0, 45, 53, 84, 82, 89, 54, 58, 68, 73, 54, 54, 48, 89, 50, 61, 78, 51, 84, 75, 72, 89, 48, 70, 73, 86, 62, 91, 90, 77, 88, 60, 70, 64, 46, 86, 69, 87, 61, 74, 82, 60, 91, 58, 72, 58, 59, 79, 77, 76, 53, 46, 50, 89, 56, 54, 91, 73, 69, 55, 65, 48, 45, 62, 47, 59, 61, 50, 68, 0, 49, 44, 56, 60, 53, 59, 63, 84, 83, 53, 90, 90, 88, 0, 87, 67, 82, 60, 45, 83, 67, 91, 79, 0, 63, 65, 69, 54, 46, 91, 71, 51, 70, 0, 0, 77, 91, 82, 74, 69, 70, 73, 63, 89, 81, 46, 70, 59, 55, 0, 74, 73, 60, 80, 91, 54, 58, 49, 76, 69, 82, 66, 86, 61, 75, 90, 65, 88, 90, 74, 66, 79, 54, 70, 46, 82, 82, 90, 65, 87, 91, 63, 84, 87, 0, 80, 52, 54, 52, 91, 73, 91, 0, 0, 58, 74, 68, 67, 71, 54, 79, 91, 52, 0, 59, 82, 0, 73, 63, 76, 88, 52, 83, 80, 71, 65, 61, 73, 82, 47, 0, 82, 54, 72, 53, 83, 88, 90, 83, 68, 68, 89, 83, 65, 48, 49, 81, 79, 83, 79, 59, 89, 87, 88, 54, 91, 88, 80, 0, 46, 47, 74, 61, 0, 89, 65, 57, 74, 66, 89, 65, 88, 62, 61, 48, 45, 77, 59, 72, 88, 0, 69, 48, 88, 82, 66, 79, 59, 54, 80, 45, 46, 56, 66, 75, 73, 70, 69, 47, 53, 46, 51, 71, 58, 0, 68, 66, 47, 80, 47, 51, 45, 46, 45, 45, 64, 68, 46, 59, 0, 63, 84, 62, 54, 72, 67, 67, 79, 73, 45, 55, 65, 0, 59, 90, 53, 75, 85, 78, 80, 50, 68, 77, 67, 67, 63, 76, 66, 64, 90, 82, 83, 87, 84, 58, 90, 47, 64, 58, 88, 87, 43, 73, 71, 87, 89, 55, 90, 46, 83, 0, 87, 78, 48, 0, 76, 75, 47, 76, 71, 71, 83, 74, 81, 52, 81, 69, 74, 74, 0, 70, 90, 74, 55, 54, 53, 80, 59, 74, 82, 77, 82, 79, 80, 57, 75, 82, 55, 89, 0, 90, 67, 0, 69, 80, 49, 84, 51, 0, 0, 77, 0, 0, 68, 89, 0, 0, 77, 88, 0, 80, 78, 54, 0, 44, 84, 75, 76, 62, 65, 79, 62, 57, 0, 84, 61, 83, 0, 64, 76, 48, 0, 81, 89, 87, 67, 71, 88, 46, 75, 88, 70, 82, 83, 90, 58, 43, 79, 70, 70, 51, 67, 83, 84, 87, 88, 0, 73, 0, 67, 54, 91, 62, 90, 47, 70, 0, 75, 89, 64, 66, 88, 65, 64, 0, 91, 48, 82, 46, 60, 51, 0, 52, 0, 69, 51, 86, 61, 46, 0, 74, 83, 0, 66, 61, 0, 50, 62, 60, 82, 73, 62, 83, 90, 60, 66, 79, 83, 52, 62, 67, 79, 91, 0, 76, 76, 72, 55, 55, 91, 65, 0, 74, 50, 53, 88, 78, 68, 90, 69, 91, 57, 43, 61, 58, 91, 60, 56, 87, 50, 64, 73, 80, 71, 51, 64, 43, 63, 88, 83, 72, 90, 0, 62, 0, 91, 80, 52, 54])"
      ]
     },
     "execution_count": 1100,
     "metadata": {},
     "output_type": "execute_result"
    }
   ],
   "source": [
    "end = datetime.datetime(2016, 6, 27, 0, 0)\n",
    "\n",
    "t = {}\n",
    "for driver_id in df['driver_id']:\n",
    "    if driver_ridedates[driver_id] == ['empty']:\n",
    "        t[driver_id] = 0\n",
    "    else:     \n",
    "        t[driver_id] = ((abs(driver_ridedates[driver_id][0] \n",
    "                                         - end))).days \n",
    "t.values()"
   ]
  },
  {
   "cell_type": "code",
   "execution_count": 1101,
   "metadata": {},
   "outputs": [],
   "source": [
    "# The boolean is based on whether they had at least 5 rides per week average\n",
    "# False means they didn't have enough \n",
    "# True means they reached the 5 rides a week quota \n",
    "\n",
    "driver_status = {}\n",
    "for driver_id in df['driver_id']:\n",
    "    if driver_ridedates[driver_id] == ['empty']:\n",
    "        driver_status[driver_id] = False\n",
    "    else:     \n",
    "        driver_status[driver_id] = ((abs(driver_ridedates[driver_id][0] \n",
    "                                         - driver_ridedates[driver_id][1][-1])/7)*5).days <= len(driver_ridedates[driver_id][1])"
   ]
  },
  {
   "cell_type": "code",
   "execution_count": 1102,
   "metadata": {},
   "outputs": [],
   "source": [
    "# This just shows the amount of days between the initial onboarding and the last ride they accepted\n",
    "\n",
    "driver_status_distance = {}\n",
    "for driver_id in df['driver_id']:\n",
    "    if driver_ridedates[driver_id] == ['empty']:\n",
    "        driver_status_distance[driver_id] = 0\n",
    "    else:     \n",
    "        driver_status_distance[driver_id] = ((abs(driver_ridedates[driver_id][0] \n",
    "                                         - driver_ridedates[driver_id][1][-1]))).days "
   ]
  },
  {
   "cell_type": "code",
   "execution_count": 1103,
   "metadata": {},
   "outputs": [],
   "source": [
    "#list(driver_status_distance.values())\n",
    "#list(driver_status_distance)\n",
    "\n"
   ]
  },
  {
   "cell_type": "code",
   "execution_count": 1104,
   "metadata": {},
   "outputs": [
    {
     "data": {
      "text/html": [
       "<div>\n",
       "<style scoped>\n",
       "    .dataframe tbody tr th:only-of-type {\n",
       "        vertical-align: middle;\n",
       "    }\n",
       "\n",
       "    .dataframe tbody tr th {\n",
       "        vertical-align: top;\n",
       "    }\n",
       "\n",
       "    .dataframe thead th {\n",
       "        text-align: right;\n",
       "    }\n",
       "</style>\n",
       "<table border=\"1\" class=\"dataframe\">\n",
       "  <thead>\n",
       "    <tr style=\"text-align: right;\">\n",
       "      <th></th>\n",
       "      <th>driver_id</th>\n",
       "      <th>driver_status</th>\n",
       "    </tr>\n",
       "  </thead>\n",
       "  <tbody>\n",
       "    <tr>\n",
       "      <td>0</td>\n",
       "      <td>002be0ffdc997bd5c50703158b7c2491</td>\n",
       "      <td>True</td>\n",
       "    </tr>\n",
       "    <tr>\n",
       "      <td>1</td>\n",
       "      <td>007f0389f9c7b03ef97098422f902e62</td>\n",
       "      <td>False</td>\n",
       "    </tr>\n",
       "    <tr>\n",
       "      <td>2</td>\n",
       "      <td>011e5c5dfc5c2c92501b8b24d47509bc</td>\n",
       "      <td>False</td>\n",
       "    </tr>\n",
       "    <tr>\n",
       "      <td>3</td>\n",
       "      <td>0152a2f305e71d26cc964f8d4411add9</td>\n",
       "      <td>True</td>\n",
       "    </tr>\n",
       "    <tr>\n",
       "      <td>4</td>\n",
       "      <td>01674381af7edd264113d4e6ed55ecda</td>\n",
       "      <td>True</td>\n",
       "    </tr>\n",
       "  </tbody>\n",
       "</table>\n",
       "</div>"
      ],
      "text/plain": [
       "                          driver_id  driver_status\n",
       "0  002be0ffdc997bd5c50703158b7c2491           True\n",
       "1  007f0389f9c7b03ef97098422f902e62          False\n",
       "2  011e5c5dfc5c2c92501b8b24d47509bc          False\n",
       "3  0152a2f305e71d26cc964f8d4411add9           True\n",
       "4  01674381af7edd264113d4e6ed55ecda           True"
      ]
     },
     "execution_count": 1104,
     "metadata": {},
     "output_type": "execute_result"
    }
   ],
   "source": [
    "driver_status_df = pd.DataFrame()\n",
    "\n",
    "driver_status_df['driver_id'] = list(driver_status)\n",
    "\n",
    "driver_status_df['driver_status'] = list(driver_status.values())\n",
    "\n",
    "driver_status_df.head()"
   ]
  },
  {
   "cell_type": "code",
   "execution_count": 1105,
   "metadata": {},
   "outputs": [
    {
     "data": {
      "text/html": [
       "<div>\n",
       "<style scoped>\n",
       "    .dataframe tbody tr th:only-of-type {\n",
       "        vertical-align: middle;\n",
       "    }\n",
       "\n",
       "    .dataframe tbody tr th {\n",
       "        vertical-align: top;\n",
       "    }\n",
       "\n",
       "    .dataframe thead th {\n",
       "        text-align: right;\n",
       "    }\n",
       "</style>\n",
       "<table border=\"1\" class=\"dataframe\">\n",
       "  <thead>\n",
       "    <tr style=\"text-align: right;\">\n",
       "      <th></th>\n",
       "      <th>driver_id</th>\n",
       "      <th>driver_lifespan</th>\n",
       "      <th>t</th>\n",
       "    </tr>\n",
       "  </thead>\n",
       "  <tbody>\n",
       "    <tr>\n",
       "      <td>0</td>\n",
       "      <td>002be0ffdc997bd5c50703158b7c2491</td>\n",
       "      <td>86</td>\n",
       "      <td>90</td>\n",
       "    </tr>\n",
       "    <tr>\n",
       "      <td>1</td>\n",
       "      <td>007f0389f9c7b03ef97098422f902e62</td>\n",
       "      <td>85</td>\n",
       "      <td>90</td>\n",
       "    </tr>\n",
       "    <tr>\n",
       "      <td>2</td>\n",
       "      <td>011e5c5dfc5c2c92501b8b24d47509bc</td>\n",
       "      <td>68</td>\n",
       "      <td>83</td>\n",
       "    </tr>\n",
       "    <tr>\n",
       "      <td>3</td>\n",
       "      <td>0152a2f305e71d26cc964f8d4411add9</td>\n",
       "      <td>64</td>\n",
       "      <td>65</td>\n",
       "    </tr>\n",
       "    <tr>\n",
       "      <td>4</td>\n",
       "      <td>01674381af7edd264113d4e6ed55ecda</td>\n",
       "      <td>56</td>\n",
       "      <td>59</td>\n",
       "    </tr>\n",
       "  </tbody>\n",
       "</table>\n",
       "</div>"
      ],
      "text/plain": [
       "                          driver_id  driver_lifespan   t\n",
       "0  002be0ffdc997bd5c50703158b7c2491               86  90\n",
       "1  007f0389f9c7b03ef97098422f902e62               85  90\n",
       "2  011e5c5dfc5c2c92501b8b24d47509bc               68  83\n",
       "3  0152a2f305e71d26cc964f8d4411add9               64  65\n",
       "4  01674381af7edd264113d4e6ed55ecda               56  59"
      ]
     },
     "execution_count": 1105,
     "metadata": {},
     "output_type": "execute_result"
    }
   ],
   "source": [
    "driver_status_distance_df = pd.DataFrame()\n",
    "\n",
    "driver_status_distance_df['driver_id'] = list(driver_status_distance)\n",
    "\n",
    "driver_status_distance_df['driver_lifespan'] = list(driver_status_distance.values())\n",
    "\n",
    "driver_status_distance_df['t'] = list(t.values())\n",
    "\n",
    "driver_status_distance_df.head()\n"
   ]
  },
  {
   "cell_type": "code",
   "execution_count": 1106,
   "metadata": {},
   "outputs": [
    {
     "data": {
      "text/plain": [
       "49.2017075773746"
      ]
     },
     "execution_count": 1106,
     "metadata": {},
     "output_type": "execute_result"
    }
   ],
   "source": [
    "np.mean(driver_status_distance_df['driver_lifespan'])"
   ]
  },
  {
   "cell_type": "markdown",
   "metadata": {},
   "source": [
    "timestamps_driver.count()"
   ]
  },
  {
   "cell_type": "code",
   "execution_count": 1107,
   "metadata": {},
   "outputs": [
    {
     "data": {
      "text/plain": [
       "'2016-06-27 00:02:06'"
      ]
     },
     "execution_count": 1107,
     "metadata": {},
     "output_type": "execute_result"
    }
   ],
   "source": [
    "timestamps_driver.head()\n",
    "recent_date = timestamps_driver['picked_up_at'].max()\n",
    "recent_date"
   ]
  },
  {
   "cell_type": "markdown",
   "metadata": {},
   "source": [
    "## Use survival analytics to predict lifetime"
   ]
  },
  {
   "cell_type": "code",
   "execution_count": 1108,
   "metadata": {},
   "outputs": [
    {
     "data": {
      "text/html": [
       "<div>\n",
       "<style scoped>\n",
       "    .dataframe tbody tr th:only-of-type {\n",
       "        vertical-align: middle;\n",
       "    }\n",
       "\n",
       "    .dataframe tbody tr th {\n",
       "        vertical-align: top;\n",
       "    }\n",
       "\n",
       "    .dataframe thead th {\n",
       "        text-align: right;\n",
       "    }\n",
       "</style>\n",
       "<table border=\"1\" class=\"dataframe\">\n",
       "  <thead>\n",
       "    <tr style=\"text-align: right;\">\n",
       "      <th></th>\n",
       "      <th>driver_id</th>\n",
       "      <th>driver_status</th>\n",
       "    </tr>\n",
       "  </thead>\n",
       "  <tbody>\n",
       "    <tr>\n",
       "      <td>0</td>\n",
       "      <td>002be0ffdc997bd5c50703158b7c2491</td>\n",
       "      <td>True</td>\n",
       "    </tr>\n",
       "    <tr>\n",
       "      <td>1</td>\n",
       "      <td>007f0389f9c7b03ef97098422f902e62</td>\n",
       "      <td>False</td>\n",
       "    </tr>\n",
       "    <tr>\n",
       "      <td>2</td>\n",
       "      <td>011e5c5dfc5c2c92501b8b24d47509bc</td>\n",
       "      <td>False</td>\n",
       "    </tr>\n",
       "    <tr>\n",
       "      <td>3</td>\n",
       "      <td>0152a2f305e71d26cc964f8d4411add9</td>\n",
       "      <td>True</td>\n",
       "    </tr>\n",
       "    <tr>\n",
       "      <td>4</td>\n",
       "      <td>01674381af7edd264113d4e6ed55ecda</td>\n",
       "      <td>True</td>\n",
       "    </tr>\n",
       "  </tbody>\n",
       "</table>\n",
       "</div>"
      ],
      "text/plain": [
       "                          driver_id  driver_status\n",
       "0  002be0ffdc997bd5c50703158b7c2491           True\n",
       "1  007f0389f9c7b03ef97098422f902e62          False\n",
       "2  011e5c5dfc5c2c92501b8b24d47509bc          False\n",
       "3  0152a2f305e71d26cc964f8d4411add9           True\n",
       "4  01674381af7edd264113d4e6ed55ecda           True"
      ]
     },
     "execution_count": 1108,
     "metadata": {},
     "output_type": "execute_result"
    }
   ],
   "source": [
    "driver_status_df.head()"
   ]
  },
  {
   "cell_type": "code",
   "execution_count": 1109,
   "metadata": {},
   "outputs": [],
   "source": [
    "#lambda x: 1 if x == False else 0"
   ]
  },
  {
   "cell_type": "code",
   "execution_count": 1110,
   "metadata": {},
   "outputs": [],
   "source": [
    "driver_status_df['driver_status_bool'] = driver_status_df['driver_status'].apply(lambda x: 1 if x == False else 0)"
   ]
  },
  {
   "cell_type": "code",
   "execution_count": 1111,
   "metadata": {},
   "outputs": [
    {
     "data": {
      "text/html": [
       "<div>\n",
       "<style scoped>\n",
       "    .dataframe tbody tr th:only-of-type {\n",
       "        vertical-align: middle;\n",
       "    }\n",
       "\n",
       "    .dataframe tbody tr th {\n",
       "        vertical-align: top;\n",
       "    }\n",
       "\n",
       "    .dataframe thead th {\n",
       "        text-align: right;\n",
       "    }\n",
       "</style>\n",
       "<table border=\"1\" class=\"dataframe\">\n",
       "  <thead>\n",
       "    <tr style=\"text-align: right;\">\n",
       "      <th></th>\n",
       "      <th>driver_id</th>\n",
       "      <th>driver_status</th>\n",
       "      <th>driver_status_bool</th>\n",
       "    </tr>\n",
       "  </thead>\n",
       "  <tbody>\n",
       "    <tr>\n",
       "      <td>0</td>\n",
       "      <td>002be0ffdc997bd5c50703158b7c2491</td>\n",
       "      <td>True</td>\n",
       "      <td>0</td>\n",
       "    </tr>\n",
       "    <tr>\n",
       "      <td>1</td>\n",
       "      <td>007f0389f9c7b03ef97098422f902e62</td>\n",
       "      <td>False</td>\n",
       "      <td>1</td>\n",
       "    </tr>\n",
       "    <tr>\n",
       "      <td>2</td>\n",
       "      <td>011e5c5dfc5c2c92501b8b24d47509bc</td>\n",
       "      <td>False</td>\n",
       "      <td>1</td>\n",
       "    </tr>\n",
       "    <tr>\n",
       "      <td>3</td>\n",
       "      <td>0152a2f305e71d26cc964f8d4411add9</td>\n",
       "      <td>True</td>\n",
       "      <td>0</td>\n",
       "    </tr>\n",
       "    <tr>\n",
       "      <td>4</td>\n",
       "      <td>01674381af7edd264113d4e6ed55ecda</td>\n",
       "      <td>True</td>\n",
       "      <td>0</td>\n",
       "    </tr>\n",
       "  </tbody>\n",
       "</table>\n",
       "</div>"
      ],
      "text/plain": [
       "                          driver_id  driver_status  driver_status_bool\n",
       "0  002be0ffdc997bd5c50703158b7c2491           True                   0\n",
       "1  007f0389f9c7b03ef97098422f902e62          False                   1\n",
       "2  011e5c5dfc5c2c92501b8b24d47509bc          False                   1\n",
       "3  0152a2f305e71d26cc964f8d4411add9           True                   0\n",
       "4  01674381af7edd264113d4e6ed55ecda           True                   0"
      ]
     },
     "execution_count": 1111,
     "metadata": {},
     "output_type": "execute_result"
    }
   ],
   "source": [
    "driver_status_df.head()"
   ]
  },
  {
   "cell_type": "code",
   "execution_count": 1112,
   "metadata": {},
   "outputs": [],
   "source": [
    "driver_status_distance_df.head()\n",
    "driver_status_distance_df = driver_status_distance_df[driver_status_distance_df['driver_lifespan'] != 0]"
   ]
  },
  {
   "cell_type": "code",
   "execution_count": 1113,
   "metadata": {},
   "outputs": [
    {
     "data": {
      "text/html": [
       "<div>\n",
       "<style scoped>\n",
       "    .dataframe tbody tr th:only-of-type {\n",
       "        vertical-align: middle;\n",
       "    }\n",
       "\n",
       "    .dataframe tbody tr th {\n",
       "        vertical-align: top;\n",
       "    }\n",
       "\n",
       "    .dataframe thead th {\n",
       "        text-align: right;\n",
       "    }\n",
       "</style>\n",
       "<table border=\"1\" class=\"dataframe\">\n",
       "  <thead>\n",
       "    <tr style=\"text-align: right;\">\n",
       "      <th></th>\n",
       "      <th>driver_id</th>\n",
       "      <th>driver_status</th>\n",
       "      <th>driver_status_bool</th>\n",
       "      <th>driver_lifespan</th>\n",
       "      <th>t</th>\n",
       "    </tr>\n",
       "  </thead>\n",
       "  <tbody>\n",
       "    <tr>\n",
       "      <td>0</td>\n",
       "      <td>002be0ffdc997bd5c50703158b7c2491</td>\n",
       "      <td>True</td>\n",
       "      <td>0</td>\n",
       "      <td>86</td>\n",
       "      <td>90</td>\n",
       "    </tr>\n",
       "    <tr>\n",
       "      <td>1</td>\n",
       "      <td>007f0389f9c7b03ef97098422f902e62</td>\n",
       "      <td>False</td>\n",
       "      <td>1</td>\n",
       "      <td>85</td>\n",
       "      <td>90</td>\n",
       "    </tr>\n",
       "    <tr>\n",
       "      <td>2</td>\n",
       "      <td>011e5c5dfc5c2c92501b8b24d47509bc</td>\n",
       "      <td>False</td>\n",
       "      <td>1</td>\n",
       "      <td>68</td>\n",
       "      <td>83</td>\n",
       "    </tr>\n",
       "    <tr>\n",
       "      <td>3</td>\n",
       "      <td>0152a2f305e71d26cc964f8d4411add9</td>\n",
       "      <td>True</td>\n",
       "      <td>0</td>\n",
       "      <td>64</td>\n",
       "      <td>65</td>\n",
       "    </tr>\n",
       "    <tr>\n",
       "      <td>4</td>\n",
       "      <td>01674381af7edd264113d4e6ed55ecda</td>\n",
       "      <td>True</td>\n",
       "      <td>0</td>\n",
       "      <td>56</td>\n",
       "      <td>59</td>\n",
       "    </tr>\n",
       "  </tbody>\n",
       "</table>\n",
       "</div>"
      ],
      "text/plain": [
       "                          driver_id  driver_status  driver_status_bool  \\\n",
       "0  002be0ffdc997bd5c50703158b7c2491           True                   0   \n",
       "1  007f0389f9c7b03ef97098422f902e62          False                   1   \n",
       "2  011e5c5dfc5c2c92501b8b24d47509bc          False                   1   \n",
       "3  0152a2f305e71d26cc964f8d4411add9           True                   0   \n",
       "4  01674381af7edd264113d4e6ed55ecda           True                   0   \n",
       "\n",
       "   driver_lifespan   t  \n",
       "0               86  90  \n",
       "1               85  90  \n",
       "2               68  83  \n",
       "3               64  65  \n",
       "4               56  59  "
      ]
     },
     "execution_count": 1113,
     "metadata": {},
     "output_type": "execute_result"
    }
   ],
   "source": [
    "# Survival Analysis Data Frame  \n",
    "survival_dataframe = pd.merge(driver_status_df,driver_status_distance_df, on = 'driver_id', how = 'inner')\n",
    "\n",
    "survival_dataframe.head()"
   ]
  },
  {
   "cell_type": "code",
   "execution_count": 1114,
   "metadata": {},
   "outputs": [],
   "source": [
    "from lifelines import KaplanMeierFitter\n"
   ]
  },
  {
   "cell_type": "code",
   "execution_count": 1115,
   "metadata": {},
   "outputs": [],
   "source": [
    "# create a kmf object\n",
    "kmf = KaplanMeierFitter() "
   ]
  },
  {
   "cell_type": "code",
   "execution_count": 1116,
   "metadata": {},
   "outputs": [
    {
     "data": {
      "text/plain": [
       "<lifelines.KaplanMeierFitter: fitted with 837 observations, 765 censored>"
      ]
     },
     "execution_count": 1116,
     "metadata": {},
     "output_type": "execute_result"
    }
   ],
   "source": [
    "# Fit the data into the model\n",
    "kmf.fit(survival_dataframe['driver_lifespan'], survival_dataframe['driver_status_bool'],label='Kaplan Meier Estimate')"
   ]
  },
  {
   "cell_type": "code",
   "execution_count": 1117,
   "metadata": {},
   "outputs": [
    {
     "data": {
      "text/plain": [
       "<matplotlib.axes._subplots.AxesSubplot at 0x136277898>"
      ]
     },
     "execution_count": 1117,
     "metadata": {},
     "output_type": "execute_result"
    },
    {
     "data": {
      "image/png": "[encoded data removed]",
      "text/plain": [
       "<Figure size 432x288 with 1 Axes>"
      ]
     },
     "metadata": {},
     "output_type": "display_data"
    }
   ],
   "source": [
    "# Create an estimate\n",
    "kmf.plot(ci_show=True) \n",
    "\n",
    "\n",
    "\n",
    "## ci_show is meant for Confidence interval, since our data set is too tiny, thus i am not showing it."
   ]
  },
  {
   "cell_type": "code",
   "execution_count": 1118,
   "metadata": {},
   "outputs": [
    {
     "name": "stdout",
     "output_type": "stream",
     "text": [
      "<class 'pandas.core.frame.DataFrame'>\n",
      "Int64Index: 837 entries, 0 to 836\n",
      "Data columns (total 5 columns):\n",
      "driver_id             837 non-null object\n",
      "driver_status         837 non-null bool\n",
      "driver_status_bool    837 non-null int64\n",
      "driver_lifespan       837 non-null int64\n",
      "t                     837 non-null int64\n",
      "dtypes: bool(1), int64(3), object(1)\n",
      "memory usage: 33.5+ KB\n"
     ]
    }
   ],
   "source": [
    "survival_dataframe.info()"
   ]
  },
  {
   "cell_type": "markdown",
   "metadata": {},
   "source": [
    "## Cox Proportional Hazard Model\n"
   ]
  },
  {
   "cell_type": "code",
   "execution_count": 1119,
   "metadata": {},
   "outputs": [],
   "source": [
    "from lifelines import CoxPHFitter\n"
   ]
  },
  {
   "cell_type": "markdown",
   "metadata": {},
   "source": [
    "### Advice 1\n",
    "Your team should recommend a definition, methodology or framework for calculating lifetime value.  Ideally, your recommendation should help you calculate a lifetime value for each individual driver.\n"
   ]
  },
  {
   "cell_type": "markdown",
   "metadata": {},
   "source": [
    "### Advice 2\n",
    "One of our follow up questions in the prompt is \"Do all drivers act alike?  Are there specific segments of drivers that generate more value for Lyft than the average driver?\".  So your LTV definition should be able to distinguish different drivers or at least cohorts of drivers. \n"
   ]
  },
  {
   "cell_type": "code",
   "execution_count": 1120,
   "metadata": {},
   "outputs": [
    {
     "data": {
      "text/html": [
       "<div>\n",
       "<style scoped>\n",
       "    .dataframe tbody tr th:only-of-type {\n",
       "        vertical-align: middle;\n",
       "    }\n",
       "\n",
       "    .dataframe tbody tr th {\n",
       "        vertical-align: top;\n",
       "    }\n",
       "\n",
       "    .dataframe thead th {\n",
       "        text-align: right;\n",
       "    }\n",
       "</style>\n",
       "<table border=\"1\" class=\"dataframe\">\n",
       "  <thead>\n",
       "    <tr style=\"text-align: right;\">\n",
       "      <th></th>\n",
       "      <th>driver_id</th>\n",
       "      <th>ride_id</th>\n",
       "      <th>ride_distance</th>\n",
       "      <th>ride_duration</th>\n",
       "      <th>ride_prime_time</th>\n",
       "      <th>duration_min</th>\n",
       "      <th>distance_mi</th>\n",
       "      <th>fare_duration</th>\n",
       "      <th>fare_distance</th>\n",
       "      <th>total_fare</th>\n",
       "    </tr>\n",
       "  </thead>\n",
       "  <tbody>\n",
       "    <tr>\n",
       "      <td>0</td>\n",
       "      <td>002be0ffdc997bd5c50703158b7c2491</td>\n",
       "      <td>006d61cf7446e682f7bc50b0f8a5bea5</td>\n",
       "      <td>1811</td>\n",
       "      <td>327</td>\n",
       "      <td>50</td>\n",
       "      <td>5.450000</td>\n",
       "      <td>1.125301</td>\n",
       "      <td>1.199000</td>\n",
       "      <td>1.294096</td>\n",
       "      <td>7.489644</td>\n",
       "    </tr>\n",
       "    <tr>\n",
       "      <td>1</td>\n",
       "      <td>002be0ffdc997bd5c50703158b7c2491</td>\n",
       "      <td>01b522c5c3a756fbdb12e95e87507eda</td>\n",
       "      <td>3362</td>\n",
       "      <td>809</td>\n",
       "      <td>0</td>\n",
       "      <td>13.483333</td>\n",
       "      <td>2.089046</td>\n",
       "      <td>2.966333</td>\n",
       "      <td>2.402403</td>\n",
       "      <td>9.118736</td>\n",
       "    </tr>\n",
       "    <tr>\n",
       "      <td>2</td>\n",
       "      <td>002be0ffdc997bd5c50703158b7c2491</td>\n",
       "      <td>029227c4c2971ce69ff2274dc798ef43</td>\n",
       "      <td>3282</td>\n",
       "      <td>572</td>\n",
       "      <td>0</td>\n",
       "      <td>9.533333</td>\n",
       "      <td>2.039336</td>\n",
       "      <td>2.097333</td>\n",
       "      <td>2.345237</td>\n",
       "      <td>8.192570</td>\n",
       "    </tr>\n",
       "    <tr>\n",
       "      <td>3</td>\n",
       "      <td>002be0ffdc997bd5c50703158b7c2491</td>\n",
       "      <td>034e861343a63ac3c18a9ceb1ce0ac69</td>\n",
       "      <td>65283</td>\n",
       "      <td>3338</td>\n",
       "      <td>25</td>\n",
       "      <td>55.633333</td>\n",
       "      <td>40.564898</td>\n",
       "      <td>12.239333</td>\n",
       "      <td>46.649632</td>\n",
       "      <td>77.361207</td>\n",
       "    </tr>\n",
       "    <tr>\n",
       "      <td>4</td>\n",
       "      <td>002be0ffdc997bd5c50703158b7c2491</td>\n",
       "      <td>034f2e614a2f9fc7f1c2f77647d1b981</td>\n",
       "      <td>4115</td>\n",
       "      <td>823</td>\n",
       "      <td>100</td>\n",
       "      <td>13.716667</td>\n",
       "      <td>2.556938</td>\n",
       "      <td>3.017667</td>\n",
       "      <td>2.940478</td>\n",
       "      <td>15.666290</td>\n",
       "    </tr>\n",
       "  </tbody>\n",
       "</table>\n",
       "</div>"
      ],
      "text/plain": [
       "                          driver_id                           ride_id  \\\n",
       "0  002be0ffdc997bd5c50703158b7c2491  006d61cf7446e682f7bc50b0f8a5bea5   \n",
       "1  002be0ffdc997bd5c50703158b7c2491  01b522c5c3a756fbdb12e95e87507eda   \n",
       "2  002be0ffdc997bd5c50703158b7c2491  029227c4c2971ce69ff2274dc798ef43   \n",
       "3  002be0ffdc997bd5c50703158b7c2491  034e861343a63ac3c18a9ceb1ce0ac69   \n",
       "4  002be0ffdc997bd5c50703158b7c2491  034f2e614a2f9fc7f1c2f77647d1b981   \n",
       "\n",
       "   ride_distance  ride_duration  ride_prime_time  duration_min  distance_mi  \\\n",
       "0           1811            327               50      5.450000     1.125301   \n",
       "1           3362            809                0     13.483333     2.089046   \n",
       "2           3282            572                0      9.533333     2.039336   \n",
       "3          65283           3338               25     55.633333    40.564898   \n",
       "4           4115            823              100     13.716667     2.556938   \n",
       "\n",
       "   fare_duration  fare_distance  total_fare  \n",
       "0       1.199000       1.294096    7.489644  \n",
       "1       2.966333       2.402403    9.118736  \n",
       "2       2.097333       2.345237    8.192570  \n",
       "3      12.239333      46.649632   77.361207  \n",
       "4       3.017667       2.940478   15.666290  "
      ]
     },
     "execution_count": 1120,
     "metadata": {},
     "output_type": "execute_result"
    }
   ],
   "source": [
    "rider.head()"
   ]
  },
  {
   "cell_type": "code",
   "execution_count": 1121,
   "metadata": {},
   "outputs": [
    {
     "data": {
      "text/html": [
       "<div>\n",
       "<style scoped>\n",
       "    .dataframe tbody tr th:only-of-type {\n",
       "        vertical-align: middle;\n",
       "    }\n",
       "\n",
       "    .dataframe tbody tr th {\n",
       "        vertical-align: top;\n",
       "    }\n",
       "\n",
       "    .dataframe thead th {\n",
       "        text-align: right;\n",
       "    }\n",
       "</style>\n",
       "<table border=\"1\" class=\"dataframe\">\n",
       "  <thead>\n",
       "    <tr style=\"text-align: right;\">\n",
       "      <th></th>\n",
       "      <th>driver_id</th>\n",
       "      <th>rides</th>\n",
       "    </tr>\n",
       "  </thead>\n",
       "  <tbody>\n",
       "    <tr>\n",
       "      <td>0</td>\n",
       "      <td>002be0ffdc997bd5c50703158b7c2491</td>\n",
       "      <td>277</td>\n",
       "    </tr>\n",
       "    <tr>\n",
       "      <td>1</td>\n",
       "      <td>007f0389f9c7b03ef97098422f902e62</td>\n",
       "      <td>31</td>\n",
       "    </tr>\n",
       "    <tr>\n",
       "      <td>2</td>\n",
       "      <td>011e5c5dfc5c2c92501b8b24d47509bc</td>\n",
       "      <td>34</td>\n",
       "    </tr>\n",
       "    <tr>\n",
       "      <td>3</td>\n",
       "      <td>0152a2f305e71d26cc964f8d4411add9</td>\n",
       "      <td>191</td>\n",
       "    </tr>\n",
       "    <tr>\n",
       "      <td>4</td>\n",
       "      <td>01674381af7edd264113d4e6ed55ecda</td>\n",
       "      <td>375</td>\n",
       "    </tr>\n",
       "  </tbody>\n",
       "</table>\n",
       "</div>"
      ],
      "text/plain": [
       "                          driver_id  rides\n",
       "0  002be0ffdc997bd5c50703158b7c2491    277\n",
       "1  007f0389f9c7b03ef97098422f902e62     31\n",
       "2  011e5c5dfc5c2c92501b8b24d47509bc     34\n",
       "3  0152a2f305e71d26cc964f8d4411add9    191\n",
       "4  01674381af7edd264113d4e6ed55ecda    375"
      ]
     },
     "execution_count": 1121,
     "metadata": {},
     "output_type": "execute_result"
    }
   ],
   "source": [
    "df.head()"
   ]
  },
  {
   "cell_type": "code",
   "execution_count": 1122,
   "metadata": {},
   "outputs": [
    {
     "data": {
      "text/html": [
       "<div>\n",
       "<style scoped>\n",
       "    .dataframe tbody tr th:only-of-type {\n",
       "        vertical-align: middle;\n",
       "    }\n",
       "\n",
       "    .dataframe tbody tr th {\n",
       "        vertical-align: top;\n",
       "    }\n",
       "\n",
       "    .dataframe thead th {\n",
       "        text-align: right;\n",
       "    }\n",
       "</style>\n",
       "<table border=\"1\" class=\"dataframe\">\n",
       "  <thead>\n",
       "    <tr style=\"text-align: right;\">\n",
       "      <th></th>\n",
       "      <th>driver_id</th>\n",
       "      <th>driver_lifespan</th>\n",
       "      <th>t</th>\n",
       "    </tr>\n",
       "  </thead>\n",
       "  <tbody>\n",
       "    <tr>\n",
       "      <td>0</td>\n",
       "      <td>002be0ffdc997bd5c50703158b7c2491</td>\n",
       "      <td>86</td>\n",
       "      <td>90</td>\n",
       "    </tr>\n",
       "    <tr>\n",
       "      <td>1</td>\n",
       "      <td>007f0389f9c7b03ef97098422f902e62</td>\n",
       "      <td>85</td>\n",
       "      <td>90</td>\n",
       "    </tr>\n",
       "    <tr>\n",
       "      <td>2</td>\n",
       "      <td>011e5c5dfc5c2c92501b8b24d47509bc</td>\n",
       "      <td>68</td>\n",
       "      <td>83</td>\n",
       "    </tr>\n",
       "    <tr>\n",
       "      <td>3</td>\n",
       "      <td>0152a2f305e71d26cc964f8d4411add9</td>\n",
       "      <td>64</td>\n",
       "      <td>65</td>\n",
       "    </tr>\n",
       "    <tr>\n",
       "      <td>4</td>\n",
       "      <td>01674381af7edd264113d4e6ed55ecda</td>\n",
       "      <td>56</td>\n",
       "      <td>59</td>\n",
       "    </tr>\n",
       "  </tbody>\n",
       "</table>\n",
       "</div>"
      ],
      "text/plain": [
       "                          driver_id  driver_lifespan   t\n",
       "0  002be0ffdc997bd5c50703158b7c2491               86  90\n",
       "1  007f0389f9c7b03ef97098422f902e62               85  90\n",
       "2  011e5c5dfc5c2c92501b8b24d47509bc               68  83\n",
       "3  0152a2f305e71d26cc964f8d4411add9               64  65\n",
       "4  01674381af7edd264113d4e6ed55ecda               56  59"
      ]
     },
     "execution_count": 1122,
     "metadata": {},
     "output_type": "execute_result"
    }
   ],
   "source": [
    "driver_status_distance_df.head()"
   ]
  },
  {
   "cell_type": "code",
   "execution_count": 1123,
   "metadata": {},
   "outputs": [
    {
     "data": {
      "text/html": [
       "<div>\n",
       "<style scoped>\n",
       "    .dataframe tbody tr th:only-of-type {\n",
       "        vertical-align: middle;\n",
       "    }\n",
       "\n",
       "    .dataframe tbody tr th {\n",
       "        vertical-align: top;\n",
       "    }\n",
       "\n",
       "    .dataframe thead th {\n",
       "        text-align: right;\n",
       "    }\n",
       "</style>\n",
       "<table border=\"1\" class=\"dataframe\">\n",
       "  <thead>\n",
       "    <tr style=\"text-align: right;\">\n",
       "      <th></th>\n",
       "      <th>driver_id</th>\n",
       "      <th>rides</th>\n",
       "      <th>driver_lifespan</th>\n",
       "      <th>t</th>\n",
       "    </tr>\n",
       "  </thead>\n",
       "  <tbody>\n",
       "    <tr>\n",
       "      <td>0</td>\n",
       "      <td>002be0ffdc997bd5c50703158b7c2491</td>\n",
       "      <td>277</td>\n",
       "      <td>86</td>\n",
       "      <td>90</td>\n",
       "    </tr>\n",
       "    <tr>\n",
       "      <td>1</td>\n",
       "      <td>007f0389f9c7b03ef97098422f902e62</td>\n",
       "      <td>31</td>\n",
       "      <td>85</td>\n",
       "      <td>90</td>\n",
       "    </tr>\n",
       "    <tr>\n",
       "      <td>2</td>\n",
       "      <td>011e5c5dfc5c2c92501b8b24d47509bc</td>\n",
       "      <td>34</td>\n",
       "      <td>68</td>\n",
       "      <td>83</td>\n",
       "    </tr>\n",
       "    <tr>\n",
       "      <td>3</td>\n",
       "      <td>0152a2f305e71d26cc964f8d4411add9</td>\n",
       "      <td>191</td>\n",
       "      <td>64</td>\n",
       "      <td>65</td>\n",
       "    </tr>\n",
       "    <tr>\n",
       "      <td>4</td>\n",
       "      <td>01674381af7edd264113d4e6ed55ecda</td>\n",
       "      <td>375</td>\n",
       "      <td>56</td>\n",
       "      <td>59</td>\n",
       "    </tr>\n",
       "  </tbody>\n",
       "</table>\n",
       "</div>"
      ],
      "text/plain": [
       "                          driver_id  rides  driver_lifespan   t\n",
       "0  002be0ffdc997bd5c50703158b7c2491    277               86  90\n",
       "1  007f0389f9c7b03ef97098422f902e62     31               85  90\n",
       "2  011e5c5dfc5c2c92501b8b24d47509bc     34               68  83\n",
       "3  0152a2f305e71d26cc964f8d4411add9    191               64  65\n",
       "4  01674381af7edd264113d4e6ed55ecda    375               56  59"
      ]
     },
     "execution_count": 1123,
     "metadata": {},
     "output_type": "execute_result"
    }
   ],
   "source": [
    "# Create a dataframe with the range of onboard to most recent ride &\n",
    "# the number of rides each driver has given \n",
    "rides_per_day = pd.merge(df,driver_status_distance_df, on = 'driver_id', how = 'inner')\n",
    "rides_per_day.head()"
   ]
  },
  {
   "cell_type": "code",
   "execution_count": 1124,
   "metadata": {},
   "outputs": [
    {
     "data": {
      "text/html": [
       "<div>\n",
       "<style scoped>\n",
       "    .dataframe tbody tr th:only-of-type {\n",
       "        vertical-align: middle;\n",
       "    }\n",
       "\n",
       "    .dataframe tbody tr th {\n",
       "        vertical-align: top;\n",
       "    }\n",
       "\n",
       "    .dataframe thead th {\n",
       "        text-align: right;\n",
       "    }\n",
       "</style>\n",
       "<table border=\"1\" class=\"dataframe\">\n",
       "  <thead>\n",
       "    <tr style=\"text-align: right;\">\n",
       "      <th></th>\n",
       "      <th>driver_id</th>\n",
       "      <th>rides</th>\n",
       "      <th>driver_lifespan</th>\n",
       "      <th>t</th>\n",
       "      <th>rides_per_day</th>\n",
       "    </tr>\n",
       "  </thead>\n",
       "  <tbody>\n",
       "    <tr>\n",
       "      <td>0</td>\n",
       "      <td>002be0ffdc997bd5c50703158b7c2491</td>\n",
       "      <td>277</td>\n",
       "      <td>86</td>\n",
       "      <td>90</td>\n",
       "      <td>3.220930</td>\n",
       "    </tr>\n",
       "    <tr>\n",
       "      <td>1</td>\n",
       "      <td>007f0389f9c7b03ef97098422f902e62</td>\n",
       "      <td>31</td>\n",
       "      <td>85</td>\n",
       "      <td>90</td>\n",
       "      <td>0.364706</td>\n",
       "    </tr>\n",
       "    <tr>\n",
       "      <td>2</td>\n",
       "      <td>011e5c5dfc5c2c92501b8b24d47509bc</td>\n",
       "      <td>34</td>\n",
       "      <td>68</td>\n",
       "      <td>83</td>\n",
       "      <td>0.500000</td>\n",
       "    </tr>\n",
       "    <tr>\n",
       "      <td>3</td>\n",
       "      <td>0152a2f305e71d26cc964f8d4411add9</td>\n",
       "      <td>191</td>\n",
       "      <td>64</td>\n",
       "      <td>65</td>\n",
       "      <td>2.984375</td>\n",
       "    </tr>\n",
       "    <tr>\n",
       "      <td>4</td>\n",
       "      <td>01674381af7edd264113d4e6ed55ecda</td>\n",
       "      <td>375</td>\n",
       "      <td>56</td>\n",
       "      <td>59</td>\n",
       "      <td>6.696429</td>\n",
       "    </tr>\n",
       "  </tbody>\n",
       "</table>\n",
       "</div>"
      ],
      "text/plain": [
       "                          driver_id  rides  driver_lifespan   t  rides_per_day\n",
       "0  002be0ffdc997bd5c50703158b7c2491    277               86  90       3.220930\n",
       "1  007f0389f9c7b03ef97098422f902e62     31               85  90       0.364706\n",
       "2  011e5c5dfc5c2c92501b8b24d47509bc     34               68  83       0.500000\n",
       "3  0152a2f305e71d26cc964f8d4411add9    191               64  65       2.984375\n",
       "4  01674381af7edd264113d4e6ed55ecda    375               56  59       6.696429"
      ]
     },
     "execution_count": 1124,
     "metadata": {},
     "output_type": "execute_result"
    }
   ],
   "source": [
    "# Add a new column that averages the number of rides a driver has per day \n",
    "\n",
    "rides_per_day['rides_per_day'] = (rides_per_day['rides'] / rides_per_day['driver_lifespan']) \n",
    "\n",
    "rides_per_day.head()"
   ]
  },
  {
   "cell_type": "code",
   "execution_count": 1125,
   "metadata": {},
   "outputs": [
    {
     "data": {
      "image/png": "[encoded data removed]",
      "text/plain": [
       "<Figure size 432x288 with 1 Axes>"
      ]
     },
     "metadata": {},
     "output_type": "display_data"
    }
   ],
   "source": [
    "rides_per_day\n",
    "\n",
    "hist = rides_per_day['rides'].hist(bins=50)\n"
   ]
  },
  {
   "cell_type": "code",
   "execution_count": 1126,
   "metadata": {},
   "outputs": [
    {
     "name": "stderr",
     "output_type": "stream",
     "text": [
      "'c' argument looks like a single numeric RGB or RGBA sequence, which should be avoided as value-mapping will have precedence in case its length matches with 'x' & 'y'.  Please use a 2-D array with a single row if you really want to specify the same RGB or RGBA value for all points.\n"
     ]
    },
    {
     "data": {
      "image/png": "[encoded data removed]",
      "text/plain": [
       "<Figure size 432x288 with 1 Axes>"
      ]
     },
     "metadata": {},
     "output_type": "display_data"
    }
   ],
   "source": [
    "ax = rides_per_day.plot.scatter(x='driver_lifespan',\n",
    "                       y='rides')"
   ]
  },
  {
   "cell_type": "code",
   "execution_count": 1127,
   "metadata": {},
   "outputs": [
    {
     "data": {
      "text/html": [
       "<div>\n",
       "<style scoped>\n",
       "    .dataframe tbody tr th:only-of-type {\n",
       "        vertical-align: middle;\n",
       "    }\n",
       "\n",
       "    .dataframe tbody tr th {\n",
       "        vertical-align: top;\n",
       "    }\n",
       "\n",
       "    .dataframe thead th {\n",
       "        text-align: right;\n",
       "    }\n",
       "</style>\n",
       "<table border=\"1\" class=\"dataframe\">\n",
       "  <thead>\n",
       "    <tr style=\"text-align: right;\">\n",
       "      <th></th>\n",
       "      <th>driver_id</th>\n",
       "      <th>ride_id</th>\n",
       "      <th>ride_distance</th>\n",
       "      <th>ride_duration</th>\n",
       "      <th>ride_prime_time</th>\n",
       "      <th>duration_min</th>\n",
       "      <th>distance_mi</th>\n",
       "      <th>fare_duration</th>\n",
       "      <th>fare_distance</th>\n",
       "      <th>total_fare</th>\n",
       "    </tr>\n",
       "  </thead>\n",
       "  <tbody>\n",
       "    <tr>\n",
       "      <td>0</td>\n",
       "      <td>002be0ffdc997bd5c50703158b7c2491</td>\n",
       "      <td>006d61cf7446e682f7bc50b0f8a5bea5</td>\n",
       "      <td>1811</td>\n",
       "      <td>327</td>\n",
       "      <td>50</td>\n",
       "      <td>5.450000</td>\n",
       "      <td>1.125301</td>\n",
       "      <td>1.199000</td>\n",
       "      <td>1.294096</td>\n",
       "      <td>7.489644</td>\n",
       "    </tr>\n",
       "    <tr>\n",
       "      <td>1</td>\n",
       "      <td>002be0ffdc997bd5c50703158b7c2491</td>\n",
       "      <td>01b522c5c3a756fbdb12e95e87507eda</td>\n",
       "      <td>3362</td>\n",
       "      <td>809</td>\n",
       "      <td>0</td>\n",
       "      <td>13.483333</td>\n",
       "      <td>2.089046</td>\n",
       "      <td>2.966333</td>\n",
       "      <td>2.402403</td>\n",
       "      <td>9.118736</td>\n",
       "    </tr>\n",
       "    <tr>\n",
       "      <td>2</td>\n",
       "      <td>002be0ffdc997bd5c50703158b7c2491</td>\n",
       "      <td>029227c4c2971ce69ff2274dc798ef43</td>\n",
       "      <td>3282</td>\n",
       "      <td>572</td>\n",
       "      <td>0</td>\n",
       "      <td>9.533333</td>\n",
       "      <td>2.039336</td>\n",
       "      <td>2.097333</td>\n",
       "      <td>2.345237</td>\n",
       "      <td>8.192570</td>\n",
       "    </tr>\n",
       "    <tr>\n",
       "      <td>3</td>\n",
       "      <td>002be0ffdc997bd5c50703158b7c2491</td>\n",
       "      <td>034e861343a63ac3c18a9ceb1ce0ac69</td>\n",
       "      <td>65283</td>\n",
       "      <td>3338</td>\n",
       "      <td>25</td>\n",
       "      <td>55.633333</td>\n",
       "      <td>40.564898</td>\n",
       "      <td>12.239333</td>\n",
       "      <td>46.649632</td>\n",
       "      <td>77.361207</td>\n",
       "    </tr>\n",
       "    <tr>\n",
       "      <td>4</td>\n",
       "      <td>002be0ffdc997bd5c50703158b7c2491</td>\n",
       "      <td>034f2e614a2f9fc7f1c2f77647d1b981</td>\n",
       "      <td>4115</td>\n",
       "      <td>823</td>\n",
       "      <td>100</td>\n",
       "      <td>13.716667</td>\n",
       "      <td>2.556938</td>\n",
       "      <td>3.017667</td>\n",
       "      <td>2.940478</td>\n",
       "      <td>15.666290</td>\n",
       "    </tr>\n",
       "  </tbody>\n",
       "</table>\n",
       "</div>"
      ],
      "text/plain": [
       "                          driver_id                           ride_id  \\\n",
       "0  002be0ffdc997bd5c50703158b7c2491  006d61cf7446e682f7bc50b0f8a5bea5   \n",
       "1  002be0ffdc997bd5c50703158b7c2491  01b522c5c3a756fbdb12e95e87507eda   \n",
       "2  002be0ffdc997bd5c50703158b7c2491  029227c4c2971ce69ff2274dc798ef43   \n",
       "3  002be0ffdc997bd5c50703158b7c2491  034e861343a63ac3c18a9ceb1ce0ac69   \n",
       "4  002be0ffdc997bd5c50703158b7c2491  034f2e614a2f9fc7f1c2f77647d1b981   \n",
       "\n",
       "   ride_distance  ride_duration  ride_prime_time  duration_min  distance_mi  \\\n",
       "0           1811            327               50      5.450000     1.125301   \n",
       "1           3362            809                0     13.483333     2.089046   \n",
       "2           3282            572                0      9.533333     2.039336   \n",
       "3          65283           3338               25     55.633333    40.564898   \n",
       "4           4115            823              100     13.716667     2.556938   \n",
       "\n",
       "   fare_duration  fare_distance  total_fare  \n",
       "0       1.199000       1.294096    7.489644  \n",
       "1       2.966333       2.402403    9.118736  \n",
       "2       2.097333       2.345237    8.192570  \n",
       "3      12.239333      46.649632   77.361207  \n",
       "4       3.017667       2.940478   15.666290  "
      ]
     },
     "execution_count": 1127,
     "metadata": {},
     "output_type": "execute_result"
    }
   ],
   "source": [
    "rider.head()"
   ]
  },
  {
   "cell_type": "code",
   "execution_count": 1128,
   "metadata": {},
   "outputs": [
    {
     "data": {
      "text/html": [
       "<div>\n",
       "<style scoped>\n",
       "    .dataframe tbody tr th:only-of-type {\n",
       "        vertical-align: middle;\n",
       "    }\n",
       "\n",
       "    .dataframe tbody tr th {\n",
       "        vertical-align: top;\n",
       "    }\n",
       "\n",
       "    .dataframe thead th {\n",
       "        text-align: right;\n",
       "    }\n",
       "</style>\n",
       "<table border=\"1\" class=\"dataframe\">\n",
       "  <thead>\n",
       "    <tr style=\"text-align: right;\">\n",
       "      <th></th>\n",
       "      <th>driver_id</th>\n",
       "      <th>ride_prime_time_sum</th>\n",
       "      <th>duration_min_sum</th>\n",
       "      <th>distance_mi_sum</th>\n",
       "      <th>total_fare</th>\n",
       "    </tr>\n",
       "  </thead>\n",
       "  <tbody>\n",
       "    <tr>\n",
       "      <td>0</td>\n",
       "      <td>002be0ffdc997bd5c50703158b7c2491</td>\n",
       "      <td>5375</td>\n",
       "      <td>3687.300000</td>\n",
       "      <td>1081.362133</td>\n",
       "      <td>3453.419687</td>\n",
       "    </tr>\n",
       "    <tr>\n",
       "      <td>1</td>\n",
       "      <td>007f0389f9c7b03ef97098422f902e62</td>\n",
       "      <td>625</td>\n",
       "      <td>341.616667</td>\n",
       "      <td>73.030237</td>\n",
       "      <td>308.994506</td>\n",
       "    </tr>\n",
       "    <tr>\n",
       "      <td>2</td>\n",
       "      <td>011e5c5dfc5c2c92501b8b24d47509bc</td>\n",
       "      <td>675</td>\n",
       "      <td>486.750000</td>\n",
       "      <td>167.554285</td>\n",
       "      <td>468.927442</td>\n",
       "    </tr>\n",
       "    <tr>\n",
       "      <td>3</td>\n",
       "      <td>0152a2f305e71d26cc964f8d4411add9</td>\n",
       "      <td>2050</td>\n",
       "      <td>2908.683333</td>\n",
       "      <td>914.183777</td>\n",
       "      <td>2569.866550</td>\n",
       "    </tr>\n",
       "    <tr>\n",
       "      <td>4</td>\n",
       "      <td>01674381af7edd264113d4e6ed55ecda</td>\n",
       "      <td>4700</td>\n",
       "      <td>5957.383333</td>\n",
       "      <td>1940.938672</td>\n",
       "      <td>5287.086873</td>\n",
       "    </tr>\n",
       "  </tbody>\n",
       "</table>\n",
       "</div>"
      ],
      "text/plain": [
       "                          driver_id  ride_prime_time_sum  duration_min_sum  \\\n",
       "0  002be0ffdc997bd5c50703158b7c2491                 5375       3687.300000   \n",
       "1  007f0389f9c7b03ef97098422f902e62                  625        341.616667   \n",
       "2  011e5c5dfc5c2c92501b8b24d47509bc                  675        486.750000   \n",
       "3  0152a2f305e71d26cc964f8d4411add9                 2050       2908.683333   \n",
       "4  01674381af7edd264113d4e6ed55ecda                 4700       5957.383333   \n",
       "\n",
       "   distance_mi_sum   total_fare  \n",
       "0      1081.362133  3453.419687  \n",
       "1        73.030237   308.994506  \n",
       "2       167.554285   468.927442  \n",
       "3       914.183777  2569.866550  \n",
       "4      1940.938672  5287.086873  "
      ]
     },
     "execution_count": 1128,
     "metadata": {},
     "output_type": "execute_result"
    }
   ],
   "source": [
    "# Drop unneccessary columns\n",
    "drive_sum = rider.drop(['ride_distance', 'ride_duration', 'fare_duration', 'fare_distance'], axis = 1)\n",
    "# Group the riders by the sum \n",
    "drive_sum = drive_sum.groupby(['driver_id'],as_index=False).sum()\n",
    "\n",
    "# Rename the columns to let people know that it's the sum of all rides \n",
    "drive_sum = drive_sum.rename(columns={\"ride_prime_time\": \"ride_prime_time_sum\", \"duration_min\": \"duration_min_sum\", \"distance_mi\":\"distance_mi_sum\", \"fare\":\"fare_sum\"})\n",
    "drive_sum.head()"
   ]
  },
  {
   "cell_type": "code",
   "execution_count": 1129,
   "metadata": {},
   "outputs": [
    {
     "data": {
      "text/html": [
       "<div>\n",
       "<style scoped>\n",
       "    .dataframe tbody tr th:only-of-type {\n",
       "        vertical-align: middle;\n",
       "    }\n",
       "\n",
       "    .dataframe tbody tr th {\n",
       "        vertical-align: top;\n",
       "    }\n",
       "\n",
       "    .dataframe thead th {\n",
       "        text-align: right;\n",
       "    }\n",
       "</style>\n",
       "<table border=\"1\" class=\"dataframe\">\n",
       "  <thead>\n",
       "    <tr style=\"text-align: right;\">\n",
       "      <th></th>\n",
       "      <th>driver_id</th>\n",
       "      <th>ride_prime_time_sum</th>\n",
       "      <th>duration_min_sum</th>\n",
       "      <th>distance_mi_sum</th>\n",
       "      <th>total_fare</th>\n",
       "      <th>rides</th>\n",
       "      <th>driver_lifespan</th>\n",
       "      <th>t</th>\n",
       "      <th>rides_per_day</th>\n",
       "    </tr>\n",
       "  </thead>\n",
       "  <tbody>\n",
       "    <tr>\n",
       "      <td>0</td>\n",
       "      <td>002be0ffdc997bd5c50703158b7c2491</td>\n",
       "      <td>5375</td>\n",
       "      <td>3687.300000</td>\n",
       "      <td>1081.362133</td>\n",
       "      <td>3453.419687</td>\n",
       "      <td>277</td>\n",
       "      <td>86</td>\n",
       "      <td>90</td>\n",
       "      <td>3.220930</td>\n",
       "    </tr>\n",
       "    <tr>\n",
       "      <td>1</td>\n",
       "      <td>007f0389f9c7b03ef97098422f902e62</td>\n",
       "      <td>625</td>\n",
       "      <td>341.616667</td>\n",
       "      <td>73.030237</td>\n",
       "      <td>308.994506</td>\n",
       "      <td>31</td>\n",
       "      <td>85</td>\n",
       "      <td>90</td>\n",
       "      <td>0.364706</td>\n",
       "    </tr>\n",
       "    <tr>\n",
       "      <td>2</td>\n",
       "      <td>011e5c5dfc5c2c92501b8b24d47509bc</td>\n",
       "      <td>675</td>\n",
       "      <td>486.750000</td>\n",
       "      <td>167.554285</td>\n",
       "      <td>468.927442</td>\n",
       "      <td>34</td>\n",
       "      <td>68</td>\n",
       "      <td>83</td>\n",
       "      <td>0.500000</td>\n",
       "    </tr>\n",
       "    <tr>\n",
       "      <td>3</td>\n",
       "      <td>0152a2f305e71d26cc964f8d4411add9</td>\n",
       "      <td>2050</td>\n",
       "      <td>2908.683333</td>\n",
       "      <td>914.183777</td>\n",
       "      <td>2569.866550</td>\n",
       "      <td>191</td>\n",
       "      <td>64</td>\n",
       "      <td>65</td>\n",
       "      <td>2.984375</td>\n",
       "    </tr>\n",
       "    <tr>\n",
       "      <td>4</td>\n",
       "      <td>01674381af7edd264113d4e6ed55ecda</td>\n",
       "      <td>4700</td>\n",
       "      <td>5957.383333</td>\n",
       "      <td>1940.938672</td>\n",
       "      <td>5287.086873</td>\n",
       "      <td>375</td>\n",
       "      <td>56</td>\n",
       "      <td>59</td>\n",
       "      <td>6.696429</td>\n",
       "    </tr>\n",
       "  </tbody>\n",
       "</table>\n",
       "</div>"
      ],
      "text/plain": [
       "                          driver_id  ride_prime_time_sum  duration_min_sum  \\\n",
       "0  002be0ffdc997bd5c50703158b7c2491                 5375       3687.300000   \n",
       "1  007f0389f9c7b03ef97098422f902e62                  625        341.616667   \n",
       "2  011e5c5dfc5c2c92501b8b24d47509bc                  675        486.750000   \n",
       "3  0152a2f305e71d26cc964f8d4411add9                 2050       2908.683333   \n",
       "4  01674381af7edd264113d4e6ed55ecda                 4700       5957.383333   \n",
       "\n",
       "   distance_mi_sum   total_fare  rides  driver_lifespan   t  rides_per_day  \n",
       "0      1081.362133  3453.419687    277               86  90       3.220930  \n",
       "1        73.030237   308.994506     31               85  90       0.364706  \n",
       "2       167.554285   468.927442     34               68  83       0.500000  \n",
       "3       914.183777  2569.866550    191               64  65       2.984375  \n",
       "4      1940.938672  5287.086873    375               56  59       6.696429  "
      ]
     },
     "execution_count": 1129,
     "metadata": {},
     "output_type": "execute_result"
    }
   ],
   "source": [
    "driver_sum_total_fare = pd.merge(drive_sum,rides_per_day, on = 'driver_id', how = 'inner')\n",
    "driver_sum_total_fare.head()\n",
    "#driver_sum_total_fare[driver_sum_total_fare['driver_lifespan'] == 0]\n"
   ]
  },
  {
   "cell_type": "code",
   "execution_count": null,
   "metadata": {},
   "outputs": [],
   "source": []
  },
  {
   "cell_type": "code",
   "execution_count": 1130,
   "metadata": {},
   "outputs": [
    {
     "name": "stderr",
     "output_type": "stream",
     "text": [
      "'c' argument looks like a single numeric RGB or RGBA sequence, which should be avoided as value-mapping will have precedence in case its length matches with 'x' & 'y'.  Please use a 2-D array with a single row if you really want to specify the same RGB or RGBA value for all points.\n"
     ]
    },
    {
     "data": {
      "image/png": "[encoded data removed]",
      "text/plain": [
       "<Figure size 432x288 with 1 Axes>"
      ]
     },
     "metadata": {},
     "output_type": "display_data"
    }
   ],
   "source": [
    "ax2 = driver_sum_total_fare.plot.scatter(x='driver_lifespan',\n",
    "                       y='total_fare')"
   ]
  },
  {
   "cell_type": "markdown",
   "metadata": {},
   "source": [
    "# Linear Regression"
   ]
  },
  {
   "cell_type": "code",
   "execution_count": 1131,
   "metadata": {},
   "outputs": [
    {
     "data": {
      "text/plain": [
       "0.5303989111650756"
      ]
     },
     "execution_count": 1131,
     "metadata": {},
     "output_type": "execute_result"
    }
   ],
   "source": [
    "#all of these is to check if any correlation\n",
    "driver_sum_total_fare['driver_lifespan'].corr(driver_sum_total_fare['rides'])"
   ]
  },
  {
   "cell_type": "code",
   "execution_count": 1132,
   "metadata": {},
   "outputs": [
    {
     "data": {
      "text/plain": [
       "0.5249786972279635"
      ]
     },
     "execution_count": 1132,
     "metadata": {},
     "output_type": "execute_result"
    }
   ],
   "source": [
    "driver_sum_total_fare['driver_lifespan'].corr(driver_sum_total_fare['total_fare'])"
   ]
  },
  {
   "cell_type": "code",
   "execution_count": 1133,
   "metadata": {},
   "outputs": [
    {
     "data": {
      "text/plain": [
       "0.43281700030220704"
      ]
     },
     "execution_count": 1133,
     "metadata": {},
     "output_type": "execute_result"
    }
   ],
   "source": [
    "driver_sum_total_fare['driver_lifespan'].corr(driver_sum_total_fare['ride_prime_time_sum'])"
   ]
  },
  {
   "cell_type": "code",
   "execution_count": 1134,
   "metadata": {},
   "outputs": [
    {
     "data": {
      "text/plain": [
       "0.5250489607629846"
      ]
     },
     "execution_count": 1134,
     "metadata": {},
     "output_type": "execute_result"
    }
   ],
   "source": [
    "driver_sum_total_fare['driver_lifespan'].corr(driver_sum_total_fare['duration_min_sum'])"
   ]
  },
  {
   "cell_type": "code",
   "execution_count": 1135,
   "metadata": {},
   "outputs": [
    {
     "data": {
      "text/plain": [
       "0.5197765285398993"
      ]
     },
     "execution_count": 1135,
     "metadata": {},
     "output_type": "execute_result"
    }
   ],
   "source": [
    "driver_sum_total_fare['driver_lifespan'].corr(driver_sum_total_fare['distance_mi_sum'])"
   ]
  },
  {
   "cell_type": "code",
   "execution_count": 1136,
   "metadata": {},
   "outputs": [
    {
     "data": {
      "text/plain": [
       "-0.00873069204623196"
      ]
     },
     "execution_count": 1136,
     "metadata": {},
     "output_type": "execute_result"
    }
   ],
   "source": [
    "#Do not vary so STD = 0 DOES NOT CORRELATE\n",
    "driver_sum_total_fare['driver_lifespan'].corr(driver_sum_total_fare['rides_per_day'])"
   ]
  },
  {
   "cell_type": "code",
   "execution_count": 1137,
   "metadata": {},
   "outputs": [],
   "source": [
    "#Creating the feature dataframe\n",
    "X = pd.DataFrame(np.c_[driver_sum_total_fare['rides'],driver_sum_total_fare['total_fare'],driver_sum_total_fare['ride_prime_time_sum'],driver_sum_total_fare['duration_min_sum'],driver_sum_total_fare['distance_mi_sum']], columns = ['rides','total_fare','ride_prime_time_sum','duration_min_sum','distance_mi_sum'])"
   ]
  },
  {
   "cell_type": "code",
   "execution_count": null,
   "metadata": {},
   "outputs": [],
   "source": []
  },
  {
   "cell_type": "code",
   "execution_count": 1138,
   "metadata": {},
   "outputs": [],
   "source": [
    "#Using the driver_lifespan as label\n",
    "y = driver_sum_total_fare['driver_lifespan']"
   ]
  },
  {
   "cell_type": "code",
   "execution_count": 1139,
   "metadata": {},
   "outputs": [],
   "source": [
    "#Creating training and testing sets\n",
    "X_train, X_test, y_train, y_test = train_test_split(X, y, test_size = 0.2, random_state=9)"
   ]
  },
  {
   "cell_type": "code",
   "execution_count": 1140,
   "metadata": {},
   "outputs": [],
   "source": [
    "#running linear reg\n",
    "\n",
    "lin_reg_mod = LinearRegression()"
   ]
  },
  {
   "cell_type": "code",
   "execution_count": 1141,
   "metadata": {},
   "outputs": [
    {
     "data": {
      "text/plain": [
       "LinearRegression(copy_X=True, fit_intercept=True, n_jobs=None, normalize=False)"
      ]
     },
     "execution_count": 1141,
     "metadata": {},
     "output_type": "execute_result"
    }
   ],
   "source": [
    "lin_reg_mod.fit(X_train, y_train)"
   ]
  },
  {
   "cell_type": "code",
   "execution_count": 1142,
   "metadata": {},
   "outputs": [],
   "source": [
    "pred = lin_reg_mod.predict(X_test)"
   ]
  },
  {
   "cell_type": "code",
   "execution_count": 1143,
   "metadata": {},
   "outputs": [],
   "source": [
    "test_set_rmse = (np.sqrt(mean_squared_error(y_test, pred)))\n",
    "\n",
    "test_set_r2 = r2_score(y_test, pred)"
   ]
  },
  {
   "cell_type": "code",
   "execution_count": 1144,
   "metadata": {},
   "outputs": [
    {
     "name": "stdout",
     "output_type": "stream",
     "text": [
      "17.186105986389286\n",
      "0.3318131488029906\n"
     ]
    }
   ],
   "source": [
    "#printing RMSE, accuracy\n",
    "print(test_set_rmse)\n",
    "print(test_set_r2)\n"
   ]
  },
  {
   "cell_type": "markdown",
   "metadata": {},
   "source": [
    "# Log Regression"
   ]
  },
  {
   "cell_type": "code",
   "execution_count": 1145,
   "metadata": {},
   "outputs": [],
   "source": [
    "from sklearn.model_selection import train_test_split\n",
    "X_train, X_test, y_train, y_test = train_test_split(X,y, test_size=0.30, \n",
    "                                                    random_state=101)\n",
    "#Creating training and testing "
   ]
  },
  {
   "cell_type": "code",
   "execution_count": 1146,
   "metadata": {},
   "outputs": [],
   "source": [
    "# train['labels'] = labels\n",
    "# le_rides = LabelEncoder()\n",
    "# le_fare = LabelEncoder()\n",
    "# le_prime = LabelEncoder()\n",
    "# le_dura = LabelEncoder()\n",
    "# le_dist = LabelEncoder()\n",
    "# le_life = LabelEncoder()\n",
    "# le_label = LabelEncoder()\n",
    "# train['rides'] = le_rides.fit_transform(train['rides'])\n",
    "# train['total_fare'] = le_fare.fit_transform(train['total_fare'])\n",
    "# train['ride_prime_time_sum'] = le_prime.fit_transform(train['ride_prime_time_sum'])\n",
    "# train['duration_min_sum'] = le_dura.fit_transform(train['duration_min_sum'])\n",
    "# train['distance_mi_sum'] = le_dist.fit_transform(train['distance_mi_sum'])\n",
    "# train['driver_lifespan'] = le_life.fit_transform(train['driver_lifespan'])\n",
    "# train['driver_id'] = le_label.fit_transform(train['driver_id'])\n",
    "\n",
    "\n",
    "# test['rides'] = le_rides.fit_transform(train['rides'])\n",
    "# test['total_fare'] = le_fare.fit_transform(train['total_fare'])\n",
    "# test['ride_prime_time_sum'] = le_prime.fit_transform(train['ride_prime_time_sum'])\n",
    "# test['duration_min_sum'] = le_dura.fit_transform(train['duration_min_sum'])\n",
    "# test['distance_mi_sum'] = le_dist.fit_transform(train['distance_mi_sum'])\n",
    "# test['driver_lifespan'] = le_life.fit_transform(train['driver_lifespan'])\n"
   ]
  },
  {
   "cell_type": "code",
   "execution_count": 1147,
   "metadata": {},
   "outputs": [
    {
     "data": {
      "text/plain": [
       "{2,\n",
       " 8,\n",
       " 9,\n",
       " 12,\n",
       " 13,\n",
       " 14,\n",
       " 16,\n",
       " 18,\n",
       " 20,\n",
       " 22,\n",
       " 24,\n",
       " 25,\n",
       " 29,\n",
       " 30,\n",
       " 31,\n",
       " 33,\n",
       " 41,\n",
       " 42,\n",
       " 44,\n",
       " 47,\n",
       " 51,\n",
       " 55,\n",
       " 58,\n",
       " 60,\n",
       " 62,\n",
       " 63,\n",
       " 64,\n",
       " 68,\n",
       " 75,\n",
       " 77,\n",
       " 80,\n",
       " 84,\n",
       " 85}"
      ]
     },
     "execution_count": 1147,
     "metadata": {},
     "output_type": "execute_result"
    }
   ],
   "source": [
    "#Making log model\n",
    "from sklearn.linear_model import LogisticRegression\n",
    "logmodel = LogisticRegression(solver='liblinear', multi_class='ovr')\n",
    "logmodel.fit(X_train,y_train)\n",
    "predictions = logmodel.predict(X_test)\n",
    "#some labels in y_true don't appear in predictions = possibly bad accuracy b/c they become 0\n",
    "set(y_test) - set(predictions)"
   ]
  },
  {
   "cell_type": "code",
   "execution_count": 1148,
   "metadata": {},
   "outputs": [
    {
     "data": {
      "text/plain": [
       "0.025678606904660548"
      ]
     },
     "execution_count": 1148,
     "metadata": {},
     "output_type": "execute_result"
    }
   ],
   "source": [
    "from sklearn.metrics import f1_score\n",
    "f1_score(y_test,predictions, average='weighted', labels=np.unique(predictions))"
   ]
  },
  {
   "cell_type": "code",
   "execution_count": 1149,
   "metadata": {},
   "outputs": [],
   "source": [
    "from sklearn.metrics import confusion_matrix\n",
    "tn, fp, fn, tp = confusion_matrix(y_test, predictions, labels=[0,1]).ravel()"
   ]
  },
  {
   "cell_type": "code",
   "execution_count": null,
   "metadata": {},
   "outputs": [],
   "source": []
  },
  {
   "cell_type": "markdown",
   "metadata": {},
   "source": [
    "# Polynomial Regression"
   ]
  },
  {
   "cell_type": "code",
   "execution_count": 1150,
   "metadata": {},
   "outputs": [],
   "source": [
    "X = pd.DataFrame(np.c_[driver_sum_total_fare['rides']], columns = ['rides'])\n",
    "y = driver_sum_total_fare['driver_lifespan']\n",
    "X_train, X_test, y_train, y_test = train_test_split(X, y, test_size = 0.2, random_state=9)"
   ]
  },
  {
   "cell_type": "code",
   "execution_count": null,
   "metadata": {},
   "outputs": [],
   "source": []
  },
  {
   "cell_type": "code",
   "execution_count": 1151,
   "metadata": {},
   "outputs": [
    {
     "data": {
      "text/plain": [
       "LinearRegression(copy_X=True, fit_intercept=True, n_jobs=None, normalize=False)"
      ]
     },
     "execution_count": 1151,
     "metadata": {},
     "output_type": "execute_result"
    }
   ],
   "source": [
    "lin = LinearRegression() \n",
    "  \n",
    "lin.fit(X, y) "
   ]
  },
  {
   "cell_type": "code",
   "execution_count": 1152,
   "metadata": {},
   "outputs": [],
   "source": [
    "poly = PolynomialFeatures(degree = 5) \n",
    "X_poly = poly.fit_transform(X) "
   ]
  },
  {
   "cell_type": "code",
   "execution_count": 1153,
   "metadata": {},
   "outputs": [
    {
     "data": {
      "text/plain": [
       "PolynomialFeatures(degree=5, include_bias=True, interaction_only=False,\n",
       "                   order='C')"
      ]
     },
     "execution_count": 1153,
     "metadata": {},
     "output_type": "execute_result"
    }
   ],
   "source": [
    "poly.fit(X_poly, y) "
   ]
  },
  {
   "cell_type": "code",
   "execution_count": 1154,
   "metadata": {},
   "outputs": [
    {
     "data": {
      "text/plain": [
       "LinearRegression(copy_X=True, fit_intercept=True, n_jobs=None, normalize=False)"
      ]
     },
     "execution_count": 1154,
     "metadata": {},
     "output_type": "execute_result"
    }
   ],
   "source": [
    "lin2 = LinearRegression() \n",
    "lin2.fit(X_poly, y) "
   ]
  },
  {
   "cell_type": "code",
   "execution_count": 1155,
   "metadata": {},
   "outputs": [
    {
     "data": {
      "image/png": "[encoded data removed]",
      "text/plain": [
       "<Figure size 432x288 with 1 Axes>"
      ]
     },
     "metadata": {},
     "output_type": "display_data"
    }
   ],
   "source": [
    "plt.scatter(X, y, color = 'blue') \n",
    "  \n",
    "plt.plot(X, lin.predict(X), color = 'red') \n",
    "plt.title('Linear Regression') \n",
    "plt.xlabel('Lifespan') \n",
    "plt.ylabel('Rides') \n",
    "  \n",
    "plt.show() "
   ]
  },
  {
   "cell_type": "code",
   "execution_count": 1156,
   "metadata": {},
   "outputs": [
    {
     "data": {
      "image/png": "[encoded data removed]",
      "text/plain": [
       "<Figure size 432x288 with 1 Axes>"
      ]
     },
     "metadata": {},
     "output_type": "display_data"
    }
   ],
   "source": [
    "plt.scatter(X, y, color = 'blue') \n",
    "  \n",
    "plt.plot(X, lin2.predict(poly.fit_transform(X)), color = 'red') \n",
    "plt.title('Polynomial Regression') \n",
    "plt.xlabel('Lifespan') \n",
    "plt.ylabel('Rides') \n",
    "  \n",
    "plt.show() "
   ]
  },
  {
   "cell_type": "code",
   "execution_count": 1157,
   "metadata": {},
   "outputs": [
    {
     "name": "stdout",
     "output_type": "stream",
     "text": [
      "The model performance for the training set\n",
      "-------------------------------------------\n",
      "RMSE of training set is 17.768298587612904\n",
      "R2 score of training set is 0.3405318786898087\n",
      "\n",
      "\n",
      "The model performance for the test set\n",
      "-------------------------------------------\n",
      "RMSE of test set is 16.552860876373952\n",
      "R2 score of test set is 0.38014646329489044\n"
     ]
    }
   ],
   "source": [
    "poly_features = PolynomialFeatures(degree=7)\n",
    "  \n",
    "  # transforms the existing features to higher degree features.\n",
    "X_train_poly = poly_features.fit_transform(X_train)\n",
    "  \n",
    "  # fit the transformed features to Linear Regression\n",
    "poly_model = LinearRegression()\n",
    "poly_model.fit(X_train_poly, y_train)\n",
    "  \n",
    "  # predicting on training data-set\n",
    "y_train_predicted = poly_model.predict(X_train_poly)\n",
    "  \n",
    "  # predicting on test data-set\n",
    "y_test_predict = poly_model.predict(poly_features.fit_transform(X_test))\n",
    "  \n",
    "  # evaluating the model on training dataset\n",
    "rmse_train = np.sqrt(mean_squared_error(y_train, y_train_predicted))\n",
    "r2_train = r2_score(y_train, y_train_predicted)\n",
    "  \n",
    "  # evaluating the model on test dataset\n",
    "rmse_test = np.sqrt(mean_squared_error(y_test, y_test_predict))\n",
    "r2_test = r2_score(y_test, y_test_predict)\n",
    "  \n",
    "print(\"The model performance for the training set\")\n",
    "print(\"-------------------------------------------\")\n",
    "print(\"RMSE of training set is {}\".format(rmse_train))\n",
    "print(\"R2 score of training set is {}\".format(r2_train))\n",
    "  \n",
    "print(\"\\n\")\n",
    "  \n",
    "print(\"The model performance for the test set\")\n",
    "print(\"-------------------------------------------\")\n",
    "print(\"RMSE of test set is {}\".format(rmse_test))\n",
    "print(\"R2 score of test set is {}\".format(r2_test))\n"
   ]
  },
  {
   "cell_type": "code",
   "execution_count": 1158,
   "metadata": {},
   "outputs": [
    {
     "data": {
      "image/png": "[encoded data removed]",
      "text/plain": [
       "<Figure size 432x288 with 1 Axes>"
      ]
     },
     "metadata": {},
     "output_type": "display_data"
    }
   ],
   "source": [
    "# Polynomial Regression-nth order\n",
    "from sklearn.pipeline import make_pipeline\n",
    "plt.scatter(X_test, y_test, s=10, alpha=0.3)\n",
    "\n",
    "for degree in [1,2,3,4,5,6,7]:\n",
    "\n",
    "    model = make_pipeline(PolynomialFeatures(degree), LinearRegression())\n",
    "\n",
    "    model.fit(X_train,y_train)\n",
    "\n",
    "    y_plot = model.predict(X_test)\n",
    "\n",
    "    plt.plot(X_test, y_plot, label=\"degree %d\" % degree +'; $R^2$: %.2f' % model.score(X_test, y_test))\n",
    "\n",
    "plt.legend(loc='upper right')\n",
    "\n",
    "plt.xlabel(\"Rides\")\n",
    "\n",
    "plt.ylabel(\"Lifetime\")\n",
    "\n",
    "plt.title(\"Variance Explained with Varying Polynomial\")\n",
    "\n",
    "plt.show()"
   ]
  },
  {
   "cell_type": "code",
   "execution_count": null,
   "metadata": {},
   "outputs": [],
   "source": []
  },
  {
   "cell_type": "code",
   "execution_count": null,
   "metadata": {},
   "outputs": [],
   "source": []
  },
  {
   "cell_type": "code",
   "execution_count": 1170,
   "metadata": {},
   "outputs": [
    {
     "data": {
      "text/html": [
       "<div>\n",
       "<style scoped>\n",
       "    .dataframe tbody tr th:only-of-type {\n",
       "        vertical-align: middle;\n",
       "    }\n",
       "\n",
       "    .dataframe tbody tr th {\n",
       "        vertical-align: top;\n",
       "    }\n",
       "\n",
       "    .dataframe thead th {\n",
       "        text-align: right;\n",
       "    }\n",
       "</style>\n",
       "<table border=\"1\" class=\"dataframe\">\n",
       "  <thead>\n",
       "    <tr style=\"text-align: right;\">\n",
       "      <th></th>\n",
       "      <th>driver_id</th>\n",
       "      <th>ride_prime_time_sum</th>\n",
       "      <th>duration_min_sum</th>\n",
       "      <th>distance_mi_sum</th>\n",
       "      <th>total_fare</th>\n",
       "      <th>rides</th>\n",
       "      <th>driver_lifespan</th>\n",
       "      <th>t</th>\n",
       "      <th>rides_per_day</th>\n",
       "    </tr>\n",
       "  </thead>\n",
       "  <tbody>\n",
       "    <tr>\n",
       "      <td>0</td>\n",
       "      <td>002be0ffdc997bd5c50703158b7c2491</td>\n",
       "      <td>5375</td>\n",
       "      <td>3687.300000</td>\n",
       "      <td>1081.362133</td>\n",
       "      <td>3453.419687</td>\n",
       "      <td>277</td>\n",
       "      <td>86</td>\n",
       "      <td>90</td>\n",
       "      <td>3.220930</td>\n",
       "    </tr>\n",
       "    <tr>\n",
       "      <td>1</td>\n",
       "      <td>007f0389f9c7b03ef97098422f902e62</td>\n",
       "      <td>625</td>\n",
       "      <td>341.616667</td>\n",
       "      <td>73.030237</td>\n",
       "      <td>308.994506</td>\n",
       "      <td>31</td>\n",
       "      <td>85</td>\n",
       "      <td>90</td>\n",
       "      <td>0.364706</td>\n",
       "    </tr>\n",
       "    <tr>\n",
       "      <td>2</td>\n",
       "      <td>011e5c5dfc5c2c92501b8b24d47509bc</td>\n",
       "      <td>675</td>\n",
       "      <td>486.750000</td>\n",
       "      <td>167.554285</td>\n",
       "      <td>468.927442</td>\n",
       "      <td>34</td>\n",
       "      <td>68</td>\n",
       "      <td>83</td>\n",
       "      <td>0.500000</td>\n",
       "    </tr>\n",
       "    <tr>\n",
       "      <td>3</td>\n",
       "      <td>0152a2f305e71d26cc964f8d4411add9</td>\n",
       "      <td>2050</td>\n",
       "      <td>2908.683333</td>\n",
       "      <td>914.183777</td>\n",
       "      <td>2569.866550</td>\n",
       "      <td>191</td>\n",
       "      <td>64</td>\n",
       "      <td>65</td>\n",
       "      <td>2.984375</td>\n",
       "    </tr>\n",
       "    <tr>\n",
       "      <td>4</td>\n",
       "      <td>01674381af7edd264113d4e6ed55ecda</td>\n",
       "      <td>4700</td>\n",
       "      <td>5957.383333</td>\n",
       "      <td>1940.938672</td>\n",
       "      <td>5287.086873</td>\n",
       "      <td>375</td>\n",
       "      <td>56</td>\n",
       "      <td>59</td>\n",
       "      <td>6.696429</td>\n",
       "    </tr>\n",
       "    <tr>\n",
       "      <td>...</td>\n",
       "      <td>...</td>\n",
       "      <td>...</td>\n",
       "      <td>...</td>\n",
       "      <td>...</td>\n",
       "      <td>...</td>\n",
       "      <td>...</td>\n",
       "      <td>...</td>\n",
       "      <td>...</td>\n",
       "      <td>...</td>\n",
       "    </tr>\n",
       "    <tr>\n",
       "      <td>832</td>\n",
       "      <td>ff419a3476e21e269e340b5f1f05414e</td>\n",
       "      <td>3100</td>\n",
       "      <td>4105.133333</td>\n",
       "      <td>1244.231288</td>\n",
       "      <td>3476.370782</td>\n",
       "      <td>242</td>\n",
       "      <td>61</td>\n",
       "      <td>62</td>\n",
       "      <td>3.967213</td>\n",
       "    </tr>\n",
       "    <tr>\n",
       "      <td>833</td>\n",
       "      <td>ff714a67ba8c6a108261cd81e3b77f3a</td>\n",
       "      <td>8625</td>\n",
       "      <td>7374.866667</td>\n",
       "      <td>1761.437928</td>\n",
       "      <td>6114.858170</td>\n",
       "      <td>485</td>\n",
       "      <td>81</td>\n",
       "      <td>91</td>\n",
       "      <td>5.987654</td>\n",
       "    </tr>\n",
       "    <tr>\n",
       "      <td>834</td>\n",
       "      <td>fff482c704d36a1afe8b8978d5486283</td>\n",
       "      <td>175</td>\n",
       "      <td>461.550000</td>\n",
       "      <td>108.363200</td>\n",
       "      <td>377.160834</td>\n",
       "      <td>35</td>\n",
       "      <td>34</td>\n",
       "      <td>80</td>\n",
       "      <td>1.029412</td>\n",
       "    </tr>\n",
       "    <tr>\n",
       "      <td>835</td>\n",
       "      <td>fffecccc49436c5389075b13209f0dfa</td>\n",
       "      <td>12050</td>\n",
       "      <td>5899.566667</td>\n",
       "      <td>1817.453191</td>\n",
       "      <td>5812.169994</td>\n",
       "      <td>406</td>\n",
       "      <td>51</td>\n",
       "      <td>52</td>\n",
       "      <td>7.960784</td>\n",
       "    </tr>\n",
       "    <tr>\n",
       "      <td>836</td>\n",
       "      <td>ffff51a71f2f185ec5e97d59dbcd7a78</td>\n",
       "      <td>6625</td>\n",
       "      <td>4477.350000</td>\n",
       "      <td>1473.900825</td>\n",
       "      <td>4448.742395</td>\n",
       "      <td>330</td>\n",
       "      <td>54</td>\n",
       "      <td>54</td>\n",
       "      <td>6.111111</td>\n",
       "    </tr>\n",
       "  </tbody>\n",
       "</table>\n",
       "<p>837 rows × 9 columns</p>\n",
       "</div>"
      ],
      "text/plain": [
       "                            driver_id  ride_prime_time_sum  duration_min_sum  \\\n",
       "0    002be0ffdc997bd5c50703158b7c2491                 5375       3687.300000   \n",
       "1    007f0389f9c7b03ef97098422f902e62                  625        341.616667   \n",
       "2    011e5c5dfc5c2c92501b8b24d47509bc                  675        486.750000   \n",
       "3    0152a2f305e71d26cc964f8d4411add9                 2050       2908.683333   \n",
       "4    01674381af7edd264113d4e6ed55ecda                 4700       5957.383333   \n",
       "..                                ...                  ...               ...   \n",
       "832  ff419a3476e21e269e340b5f1f05414e                 3100       4105.133333   \n",
       "833  ff714a67ba8c6a108261cd81e3b77f3a                 8625       7374.866667   \n",
       "834  fff482c704d36a1afe8b8978d5486283                  175        461.550000   \n",
       "835  fffecccc49436c5389075b13209f0dfa                12050       5899.566667   \n",
       "836  ffff51a71f2f185ec5e97d59dbcd7a78                 6625       4477.350000   \n",
       "\n",
       "     distance_mi_sum   total_fare  rides  driver_lifespan   t  rides_per_day  \n",
       "0        1081.362133  3453.419687    277               86  90       3.220930  \n",
       "1          73.030237   308.994506     31               85  90       0.364706  \n",
       "2         167.554285   468.927442     34               68  83       0.500000  \n",
       "3         914.183777  2569.866550    191               64  65       2.984375  \n",
       "4        1940.938672  5287.086873    375               56  59       6.696429  \n",
       "..               ...          ...    ...              ...  ..            ...  \n",
       "832      1244.231288  3476.370782    242               61  62       3.967213  \n",
       "833      1761.437928  6114.858170    485               81  91       5.987654  \n",
       "834       108.363200   377.160834     35               34  80       1.029412  \n",
       "835      1817.453191  5812.169994    406               51  52       7.960784  \n",
       "836      1473.900825  4448.742395    330               54  54       6.111111  \n",
       "\n",
       "[837 rows x 9 columns]"
      ]
     },
     "execution_count": 1170,
     "metadata": {},
     "output_type": "execute_result"
    }
   ],
   "source": [
    "import pandas as pd\n",
    "import warnings\n",
    "warnings.filterwarnings('ignore')\n",
    "driver_sum_total_fare['rides'] = driver_sum_total_fare['rides'].apply(lambda x: x if x >= 5 else 0)\n",
    "#driver_sum_total_fare['driver_lifespan'] = driver_sum_total_fare.rides.apply(lambda x: x if x >= 5 else 0)\n",
    "driver_sum_total_fare.set_value(438, 'driver_lifespan', 0)\n",
    "driver_sum_total_fare.set_value(421, 'driver_lifespan', 0)"
   ]
  },
  {
   "cell_type": "code",
   "execution_count": 1171,
   "metadata": {},
   "outputs": [
    {
     "data": {
      "text/html": [
       "<div>\n",
       "<style scoped>\n",
       "    .dataframe tbody tr th:only-of-type {\n",
       "        vertical-align: middle;\n",
       "    }\n",
       "\n",
       "    .dataframe tbody tr th {\n",
       "        vertical-align: top;\n",
       "    }\n",
       "\n",
       "    .dataframe thead th {\n",
       "        text-align: right;\n",
       "    }\n",
       "</style>\n",
       "<table border=\"1\" class=\"dataframe\">\n",
       "  <thead>\n",
       "    <tr style=\"text-align: right;\">\n",
       "      <th></th>\n",
       "      <th>driver_id</th>\n",
       "      <th>ride_prime_time_sum</th>\n",
       "      <th>duration_min_sum</th>\n",
       "      <th>distance_mi_sum</th>\n",
       "      <th>total_fare</th>\n",
       "      <th>rides</th>\n",
       "      <th>driver_lifespan</th>\n",
       "      <th>t</th>\n",
       "      <th>rides_per_day</th>\n",
       "    </tr>\n",
       "  </thead>\n",
       "  <tbody>\n",
       "    <tr>\n",
       "      <td>421</td>\n",
       "      <td>7b625f643d0775f0ac4898e33235377b</td>\n",
       "      <td>0</td>\n",
       "      <td>28.533333</td>\n",
       "      <td>6.148456</td>\n",
       "      <td>25.691293</td>\n",
       "      <td>0</td>\n",
       "      <td>0</td>\n",
       "      <td>84</td>\n",
       "      <td>0.200000</td>\n",
       "    </tr>\n",
       "    <tr>\n",
       "      <td>438</td>\n",
       "      <td>7ff85c5c0e9324e28d1e0d0589c364bd</td>\n",
       "      <td>25</td>\n",
       "      <td>29.183333</td>\n",
       "      <td>14.957619</td>\n",
       "      <td>35.566946</td>\n",
       "      <td>0</td>\n",
       "      <td>0</td>\n",
       "      <td>69</td>\n",
       "      <td>0.046875</td>\n",
       "    </tr>\n",
       "  </tbody>\n",
       "</table>\n",
       "</div>"
      ],
      "text/plain": [
       "                            driver_id  ride_prime_time_sum  duration_min_sum  \\\n",
       "421  7b625f643d0775f0ac4898e33235377b                    0         28.533333   \n",
       "438  7ff85c5c0e9324e28d1e0d0589c364bd                   25         29.183333   \n",
       "\n",
       "     distance_mi_sum  total_fare  rides  driver_lifespan   t  rides_per_day  \n",
       "421         6.148456   25.691293      0                0  84       0.200000  \n",
       "438        14.957619   35.566946      0                0  69       0.046875  "
      ]
     },
     "execution_count": 1171,
     "metadata": {},
     "output_type": "execute_result"
    }
   ],
   "source": [
    "driver_sum_total_fare[driver_sum_total_fare['rides'] < 5]"
   ]
  },
  {
   "cell_type": "code",
   "execution_count": 1172,
   "metadata": {
    "scrolled": true
   },
   "outputs": [],
   "source": [
    "# import lifetimes\n",
    "# from lifetimes.plotting import *\n",
    "# from lifetimes.utils import *\n",
    "# #from lifetimes.estimation import *\n"
   ]
  },
  {
   "cell_type": "code",
   "execution_count": 1173,
   "metadata": {},
   "outputs": [
    {
     "name": "stdout",
     "output_type": "stream",
     "text": [
      "count    837.000000\n",
      "mean     220.075269\n",
      "std      178.189151\n",
      "min        0.000000\n",
      "25%       44.000000\n",
      "50%      224.000000\n",
      "75%      330.000000\n",
      "max      919.000000\n",
      "Name: rides, dtype: float64\n",
      "0.0023894862604540022\n"
     ]
    },
    {
     "data": {
      "image/png": "[encoded data removed]",
      "text/plain": [
       "<Figure size 432x288 with 1 Axes>"
      ]
     },
     "metadata": {},
     "output_type": "display_data"
    }
   ],
   "source": [
    "driver_sum_total_fare['rides'].plot(kind='hist', bins=50)\n",
    "print(driver_sum_total_fare['rides'].describe())\n",
    "print(sum(driver_sum_total_fare['rides'] == 0)/float(len(driver_sum_total_fare)))"
   ]
  },
  {
   "cell_type": "code",
   "execution_count": 1174,
   "metadata": {},
   "outputs": [
    {
     "name": "stdout",
     "output_type": "stream",
     "text": [
      "      fun: -1119.9457913924307\n",
      " hess_inv: array([[  1.79381563,   1.77253132,   5.26201299,   5.24969109],\n",
      "       [  1.77253132,   2.40258042,   0.85670268,   0.84276921],\n",
      "       [  5.26201299,   0.85670268, 590.76728974, 587.86331527],\n",
      "       [  5.24969109,   0.84276921, 587.86331527, 586.61545788]])\n",
      "      jac: array([-1.39914381e-04,  9.81400300e-05, -9.96786536e-06,  9.42549493e-06])\n",
      "  message: 'Desired error not necessarily achieved due to precision loss.'\n",
      "     nfev: 157\n",
      "      nit: 49\n",
      "     njev: 145\n",
      "   status: 2\n",
      "  success: False\n",
      "        x: array([ 0.48694489, -5.40007585, 12.63068289, 18.36676784])\n"
     ]
    },
    {
     "ename": "ConvergenceError",
     "evalue": "\nThe model did not converge. Try adding a larger penalizer to see if that helps convergence.\n",
     "output_type": "error",
     "traceback": [
      "\u001b[0;31m---------------------------------------------------------------------------\u001b[0m",
      "\u001b[0;31mConvergenceError\u001b[0m                          Traceback (most recent call last)",
      "\u001b[0;32m<ipython-input-1174-5768f59aa2c7>\u001b[0m in \u001b[0;36m<module>\u001b[0;34m\u001b[0m\n\u001b[1;32m      1\u001b[0m \u001b[0;32mfrom\u001b[0m \u001b[0mlifetimes\u001b[0m \u001b[0;32mimport\u001b[0m \u001b[0mBetaGeoFitter\u001b[0m\u001b[0;34m\u001b[0m\u001b[0m\n\u001b[1;32m      2\u001b[0m \u001b[0mbgf\u001b[0m \u001b[0;34m=\u001b[0m \u001b[0mBetaGeoFitter\u001b[0m\u001b[0;34m(\u001b[0m\u001b[0mpenalizer_coef\u001b[0m\u001b[0;34m=\u001b[0m\u001b[0;36m0.0\u001b[0m\u001b[0;34m)\u001b[0m\u001b[0;34m\u001b[0m\u001b[0m\n\u001b[0;32m----> 3\u001b[0;31m \u001b[0mbgf\u001b[0m\u001b[0;34m.\u001b[0m\u001b[0mfit\u001b[0m\u001b[0;34m(\u001b[0m\u001b[0mdriver_sum_total_fare\u001b[0m\u001b[0;34m[\u001b[0m\u001b[0;34m'rides'\u001b[0m\u001b[0;34m]\u001b[0m\u001b[0;34m,\u001b[0m \u001b[0mdriver_sum_total_fare\u001b[0m\u001b[0;34m[\u001b[0m\u001b[0;34m'driver_lifespan'\u001b[0m\u001b[0;34m]\u001b[0m\u001b[0;34m,\u001b[0m \u001b[0mdriver_sum_total_fare\u001b[0m\u001b[0;34m[\u001b[0m\u001b[0;34m't'\u001b[0m\u001b[0;34m]\u001b[0m\u001b[0;34m)\u001b[0m\u001b[0;34m\u001b[0m\u001b[0m\n\u001b[0m\u001b[1;32m      4\u001b[0m \u001b[0mprint\u001b[0m\u001b[0;34m(\u001b[0m\u001b[0mbgf\u001b[0m\u001b[0;34m)\u001b[0m\u001b[0;34m\u001b[0m\u001b[0m\n",
      "\u001b[0;32m/Library/Frameworks/Python.framework/Versions/3.6/lib/python3.6/site-packages/lifetimes/fitters/beta_geo_fitter.py\u001b[0m in \u001b[0;36mfit\u001b[0;34m(self, frequency, recency, T, weights, initial_params, verbose, tol, index, **kwargs)\u001b[0m\n\u001b[1;32m    127\u001b[0m             \u001b[0mverbose\u001b[0m\u001b[0;34m,\u001b[0m\u001b[0;34m\u001b[0m\u001b[0m\n\u001b[1;32m    128\u001b[0m             \u001b[0mtol\u001b[0m\u001b[0;34m,\u001b[0m\u001b[0;34m\u001b[0m\u001b[0m\n\u001b[0;32m--> 129\u001b[0;31m             \u001b[0;34m**\u001b[0m\u001b[0mkwargs\u001b[0m\u001b[0;34m\u001b[0m\u001b[0m\n\u001b[0m\u001b[1;32m    130\u001b[0m         )\n\u001b[1;32m    131\u001b[0m \u001b[0;34m\u001b[0m\u001b[0m\n",
      "\u001b[0;32m/Library/Frameworks/Python.framework/Versions/3.6/lib/python3.6/site-packages/lifetimes/fitters/__init__.py\u001b[0m in \u001b[0;36m_fit\u001b[0;34m(self, minimizing_function_args, initial_params, params_size, disp, tol, bounds, **kwargs)\u001b[0m\n\u001b[1;32m    117\u001b[0m                 \"\"\"\n\u001b[1;32m    118\u001b[0m             \u001b[0mThe\u001b[0m \u001b[0mmodel\u001b[0m \u001b[0mdid\u001b[0m \u001b[0;32mnot\u001b[0m \u001b[0mconverge\u001b[0m\u001b[0;34m.\u001b[0m \u001b[0mTry\u001b[0m \u001b[0madding\u001b[0m \u001b[0ma\u001b[0m \u001b[0mlarger\u001b[0m \u001b[0mpenalizer\u001b[0m \u001b[0mto\u001b[0m \u001b[0msee\u001b[0m \u001b[0;32mif\u001b[0m \u001b[0mthat\u001b[0m \u001b[0mhelps\u001b[0m \u001b[0mconvergence\u001b[0m\u001b[0;34m.\u001b[0m\u001b[0;34m\u001b[0m\u001b[0m\n\u001b[0;32m--> 119\u001b[0;31m             \"\"\"\n\u001b[0m\u001b[1;32m    120\u001b[0m             )\n\u001b[1;32m    121\u001b[0m         )\n",
      "\u001b[0;31mConvergenceError\u001b[0m: \nThe model did not converge. Try adding a larger penalizer to see if that helps convergence.\n"
     ]
    }
   ],
   "source": [
    "from lifetimes import BetaGeoFitter\n",
    "bgf = BetaGeoFitter(penalizer_coef=0.0)\n",
    "bgf.fit(driver_sum_total_fare['rides'], driver_sum_total_fare['driver_lifespan'], driver_sum_total_fare['t'])\n",
    "print(bgf)"
   ]
  },
  {
   "cell_type": "code",
   "execution_count": 1175,
   "metadata": {},
   "outputs": [
    {
     "ename": "AttributeError",
     "evalue": "'BetaGeoFitter' object has no attribute 'data'",
     "output_type": "error",
     "traceback": [
      "\u001b[0;31m---------------------------------------------------------------------------\u001b[0m",
      "\u001b[0;31mAttributeError\u001b[0m                            Traceback (most recent call last)",
      "\u001b[0;32m<ipython-input-1175-ca261d8d7842>\u001b[0m in \u001b[0;36m<module>\u001b[0;34m\u001b[0m\n\u001b[1;32m      2\u001b[0m \u001b[0;32mimport\u001b[0m \u001b[0mmatplotlib\u001b[0m\u001b[0;34m.\u001b[0m\u001b[0mpyplot\u001b[0m \u001b[0;32mas\u001b[0m \u001b[0mplt\u001b[0m\u001b[0;34m\u001b[0m\u001b[0m\n\u001b[1;32m      3\u001b[0m \u001b[0mfig\u001b[0m \u001b[0;34m=\u001b[0m \u001b[0mplt\u001b[0m\u001b[0;34m.\u001b[0m\u001b[0mfigure\u001b[0m\u001b[0;34m(\u001b[0m\u001b[0mfigsize\u001b[0m\u001b[0;34m=\u001b[0m\u001b[0;34m(\u001b[0m\u001b[0;36m12\u001b[0m\u001b[0;34m,\u001b[0m\u001b[0;36m8\u001b[0m\u001b[0;34m)\u001b[0m\u001b[0;34m)\u001b[0m\u001b[0;34m\u001b[0m\u001b[0m\n\u001b[0;32m----> 4\u001b[0;31m \u001b[0mplot_frequency_recency_matrix\u001b[0m\u001b[0;34m(\u001b[0m\u001b[0mbgf\u001b[0m\u001b[0;34m)\u001b[0m\u001b[0;34m\u001b[0m\u001b[0m\n\u001b[0m",
      "\u001b[0;32m/Library/Frameworks/Python.framework/Versions/3.6/lib/python3.6/site-packages/lifetimes/plotting.py\u001b[0m in \u001b[0;36mplot_frequency_recency_matrix\u001b[0;34m(model, T, max_frequency, max_recency, title, xlabel, ylabel, **kwargs)\u001b[0m\n\u001b[1;32m    181\u001b[0m \u001b[0;34m\u001b[0m\u001b[0m\n\u001b[1;32m    182\u001b[0m     \u001b[0;32mif\u001b[0m \u001b[0mmax_frequency\u001b[0m \u001b[0;32mis\u001b[0m \u001b[0;32mNone\u001b[0m\u001b[0;34m:\u001b[0m\u001b[0;34m\u001b[0m\u001b[0m\n\u001b[0;32m--> 183\u001b[0;31m         \u001b[0mmax_frequency\u001b[0m \u001b[0;34m=\u001b[0m \u001b[0mint\u001b[0m\u001b[0;34m(\u001b[0m\u001b[0mmodel\u001b[0m\u001b[0;34m.\u001b[0m\u001b[0mdata\u001b[0m\u001b[0;34m[\u001b[0m\u001b[0;34m\"frequency\"\u001b[0m\u001b[0;34m]\u001b[0m\u001b[0;34m.\u001b[0m\u001b[0mmax\u001b[0m\u001b[0;34m(\u001b[0m\u001b[0;34m)\u001b[0m\u001b[0;34m)\u001b[0m\u001b[0;34m\u001b[0m\u001b[0m\n\u001b[0m\u001b[1;32m    184\u001b[0m \u001b[0;34m\u001b[0m\u001b[0m\n\u001b[1;32m    185\u001b[0m     \u001b[0;32mif\u001b[0m \u001b[0mmax_recency\u001b[0m \u001b[0;32mis\u001b[0m \u001b[0;32mNone\u001b[0m\u001b[0;34m:\u001b[0m\u001b[0;34m\u001b[0m\u001b[0m\n",
      "\u001b[0;31mAttributeError\u001b[0m: 'BetaGeoFitter' object has no attribute 'data'"
     ]
    },
    {
     "data": {
      "text/plain": [
       "<Figure size 864x576 with 0 Axes>"
      ]
     },
     "metadata": {},
     "output_type": "display_data"
    }
   ],
   "source": [
    "from lifetimes.plotting import plot_frequency_recency_matrix\n",
    "import matplotlib.pyplot as plt\n",
    "fig = plt.figure(figsize=(12,8))\n",
    "plot_frequency_recency_matrix(bgf)"
   ]
  },
  {
   "cell_type": "code",
   "execution_count": 1176,
   "metadata": {},
   "outputs": [
    {
     "ename": "AttributeError",
     "evalue": "'BetaGeoFitter' object has no attribute 'data'",
     "output_type": "error",
     "traceback": [
      "\u001b[0;31m---------------------------------------------------------------------------\u001b[0m",
      "\u001b[0;31mAttributeError\u001b[0m                            Traceback (most recent call last)",
      "\u001b[0;32m<ipython-input-1176-e235f7573870>\u001b[0m in \u001b[0;36m<module>\u001b[0;34m\u001b[0m\n\u001b[1;32m      1\u001b[0m \u001b[0;32mfrom\u001b[0m \u001b[0mlifetimes\u001b[0m\u001b[0;34m.\u001b[0m\u001b[0mplotting\u001b[0m \u001b[0;32mimport\u001b[0m \u001b[0mplot_probability_alive_matrix\u001b[0m\u001b[0;34m\u001b[0m\u001b[0m\n\u001b[1;32m      2\u001b[0m \u001b[0mfig\u001b[0m \u001b[0;34m=\u001b[0m \u001b[0mplt\u001b[0m\u001b[0;34m.\u001b[0m\u001b[0mfigure\u001b[0m\u001b[0;34m(\u001b[0m\u001b[0mfigsize\u001b[0m\u001b[0;34m=\u001b[0m\u001b[0;34m(\u001b[0m\u001b[0;36m12\u001b[0m\u001b[0;34m,\u001b[0m\u001b[0;36m8\u001b[0m\u001b[0;34m)\u001b[0m\u001b[0;34m)\u001b[0m\u001b[0;34m\u001b[0m\u001b[0m\n\u001b[0;32m----> 3\u001b[0;31m \u001b[0mplot_probability_alive_matrix\u001b[0m\u001b[0;34m(\u001b[0m\u001b[0mbgf\u001b[0m\u001b[0;34m)\u001b[0m\u001b[0;34m\u001b[0m\u001b[0m\n\u001b[0m",
      "\u001b[0;32m/Library/Frameworks/Python.framework/Versions/3.6/lib/python3.6/site-packages/lifetimes/plotting.py\u001b[0m in \u001b[0;36mplot_probability_alive_matrix\u001b[0;34m(model, max_frequency, max_recency, title, xlabel, ylabel, **kwargs)\u001b[0m\n\u001b[1;32m    253\u001b[0m     \u001b[0;32mfrom\u001b[0m \u001b[0mmatplotlib\u001b[0m \u001b[0;32mimport\u001b[0m \u001b[0mpyplot\u001b[0m \u001b[0;32mas\u001b[0m \u001b[0mplt\u001b[0m\u001b[0;34m\u001b[0m\u001b[0m\n\u001b[1;32m    254\u001b[0m \u001b[0;34m\u001b[0m\u001b[0m\n\u001b[0;32m--> 255\u001b[0;31m     \u001b[0mz\u001b[0m \u001b[0;34m=\u001b[0m \u001b[0mmodel\u001b[0m\u001b[0;34m.\u001b[0m\u001b[0mconditional_probability_alive_matrix\u001b[0m\u001b[0;34m(\u001b[0m\u001b[0mmax_frequency\u001b[0m\u001b[0;34m,\u001b[0m \u001b[0mmax_recency\u001b[0m\u001b[0;34m)\u001b[0m\u001b[0;34m\u001b[0m\u001b[0m\n\u001b[0m\u001b[1;32m    256\u001b[0m \u001b[0;34m\u001b[0m\u001b[0m\n\u001b[1;32m    257\u001b[0m     \u001b[0minterpolation\u001b[0m \u001b[0;34m=\u001b[0m \u001b[0mkwargs\u001b[0m\u001b[0;34m.\u001b[0m\u001b[0mpop\u001b[0m\u001b[0;34m(\u001b[0m\u001b[0;34m\"interpolation\"\u001b[0m\u001b[0;34m,\u001b[0m \u001b[0;34m\"none\"\u001b[0m\u001b[0;34m)\u001b[0m\u001b[0;34m\u001b[0m\u001b[0m\n",
      "\u001b[0;32m/Library/Frameworks/Python.framework/Versions/3.6/lib/python3.6/site-packages/lifetimes/fitters/beta_geo_fitter.py\u001b[0m in \u001b[0;36mconditional_probability_alive_matrix\u001b[0;34m(self, max_frequency, max_recency)\u001b[0m\n\u001b[1;32m    256\u001b[0m \u001b[0;34m\u001b[0m\u001b[0m\n\u001b[1;32m    257\u001b[0m         \"\"\"\n\u001b[0;32m--> 258\u001b[0;31m         \u001b[0mmax_frequency\u001b[0m \u001b[0;34m=\u001b[0m \u001b[0mmax_frequency\u001b[0m \u001b[0;32mor\u001b[0m \u001b[0mint\u001b[0m\u001b[0;34m(\u001b[0m\u001b[0mself\u001b[0m\u001b[0;34m.\u001b[0m\u001b[0mdata\u001b[0m\u001b[0;34m[\u001b[0m\u001b[0;34m\"frequency\"\u001b[0m\u001b[0;34m]\u001b[0m\u001b[0;34m.\u001b[0m\u001b[0mmax\u001b[0m\u001b[0;34m(\u001b[0m\u001b[0;34m)\u001b[0m\u001b[0;34m)\u001b[0m\u001b[0;34m\u001b[0m\u001b[0m\n\u001b[0m\u001b[1;32m    259\u001b[0m         \u001b[0mmax_recency\u001b[0m \u001b[0;34m=\u001b[0m \u001b[0mmax_recency\u001b[0m \u001b[0;32mor\u001b[0m \u001b[0mint\u001b[0m\u001b[0;34m(\u001b[0m\u001b[0mself\u001b[0m\u001b[0;34m.\u001b[0m\u001b[0mdata\u001b[0m\u001b[0;34m[\u001b[0m\u001b[0;34m\"T\"\u001b[0m\u001b[0;34m]\u001b[0m\u001b[0;34m.\u001b[0m\u001b[0mmax\u001b[0m\u001b[0;34m(\u001b[0m\u001b[0;34m)\u001b[0m\u001b[0;34m)\u001b[0m\u001b[0;34m\u001b[0m\u001b[0m\n\u001b[1;32m    260\u001b[0m \u001b[0;34m\u001b[0m\u001b[0m\n",
      "\u001b[0;31mAttributeError\u001b[0m: 'BetaGeoFitter' object has no attribute 'data'"
     ]
    },
    {
     "data": {
      "text/plain": [
       "<Figure size 864x576 with 0 Axes>"
      ]
     },
     "metadata": {},
     "output_type": "display_data"
    }
   ],
   "source": [
    "from lifetimes.plotting import plot_probability_alive_matrix\n",
    "fig = plt.figure(figsize=(12,8))\n",
    "plot_probability_alive_matrix(bgf)"
   ]
  },
  {
   "cell_type": "code",
   "execution_count": 1177,
   "metadata": {},
   "outputs": [
    {
     "ename": "AttributeError",
     "evalue": "'BetaGeoFitter' object has no attribute 'data'",
     "output_type": "error",
     "traceback": [
      "\u001b[0;31m---------------------------------------------------------------------------\u001b[0m",
      "\u001b[0;31mAttributeError\u001b[0m                            Traceback (most recent call last)",
      "\u001b[0;32m<ipython-input-1177-4c32895ddcb8>\u001b[0m in \u001b[0;36m<module>\u001b[0;34m\u001b[0m\n\u001b[1;32m      1\u001b[0m \u001b[0;32mfrom\u001b[0m \u001b[0mlifetimes\u001b[0m\u001b[0;34m.\u001b[0m\u001b[0mplotting\u001b[0m \u001b[0;32mimport\u001b[0m \u001b[0mplot_period_transactions\u001b[0m\u001b[0;34m\u001b[0m\u001b[0m\n\u001b[0;32m----> 2\u001b[0;31m \u001b[0mplot_period_transactions\u001b[0m\u001b[0;34m(\u001b[0m\u001b[0mbgf\u001b[0m\u001b[0;34m)\u001b[0m\u001b[0;34m\u001b[0m\u001b[0m\n\u001b[0m",
      "\u001b[0;32m/Library/Frameworks/Python.framework/Versions/3.6/lib/python3.6/site-packages/lifetimes/plotting.py\u001b[0m in \u001b[0;36mplot_period_transactions\u001b[0;34m(model, max_frequency, title, xlabel, ylabel, **kwargs)\u001b[0m\n\u001b[1;32m     58\u001b[0m     \u001b[0mlabels\u001b[0m \u001b[0;34m=\u001b[0m \u001b[0mkwargs\u001b[0m\u001b[0;34m.\u001b[0m\u001b[0mpop\u001b[0m\u001b[0;34m(\u001b[0m\u001b[0;34m\"label\"\u001b[0m\u001b[0;34m,\u001b[0m \u001b[0;34m[\u001b[0m\u001b[0;34m\"Actual\"\u001b[0m\u001b[0;34m,\u001b[0m \u001b[0;34m\"Model\"\u001b[0m\u001b[0;34m]\u001b[0m\u001b[0;34m)\u001b[0m\u001b[0;34m\u001b[0m\u001b[0m\n\u001b[1;32m     59\u001b[0m \u001b[0;34m\u001b[0m\u001b[0m\n\u001b[0;32m---> 60\u001b[0;31m     \u001b[0mn\u001b[0m \u001b[0;34m=\u001b[0m \u001b[0mmodel\u001b[0m\u001b[0;34m.\u001b[0m\u001b[0mdata\u001b[0m\u001b[0;34m.\u001b[0m\u001b[0mshape\u001b[0m\u001b[0;34m[\u001b[0m\u001b[0;36m0\u001b[0m\u001b[0;34m]\u001b[0m\u001b[0;34m\u001b[0m\u001b[0m\n\u001b[0m\u001b[1;32m     61\u001b[0m     \u001b[0msimulated_data\u001b[0m \u001b[0;34m=\u001b[0m \u001b[0mmodel\u001b[0m\u001b[0;34m.\u001b[0m\u001b[0mgenerate_new_data\u001b[0m\u001b[0;34m(\u001b[0m\u001b[0msize\u001b[0m\u001b[0;34m=\u001b[0m\u001b[0mn\u001b[0m\u001b[0;34m)\u001b[0m\u001b[0;34m\u001b[0m\u001b[0m\n\u001b[1;32m     62\u001b[0m \u001b[0;34m\u001b[0m\u001b[0m\n",
      "\u001b[0;31mAttributeError\u001b[0m: 'BetaGeoFitter' object has no attribute 'data'"
     ]
    }
   ],
   "source": [
    "from lifetimes.plotting import plot_period_transactions\n",
    "plot_period_transactions(bgf)"
   ]
  },
  {
   "cell_type": "code",
   "execution_count": 1178,
   "metadata": {},
   "outputs": [
    {
     "ename": "AttributeError",
     "evalue": "'BetaGeoFitter' object has no attribute 'predict'",
     "output_type": "error",
     "traceback": [
      "\u001b[0;31m---------------------------------------------------------------------------\u001b[0m",
      "\u001b[0;31mAttributeError\u001b[0m                            Traceback (most recent call last)",
      "\u001b[0;32m<ipython-input-1178-a5a25c14d93e>\u001b[0m in \u001b[0;36m<module>\u001b[0;34m\u001b[0m\n\u001b[1;32m      1\u001b[0m \u001b[0mg\u001b[0m \u001b[0;34m=\u001b[0m \u001b[0;36m10\u001b[0m\u001b[0;34m\u001b[0m\u001b[0m\n\u001b[1;32m      2\u001b[0m \u001b[0mindividual\u001b[0m \u001b[0;34m=\u001b[0m \u001b[0mdriver_sum_total_fare\u001b[0m\u001b[0;34m.\u001b[0m\u001b[0mloc\u001b[0m\u001b[0;34m[\u001b[0m\u001b[0mdriver_sum_total_fare\u001b[0m\u001b[0;34m[\u001b[0m\u001b[0;34m'driver_id'\u001b[0m\u001b[0;34m]\u001b[0m \u001b[0;34m==\u001b[0m\u001b[0;34m'007f0389f9c7b03ef97098422f902e62'\u001b[0m\u001b[0;34m]\u001b[0m\u001b[0;34m\u001b[0m\u001b[0m\n\u001b[0;32m----> 3\u001b[0;31m \u001b[0mbgf\u001b[0m\u001b[0;34m.\u001b[0m\u001b[0mpredict\u001b[0m\u001b[0;34m(\u001b[0m\u001b[0mg\u001b[0m\u001b[0;34m,\u001b[0m \u001b[0mdriver_sum_total_fare\u001b[0m\u001b[0;34m[\u001b[0m\u001b[0;34m'rides'\u001b[0m\u001b[0;34m]\u001b[0m\u001b[0;34m,\u001b[0m \u001b[0mdriver_sum_total_fare\u001b[0m\u001b[0;34m[\u001b[0m\u001b[0;34m'driver_lifespan'\u001b[0m\u001b[0;34m]\u001b[0m\u001b[0;34m,\u001b[0m \u001b[0mdriver_sum_total_fare\u001b[0m\u001b[0;34m[\u001b[0m\u001b[0;34m't'\u001b[0m\u001b[0;34m]\u001b[0m\u001b[0;34m)\u001b[0m\u001b[0;34m\u001b[0m\u001b[0m\n\u001b[0m",
      "\u001b[0;31mAttributeError\u001b[0m: 'BetaGeoFitter' object has no attribute 'predict'"
     ]
    }
   ],
   "source": [
    "g = 10\n",
    "individual = driver_sum_total_fare.loc[driver_sum_total_fare['driver_id'] =='007f0389f9c7b03ef97098422f902e62']\n",
    "bgf.predict(g, driver_sum_total_fare['rides'], driver_sum_total_fare['driver_lifespan'], driver_sum_total_fare['t'])"
   ]
  },
  {
   "cell_type": "code",
   "execution_count": 1179,
   "metadata": {},
   "outputs": [
    {
     "name": "stdout",
     "output_type": "stream",
     "text": [
      "                          driver_id  ride_prime_time_sum  duration_min_sum  \\\n",
      "0  002be0ffdc997bd5c50703158b7c2491                 5375       3687.300000   \n",
      "1  007f0389f9c7b03ef97098422f902e62                  625        341.616667   \n",
      "2  011e5c5dfc5c2c92501b8b24d47509bc                  675        486.750000   \n",
      "3  0152a2f305e71d26cc964f8d4411add9                 2050       2908.683333   \n",
      "4  01674381af7edd264113d4e6ed55ecda                 4700       5957.383333   \n",
      "\n",
      "   distance_mi_sum   total_fare  rides  driver_lifespan   t  rides_per_day  \n",
      "0      1081.362133  3453.419687    277               86  90       3.220930  \n",
      "1        73.030237   308.994506     31               85  90       0.364706  \n",
      "2       167.554285   468.927442     34               68  83       0.500000  \n",
      "3       914.183777  2569.866550    191               64  65       2.984375  \n",
      "4      1940.938672  5287.086873    375               56  59       6.696429  \n",
      "835\n"
     ]
    }
   ],
   "source": [
    "returning_customers_summary = driver_sum_total_fare[driver_sum_total_fare['rides']>0]\n",
    "print(returning_customers_summary.head())\n",
    "print(len(returning_customers_summary))"
   ]
  },
  {
   "cell_type": "code",
   "execution_count": 1180,
   "metadata": {},
   "outputs": [
    {
     "name": "stdout",
     "output_type": "stream",
     "text": [
      "<lifetimes.GammaGammaFitter: fitted with 835 subjects, p: 0.02, q: 21.65, v: 5112603.76>\n"
     ]
    }
   ],
   "source": [
    "from lifetimes import GammaGammaFitter\n",
    "ggf = GammaGammaFitter(penalizer_coef = 0)\n",
    "ggf.fit(returning_customers_summary['rides'],\n",
    "        returning_customers_summary['total_fare'])\n",
    "print(ggf)"
   ]
  },
  {
   "cell_type": "code",
   "execution_count": 1185,
   "metadata": {},
   "outputs": [
    {
     "name": "stdout",
     "output_type": "stream",
     "text": [
      "0      4316.637944\n",
      "1      4415.667535\n",
      "2      4409.749832\n",
      "3      4245.030561\n",
      "4      4717.588114\n",
      "          ...     \n",
      "832    4342.726022\n",
      "833    5005.142888\n",
      "834    4403.604950\n",
      "835    4867.971129\n",
      "836    4510.404609\n",
      "Length: 837, dtype: float64\n"
     ]
    }
   ],
   "source": [
    "print(ggf.conditional_expected_average_profit(\n",
    "        driver_sum_total_fare['rides'],\n",
    "        driver_sum_total_fare['total_fare']))"
   ]
  },
  {
   "cell_type": "code",
   "execution_count": 1182,
   "metadata": {},
   "outputs": [
    {
     "data": {
      "text/html": [
       "<div>\n",
       "<style scoped>\n",
       "    .dataframe tbody tr th:only-of-type {\n",
       "        vertical-align: middle;\n",
       "    }\n",
       "\n",
       "    .dataframe tbody tr th {\n",
       "        vertical-align: top;\n",
       "    }\n",
       "\n",
       "    .dataframe thead th {\n",
       "        text-align: right;\n",
       "    }\n",
       "</style>\n",
       "<table border=\"1\" class=\"dataframe\">\n",
       "  <thead>\n",
       "    <tr style=\"text-align: right;\">\n",
       "      <th></th>\n",
       "      <th>driver_id</th>\n",
       "      <th>ride_prime_time_sum</th>\n",
       "      <th>duration_min_sum</th>\n",
       "      <th>distance_mi_sum</th>\n",
       "      <th>total_fare</th>\n",
       "      <th>rides</th>\n",
       "      <th>driver_lifespan</th>\n",
       "      <th>t</th>\n",
       "      <th>rides_per_day</th>\n",
       "    </tr>\n",
       "  </thead>\n",
       "  <tbody>\n",
       "    <tr>\n",
       "      <td>0</td>\n",
       "      <td>002be0ffdc997bd5c50703158b7c2491</td>\n",
       "      <td>5375</td>\n",
       "      <td>3687.300000</td>\n",
       "      <td>1081.362133</td>\n",
       "      <td>3453.419687</td>\n",
       "      <td>277</td>\n",
       "      <td>86</td>\n",
       "      <td>90</td>\n",
       "      <td>3.220930</td>\n",
       "    </tr>\n",
       "    <tr>\n",
       "      <td>1</td>\n",
       "      <td>007f0389f9c7b03ef97098422f902e62</td>\n",
       "      <td>625</td>\n",
       "      <td>341.616667</td>\n",
       "      <td>73.030237</td>\n",
       "      <td>308.994506</td>\n",
       "      <td>31</td>\n",
       "      <td>85</td>\n",
       "      <td>90</td>\n",
       "      <td>0.364706</td>\n",
       "    </tr>\n",
       "    <tr>\n",
       "      <td>2</td>\n",
       "      <td>011e5c5dfc5c2c92501b8b24d47509bc</td>\n",
       "      <td>675</td>\n",
       "      <td>486.750000</td>\n",
       "      <td>167.554285</td>\n",
       "      <td>468.927442</td>\n",
       "      <td>34</td>\n",
       "      <td>68</td>\n",
       "      <td>83</td>\n",
       "      <td>0.500000</td>\n",
       "    </tr>\n",
       "    <tr>\n",
       "      <td>3</td>\n",
       "      <td>0152a2f305e71d26cc964f8d4411add9</td>\n",
       "      <td>2050</td>\n",
       "      <td>2908.683333</td>\n",
       "      <td>914.183777</td>\n",
       "      <td>2569.866550</td>\n",
       "      <td>191</td>\n",
       "      <td>64</td>\n",
       "      <td>65</td>\n",
       "      <td>2.984375</td>\n",
       "    </tr>\n",
       "    <tr>\n",
       "      <td>4</td>\n",
       "      <td>01674381af7edd264113d4e6ed55ecda</td>\n",
       "      <td>4700</td>\n",
       "      <td>5957.383333</td>\n",
       "      <td>1940.938672</td>\n",
       "      <td>5287.086873</td>\n",
       "      <td>375</td>\n",
       "      <td>56</td>\n",
       "      <td>59</td>\n",
       "      <td>6.696429</td>\n",
       "    </tr>\n",
       "    <tr>\n",
       "      <td>...</td>\n",
       "      <td>...</td>\n",
       "      <td>...</td>\n",
       "      <td>...</td>\n",
       "      <td>...</td>\n",
       "      <td>...</td>\n",
       "      <td>...</td>\n",
       "      <td>...</td>\n",
       "      <td>...</td>\n",
       "      <td>...</td>\n",
       "    </tr>\n",
       "    <tr>\n",
       "      <td>832</td>\n",
       "      <td>ff419a3476e21e269e340b5f1f05414e</td>\n",
       "      <td>3100</td>\n",
       "      <td>4105.133333</td>\n",
       "      <td>1244.231288</td>\n",
       "      <td>3476.370782</td>\n",
       "      <td>242</td>\n",
       "      <td>61</td>\n",
       "      <td>62</td>\n",
       "      <td>3.967213</td>\n",
       "    </tr>\n",
       "    <tr>\n",
       "      <td>833</td>\n",
       "      <td>ff714a67ba8c6a108261cd81e3b77f3a</td>\n",
       "      <td>8625</td>\n",
       "      <td>7374.866667</td>\n",
       "      <td>1761.437928</td>\n",
       "      <td>6114.858170</td>\n",
       "      <td>485</td>\n",
       "      <td>81</td>\n",
       "      <td>91</td>\n",
       "      <td>5.987654</td>\n",
       "    </tr>\n",
       "    <tr>\n",
       "      <td>834</td>\n",
       "      <td>fff482c704d36a1afe8b8978d5486283</td>\n",
       "      <td>175</td>\n",
       "      <td>461.550000</td>\n",
       "      <td>108.363200</td>\n",
       "      <td>377.160834</td>\n",
       "      <td>35</td>\n",
       "      <td>34</td>\n",
       "      <td>80</td>\n",
       "      <td>1.029412</td>\n",
       "    </tr>\n",
       "    <tr>\n",
       "      <td>835</td>\n",
       "      <td>fffecccc49436c5389075b13209f0dfa</td>\n",
       "      <td>12050</td>\n",
       "      <td>5899.566667</td>\n",
       "      <td>1817.453191</td>\n",
       "      <td>5812.169994</td>\n",
       "      <td>406</td>\n",
       "      <td>51</td>\n",
       "      <td>52</td>\n",
       "      <td>7.960784</td>\n",
       "    </tr>\n",
       "    <tr>\n",
       "      <td>836</td>\n",
       "      <td>ffff51a71f2f185ec5e97d59dbcd7a78</td>\n",
       "      <td>6625</td>\n",
       "      <td>4477.350000</td>\n",
       "      <td>1473.900825</td>\n",
       "      <td>4448.742395</td>\n",
       "      <td>330</td>\n",
       "      <td>54</td>\n",
       "      <td>54</td>\n",
       "      <td>6.111111</td>\n",
       "    </tr>\n",
       "  </tbody>\n",
       "</table>\n",
       "<p>837 rows × 9 columns</p>\n",
       "</div>"
      ],
      "text/plain": [
       "                            driver_id  ride_prime_time_sum  duration_min_sum  \\\n",
       "0    002be0ffdc997bd5c50703158b7c2491                 5375       3687.300000   \n",
       "1    007f0389f9c7b03ef97098422f902e62                  625        341.616667   \n",
       "2    011e5c5dfc5c2c92501b8b24d47509bc                  675        486.750000   \n",
       "3    0152a2f305e71d26cc964f8d4411add9                 2050       2908.683333   \n",
       "4    01674381af7edd264113d4e6ed55ecda                 4700       5957.383333   \n",
       "..                                ...                  ...               ...   \n",
       "832  ff419a3476e21e269e340b5f1f05414e                 3100       4105.133333   \n",
       "833  ff714a67ba8c6a108261cd81e3b77f3a                 8625       7374.866667   \n",
       "834  fff482c704d36a1afe8b8978d5486283                  175        461.550000   \n",
       "835  fffecccc49436c5389075b13209f0dfa                12050       5899.566667   \n",
       "836  ffff51a71f2f185ec5e97d59dbcd7a78                 6625       4477.350000   \n",
       "\n",
       "     distance_mi_sum   total_fare  rides  driver_lifespan   t  rides_per_day  \n",
       "0        1081.362133  3453.419687    277               86  90       3.220930  \n",
       "1          73.030237   308.994506     31               85  90       0.364706  \n",
       "2         167.554285   468.927442     34               68  83       0.500000  \n",
       "3         914.183777  2569.866550    191               64  65       2.984375  \n",
       "4        1940.938672  5287.086873    375               56  59       6.696429  \n",
       "..               ...          ...    ...              ...  ..            ...  \n",
       "832      1244.231288  3476.370782    242               61  62       3.967213  \n",
       "833      1761.437928  6114.858170    485               81  91       5.987654  \n",
       "834       108.363200   377.160834     35               34  80       1.029412  \n",
       "835      1817.453191  5812.169994    406               51  52       7.960784  \n",
       "836      1473.900825  4448.742395    330               54  54       6.111111  \n",
       "\n",
       "[837 rows x 9 columns]"
      ]
     },
     "execution_count": 1182,
     "metadata": {},
     "output_type": "execute_result"
    }
   ],
   "source": [
    "driver_sum_total_fare"
   ]
  },
  {
   "cell_type": "code",
   "execution_count": null,
   "metadata": {},
   "outputs": [],
   "source": []
  },
  {
   "cell_type": "code",
   "execution_count": 1194,
   "metadata": {},
   "outputs": [],
   "source": [
    "def order_cluster(cluster_field_name, target_field_name,df,ascending):\n",
    "    new_cluster_field_name = 'new_' + cluster_field_name\n",
    "    df_new = df.groupby(cluster_field_name)[target_field_name].mean().reset_index()\n",
    "    df_new = df_new.sort_values(by=target_field_name,ascending=ascending).reset_index(drop=True)\n",
    "    df_new['index'] = df_new.index\n",
    "    df_final = pd.merge(df,df_new[[cluster_field_name,'index']], on=cluster_field_name)\n",
    "    df_final = df_final.drop([cluster_field_name],axis=1)\n",
    "    df_final = df_final.rename(columns={\"index\":cluster_field_name})\n",
    "    return df_final"
   ]
  },
  {
   "cell_type": "code",
   "execution_count": 1197,
   "metadata": {},
   "outputs": [
    {
     "data": {
      "text/html": [
       "<div>\n",
       "<style scoped>\n",
       "    .dataframe tbody tr th:only-of-type {\n",
       "        vertical-align: middle;\n",
       "    }\n",
       "\n",
       "    .dataframe tbody tr th {\n",
       "        vertical-align: top;\n",
       "    }\n",
       "\n",
       "    .dataframe thead th {\n",
       "        text-align: right;\n",
       "    }\n",
       "</style>\n",
       "<table border=\"1\" class=\"dataframe\">\n",
       "  <thead>\n",
       "    <tr style=\"text-align: right;\">\n",
       "      <th></th>\n",
       "      <th>count</th>\n",
       "      <th>mean</th>\n",
       "      <th>std</th>\n",
       "      <th>min</th>\n",
       "      <th>25%</th>\n",
       "      <th>50%</th>\n",
       "      <th>75%</th>\n",
       "      <th>max</th>\n",
       "    </tr>\n",
       "    <tr>\n",
       "      <th>LTVCluster</th>\n",
       "      <th></th>\n",
       "      <th></th>\n",
       "      <th></th>\n",
       "      <th></th>\n",
       "      <th></th>\n",
       "      <th></th>\n",
       "      <th></th>\n",
       "      <th></th>\n",
       "    </tr>\n",
       "  </thead>\n",
       "  <tbody>\n",
       "    <tr>\n",
       "      <td>0</td>\n",
       "      <td>342.0</td>\n",
       "      <td>593.494511</td>\n",
       "      <td>276.669206</td>\n",
       "      <td>25.691293</td>\n",
       "      <td>415.521869</td>\n",
       "      <td>533.337883</td>\n",
       "      <td>702.953168</td>\n",
       "      <td>2068.959182</td>\n",
       "    </tr>\n",
       "    <tr>\n",
       "      <td>1</td>\n",
       "      <td>354.0</td>\n",
       "      <td>3596.105600</td>\n",
       "      <td>793.028707</td>\n",
       "      <td>2106.324904</td>\n",
       "      <td>2943.627336</td>\n",
       "      <td>3475.116216</td>\n",
       "      <td>4196.354883</td>\n",
       "      <td>5134.338690</td>\n",
       "    </tr>\n",
       "    <tr>\n",
       "      <td>2</td>\n",
       "      <td>141.0</td>\n",
       "      <td>6768.154778</td>\n",
       "      <td>1404.801466</td>\n",
       "      <td>5190.603333</td>\n",
       "      <td>5680.614974</td>\n",
       "      <td>6337.211618</td>\n",
       "      <td>7411.711629</td>\n",
       "      <td>12017.764692</td>\n",
       "    </tr>\n",
       "  </tbody>\n",
       "</table>\n",
       "</div>"
      ],
      "text/plain": [
       "            count         mean          std          min          25%  \\\n",
       "LTVCluster                                                              \n",
       "0           342.0   593.494511   276.669206    25.691293   415.521869   \n",
       "1           354.0  3596.105600   793.028707  2106.324904  2943.627336   \n",
       "2           141.0  6768.154778  1404.801466  5190.603333  5680.614974   \n",
       "\n",
       "                    50%          75%           max  \n",
       "LTVCluster                                          \n",
       "0            533.337883   702.953168   2068.959182  \n",
       "1           3475.116216  4196.354883   5134.338690  \n",
       "2           6337.211618  7411.711629  12017.764692  "
      ]
     },
     "execution_count": 1197,
     "metadata": {},
     "output_type": "execute_result"
    }
   ],
   "source": [
    "kmeans = KMeans(n_clusters=3)\n",
    "kmeans.fit(driver_sum_total_fare[['total_fare']])\n",
    "driver_sum_total_fare['LTVCluster'] = kmeans.predict(driver_sum_total_fare[['total_fare']])\n",
    "\n",
    "#order cluster number based on LTV\n",
    "driver_sum_total_fare = order_cluster('LTVCluster', 'total_fare',driver_sum_total_fare,True)\n",
    "\n",
    "#creatinga new cluster dataframe\n",
    "tx_cluster = driver_sum_total_fare.copy()\n",
    "\n",
    "#see details of the clusters\n",
    "tx_cluster.groupby('LTVCluster')['total_fare'].describe()"
   ]
  },
  {
   "cell_type": "code",
   "execution_count": 1199,
   "metadata": {},
   "outputs": [],
   "source": [
    "tx_class = pd.get_dummies(tx_cluster)\n",
    "\n",
    "#calculate and show correlations\n",
    "corr_matrix = tx_class.corr()\n",
    "corr_matrix['LTVCluster'].sort_values(ascending=False)\n",
    "\n",
    "#create X and y, X will be feature set and y is the label - LTV\n",
    "X = tx_class.drop(['LTVCluster','total_fare'],axis=1)\n",
    "y = tx_class['LTVCluster']\n",
    "\n",
    "#split training and test sets\n",
    "X_train, X_test, y_train, y_test = train_test_split(X, y, test_size=0.05, random_state=56)"
   ]
  },
  {
   "cell_type": "code",
   "execution_count": 1200,
   "metadata": {},
   "outputs": [
    {
     "name": "stdout",
     "output_type": "stream",
     "text": [
      "Accuracy of XGB classifier on training set: 1.00\n",
      "Accuracy of XGB classifier on test set: 0.95\n",
      "              precision    recall  f1-score   support\n",
      "\n",
      "           0       1.00      1.00      1.00        15\n",
      "           1       0.95      0.95      0.95        19\n",
      "           2       0.88      0.88      0.88         8\n",
      "\n",
      "    accuracy                           0.95        42\n",
      "   macro avg       0.94      0.94      0.94        42\n",
      "weighted avg       0.95      0.95      0.95        42\n",
      "\n"
     ]
    }
   ],
   "source": [
    "#XGBoost Multiclassification Model\n",
    "ltv_xgb_model = xgb.XGBClassifier(max_depth=5, learning_rate=0.1,objective= 'multi:softprob',n_jobs=-1).fit(X_train, y_train)\n",
    "\n",
    "print('Accuracy of XGB classifier on training set: {:.2f}'\n",
    "       .format(ltv_xgb_model.score(X_train, y_train)))\n",
    "print('Accuracy of XGB classifier on test set: {:.2f}'\n",
    "       .format(ltv_xgb_model.score(X_test[X_train.columns], y_test)))\n",
    "\n",
    "y_pred = ltv_xgb_model.predict(X_test)\n",
    "print(classification_report(y_test, y_pred))"
   ]
  },
  {
   "cell_type": "code",
   "execution_count": null,
   "metadata": {},
   "outputs": [],
   "source": []
  },
  {
   "cell_type": "code",
   "execution_count": null,
   "metadata": {},
   "outputs": [],
   "source": []
  },
  {
   "cell_type": "code",
   "execution_count": null,
   "metadata": {},
   "outputs": [],
   "source": []
  },
  {
   "cell_type": "code",
   "execution_count": null,
   "metadata": {},
   "outputs": [],
   "source": []
  }
 ],
 "metadata": {
  "kernelspec": {
   "display_name": "Python 3",
   "language": "python",
   "name": "python3"
  },
  "language_info": {
   "codemirror_mode": {
    "name": "ipython",
    "version": 3
   },
   "file_extension": ".py",
   "mimetype": "text/x-python",
   "name": "python",
   "nbconvert_exporter": "python",
   "pygments_lexer": "ipython3",
   "version": "3.6.2"
  }
 },
 "nbformat": 4,
 "nbformat_minor": 2
}
