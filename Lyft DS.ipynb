{
 "cells": [
  {
   "cell_type": "code",
   "execution_count": 1,
   "metadata": {},
   "outputs": [],
   "source": [
    "import pandas as pd\n",
    "import matplotlib.pyplot as plt  # To visualize\n",
    "import pandas as pd  # To read data\n",
    "from sklearn.linear_model import LinearRegression\n",
    "import pandas as pd\n",
    "import numpy as np\n",
    "from sklearn.preprocessing import LabelEncoder\n",
    "import random\n",
    "from sklearn.ensemble import RandomForestClassifier\n",
    "from sklearn.ensemble import GradientBoostingClassifier\n",
    "from sklearn.model_selection import train_test_split\n",
    "from sklearn.preprocessing import StandardScaler\n",
    "from sklearn.svm import SVC\n",
    "from sklearn import preprocessing\n",
    "from sklearn.metrics import confusion_matrix\n",
    "from sklearn.ensemble import RandomForestClassifier"
   ]
  },
  {
   "cell_type": "code",
   "execution_count": 2,
   "metadata": {},
   "outputs": [],
   "source": [
    "driver = pd.read_csv(\"driver_ids.csv\")\n",
    "rider = pd.read_csv(\"ride_ids.csv\")\n",
    "timestamps = pd.read_csv(\"ride_timestamps.csv\")"
   ]
  },
  {
   "cell_type": "code",
   "execution_count": 3,
   "metadata": {},
   "outputs": [
    {
     "data": {
      "text/html": [
       "<div>\n",
       "<style scoped>\n",
       "    .dataframe tbody tr th:only-of-type {\n",
       "        vertical-align: middle;\n",
       "    }\n",
       "\n",
       "    .dataframe tbody tr th {\n",
       "        vertical-align: top;\n",
       "    }\n",
       "\n",
       "    .dataframe thead th {\n",
       "        text-align: right;\n",
       "    }\n",
       "</style>\n",
       "<table border=\"1\" class=\"dataframe\">\n",
       "  <thead>\n",
       "    <tr style=\"text-align: right;\">\n",
       "      <th>event</th>\n",
       "      <th>ride_id</th>\n",
       "      <th>accepted_at</th>\n",
       "      <th>arrived_at</th>\n",
       "      <th>dropped_off_at</th>\n",
       "      <th>picked_up_at</th>\n",
       "      <th>requested_at</th>\n",
       "    </tr>\n",
       "  </thead>\n",
       "  <tbody>\n",
       "    <tr>\n",
       "      <td>0</td>\n",
       "      <td>00003037a262d9ee40e61b5c0718f7f0</td>\n",
       "      <td>2016-06-13 09:39:51</td>\n",
       "      <td>2016-06-13 09:44:31</td>\n",
       "      <td>2016-06-13 10:03:05</td>\n",
       "      <td>2016-06-13 09:44:33</td>\n",
       "      <td>2016-06-13 09:39:19</td>\n",
       "    </tr>\n",
       "    <tr>\n",
       "      <td>1</td>\n",
       "      <td>00005eae40882760d675da5effb89ae3</td>\n",
       "      <td>2016-05-14 05:23:25</td>\n",
       "      <td>2016-05-14 05:26:17</td>\n",
       "      <td>2016-05-14 05:34:17</td>\n",
       "      <td>2016-05-14 05:26:18</td>\n",
       "      <td>2016-05-14 05:23:21</td>\n",
       "    </tr>\n",
       "    <tr>\n",
       "      <td>2</td>\n",
       "      <td>000061d42cf29f73b591041d9a1b2973</td>\n",
       "      <td>2016-05-16 15:43:14</td>\n",
       "      <td>2016-05-16 15:47:29</td>\n",
       "      <td>2016-05-16 15:54:18</td>\n",
       "      <td>2016-05-16 15:47:32</td>\n",
       "      <td>2016-05-16 15:43:09</td>\n",
       "    </tr>\n",
       "    <tr>\n",
       "      <td>3</td>\n",
       "      <td>00006efeb0d5e3ccad7d921ddeee9900</td>\n",
       "      <td>2016-05-11 19:29:43</td>\n",
       "      <td>2016-05-11 19:35:11</td>\n",
       "      <td>2016-05-11 19:40:47</td>\n",
       "      <td>2016-05-11 19:35:15</td>\n",
       "      <td>2016-05-11 19:29:36</td>\n",
       "    </tr>\n",
       "    <tr>\n",
       "      <td>4</td>\n",
       "      <td>0000d9b24d8ccdd991b76258e616fa01</td>\n",
       "      <td>2016-04-26 18:12:15</td>\n",
       "      <td>2016-04-26 18:16:52</td>\n",
       "      <td>2016-04-26 18:24:14</td>\n",
       "      <td>2016-04-26 18:16:55</td>\n",
       "      <td>2016-04-26 18:11:38</td>\n",
       "    </tr>\n",
       "    <tr>\n",
       "      <td>...</td>\n",
       "      <td>...</td>\n",
       "      <td>...</td>\n",
       "      <td>...</td>\n",
       "      <td>...</td>\n",
       "      <td>...</td>\n",
       "      <td>...</td>\n",
       "    </tr>\n",
       "    <tr>\n",
       "      <td>194076</td>\n",
       "      <td>fffebb46effb90ce758fdff68b569355</td>\n",
       "      <td>2016-06-16 09:57:12</td>\n",
       "      <td>2016-06-16 09:58:54</td>\n",
       "      <td>2016-06-16 10:15:08</td>\n",
       "      <td>2016-06-16 09:58:57</td>\n",
       "      <td>2016-06-16 09:57:07</td>\n",
       "    </tr>\n",
       "    <tr>\n",
       "      <td>194077</td>\n",
       "      <td>ffff9c38173ddfa17bdd115c463e329f</td>\n",
       "      <td>2016-06-03 18:34:07</td>\n",
       "      <td>2016-06-03 18:35:20</td>\n",
       "      <td>2016-06-03 18:50:08</td>\n",
       "      <td>2016-06-03 18:35:22</td>\n",
       "      <td>2016-06-03 18:34:00</td>\n",
       "    </tr>\n",
       "    <tr>\n",
       "      <td>194078</td>\n",
       "      <td>ffff9e431f7fade54b2550ac19ab6e64</td>\n",
       "      <td>2016-06-12 04:00:10</td>\n",
       "      <td>2016-06-12 04:04:35</td>\n",
       "      <td>2016-06-12 04:15:42</td>\n",
       "      <td>2016-06-12 04:04:37</td>\n",
       "      <td>2016-06-12 04:00:10</td>\n",
       "    </tr>\n",
       "    <tr>\n",
       "      <td>194079</td>\n",
       "      <td>ffffa07f48f2f885f714765d794ad596</td>\n",
       "      <td>2016-04-19 01:09:12</td>\n",
       "      <td>2016-04-19 01:10:49</td>\n",
       "      <td>2016-04-19 01:30:48</td>\n",
       "      <td>2016-04-19 01:10:50</td>\n",
       "      <td>2016-04-19 01:08:57</td>\n",
       "    </tr>\n",
       "    <tr>\n",
       "      <td>194080</td>\n",
       "      <td>ffffccd77f47a3de26dfed9a851464b4</td>\n",
       "      <td>2016-05-18 08:44:21</td>\n",
       "      <td>2016-05-18 08:44:36</td>\n",
       "      <td>2016-05-18 09:11:37</td>\n",
       "      <td>2016-05-18 08:44:42</td>\n",
       "      <td>2016-05-18 08:44:13</td>\n",
       "    </tr>\n",
       "  </tbody>\n",
       "</table>\n",
       "<p>194081 rows × 6 columns</p>\n",
       "</div>"
      ],
      "text/plain": [
       "event                            ride_id          accepted_at  \\\n",
       "0       00003037a262d9ee40e61b5c0718f7f0  2016-06-13 09:39:51   \n",
       "1       00005eae40882760d675da5effb89ae3  2016-05-14 05:23:25   \n",
       "2       000061d42cf29f73b591041d9a1b2973  2016-05-16 15:43:14   \n",
       "3       00006efeb0d5e3ccad7d921ddeee9900  2016-05-11 19:29:43   \n",
       "4       0000d9b24d8ccdd991b76258e616fa01  2016-04-26 18:12:15   \n",
       "...                                  ...                  ...   \n",
       "194076  fffebb46effb90ce758fdff68b569355  2016-06-16 09:57:12   \n",
       "194077  ffff9c38173ddfa17bdd115c463e329f  2016-06-03 18:34:07   \n",
       "194078  ffff9e431f7fade54b2550ac19ab6e64  2016-06-12 04:00:10   \n",
       "194079  ffffa07f48f2f885f714765d794ad596  2016-04-19 01:09:12   \n",
       "194080  ffffccd77f47a3de26dfed9a851464b4  2016-05-18 08:44:21   \n",
       "\n",
       "event            arrived_at       dropped_off_at         picked_up_at  \\\n",
       "0       2016-06-13 09:44:31  2016-06-13 10:03:05  2016-06-13 09:44:33   \n",
       "1       2016-05-14 05:26:17  2016-05-14 05:34:17  2016-05-14 05:26:18   \n",
       "2       2016-05-16 15:47:29  2016-05-16 15:54:18  2016-05-16 15:47:32   \n",
       "3       2016-05-11 19:35:11  2016-05-11 19:40:47  2016-05-11 19:35:15   \n",
       "4       2016-04-26 18:16:52  2016-04-26 18:24:14  2016-04-26 18:16:55   \n",
       "...                     ...                  ...                  ...   \n",
       "194076  2016-06-16 09:58:54  2016-06-16 10:15:08  2016-06-16 09:58:57   \n",
       "194077  2016-06-03 18:35:20  2016-06-03 18:50:08  2016-06-03 18:35:22   \n",
       "194078  2016-06-12 04:04:35  2016-06-12 04:15:42  2016-06-12 04:04:37   \n",
       "194079  2016-04-19 01:10:49  2016-04-19 01:30:48  2016-04-19 01:10:50   \n",
       "194080  2016-05-18 08:44:36  2016-05-18 09:11:37  2016-05-18 08:44:42   \n",
       "\n",
       "event          requested_at  \n",
       "0       2016-06-13 09:39:19  \n",
       "1       2016-05-14 05:23:21  \n",
       "2       2016-05-16 15:43:09  \n",
       "3       2016-05-11 19:29:36  \n",
       "4       2016-04-26 18:11:38  \n",
       "...                     ...  \n",
       "194076  2016-06-16 09:57:07  \n",
       "194077  2016-06-03 18:34:00  \n",
       "194078  2016-06-12 04:00:10  \n",
       "194079  2016-04-19 01:08:57  \n",
       "194080  2016-05-18 08:44:13  \n",
       "\n",
       "[194081 rows x 6 columns]"
      ]
     },
     "execution_count": 3,
     "metadata": {},
     "output_type": "execute_result"
    }
   ],
   "source": [
    "pivot_timestamps = timestamps.pivot(index='ride_id', columns='event', values='timestamp')\n",
    "pivot_timestamps.reset_index(level=0, inplace=True)\n",
    "pivot_timestamps"
   ]
  },
  {
   "cell_type": "code",
   "execution_count": 4,
   "metadata": {},
   "outputs": [],
   "source": [
    "rider['duration_min'] = rider['ride_duration'].apply(lambda x: x / 60)\n"
   ]
  },
  {
   "cell_type": "code",
   "execution_count": 5,
   "metadata": {},
   "outputs": [],
   "source": [
    "rider['time_money'] = rider['duration_min'].apply(lambda x: x * 0.22)\n"
   ]
  },
  {
   "cell_type": "code",
   "execution_count": null,
   "metadata": {},
   "outputs": [],
   "source": []
  },
  {
   "cell_type": "code",
   "execution_count": null,
   "metadata": {},
   "outputs": [],
   "source": []
  },
  {
   "cell_type": "code",
   "execution_count": 6,
   "metadata": {},
   "outputs": [],
   "source": [
    "rider['distance_mi'] = rider['ride_distance'].apply(lambda x: x *  0.00062137)"
   ]
  },
  {
   "cell_type": "code",
   "execution_count": 7,
   "metadata": {},
   "outputs": [],
   "source": [
    "rider['dist_money'] = rider['distance_mi'].apply(lambda x: x * 1.15)"
   ]
  },
  {
   "cell_type": "code",
   "execution_count": null,
   "metadata": {},
   "outputs": [],
   "source": []
  },
  {
   "cell_type": "code",
   "execution_count": null,
   "metadata": {},
   "outputs": [],
   "source": []
  },
  {
   "cell_type": "code",
   "execution_count": null,
   "metadata": {},
   "outputs": [],
   "source": []
  },
  {
   "cell_type": "code",
   "execution_count": 8,
   "metadata": {},
   "outputs": [],
   "source": [
    "rider['total cost'] = ((rider['dist_money'] + rider['time_money']) * (1 + (0.01 * rider['ride_prime_time']))) + 2 + 1.75"
   ]
  },
  {
   "cell_type": "code",
   "execution_count": 9,
   "metadata": {},
   "outputs": [],
   "source": [
    "rider['total cost'] = rider['total cost'].apply(lambda x: x if x <= 400 else 400)"
   ]
  },
  {
   "cell_type": "code",
   "execution_count": 10,
   "metadata": {},
   "outputs": [],
   "source": [
    "rider['total cost'] = rider['total cost'].apply(lambda x: x if x >= 5 else 5)"
   ]
  },
  {
   "cell_type": "markdown",
   "metadata": {},
   "source": [
    "# Timestamps + Costs"
   ]
  },
  {
   "cell_type": "code",
   "execution_count": 11,
   "metadata": {},
   "outputs": [],
   "source": [
    "drive = rider.drop(['ride_id', 'ride_distance', 'ride_duration',], axis = 1)"
   ]
  },
  {
   "cell_type": "code",
   "execution_count": null,
   "metadata": {},
   "outputs": [],
   "source": []
  },
  {
   "cell_type": "code",
   "execution_count": 12,
   "metadata": {},
   "outputs": [
    {
     "ename": "AttributeError",
     "evalue": "'DataFrame' object has no attribute 'dtype'",
     "output_type": "error",
     "traceback": [
      "\u001b[0;31m---------------------------------------------------------------------------\u001b[0m",
      "\u001b[0;31mAttributeError\u001b[0m                            Traceback (most recent call last)",
      "\u001b[0;32m<ipython-input-12-8df48fe3dbc9>\u001b[0m in \u001b[0;36m<module>\u001b[0;34m\u001b[0m\n\u001b[1;32m      2\u001b[0m \u001b[0mcombined_timestamps\u001b[0m \u001b[0;34m=\u001b[0m \u001b[0mcombined_timestamps\u001b[0m\u001b[0;34m.\u001b[0m\u001b[0mdrop\u001b[0m\u001b[0;34m(\u001b[0m\u001b[0;34m[\u001b[0m\u001b[0;34m'ride_distance'\u001b[0m\u001b[0;34m,\u001b[0m\u001b[0;34m'ride_duration'\u001b[0m\u001b[0;34m]\u001b[0m\u001b[0;34m,\u001b[0m \u001b[0maxis\u001b[0m \u001b[0;34m=\u001b[0m \u001b[0;36m1\u001b[0m\u001b[0;34m)\u001b[0m\u001b[0;34m\u001b[0m\u001b[0m\n\u001b[1;32m      3\u001b[0m \u001b[0mcombined_timestamps\u001b[0m\u001b[0;34m[\u001b[0m\u001b[0;34m'picked_up_at'\u001b[0m\u001b[0;34m]\u001b[0m \u001b[0;34m=\u001b[0m \u001b[0mpd\u001b[0m\u001b[0;34m.\u001b[0m\u001b[0mto_datetime\u001b[0m\u001b[0;34m(\u001b[0m\u001b[0mcombined_timestamps\u001b[0m\u001b[0;34m[\u001b[0m\u001b[0;34m'picked_up_at'\u001b[0m\u001b[0;34m]\u001b[0m\u001b[0;34m.\u001b[0m\u001b[0mstr\u001b[0m\u001b[0;34m.\u001b[0m\u001b[0mstrip\u001b[0m\u001b[0;34m(\u001b[0m\u001b[0;34m)\u001b[0m\u001b[0;34m,\u001b[0m \u001b[0mformat\u001b[0m\u001b[0;34m=\u001b[0m\u001b[0;34m'%Y-%m-%d %H:%M:%S'\u001b[0m\u001b[0;34m)\u001b[0m\u001b[0;34m\u001b[0m\u001b[0m\n\u001b[0;32m----> 4\u001b[0;31m \u001b[0mcombined_timestamps\u001b[0m\u001b[0;34m.\u001b[0m\u001b[0mdtype\u001b[0m\u001b[0;34m\u001b[0m\u001b[0m\n\u001b[0m",
      "\u001b[0;32m/Library/Frameworks/Python.framework/Versions/3.6/lib/python3.6/site-packages/pandas/core/generic.py\u001b[0m in \u001b[0;36m__getattr__\u001b[0;34m(self, name)\u001b[0m\n\u001b[1;32m   5177\u001b[0m             \u001b[0;32mif\u001b[0m \u001b[0mself\u001b[0m\u001b[0;34m.\u001b[0m\u001b[0m_info_axis\u001b[0m\u001b[0;34m.\u001b[0m\u001b[0m_can_hold_identifiers_and_holds_name\u001b[0m\u001b[0;34m(\u001b[0m\u001b[0mname\u001b[0m\u001b[0;34m)\u001b[0m\u001b[0;34m:\u001b[0m\u001b[0;34m\u001b[0m\u001b[0m\n\u001b[1;32m   5178\u001b[0m                 \u001b[0;32mreturn\u001b[0m \u001b[0mself\u001b[0m\u001b[0;34m[\u001b[0m\u001b[0mname\u001b[0m\u001b[0;34m]\u001b[0m\u001b[0;34m\u001b[0m\u001b[0m\n\u001b[0;32m-> 5179\u001b[0;31m             \u001b[0;32mreturn\u001b[0m \u001b[0mobject\u001b[0m\u001b[0;34m.\u001b[0m\u001b[0m__getattribute__\u001b[0m\u001b[0;34m(\u001b[0m\u001b[0mself\u001b[0m\u001b[0;34m,\u001b[0m \u001b[0mname\u001b[0m\u001b[0;34m)\u001b[0m\u001b[0;34m\u001b[0m\u001b[0m\n\u001b[0m\u001b[1;32m   5180\u001b[0m \u001b[0;34m\u001b[0m\u001b[0m\n\u001b[1;32m   5181\u001b[0m     \u001b[0;32mdef\u001b[0m \u001b[0m__setattr__\u001b[0m\u001b[0;34m(\u001b[0m\u001b[0mself\u001b[0m\u001b[0;34m,\u001b[0m \u001b[0mname\u001b[0m\u001b[0;34m,\u001b[0m \u001b[0mvalue\u001b[0m\u001b[0;34m)\u001b[0m\u001b[0;34m:\u001b[0m\u001b[0;34m\u001b[0m\u001b[0m\n",
      "\u001b[0;31mAttributeError\u001b[0m: 'DataFrame' object has no attribute 'dtype'"
     ]
    }
   ],
   "source": [
    "combined_timestamps = pd.merge(rider,pivot_timestamps,on = 'ride_id', how = 'inner')\n",
    "combined_timestamps = combined_timestamps.drop(['ride_distance','ride_duration'], axis = 1)\n",
    "combined_timestamps['picked_up_at'] = pd.to_datetime(combined_timestamps['picked_up_at'].str.strip(), format='%Y-%m-%d %H:%M:%S')\n",
    "combined_timestamps.dtype"
   ]
  },
  {
   "cell_type": "code",
   "execution_count": null,
   "metadata": {},
   "outputs": [],
   "source": [
    "holder = pd.DataFrame({'rider_id': ['002be0ffdc997bd5c50703158b7c2491'], 'ride_prime_time': 0, 'duration_min':  'driver_id':['002be0ffdc997bd5c50703158b7c2491'],'accepted_at': ['2019-09-01 01:01:01'], 'arrived_at': ['2019-09-01 01:01:01'], 'dropped_off_at':['2019-09-01 01:01:01'], 'picked_up_at':['2019-09-01 01:01:01'], 'requested_at': ['2019-09-01 01:01:01']}) \n",
    "holder['picked_up_at'] = pd.to_datetime(holder['picked_up_at'].str.strip(), format='%Y-%m-%d %H:%M:%S')\n",
    "#holder\n",
    "combined_timestamps.append(holder)\n",
    "#combined_timestamps.fillna(0)"
   ]
  },
  {
   "cell_type": "code",
   "execution_count": null,
   "metadata": {},
   "outputs": [],
   "source": [
    "sample1 = combined_timestamps[combined_timestamps['driver_id'] == '002be0ffdc997bd5c50703158b7c2491']\n",
    "sample2 = combined_timestamps[combined_timestamps['driver_id'] == 'ffff51a71f2f185ec5e97d59dbcd7a78']"
   ]
  },
  {
   "cell_type": "code",
   "execution_count": null,
   "metadata": {},
   "outputs": [],
   "source": []
  },
  {
   "cell_type": "code",
   "execution_count": null,
   "metadata": {},
   "outputs": [],
   "source": [
    "sample1.plot.line(x = 'picked_up_at', y = 'total cost')\n",
    "sample1.plot.line(x = 'picked_up_at', y = 'ride_prime_time')"
   ]
  },
  {
   "cell_type": "code",
   "execution_count": null,
   "metadata": {},
   "outputs": [],
   "source": [
    "sample2.plot.line(x = 'picked_up_at', y = 'total cost')\n",
    "sample2.plot.line(x = 'picked_up_at', y = 'ride_prime_time')"
   ]
  },
  {
   "cell_type": "code",
   "execution_count": null,
   "metadata": {},
   "outputs": [],
   "source": [
    "test = combined_timestamps\n",
    "#test.set_index(['picked_up_at'],inplace=True)\n"
   ]
  },
  {
   "cell_type": "code",
   "execution_count": null,
   "metadata": {},
   "outputs": [],
   "source": [
    "test = test.drop(['ride_id','ride_prime_time','duration_min','time_money','distance_mi','dist_money','accepted_at','arrived_at','dropped_off_at','requested_at'], axis = 1)\n"
   ]
  },
  {
   "cell_type": "code",
   "execution_count": null,
   "metadata": {},
   "outputs": [],
   "source": [
    "test"
   ]
  },
  {
   "cell_type": "code",
   "execution_count": null,
   "metadata": {},
   "outputs": [],
   "source": [
    "test.rename(columns={'total cost':'total_cost'}, inplace=True)\n",
    "test['Time stamp'] = pd.to_datetime(test['picked_up_at'].str.strip(), format='%Y-%m-%d %H:%M:%S')"
   ]
  },
  {
   "cell_type": "code",
   "execution_count": null,
   "metadata": {},
   "outputs": [],
   "source": [
    "test['just_date'] = test['Time stamp'].dt.date"
   ]
  },
  {
   "cell_type": "code",
   "execution_count": null,
   "metadata": {},
   "outputs": [],
   "source": [
    "pd.set_option('display.max_rows', 1000)\n",
    "test_sample = test[:277]"
   ]
  },
  {
   "cell_type": "code",
   "execution_count": null,
   "metadata": {},
   "outputs": [],
   "source": [
    "test_sample"
   ]
  },
  {
   "cell_type": "code",
   "execution_count": null,
   "metadata": {},
   "outputs": [],
   "source": [
    "fig,ax = plt.subplots()\n",
    "for name in test_sample['driver_id'].tolist():\n",
    "    ax.plot(test_sample[test_sample.driver_id=='driver_id'].just_date,test_sample[test_sample.driver_id=='driver_id'].total_cost,label=name)\n",
    "\n",
    "ax.set_xlabel(\"driver\")\n",
    "ax.set_ylabel(\"money\")"
   ]
  },
  {
   "cell_type": "markdown",
   "metadata": {},
   "source": [
    "# Totaling everything"
   ]
  },
  {
   "cell_type": "code",
   "execution_count": null,
   "metadata": {},
   "outputs": [],
   "source": [
    "df = pd.DataFrame()\n",
    "\n",
    "df = drive.groupby(['driver_id'], as_index=False).size()\n",
    "df = df.to_frame().reset_index()\n",
    "df = df.rename(columns= {0: 'rides'})\n",
    "drive = drive.groupby(['driver_id'],as_index=False).sum()\n",
    "combined = pd.merge(drive,df,on = 'driver_id', how = 'inner')"
   ]
  },
  {
   "cell_type": "code",
   "execution_count": null,
   "metadata": {},
   "outputs": [],
   "source": []
  },
  {
   "cell_type": "code",
   "execution_count": null,
   "metadata": {},
   "outputs": [],
   "source": [
    "combined_date = pd.merge(combined,driver, on = 'driver_id', how = 'inner')"
   ]
  },
  {
   "cell_type": "code",
   "execution_count": null,
   "metadata": {},
   "outputs": [],
   "source": [
    "combined_date['average prime'] = combined_date['ride_prime_time'] / combined_date['rides']"
   ]
  },
  {
   "cell_type": "code",
   "execution_count": null,
   "metadata": {},
   "outputs": [],
   "source": [
    "combined_date"
   ]
  },
  {
   "cell_type": "code",
   "execution_count": null,
   "metadata": {},
   "outputs": [],
   "source": [
    "pred = combined_date.drop(['driver_id', 'average prime', 'driver_onboard_date', 'time_money', 'dist_money'], axis = 1)"
   ]
  },
  {
   "cell_type": "code",
   "execution_count": null,
   "metadata": {},
   "outputs": [],
   "source": [
    "pred"
   ]
  },
  {
   "cell_type": "code",
   "execution_count": null,
   "metadata": {},
   "outputs": [],
   "source": [
    "numerical_columns = [col for col in pred.columns if (pred[col].dtype=='int64' or pred[col].dtype=='float64') and col != 'Exited']"
   ]
  },
  {
   "cell_type": "code",
   "execution_count": null,
   "metadata": {},
   "outputs": [],
   "source": [
    "pred[numerical_columns].describe().loc[['min','max', 'mean','50%'],:]"
   ]
  },
  {
   "cell_type": "code",
   "execution_count": null,
   "metadata": {},
   "outputs": [],
   "source": [
    "plt.hist(combined_date[\"ride_prime_time\"],bins=20)"
   ]
  },
  {
   "cell_type": "code",
   "execution_count": null,
   "metadata": {},
   "outputs": [],
   "source": [
    "plt.hist(combined_date[\"duration_min\"],bins=20)"
   ]
  },
  {
   "cell_type": "code",
   "execution_count": null,
   "metadata": {},
   "outputs": [],
   "source": [
    "plt.hist(combined_date[\"distance_mi\"],bins=20)"
   ]
  },
  {
   "cell_type": "code",
   "execution_count": null,
   "metadata": {},
   "outputs": [],
   "source": [
    "plt.hist(combined_date[\"total cost\"],bins=20)"
   ]
  },
  {
   "cell_type": "code",
   "execution_count": null,
   "metadata": {},
   "outputs": [],
   "source": [
    "feat = pred.drop(columns=['total cost'],axis=1)\n",
    "label = pred[\"total cost\"]\n",
    "X_train, X_test, y_train, y_test = train_test_split(feat, label, test_size=0.3)"
   ]
  },
  {
   "cell_type": "code",
   "execution_count": null,
   "metadata": {},
   "outputs": [],
   "source": [
    "sc_x = StandardScaler()\n",
    "X_train = sc_x.fit_transform(X_train)\n",
    "X_test = sc_x.fit_transform(X_test)\n",
    "lab_enc = preprocessing.LabelEncoder()\n"
   ]
  },
  {
   "cell_type": "code",
   "execution_count": null,
   "metadata": {},
   "outputs": [],
   "source": [
    "#training_scores_encoded = lab_enc.fit_transform(y_train)"
   ]
  },
  {
   "cell_type": "code",
   "execution_count": null,
   "metadata": {},
   "outputs": [],
   "source": [
    "support_vector_classifier = SVC(kernel='rbf')\n",
    "support_vector_classifier.fit(X_train,training_scores_encoded)\n",
    "y_pred_svc = support_vector_classifier.predict(X_test)"
   ]
  },
  {
   "cell_type": "code",
   "execution_count": null,
   "metadata": {},
   "outputs": [],
   "source": [
    "cm_support_vector_classifier = confusion_matrix(y_test,y_pred_svc)\n",
    "print(cm_support_vector_classifier,end='\\n\\n')"
   ]
  },
  {
   "cell_type": "code",
   "execution_count": null,
   "metadata": {},
   "outputs": [],
   "source": [
    "from xgboost import XGBClassifier"
   ]
  },
  {
   "cell_type": "code",
   "execution_count": null,
   "metadata": {},
   "outputs": [],
   "source": [
    "xgb_classifier = XGBClassifier()\n",
    "xgb_classifier.fit(X_train,y_train)\n",
    "y_pred_xgb = xgb_classifier.predict(X_test)"
   ]
  },
  {
   "cell_type": "code",
   "execution_count": null,
   "metadata": {},
   "outputs": [],
   "source": [
    "cm_xgb_classifier = confusion_matrix(y_test,y_pred_xgb)\n",
    "print(cm_xgb_classifier,end='\\n\\n')"
   ]
  },
  {
   "cell_type": "code",
   "execution_count": null,
   "metadata": {},
   "outputs": [],
   "source": []
  }
 ],
 "metadata": {
  "kernelspec": {
   "display_name": "Python 3",
   "language": "python",
   "name": "python3"
  },
  "language_info": {
   "codemirror_mode": {
    "name": "ipython",
    "version": 3
   },
   "file_extension": ".py",
   "mimetype": "text/x-python",
   "name": "python",
   "nbconvert_exporter": "python",
   "pygments_lexer": "ipython3",
   "version": "3.6.2"
  }
 },
 "nbformat": 4,
 "nbformat_minor": 2
}
